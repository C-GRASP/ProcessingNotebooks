{
 "cells": [
  {
   "cell_type": "code",
   "execution_count": 3,
   "id": "9e9000d3",
   "metadata": {},
   "outputs": [],
   "source": [
    "from scipy.io import loadmat\n",
    "from glob import glob\n",
    "import numpy as np\n",
    "import pandas as pd"
   ]
  },
  {
   "cell_type": "code",
   "execution_count": 4,
   "id": "15863692",
   "metadata": {},
   "outputs": [
    {
     "data": {
      "text/plain": [
       "['Yates\\\\cardiff_d50.mat',\n",
       " 'Yates\\\\fall07_cp_d50.mat',\n",
       " 'Yates\\\\fall07_o_d50.mat',\n",
       " 'Yates\\\\fall07_p_d50.mat',\n",
       " 'Yates\\\\onofre_d50.mat',\n",
       " 'Yates\\\\pendleton_d50.mat',\n",
       " 'Yates\\\\torrey_d50.mat']"
      ]
     },
     "execution_count": 4,
     "metadata": {},
     "output_type": "execute_result"
    }
   ],
   "source": [
    "files = glob('Yates/*.mat')\n",
    "files"
   ]
  },
  {
   "cell_type": "code",
   "execution_count": 5,
   "id": "f4d4be2a",
   "metadata": {},
   "outputs": [],
   "source": [
    "LAT = []\n",
    "LON = []\n",
    "D50 = []\n",
    "DEP = []\n",
    "for f in files:\n",
    "    dat = loadmat(f)\n",
    "#     print(dat.keys())\n",
    "    LAT.append(np.squeeze(dat['lat']))\n",
    "    LON.append(np.squeeze(dat['lon']))\n",
    "    D50.append(np.squeeze(dat['d50']))\n",
    "    DEP.append(np.squeeze(dat['elev']))"
   ]
  },
  {
   "cell_type": "code",
   "execution_count": 6,
   "id": "94cc4e23",
   "metadata": {},
   "outputs": [
    {
     "data": {
      "text/plain": [
       "dict_keys(['__header__', '__version__', '__globals__', 'd95', 'd84', 'd60', 'd50', 'd30', 'd16', 'd10', 'd5', 'elev', 'lat', 'lon', 'imsl', 'ibb', 'iwater'])"
      ]
     },
     "execution_count": 6,
     "metadata": {},
     "output_type": "execute_result"
    }
   ],
   "source": [
    "dat.keys()"
   ]
  },
  {
   "cell_type": "code",
   "execution_count": 7,
   "id": "968f3caf",
   "metadata": {},
   "outputs": [],
   "source": [
    "DEP = np.squeeze(np.hstack(DEP))\n",
    "LAT = np.squeeze(np.hstack(LAT))\n",
    "LON = np.squeeze(np.hstack(LON))\n",
    "D50 = np.squeeze(np.hstack(D50))"
   ]
  },
  {
   "cell_type": "code",
   "execution_count": 8,
   "id": "3f015946",
   "metadata": {},
   "outputs": [],
   "source": [
    "## bf = beachface, O=offshore, MB=midbeach, BB=back beach\n",
    "elev_code = ['BF','O','MB','BB']"
   ]
  },
  {
   "cell_type": "code",
   "execution_count": 9,
   "id": "65839182",
   "metadata": {},
   "outputs": [
    {
     "data": {
      "text/plain": [
       "array([-4.3 , -4.  , -3.7 , -3.55, -3.2 , -3.05, -3.  , -2.  , -1.  ,\n",
       "        0.  ,  0.11,  1.  ,  2.  ,  2.5 ,  3.  ])"
      ]
     },
     "execution_count": 9,
     "metadata": {},
     "output_type": "execute_result"
    }
   ],
   "source": [
    "np.unique(DEP)"
   ]
  },
  {
   "cell_type": "code",
   "execution_count": 11,
   "id": "c7a14b32",
   "metadata": {},
   "outputs": [
    {
     "name": "stdout",
     "output_type": "stream",
     "text": [
      "2.0\n",
      "2.0\n",
      "2.0\n",
      "2.0\n",
      "2.0\n",
      "2.0\n",
      "2.0\n",
      "2.0\n",
      "2.0\n",
      "2.0\n",
      "2.0\n",
      "2.0\n",
      "2.0\n",
      "2.0\n",
      "2.0\n",
      "2.0\n",
      "2.0\n",
      "2.0\n",
      "2.0\n"
     ]
    }
   ],
   "source": [
    "ELE = []\n",
    "for d in DEP:\n",
    "    if d>=2.5:\n",
    "        ELE.append('BB')\n",
    "    elif d<=-1:\n",
    "        ELE.append('O')\n",
    "    elif (d>-1) and (d<=1):\n",
    "        ELE.append('BF')\n",
    "    else:\n",
    "        ELE.append('MB')\n",
    "        print(d)\n",
    "        "
   ]
  },
  {
   "cell_type": "code",
   "execution_count": 15,
   "id": "999ec6c0",
   "metadata": {},
   "outputs": [
    {
     "data": {
      "text/plain": [
       "19"
      ]
     },
     "execution_count": 15,
     "metadata": {},
     "output_type": "execute_result"
    }
   ],
   "source": [
    "np.sum(np.array([e=='MB' for e in ELE])==True)"
   ]
  },
  {
   "cell_type": "code",
   "execution_count": 16,
   "id": "fb19faf0",
   "metadata": {},
   "outputs": [
    {
     "data": {
      "text/plain": [
       "2"
      ]
     },
     "execution_count": 16,
     "metadata": {},
     "output_type": "execute_result"
    }
   ],
   "source": [
    "np.sum(np.array([e=='BB' for e in ELE])==True)"
   ]
  },
  {
   "cell_type": "code",
   "execution_count": 17,
   "id": "de02df33",
   "metadata": {},
   "outputs": [
    {
     "data": {
      "text/plain": [
       "73"
      ]
     },
     "execution_count": 17,
     "metadata": {},
     "output_type": "execute_result"
    }
   ],
   "source": [
    "np.sum(np.array([e=='BF' for e in ELE])==True)"
   ]
  },
  {
   "cell_type": "code",
   "execution_count": 18,
   "id": "2294c983",
   "metadata": {},
   "outputs": [
    {
     "data": {
      "text/plain": [
       "47"
      ]
     },
     "execution_count": 18,
     "metadata": {},
     "output_type": "execute_result"
    }
   ],
   "source": [
    "np.sum(np.array([e=='O' for e in ELE])==True)"
   ]
  },
  {
   "cell_type": "code",
   "execution_count": 19,
   "id": "86a32e10",
   "metadata": {},
   "outputs": [],
   "source": [
    "out = {}\n",
    "out['Lat']=LAT\n",
    "out['Lon']=LON\n",
    "out['Dep']=DEP\n",
    "out['Ele']=ELE\n",
    "out['Grain_Size']=D50"
   ]
  },
  {
   "cell_type": "code",
   "execution_count": 20,
   "id": "d92283d7",
   "metadata": {},
   "outputs": [
    {
     "data": {
      "text/html": [
       "<div>\n",
       "<style scoped>\n",
       "    .dataframe tbody tr th:only-of-type {\n",
       "        vertical-align: middle;\n",
       "    }\n",
       "\n",
       "    .dataframe tbody tr th {\n",
       "        vertical-align: top;\n",
       "    }\n",
       "\n",
       "    .dataframe thead th {\n",
       "        text-align: right;\n",
       "    }\n",
       "</style>\n",
       "<table border=\"1\" class=\"dataframe\">\n",
       "  <thead>\n",
       "    <tr style=\"text-align: right;\">\n",
       "      <th></th>\n",
       "      <th>Lat</th>\n",
       "      <th>Lon</th>\n",
       "      <th>Dep</th>\n",
       "      <th>Ele</th>\n",
       "      <th>Grain_Size</th>\n",
       "    </tr>\n",
       "  </thead>\n",
       "  <tbody>\n",
       "    <tr>\n",
       "      <th>0</th>\n",
       "      <td>33.017033</td>\n",
       "      <td>-117.282683</td>\n",
       "      <td>0.0</td>\n",
       "      <td>BF</td>\n",
       "      <td>0.149255</td>\n",
       "    </tr>\n",
       "    <tr>\n",
       "      <th>1</th>\n",
       "      <td>33.011567</td>\n",
       "      <td>-117.279750</td>\n",
       "      <td>0.0</td>\n",
       "      <td>BF</td>\n",
       "      <td>0.151969</td>\n",
       "    </tr>\n",
       "    <tr>\n",
       "      <th>2</th>\n",
       "      <td>33.004867</td>\n",
       "      <td>-117.278517</td>\n",
       "      <td>0.0</td>\n",
       "      <td>BF</td>\n",
       "      <td>0.141791</td>\n",
       "    </tr>\n",
       "    <tr>\n",
       "      <th>3</th>\n",
       "      <td>32.998400</td>\n",
       "      <td>-117.277117</td>\n",
       "      <td>0.0</td>\n",
       "      <td>BF</td>\n",
       "      <td>0.146878</td>\n",
       "    </tr>\n",
       "    <tr>\n",
       "      <th>4</th>\n",
       "      <td>33.252740</td>\n",
       "      <td>-117.433980</td>\n",
       "      <td>2.0</td>\n",
       "      <td>MB</td>\n",
       "      <td>0.216464</td>\n",
       "    </tr>\n",
       "  </tbody>\n",
       "</table>\n",
       "</div>"
      ],
      "text/plain": [
       "         Lat         Lon  Dep Ele  Grain_Size\n",
       "0  33.017033 -117.282683  0.0  BF    0.149255\n",
       "1  33.011567 -117.279750  0.0  BF    0.151969\n",
       "2  33.004867 -117.278517  0.0  BF    0.141791\n",
       "3  32.998400 -117.277117  0.0  BF    0.146878\n",
       "4  33.252740 -117.433980  2.0  MB    0.216464"
      ]
     },
     "execution_count": 20,
     "metadata": {},
     "output_type": "execute_result"
    }
   ],
   "source": [
    "df = pd.DataFrame.from_dict(out)\n",
    "df.head()"
   ]
  },
  {
   "cell_type": "code",
   "execution_count": 21,
   "id": "13e0557f",
   "metadata": {},
   "outputs": [],
   "source": [
    "df.to_csv('Yates_GrainSize.csv')"
   ]
  },
  {
   "cell_type": "code",
   "execution_count": null,
   "id": "fc1ed261",
   "metadata": {},
   "outputs": [],
   "source": []
  }
 ],
 "metadata": {
  "kernelspec": {
   "display_name": "Python 3 (ipykernel)",
   "language": "python",
   "name": "python3"
  },
  "language_info": {
   "codemirror_mode": {
    "name": "ipython",
    "version": 3
   },
   "file_extension": ".py",
   "mimetype": "text/x-python",
   "name": "python",
   "nbconvert_exporter": "python",
   "pygments_lexer": "ipython3",
   "version": "3.10.4"
  }
 },
 "nbformat": 4,
 "nbformat_minor": 5
}
