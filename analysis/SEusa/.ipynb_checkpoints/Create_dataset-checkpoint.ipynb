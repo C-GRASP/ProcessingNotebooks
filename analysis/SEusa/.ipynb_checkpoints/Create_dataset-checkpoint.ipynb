{
 "cells": [
  {
   "cell_type": "markdown",
   "id": "37c4bda3",
   "metadata": {},
   "source": [
    "## Create ML-ready dataset for a Regional Grain Size Model\n",
    "\n",
    "* Dan Buscombe \n",
    "* Will Speiser\n",
    "\n",
    "3/24/22 - May 2022"
   ]
  },
  {
   "cell_type": "code",
   "execution_count": 1,
   "id": "351f1d35",
   "metadata": {},
   "outputs": [],
   "source": [
    "import pandas as pd\n",
    "import matplotlib.pyplot as plt\n",
    "import numpy as np\n",
    "# import folium\n",
    "import io\n",
    "from PIL import Image\n",
    "import os, time\n",
    "# from selenium import webdriver\n",
    "# import geocoder\n",
    "from tqdm import tqdm\n",
    "import geopandas as gpd\n",
    "# import pygeos"
   ]
  },
  {
   "cell_type": "markdown",
   "id": "e0b9b971",
   "metadata": {},
   "source": [
    "#### data processing choices"
   ]
  },
  {
   "cell_type": "markdown",
   "id": "2768aa11",
   "metadata": {},
   "source": [
    "This number has to factor in very large errors in some g-s position data"
   ]
  },
  {
   "cell_type": "code",
   "execution_count": 2,
   "id": "12797523",
   "metadata": {},
   "outputs": [],
   "source": [
    "# join_dist=.0005\n",
    "# join_dist=.001\n",
    "join_dist=.0015\n",
    "# join_dist=.003"
   ]
  },
  {
   "cell_type": "code",
   "execution_count": 3,
   "id": "5e8fa525",
   "metadata": {},
   "outputs": [],
   "source": [
    "# choice = 'beach'\n",
    "choice = 'transects'"
   ]
  },
  {
   "cell_type": "code",
   "execution_count": 4,
   "id": "ed2efa03",
   "metadata": {},
   "outputs": [],
   "source": [
    "merge = 'right'\n",
    "# merge = 'left'"
   ]
  },
  {
   "cell_type": "markdown",
   "id": "8180e896",
   "metadata": {},
   "source": [
    "#### read gs data "
   ]
  },
  {
   "cell_type": "code",
   "execution_count": 5,
   "id": "2ecbaba1",
   "metadata": {},
   "outputs": [],
   "source": [
    "dataset = 'Data_Post2012_VerifiedOnshore'\n",
    "#dataset = 'Data_VerifiedOnshore'"
   ]
  },
  {
   "cell_type": "code",
   "execution_count": 6,
   "id": "0a0a159e",
   "metadata": {},
   "outputs": [],
   "source": [
    "dataset2 = 'sed_data_wrangle_final'"
   ]
  },
  {
   "cell_type": "code",
   "execution_count": 7,
   "id": "7796f72c",
   "metadata": {},
   "outputs": [],
   "source": [
    "path='./data/CGRASP' "
   ]
  },
  {
   "cell_type": "code",
   "execution_count": 8,
   "id": "f4ca6534",
   "metadata": {},
   "outputs": [],
   "source": [
    "cgrasp_dat = pd.read_csv(path+'/'+dataset+'.csv')\n",
    "sand = cgrasp_dat[cgrasp_dat['d50']<2]"
   ]
  },
  {
   "cell_type": "code",
   "execution_count": 9,
   "id": "ad9010c6",
   "metadata": {},
   "outputs": [],
   "source": [
    "# len(sand)"
   ]
  },
  {
   "cell_type": "code",
   "execution_count": 10,
   "id": "be2bd21a",
   "metadata": {},
   "outputs": [],
   "source": [
    "cgrasp_dat2 = pd.read_csv(path+'/'+dataset2+'.csv')\n",
    "sand2 = cgrasp_dat2[cgrasp_dat2['d50']<2]"
   ]
  },
  {
   "cell_type": "code",
   "execution_count": 11,
   "id": "d0df0644",
   "metadata": {},
   "outputs": [],
   "source": [
    "# len(sand2)"
   ]
  },
  {
   "cell_type": "code",
   "execution_count": 12,
   "id": "13569081",
   "metadata": {},
   "outputs": [],
   "source": [
    "merged_sand = pd.concat([sand, sand2])"
   ]
  },
  {
   "cell_type": "code",
   "execution_count": null,
   "id": "3905cd2f",
   "metadata": {},
   "outputs": [],
   "source": []
  },
  {
   "cell_type": "code",
   "execution_count": null,
   "id": "c9dd1fa4",
   "metadata": {},
   "outputs": [],
   "source": []
  },
  {
   "cell_type": "code",
   "execution_count": 13,
   "id": "3206a6a6",
   "metadata": {},
   "outputs": [],
   "source": [
    "# gdf_sand = gpd.GeoDataFrame(\n",
    "#     sand, geometry=gpd.points_from_xy(sand.longitude, sand.latitude))\n",
    "\n",
    "gdf_merged_sand = gpd.GeoDataFrame(\n",
    "    merged_sand, geometry=gpd.points_from_xy(merged_sand.longitude, merged_sand.latitude))"
   ]
  },
  {
   "cell_type": "code",
   "execution_count": 14,
   "id": "d5401d4c",
   "metadata": {},
   "outputs": [
    {
     "data": {
      "text/plain": [
       "1759"
      ]
     },
     "execution_count": 14,
     "metadata": {},
     "output_type": "execute_result"
    }
   ],
   "source": [
    "# len(gdf_sand)\n",
    "len(gdf_merged_sand)"
   ]
  },
  {
   "cell_type": "markdown",
   "id": "35285cf3",
   "metadata": {},
   "source": [
    "#### read slope data "
   ]
  },
  {
   "cell_type": "code",
   "execution_count": 15,
   "id": "fde8c6a4",
   "metadata": {},
   "outputs": [],
   "source": [
    "slopes_t = pd.DataFrame(gpd.read_file('./data/beach_slopes/US_East_coast_slopes_by_transect.geojson'))\n",
    "slopes_b = pd.DataFrame(gpd.read_file('./data/beach_slopes/US_East_coast_slopes_by_beach.geojson'))"
   ]
  },
  {
   "cell_type": "code",
   "execution_count": 16,
   "id": "4794bddb",
   "metadata": {},
   "outputs": [
    {
     "data": {
      "text/plain": [
       "34067"
      ]
     },
     "execution_count": 16,
     "metadata": {},
     "output_type": "execute_result"
    }
   ],
   "source": [
    "len(slopes_t)"
   ]
  },
  {
   "cell_type": "code",
   "execution_count": 17,
   "id": "8ef6394f",
   "metadata": {},
   "outputs": [],
   "source": [
    "slopes_t['points'] = slopes_t.apply(lambda x: [y for y in x['geometry'].coords], axis=1)\n",
    "latlon = np.vstack([np.mean(s,axis=0) for s in slopes_t.points.values])\n",
    "\n",
    "slopes_t.insert(2, \"longitude\", latlon[:,0], True)\n",
    "slopes_t.insert(3, \"latitude\", latlon[:,1], True)"
   ]
  },
  {
   "cell_type": "code",
   "execution_count": null,
   "id": "8efbae1c",
   "metadata": {},
   "outputs": [],
   "source": []
  },
  {
   "cell_type": "code",
   "execution_count": 18,
   "id": "e46ef378",
   "metadata": {},
   "outputs": [],
   "source": [
    "slopes_b['points'] = slopes_b.apply(lambda x: [y for y in x['geometry'].coords], axis=1)\n",
    "latlon = np.vstack([np.mean(s,axis=0) for s in slopes_b.points.values])\n",
    "\n",
    "slopes_b.insert(2, \"longitude\", latlon[:,0], True)\n",
    "slopes_b.insert(3, \"latitude\", latlon[:,1], True)"
   ]
  },
  {
   "cell_type": "code",
   "execution_count": 19,
   "id": "f5f3381c",
   "metadata": {},
   "outputs": [
    {
     "data": {
      "text/plain": [
       "Index(['id', 'beach_slope_weighted_average', 'longitude', 'latitude',\n",
       "       'width_ci_average', 'quality_flag', 'beach_slope_average',\n",
       "       'beach_slope_median', 'sl_points_average', 'mstr', 'prc_mstr_obs',\n",
       "       'min_tide_obs', 'max_tide_obs', 'easting', 'northing', 'geometry',\n",
       "       'points'],\n",
       "      dtype='object')"
      ]
     },
     "execution_count": 19,
     "metadata": {},
     "output_type": "execute_result"
    }
   ],
   "source": [
    "slopes_b.keys()"
   ]
  },
  {
   "cell_type": "code",
   "execution_count": 20,
   "id": "e101a637",
   "metadata": {},
   "outputs": [
    {
     "data": {
      "image/png": "[encoded data removed]",
      "text/plain": [
       "<Figure size 864x864 with 1 Axes>"
      ]
     },
     "metadata": {
      "needs_background": "light"
     },
     "output_type": "display_data"
    }
   ],
   "source": [
    "X = np.vstack((slopes_b['mstr'],slopes_b['beach_slope_average']))\n",
    "\n",
    "X = X[:,~np.isnan(X).any(axis=0)]\n",
    "\n",
    "plt.figure(figsize=(12,12))\n",
    "plt.subplot(221)\n",
    "plt.plot(X[0,:],X[1,:], 'r.')\n",
    "\n",
    "ind = np.where(X[0,:]>=1)[0]\n",
    "X = X[:,ind]\n",
    "\n",
    "X.shape\n",
    "plt.plot(X[0,:],X[1,:], 'ko')\n",
    "\n",
    "plt.ylabel(r'tan β')\n",
    "plt.xlabel(r'MSTR')\n",
    "plt.title(r\"a)\", loc='left')\n",
    "r2 = np.min(np.corrcoef(X[0,:],X[1,:]))**2\n",
    "plt.text(2,.1,r'$R^2$='+str(r2)[:4])\n",
    "\n",
    "coef = np.polyfit(X[0,:],X[1,:],1)\n",
    "poly1d_fn = np.poly1d(coef) \n",
    "plt.plot(X[0,:], poly1d_fn(X[0,:]), '-k')\n",
    "\n",
    "plt.savefig('data_plots/Partial_correl_a.jpg', dpi=300, bbox_inches='tight')"
   ]
  },
  {
   "cell_type": "code",
   "execution_count": null,
   "id": "aa245330",
   "metadata": {},
   "outputs": [],
   "source": []
  },
  {
   "cell_type": "markdown",
   "id": "50d34c9a",
   "metadata": {},
   "source": [
    "#### plot grain size and slope data on map"
   ]
  },
  {
   "cell_type": "code",
   "execution_count": 21,
   "id": "d33e48ea",
   "metadata": {},
   "outputs": [],
   "source": [
    "# map = folium.Map(\n",
    "#                 location=[np.mean(sand['latitude']), np.mean(sand['longitude'])], \n",
    "#                 zoom_start=4, \n",
    "#                 control_scale=True,\n",
    "#                 tiles='stamentoner',#tiles=\"Stamen Terrain\", \n",
    "# )"
   ]
  },
  {
   "cell_type": "code",
   "execution_count": 22,
   "id": "92562b3f",
   "metadata": {},
   "outputs": [],
   "source": [
    "# for counter, (lat,lon) in enumerate(zip(sand['latitude'],sand['longitude'])):\n",
    "#     folium.CircleMarker(location=[lat, lon],\n",
    "#                                 radius = 3,\n",
    "#                                 fill=True, # Set fill to True\n",
    "#                                 color = 'red',\n",
    "#                                 opacity=0.1,\n",
    "#                                 fill_opacity=0.7).add_to(map)"
   ]
  },
  {
   "cell_type": "code",
   "execution_count": 23,
   "id": "db823dcf",
   "metadata": {},
   "outputs": [],
   "source": [
    "# for counter, (lat,lon) in enumerate(zip(slopes_t['latitude'],slopes_t['longitude'])):\n",
    "#     folium.CircleMarker(location=[lat, lon],\n",
    "#                                 radius = 3,\n",
    "#                                 fill=True, # Set fill to True\n",
    "#                                 color = 'blue',\n",
    "#                                 opacity=0.1,\n",
    "#                                 fill_opacity=0.7).add_to(map)"
   ]
  },
  {
   "cell_type": "code",
   "execution_count": 24,
   "id": "5e7fbf1b",
   "metadata": {},
   "outputs": [],
   "source": [
    "# for counter, (lat,lon) in enumerate(zip(slopes_b['latitude'],slopes_b['longitude'])):\n",
    "#     folium.CircleMarker(location=[lat, lon],\n",
    "#                                 radius = 3,\n",
    "#                                 fill=True, # Set fill to True\n",
    "#                                 color = 'magenta',\n",
    "#                                 opacity=0.1,\n",
    "#                                 fill_opacity=0.7).add_to(map)"
   ]
  },
  {
   "cell_type": "code",
   "execution_count": 25,
   "id": "23c11dc1",
   "metadata": {},
   "outputs": [],
   "source": [
    "# map"
   ]
  },
  {
   "cell_type": "code",
   "execution_count": 26,
   "id": "961d0e99",
   "metadata": {},
   "outputs": [
    {
     "data": {
      "text/plain": [
       "'transects'"
      ]
     },
     "execution_count": 26,
     "metadata": {},
     "output_type": "execute_result"
    }
   ],
   "source": [
    "choice"
   ]
  },
  {
   "cell_type": "code",
   "execution_count": 27,
   "id": "044b089c",
   "metadata": {},
   "outputs": [
    {
     "data": {
      "text/plain": [
       "'right'"
      ]
     },
     "execution_count": 27,
     "metadata": {},
     "output_type": "execute_result"
    }
   ],
   "source": [
    "merge"
   ]
  },
  {
   "cell_type": "code",
   "execution_count": 28,
   "id": "1ea9f236",
   "metadata": {},
   "outputs": [],
   "source": [
    "# if choice=='beach':\n",
    "#     slopes = slopes_b.copy()\n",
    "# else:\n",
    "#     slopes = slopes_t.copy()"
   ]
  },
  {
   "cell_type": "code",
   "execution_count": 29,
   "id": "e7c106fa",
   "metadata": {},
   "outputs": [
    {
     "data": {
      "text/plain": [
       "34067"
      ]
     },
     "execution_count": 29,
     "metadata": {},
     "output_type": "execute_result"
    }
   ],
   "source": [
    "if choice=='transects':\n",
    "    gdf_slopes_b = gpd.GeoDataFrame(\n",
    "    slopes_b, geometry=gpd.points_from_xy(slopes_b.longitude, slopes_b.latitude))\n",
    "\n",
    "    gdf_slopes_t = gpd.GeoDataFrame(\n",
    "    slopes_t, geometry=gpd.points_from_xy(slopes_t.longitude, slopes_t.latitude))    \n",
    "    \n",
    "    gdf_slopes = gpd.sjoin_nearest(gdf_slopes_b, gdf_slopes_t, how=merge, distance_col='distance')\n",
    "    \n",
    "else:\n",
    "    gdf_slopes = gpd.GeoDataFrame(\n",
    "    slopes_b, geometry=gpd.points_from_xy(slopes_b.longitude, slopes_b.latitude))  \n",
    "    \n",
    "len(gdf_slopes)  "
   ]
  },
  {
   "cell_type": "code",
   "execution_count": 30,
   "id": "feeb7d7c",
   "metadata": {},
   "outputs": [
    {
     "data": {
      "text/plain": [
       "geopandas.geodataframe.GeoDataFrame"
      ]
     },
     "execution_count": 30,
     "metadata": {},
     "output_type": "execute_result"
    }
   ],
   "source": [
    "gdf_slopes = gdf_slopes[['beach_slope_weighted_average',\n",
    "       'longitude_left', 'latitude_left', 'width_ci_average',\n",
    "       'quality_flag_left', 'beach_slope_average', 'beach_slope_median',\n",
    "       'sl_points_average', 'mstr', 'prc_mstr_obs', 'min_tide_obs',\n",
    "       'max_tide_obs','site_id', 'longitude_right', 'latitude_right', 'beach_slope',\n",
    "       'lower_conf_bound', 'upper_conf_bound', 'width_ci','geometry',\n",
    "       'quality_flag_right', 'sl_points', 'trend',\n",
    "       'distance']].copy()\n",
    "\n",
    "gdf_slopes.keys()\n",
    "\n",
    "gdf_slopes = gpd.GeoDataFrame(gdf_slopes)\n",
    "\n",
    "type(gdf_slopes)"
   ]
  },
  {
   "cell_type": "code",
   "execution_count": 31,
   "id": "eb167aff",
   "metadata": {},
   "outputs": [
    {
     "data": {
      "text/plain": [
       "39776"
      ]
     },
     "execution_count": 31,
     "metadata": {},
     "output_type": "execute_result"
    }
   ],
   "source": [
    "# gs_w_slope_data=gpd.sjoin_nearest(gdf_sand, gdf_slopes, how=merge)#, distance_col='distance')\n",
    "gs_w_slope_data=gpd.sjoin_nearest(gdf_merged_sand, gdf_slopes, how=merge)\n",
    "\n",
    "len(gs_w_slope_data)"
   ]
  },
  {
   "cell_type": "code",
   "execution_count": 32,
   "id": "5e9df0c9",
   "metadata": {},
   "outputs": [
    {
     "data": {
      "text/plain": [
       "431"
      ]
     },
     "execution_count": 32,
     "metadata": {},
     "output_type": "execute_result"
    }
   ],
   "source": [
    "ind = np.where(gs_w_slope_data['distance']<join_dist)[0]\n",
    "tmp = gs_w_slope_data.iloc[ind]\n",
    "len(tmp)"
   ]
  },
  {
   "cell_type": "code",
   "execution_count": 33,
   "id": "f1bc2c08",
   "metadata": {},
   "outputs": [],
   "source": [
    "tmp = tmp[['latitude', 'longitude', 'd50', 'geometry', \n",
    "       'longitude_left', 'latitude_left', 'quality_flag_right','quality_flag_left',\n",
    "        'beach_slope_average','sl_points', 'trend', 'width_ci_average',\n",
    "       'beach_slope_median', 'sl_points_average', 'mstr', 'prc_mstr_obs',\n",
    "       'min_tide_obs', 'max_tide_obs', 'site_id', 'longitude_right',\n",
    "       'latitude_right', 'beach_slope', 'lower_conf_bound', 'upper_conf_bound',\n",
    "       'width_ci', 'distance']].copy() \n",
    "\n",
    "#''d25', 'd30','d65', 'd75',"
   ]
  },
  {
   "cell_type": "code",
   "execution_count": 34,
   "id": "1838659d",
   "metadata": {},
   "outputs": [
    {
     "data": {
      "text/plain": [
       "402"
      ]
     },
     "execution_count": 34,
     "metadata": {},
     "output_type": "execute_result"
    }
   ],
   "source": [
    "len(tmp.dropna())"
   ]
  },
  {
   "cell_type": "code",
   "execution_count": 35,
   "id": "7455818c",
   "metadata": {},
   "outputs": [],
   "source": [
    "tmp = tmp.dropna()"
   ]
  },
  {
   "cell_type": "code",
   "execution_count": 36,
   "id": "d3682777",
   "metadata": {},
   "outputs": [
    {
     "data": {
      "text/plain": [
       "Index(['latitude', 'longitude', 'd50', 'geometry', 'longitude_left',\n",
       "       'latitude_left', 'quality_flag_right', 'quality_flag_left',\n",
       "       'beach_slope_average', 'sl_points', 'trend', 'width_ci_average',\n",
       "       'beach_slope_median', 'sl_points_average', 'mstr', 'prc_mstr_obs',\n",
       "       'min_tide_obs', 'max_tide_obs', 'site_id', 'longitude_right',\n",
       "       'latitude_right', 'beach_slope', 'lower_conf_bound', 'upper_conf_bound',\n",
       "       'width_ci', 'distance'],\n",
       "      dtype='object')"
      ]
     },
     "execution_count": 36,
     "metadata": {},
     "output_type": "execute_result"
    }
   ],
   "source": [
    "tmp.keys()"
   ]
  },
  {
   "cell_type": "code",
   "execution_count": 38,
   "id": "f9656abe",
   "metadata": {},
   "outputs": [],
   "source": [
    "# try:\n",
    "#     map = folium.Map(\n",
    "#                     location=[np.mean(tmp['latitude_right']), np.mean(tmp['longitude_right'])], \n",
    "#                     zoom_start=4, \n",
    "#                     control_scale=True,\n",
    "#                     tiles='stamentoner',#tiles=\"Stamen Terrain\", \n",
    "#     )\n",
    "    \n",
    "#     for counter, (lat,lon) in enumerate(zip(tmp['latitude_right'],tmp['longitude_right'])):\n",
    "#         folium.CircleMarker(location=[lat, lon],\n",
    "#                                     radius = 3,\n",
    "#                                     fill=True, # Set fill to True\n",
    "#                                     color = 'magenta',\n",
    "#                                     opacity=0.1,\n",
    "#                                     fill_opacity=0.7).add_to(map)\n",
    "\n",
    "# except:\n",
    "#     map = folium.Map(\n",
    "#                     location=[np.mean(tmp['latitude_left']), np.mean(tmp['longitude_left'])], \n",
    "#                     zoom_start=4, \n",
    "#                     control_scale=True,\n",
    "#                     tiles='stamentoner',#tiles=\"Stamen Terrain\", \n",
    "#     )\n",
    "    \n",
    "#     for counter, (lat,lon) in enumerate(zip(tmp['latitude_left'],tmp['longitude_left'])):\n",
    "#         folium.CircleMarker(location=[lat, lon],\n",
    "#                                     radius = 3,\n",
    "#                                     fill=True, # Set fill to True\n",
    "#                                     color = 'magenta',\n",
    "#                                     opacity=0.1,\n",
    "#                                     fill_opacity=0.7).add_to(map)\n",
    "    \n",
    "# map"
   ]
  },
  {
   "cell_type": "code",
   "execution_count": 39,
   "id": "71b299ab",
   "metadata": {},
   "outputs": [
    {
     "data": {
      "text/plain": [
       "Text(0.25, 0.16, '$R^2$=0.27')"
      ]
     },
     "execution_count": 39,
     "metadata": {},
     "output_type": "execute_result"
    },
    {
     "data": {
      "image/png": "[encoded data removed]",
      "text/plain": [
       "<Figure size 864x864 with 3 Axes>"
      ]
     },
     "metadata": {
      "needs_background": "light"
     },
     "output_type": "display_data"
    }
   ],
   "source": [
    "plt.figure(figsize=(12,12))\n",
    "plt.subplots_adjust(wspace=0.4)\n",
    "plt.subplot(231)\n",
    "plt.plot(tmp['beach_slope'],tmp['d50'],'.')\n",
    "\n",
    "coef = np.polyfit(tmp['beach_slope'],tmp['d50'],1)\n",
    "poly1d_fn = np.poly1d(coef) \n",
    "plt.plot(tmp['beach_slope'], poly1d_fn(tmp['beach_slope']), '-k')\n",
    "\n",
    "r2 = np.min(np.corrcoef(tmp['d50'], tmp['beach_slope']))**2\n",
    "plt.text(.1,.16,r'$R^2$='+str(r2)[:4])\n",
    "\n",
    "plt.subplot(232)\n",
    "plt.plot(tmp['trend'],tmp['d50'],'.')\n",
    "\n",
    "coef = np.polyfit(tmp['trend'],tmp['d50'],1)\n",
    "poly1d_fn = np.poly1d(coef) \n",
    "plt.plot(tmp['trend'], poly1d_fn(tmp['trend']), '-k')\n",
    "\n",
    "r2 = np.min(np.corrcoef(tmp['d50'], tmp['trend']))**2\n",
    "plt.text(.25,.16,r'$R^2$='+str(r2)[:4])\n",
    "\n",
    "plt.subplot(233)\n",
    "plt.plot(tmp['mstr'],tmp['d50'],'.')\n",
    "\n",
    "coef = np.polyfit(tmp['mstr'],tmp['d50'],1)\n",
    "poly1d_fn = np.poly1d(coef) \n",
    "plt.plot(tmp['mstr'], poly1d_fn(tmp['mstr']), '-k')\n",
    "\n",
    "r2 = np.min(np.corrcoef(tmp['d50'], tmp['mstr']))**2\n",
    "plt.text(.25,.16,r'$R^2$='+str(r2)[:4])"
   ]
  },
  {
   "cell_type": "code",
   "execution_count": null,
   "id": "b80d27b8",
   "metadata": {},
   "outputs": [],
   "source": []
  },
  {
   "cell_type": "markdown",
   "id": "7aad4d06",
   "metadata": {},
   "source": [
    "#### merge waves"
   ]
  },
  {
   "cell_type": "code",
   "execution_count": 40,
   "id": "4369fcb8",
   "metadata": {},
   "outputs": [],
   "source": [
    "dir_df=pd.read_csv('./data/WaveData/Dir.csv')\n",
    "hsmax_df=pd.read_csv('./data/WaveData/HsMax.csv')\n",
    "hsmean_df=pd.read_csv('./data/WaveData/HsMean.csv')\n",
    "tp_df=pd.read_csv('./data/WaveData/Tp.csv')"
   ]
  },
  {
   "cell_type": "code",
   "execution_count": 41,
   "id": "5a0ba8a2",
   "metadata": {},
   "outputs": [],
   "source": [
    "dir_df = dir_df.rename(columns={\"lat\": \"latitude\", \"lon\": \"longitude\"})\n",
    "hsmax_df = hsmax_df.rename(columns={\"lat\": \"latitude\", \"lon\": \"longitude\"})\n",
    "hsmean_df = hsmean_df.rename(columns={\"lat\": \"latitude\", \"lon\": \"longitude\"})\n",
    "tp_df = tp_df.rename(columns={\"lat\": \"latitude\", \"lon\": \"longitude\"})\n"
   ]
  },
  {
   "cell_type": "code",
   "execution_count": 42,
   "id": "ec10e50a",
   "metadata": {},
   "outputs": [
    {
     "name": "stderr",
     "output_type": "stream",
     "text": [
      "100%|████████████████████████████████████████████████████████████████████████████████████████████████████████████████| 10713/10713 [01:43<00:00, 103.38it/s]\n"
     ]
    },
    {
     "name": "stdout",
     "output_type": "stream",
     "text": [
      "dir done\n"
     ]
    },
    {
     "name": "stderr",
     "output_type": "stream",
     "text": [
      "100%|████████████████████████████████████████████████████████████████████████████████████████████████████████████████| 10713/10713 [01:43<00:00, 103.87it/s]\n"
     ]
    },
    {
     "name": "stdout",
     "output_type": "stream",
     "text": [
      "hsmax done\n"
     ]
    },
    {
     "name": "stderr",
     "output_type": "stream",
     "text": [
      "100%|████████████████████████████████████████████████████████████████████████████████████████████████████████████████| 10713/10713 [01:44<00:00, 102.46it/s]\n"
     ]
    },
    {
     "name": "stdout",
     "output_type": "stream",
     "text": [
      "hsmean done\n"
     ]
    },
    {
     "name": "stderr",
     "output_type": "stream",
     "text": [
      "100%|████████████████████████████████████████████████████████████████████████████████████████████████████████████████| 10713/10713 [01:46<00:00, 100.49it/s]"
     ]
    },
    {
     "name": "stdout",
     "output_type": "stream",
     "text": [
      "tp done\n"
     ]
    },
    {
     "name": "stderr",
     "output_type": "stream",
     "text": [
      "\n"
     ]
    }
   ],
   "source": [
    "#rename wave variable dataframe columns to yyyy-mm-dd format\n",
    "i=0\n",
    "for i in tqdm(range(0,len(dir_df.columns)-2)):\n",
    "    focus_col=dir_df.columns[2+i]\n",
    "    timestamps = pd.to_datetime(int(focus_col)-719529, unit='D').strftime(\"%Y-%m-%d\")\n",
    "    stamp=str(timestamps)\n",
    "    dir_df=dir_df.rename(columns={focus_col:stamp})\n",
    "    i=i+1\n",
    "    \n",
    "print('dir done')\n",
    "#rename wave variable dataframe columns to yyyy-mm-dd format\n",
    "i=0\n",
    "for i in tqdm(range(0,len(hsmax_df.columns)-2)):\n",
    "    focus_col=hsmax_df.columns[2+i]\n",
    "    timestamps = pd.to_datetime(int(focus_col)-719529, unit='D').strftime(\"%Y-%m-%d\")\n",
    "    stamp=str(timestamps)\n",
    "    hsmax_df=hsmax_df.rename(columns={focus_col:stamp})\n",
    "    i=i+1\n",
    "    \n",
    "print('hsmax done')\n",
    "\n",
    "i=0\n",
    "for i in tqdm(range(0,len(hsmean_df.columns)-2)):\n",
    "    focus_col=hsmean_df.columns[2+i]\n",
    "    timestamps = pd.to_datetime(int(focus_col)-719529, unit='D').strftime(\"%Y-%m-%d\")\n",
    "    stamp=str(timestamps)\n",
    "    hsmean_df=hsmean_df.rename(columns={focus_col:stamp})\n",
    "    i=i+1\n",
    "    \n",
    "print('hsmean done')\n",
    "\n",
    "i=0\n",
    "for i in tqdm(range(0,len(tp_df.columns)-2)):\n",
    "    focus_col=tp_df.columns[2+i]\n",
    "    timestamps = pd.to_datetime(int(focus_col)-719529, unit='D').strftime(\"%Y-%m-%d\")\n",
    "    stamp=str(timestamps)\n",
    "    tp_df=tp_df.rename(columns={focus_col:stamp})\n",
    "    i=i+1\n",
    "    \n",
    "print('tp done')\n"
   ]
  },
  {
   "cell_type": "code",
   "execution_count": 43,
   "id": "40030504",
   "metadata": {},
   "outputs": [],
   "source": [
    "df=tmp.copy()\n",
    "df=pd.DataFrame(df)\n",
    "\n",
    "# df"
   ]
  },
  {
   "cell_type": "code",
   "execution_count": 44,
   "id": "eeef6bc7",
   "metadata": {},
   "outputs": [],
   "source": [
    "df= gpd.GeoDataFrame(\n",
    "    df, geometry=gpd.points_from_xy(df.longitude, df.latitude))"
   ]
  },
  {
   "cell_type": "code",
   "execution_count": 45,
   "id": "4187ec6c",
   "metadata": {},
   "outputs": [],
   "source": [
    "# df.keys()"
   ]
  },
  {
   "cell_type": "code",
   "execution_count": 46,
   "id": "b7379957",
   "metadata": {},
   "outputs": [
    {
     "name": "stderr",
     "output_type": "stream",
     "text": [
      "C:\\Users\\dbuscombe\\Anaconda3\\envs\\cgrasp\\lib\\site-packages\\geopandas\\geodataframe.py:1378: FutureWarning: Passing 'suffixes' which cause duplicate columns {'latitude_left', 'longitude_left'} in the result is deprecated and will raise a MergeError in a future version.\n",
      "  result = DataFrame.merge(self, *args, **kwargs)\n"
     ]
    },
    {
     "data": {
      "text/plain": [
       "5104"
      ]
     },
     "execution_count": 46,
     "metadata": {},
     "output_type": "execute_result"
    }
   ],
   "source": [
    "dir_gdf= gpd.GeoDataFrame(\n",
    "    dir_df, geometry=gpd.points_from_xy(dir_df.longitude, dir_df.latitude))\n",
    "\n",
    "# dirmerge=gpd.sjoin_nearest(df, dir_gdf, how='left', distance_col='distance')\n",
    "dirmerge=gpd.sjoin_nearest(df, dir_gdf, how=merge)#, distance_col='distance')\n",
    "\n",
    "filter_col = [col for col in dirmerge if col.startswith('20')]\n",
    "dirmerge.insert(0, \"dir\", dirmerge[filter_col].mean(axis=1).values, True)\n",
    "\n",
    "len(dirmerge)"
   ]
  },
  {
   "cell_type": "code",
   "execution_count": 47,
   "id": "35325a60",
   "metadata": {},
   "outputs": [
    {
     "name": "stderr",
     "output_type": "stream",
     "text": [
      "C:\\Users\\dbuscombe\\Anaconda3\\envs\\cgrasp\\lib\\site-packages\\geopandas\\geodataframe.py:1378: FutureWarning: Passing 'suffixes' which cause duplicate columns {'latitude_left', 'longitude_left'} in the result is deprecated and will raise a MergeError in a future version.\n",
      "  result = DataFrame.merge(self, *args, **kwargs)\n",
      "C:\\Users\\dbuscombe\\Anaconda3\\envs\\cgrasp\\lib\\site-packages\\geopandas\\geodataframe.py:1378: FutureWarning: Passing 'suffixes' which cause duplicate columns {'latitude_left', 'longitude_left'} in the result is deprecated and will raise a MergeError in a future version.\n",
      "  result = DataFrame.merge(self, *args, **kwargs)\n",
      "C:\\Users\\dbuscombe\\Anaconda3\\envs\\cgrasp\\lib\\site-packages\\geopandas\\geodataframe.py:1378: FutureWarning: Passing 'suffixes' which cause duplicate columns {'latitude_left', 'longitude_left'} in the result is deprecated and will raise a MergeError in a future version.\n",
      "  result = DataFrame.merge(self, *args, **kwargs)\n"
     ]
    }
   ],
   "source": [
    "\n",
    "hsmean_gdf= gpd.GeoDataFrame(\n",
    "    hsmean_df, geometry=gpd.points_from_xy(hsmean_df.longitude, hsmean_df.latitude))\n",
    "\n",
    "hsmeanmerge=gpd.sjoin_nearest(df, hsmean_gdf, how=merge)#, distance_col='distance')\n",
    "\n",
    "filter_col = [col for col in hsmeanmerge if col.startswith('20')]\n",
    "hsmeanmerge.insert(0, \"hs_mean\", hsmeanmerge[filter_col].mean(axis=1).values, True)\n",
    "\n",
    "\n",
    "hsmax_gdf= gpd.GeoDataFrame(\n",
    "    hsmax_df, geometry=gpd.points_from_xy(hsmax_df.longitude, hsmax_df.latitude))\n",
    "\n",
    "hsmaxmerge=gpd.sjoin_nearest(df, hsmax_gdf, how=merge)#, distance_col='distance')\n",
    "\n",
    "filter_col = [col for col in hsmaxmerge if col.startswith('20')]\n",
    "hsmaxmerge.insert(0, \"hs_max\", hsmaxmerge[filter_col].mean(axis=1).values, True)\n",
    "\n",
    "\n",
    "tp_gdf= gpd.GeoDataFrame(\n",
    "    tp_df, geometry=gpd.points_from_xy(tp_df.longitude, tp_df.latitude))\n",
    "\n",
    "tpmerge=gpd.sjoin_nearest(df, tp_gdf, how=merge)#, distance_col='distance')\n",
    "\n",
    "filter_col = [col for col in tpmerge if col.startswith('20')]\n",
    "tpmerge.insert(0, \"tp\", tpmerge[filter_col].mean(axis=1).values, True)\n"
   ]
  },
  {
   "cell_type": "code",
   "execution_count": 48,
   "id": "f2b52a73",
   "metadata": {},
   "outputs": [
    {
     "data": {
      "text/plain": [
       "Index(['tp', 'index_left', 'latitude_left', 'longitude_left', 'd50',\n",
       "       'longitude_left', 'latitude_left', 'quality_flag_right',\n",
       "       'quality_flag_left', 'beach_slope_average', 'sl_points', 'trend',\n",
       "       'width_ci_average', 'beach_slope_median', 'sl_points_average', 'mstr',\n",
       "       'prc_mstr_obs', 'min_tide_obs', 'max_tide_obs', 'site_id',\n",
       "       'longitude_right', 'latitude_right', 'beach_slope', 'lower_conf_bound',\n",
       "       'upper_conf_bound', 'width_ci', 'distance', 'latitude_right',\n",
       "       'longitude_right', '1990-01-01', '1990-01-02', '1990-01-03',\n",
       "       '1990-01-04', '1990-01-05', '1990-01-06', '1990-01-07', '1990-01-08',\n",
       "       '1990-01-09', '1990-01-10', '1990-01-11'],\n",
       "      dtype='object')"
      ]
     },
     "execution_count": 48,
     "metadata": {},
     "output_type": "execute_result"
    }
   ],
   "source": [
    "tpmerge.keys()[:40]"
   ]
  },
  {
   "cell_type": "code",
   "execution_count": 49,
   "id": "e130566f",
   "metadata": {},
   "outputs": [],
   "source": [
    "out_df = tpmerge[['tp', 'latitude_left', 'longitude_left', 'quality_flag_left','quality_flag_right',\n",
    "       'd50', 'width_ci_average',  'beach_slope_average',\n",
    "       'beach_slope_median', 'sl_points_average', 'mstr', 'prc_mstr_obs',\n",
    "       'min_tide_obs', 'max_tide_obs', 'site_id', 'beach_slope', 'lower_conf_bound', 'upper_conf_bound',\n",
    "       'width_ci',  'sl_points', 'trend', 'distance',\n",
    "       'latitude_right', 'longitude_right']].copy()\n",
    "\n",
    "#'d25', 'd30','d65', 'd75', "
   ]
  },
  {
   "cell_type": "code",
   "execution_count": 50,
   "id": "0fefb85f",
   "metadata": {},
   "outputs": [],
   "source": [
    "out_df.insert(0, \"dir\", dirmerge.iloc[:, [0]].values.squeeze(), True)\n",
    "out_df.insert(0, \"hs_mean\", hsmeanmerge.iloc[:, [0]].values.squeeze(), True)\n",
    "out_df.insert(0, \"hs_max\", hsmaxmerge.iloc[:, [0]].values.squeeze(), True)\n",
    "out_df = out_df.dropna()\n",
    "\n",
    "out_df = out_df.drop_duplicates()"
   ]
  },
  {
   "cell_type": "code",
   "execution_count": 51,
   "id": "db256a12",
   "metadata": {},
   "outputs": [
    {
     "data": {
      "text/plain": [
       "5104"
      ]
     },
     "execution_count": 51,
     "metadata": {},
     "output_type": "execute_result"
    }
   ],
   "source": [
    "ind = np.where(out_df['distance']<join_dist)[0]\n",
    "tmp = out_df.iloc[ind]\n",
    "len(tmp)"
   ]
  },
  {
   "cell_type": "code",
   "execution_count": 52,
   "id": "37f39c76",
   "metadata": {},
   "outputs": [
    {
     "data": {
      "text/plain": [
       "0      0.809928\n",
       "0      0.809928\n",
       "0      0.809928\n",
       "0      0.809928\n",
       "0      0.809928\n",
       "         ...   \n",
       "248    0.120000\n",
       "249    0.120000\n",
       "249    0.120000\n",
       "249    0.120000\n",
       "249    0.120000\n",
       "Name: d50, Length: 5104, dtype: float64"
      ]
     },
     "execution_count": 52,
     "metadata": {},
     "output_type": "execute_result"
    }
   ],
   "source": [
    "tmp['d50']"
   ]
  },
  {
   "cell_type": "code",
   "execution_count": 53,
   "id": "4f40db9e",
   "metadata": {},
   "outputs": [
    {
     "data": {
      "text/plain": [
       "Text(0.25, 0.16, '$R^2$=0.18')"
      ]
     },
     "execution_count": 53,
     "metadata": {},
     "output_type": "execute_result"
    },
    {
     "data": {
      "image/png": "[encoded data removed]",
      "text/plain": [
       "<Figure size 864x864 with 6 Axes>"
      ]
     },
     "metadata": {
      "needs_background": "light"
     },
     "output_type": "display_data"
    }
   ],
   "source": [
    "plt.figure(figsize=(12,12))\n",
    "plt.subplots_adjust(wspace=0.4)\n",
    "plt.subplot(231)\n",
    "plt.plot(tmp['beach_slope'],tmp['d50'],'.')\n",
    "\n",
    "coef = np.polyfit(tmp['beach_slope'],tmp['d50'],1)\n",
    "poly1d_fn = np.poly1d(coef) \n",
    "plt.plot(tmp['beach_slope'], poly1d_fn(tmp['beach_slope']), '-k')\n",
    "\n",
    "r2 = np.min(np.corrcoef(tmp['d50'], tmp['beach_slope']))**2\n",
    "plt.text(.25,.16,r'$R^2$='+str(r2)[:4])\n",
    "\n",
    "plt.subplot(232)\n",
    "plt.plot(tmp['trend'],tmp['d50'],'.')\n",
    "\n",
    "coef = np.polyfit(tmp['trend'],tmp['d50'],1)\n",
    "poly1d_fn = np.poly1d(coef) \n",
    "plt.plot(tmp['trend'], poly1d_fn(tmp['trend']), '-k')\n",
    "\n",
    "r2 = np.min(np.corrcoef(tmp['d50'], tmp['trend']))**2\n",
    "plt.text(.25,.16,r'$R^2$='+str(r2)[:4])\n",
    "\n",
    "plt.subplot(233)\n",
    "plt.plot(tmp['mstr'],tmp['d50'],'.')\n",
    "\n",
    "coef = np.polyfit(tmp['mstr'],tmp['d50'],1)\n",
    "poly1d_fn = np.poly1d(coef) \n",
    "plt.plot(tmp['mstr'], poly1d_fn(tmp['mstr']), '-k')\n",
    "\n",
    "r2 = np.min(np.corrcoef(tmp['d50'], tmp['mstr']))**2\n",
    "plt.text(.25,.16,r'$R^2$='+str(r2)[:4])\n",
    "\n",
    "\n",
    "plt.subplot(234)\n",
    "plt.plot(tmp['hs_mean'],tmp['d50'],'.')\n",
    "\n",
    "coef = np.polyfit(tmp['hs_mean'],tmp['d50'],1)\n",
    "poly1d_fn = np.poly1d(coef) \n",
    "plt.plot(tmp['hs_mean'], poly1d_fn(tmp['hs_mean']), '-k')\n",
    "\n",
    "r2 = np.min(np.corrcoef(tmp['d50'], tmp['hs_mean']))**2\n",
    "plt.text(.25,.16,r'$R^2$='+str(r2)[:4])\n",
    "\n",
    "plt.subplot(235)\n",
    "plt.plot(tmp['tp'],tmp['d50'],'.')\n",
    "\n",
    "coef = np.polyfit(tmp['tp'],tmp['d50'],1)\n",
    "poly1d_fn = np.poly1d(coef) \n",
    "plt.plot(tmp['tp'], poly1d_fn(tmp['tp']), '-k')\n",
    "\n",
    "r2 = np.min(np.corrcoef(tmp['d50'], tmp['tp']))**2\n",
    "plt.text(.25,.16,r'$R^2$='+str(r2)[:4])\n",
    "\n",
    "plt.subplot(236)\n",
    "plt.plot(tmp['dir'],tmp['d50'],'.')\n",
    "\n",
    "coef = np.polyfit(tmp['dir'],tmp['d50'],1)\n",
    "poly1d_fn = np.poly1d(coef) \n",
    "plt.plot(tmp['dir'], poly1d_fn(tmp['dir']), '-k')\n",
    "\n",
    "r2 = np.min(np.corrcoef(tmp['d50'], tmp['dir']))**2\n",
    "plt.text(.25,.16,r'$R^2$='+str(r2)[:4])"
   ]
  },
  {
   "cell_type": "code",
   "execution_count": null,
   "id": "b685177b",
   "metadata": {},
   "outputs": [],
   "source": []
  },
  {
   "cell_type": "code",
   "execution_count": 54,
   "id": "c8cfe400",
   "metadata": {},
   "outputs": [],
   "source": [
    "# tmp.keys()"
   ]
  },
  {
   "cell_type": "code",
   "execution_count": 55,
   "id": "bfeff196",
   "metadata": {},
   "outputs": [
    {
     "data": {
      "text/plain": [
       "0.0015"
      ]
     },
     "execution_count": 55,
     "metadata": {},
     "output_type": "execute_result"
    }
   ],
   "source": [
    "join_dist"
   ]
  },
  {
   "cell_type": "code",
   "execution_count": 56,
   "id": "9eaa679d",
   "metadata": {},
   "outputs": [
    {
     "data": {
      "text/plain": [
       "5104"
      ]
     },
     "execution_count": 56,
     "metadata": {},
     "output_type": "execute_result"
    }
   ],
   "source": [
    "ind = np.where(tmp['distance']<join_dist)[0]\n",
    "tmp = tmp.iloc[ind]\n",
    "len(tmp)"
   ]
  },
  {
   "cell_type": "code",
   "execution_count": 57,
   "id": "428c164f",
   "metadata": {},
   "outputs": [],
   "source": [
    "tmp['latitude']=np.mean(tmp['latitude_right'],axis=1)\n",
    "tmp['longitude']=np.mean(tmp['longitude_right'],axis=1)\n",
    "tmp=tmp.drop(columns=['latitude_right','longitude_right'])"
   ]
  },
  {
   "cell_type": "code",
   "execution_count": 58,
   "id": "ad694fa9",
   "metadata": {},
   "outputs": [],
   "source": [
    "# tmp['latitude']=np.mean(tmp['latitude_right'],axis=1)\n",
    "# tmp['longitude']=np.mean(tmp['longitude_right'],axis=1)\n",
    "# tmp=tmp.drop(columns=['latitude_right','longitude_right'])"
   ]
  },
  {
   "cell_type": "code",
   "execution_count": 59,
   "id": "ef6a4e55",
   "metadata": {},
   "outputs": [
    {
     "data": {
      "text/plain": [
       "Index(['hs_max', 'hs_mean', 'dir', 'tp', 'latitude_left', 'latitude_left',\n",
       "       'longitude_left', 'longitude_left', 'quality_flag_left',\n",
       "       'quality_flag_right', 'd50', 'width_ci_average', 'beach_slope_average',\n",
       "       'beach_slope_median', 'sl_points_average', 'mstr', 'prc_mstr_obs',\n",
       "       'min_tide_obs', 'max_tide_obs', 'site_id', 'beach_slope',\n",
       "       'lower_conf_bound', 'upper_conf_bound', 'width_ci', 'sl_points',\n",
       "       'trend', 'distance', 'latitude', 'longitude'],\n",
       "      dtype='object')"
      ]
     },
     "execution_count": 59,
     "metadata": {},
     "output_type": "execute_result"
    }
   ],
   "source": [
    "tmp.keys()"
   ]
  },
  {
   "cell_type": "code",
   "execution_count": 60,
   "id": "164fba61",
   "metadata": {},
   "outputs": [],
   "source": [
    "# # try:\n",
    "# map = folium.Map(\n",
    "#                 location=[np.mean(tmp['latitude']), np.mean(tmp['longitude'])], \n",
    "#                 zoom_start=4, \n",
    "#                 control_scale=True,\n",
    "#                 tiles='stamentoner',#tiles=\"Stamen Terrain\", \n",
    "# )\n",
    "\n",
    "# for counter, (lat,lon) in enumerate(zip(tmp['latitude'],tmp['longitude'])):\n",
    "#     folium.CircleMarker(location=[lat, lon],\n",
    "#                                 radius = 3,\n",
    "#                                 fill=True, # Set fill to True\n",
    "#                                 color = 'magenta',\n",
    "#                                 opacity=0.1,\n",
    "#                                 fill_opacity=0.7).add_to(map)\n",
    "    \n",
    "# map"
   ]
  },
  {
   "cell_type": "code",
   "execution_count": null,
   "id": "371136d5",
   "metadata": {},
   "outputs": [],
   "source": []
  },
  {
   "cell_type": "code",
   "execution_count": 385,
   "id": "db92e675",
   "metadata": {},
   "outputs": [],
   "source": [
    "tmp.to_csv('model_data_out/ML_slope_wave_atlantic_2022-05-18_'+dataset+'_'+str(join_dist)+'_'+merge+'_'+choice+'.csv')"
   ]
  },
  {
   "cell_type": "code",
   "execution_count": null,
   "id": "890104b4",
   "metadata": {},
   "outputs": [],
   "source": []
  },
  {
   "cell_type": "code",
   "execution_count": null,
   "id": "657bf656",
   "metadata": {},
   "outputs": [],
   "source": []
  }
 ],
 "metadata": {
  "kernelspec": {
   "display_name": "Python 3 (ipykernel)",
   "language": "python",
   "name": "python3"
  },
  "language_info": {
   "codemirror_mode": {
    "name": "ipython",
    "version": 3
   },
   "file_extension": ".py",
   "mimetype": "text/x-python",
   "name": "python",
   "nbconvert_exporter": "python",
   "pygments_lexer": "ipython3",
   "version": "3.10.4"
  }
 },
 "nbformat": 4,
 "nbformat_minor": 5
}
