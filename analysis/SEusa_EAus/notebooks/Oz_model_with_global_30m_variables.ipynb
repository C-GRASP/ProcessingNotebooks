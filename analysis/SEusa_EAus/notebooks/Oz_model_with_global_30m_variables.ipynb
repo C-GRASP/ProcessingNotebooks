{
 "cells": [
  {
   "cell_type": "code",
   "execution_count": null,
   "id": "14124ffe",
   "metadata": {},
   "outputs": [],
   "source": []
  },
  {
   "cell_type": "code",
   "execution_count": 1,
   "id": "629c54b4",
   "metadata": {},
   "outputs": [],
   "source": [
    "import pandas as pd\n",
    "import matplotlib.pyplot as plt\n",
    "import numpy as np\n",
    "\n",
    "from sklearn.model_selection import train_test_split\n",
    "from sklearn import ensemble\n",
    "from sklearn.metrics import mean_squared_error\n",
    "from sklearn.inspection import permutation_importance\n",
    "\n",
    "from pingouin import partial_corr\n",
    "import pingouin as pg\n",
    "from sklearn.model_selection import RepeatedKFold, cross_val_score\n",
    "import seaborn as sns\n",
    "from sklearn import preprocessing\n",
    "from sklearn.model_selection import GridSearchCV\n",
    "\n",
    "import geopandas as gpd\n",
    "from geopandas.tools import sjoin"
   ]
  },
  {
   "cell_type": "code",
   "execution_count": 33,
   "id": "c1683f6d",
   "metadata": {},
   "outputs": [],
   "source": [
    "from shapely.geometry import Polygon, box\n"
   ]
  },
  {
   "cell_type": "code",
   "execution_count": 2,
   "id": "709ae457",
   "metadata": {},
   "outputs": [
    {
     "name": "stderr",
     "output_type": "stream",
     "text": [
      "/home/marda/anaconda3/envs/cgrasp/lib/python3.10/site-packages/outdated/utils.py:14: OutdatedPackageWarning: The package pingouin is out of date. Your version is 0.5.1, the latest is 0.5.2.\n",
      "Set the environment variable OUTDATED_IGNORE=1 to disable these warnings.\n",
      "  return warn(\n"
     ]
    }
   ],
   "source": [
    "dfEAus = pd.read_csv('../model_data/dataset_Australia_East_coast_nostrat.csv')"
   ]
  },
  {
   "cell_type": "code",
   "execution_count": 4,
   "id": "5af661b5",
   "metadata": {},
   "outputs": [],
   "source": [
    "dfEAus = dfEAus[['latitude', 'longitude', 'd50',\n",
    "        'beach_slope_average', 'mstr', \n",
    "        'hs_max', 'hs_mean', 'dir', 'tp']].copy()"
   ]
  },
  {
   "cell_type": "code",
   "execution_count": 7,
   "id": "7d53279b",
   "metadata": {},
   "outputs": [],
   "source": [
    "slopes_dc = gpd.read_file('/media/marda/TWOTB1/USGS/SOFTWARE/Projects/NOPP/global_slope_dc.geojson')"
   ]
  },
  {
   "cell_type": "code",
   "execution_count": 8,
   "id": "c4db40e9",
   "metadata": {},
   "outputs": [],
   "source": [
    "slopes_dc[\"geometry\"] = slopes_dc[\"geometry\"].to_crs(epsg=4326)"
   ]
  },
  {
   "cell_type": "code",
   "execution_count": 12,
   "id": "053417a5",
   "metadata": {},
   "outputs": [],
   "source": [
    "slopes_dc = slopes_dc.rename(columns={\"Longitude\": \"longitude\", \"Latitude\": \"latitude\"})"
   ]
  },
  {
   "cell_type": "code",
   "execution_count": null,
   "id": "b284860b",
   "metadata": {},
   "outputs": [],
   "source": []
  },
  {
   "cell_type": "code",
   "execution_count": 9,
   "id": "2dc26624",
   "metadata": {},
   "outputs": [],
   "source": [
    "dfEAus = gpd.GeoDataFrame(\n",
    "    dfEAus, geometry=gpd.points_from_xy(dfEAus.longitude, dfEAus.latitude))"
   ]
  },
  {
   "cell_type": "code",
   "execution_count": 10,
   "id": "35953962",
   "metadata": {},
   "outputs": [
    {
     "data": {
      "text/html": [
       "<div>\n",
       "<style scoped>\n",
       "    .dataframe tbody tr th:only-of-type {\n",
       "        vertical-align: middle;\n",
       "    }\n",
       "\n",
       "    .dataframe tbody tr th {\n",
       "        vertical-align: top;\n",
       "    }\n",
       "\n",
       "    .dataframe thead th {\n",
       "        text-align: right;\n",
       "    }\n",
       "</style>\n",
       "<table border=\"1\" class=\"dataframe\">\n",
       "  <thead>\n",
       "    <tr style=\"text-align: right;\">\n",
       "      <th></th>\n",
       "      <th>latitude</th>\n",
       "      <th>longitude</th>\n",
       "      <th>d50</th>\n",
       "      <th>beach_slope_average</th>\n",
       "      <th>mstr</th>\n",
       "      <th>hs_max</th>\n",
       "      <th>hs_mean</th>\n",
       "      <th>dir</th>\n",
       "      <th>tp</th>\n",
       "      <th>geometry</th>\n",
       "    </tr>\n",
       "  </thead>\n",
       "  <tbody>\n",
       "    <tr>\n",
       "      <th>0</th>\n",
       "      <td>-25.854332</td>\n",
       "      <td>153.078347</td>\n",
       "      <td>0.29525</td>\n",
       "      <td>0.060145</td>\n",
       "      <td>2.068996</td>\n",
       "      <td>4.754424</td>\n",
       "      <td>1.565813</td>\n",
       "      <td>112.555036</td>\n",
       "      <td>8.719285</td>\n",
       "      <td>POINT (153.07835 -25.85433)</td>\n",
       "    </tr>\n",
       "    <tr>\n",
       "      <th>1</th>\n",
       "      <td>-25.932753</td>\n",
       "      <td>153.134103</td>\n",
       "      <td>0.29525</td>\n",
       "      <td>0.082709</td>\n",
       "      <td>2.068996</td>\n",
       "      <td>4.754424</td>\n",
       "      <td>1.565813</td>\n",
       "      <td>112.555036</td>\n",
       "      <td>8.719285</td>\n",
       "      <td>POINT (153.13410 -25.93275)</td>\n",
       "    </tr>\n",
       "    <tr>\n",
       "      <th>2</th>\n",
       "      <td>-26.008686</td>\n",
       "      <td>153.153149</td>\n",
       "      <td>0.27168</td>\n",
       "      <td>0.060027</td>\n",
       "      <td>2.058574</td>\n",
       "      <td>4.754424</td>\n",
       "      <td>1.565813</td>\n",
       "      <td>112.555036</td>\n",
       "      <td>8.719285</td>\n",
       "      <td>POINT (153.15315 -26.00869)</td>\n",
       "    </tr>\n",
       "    <tr>\n",
       "      <th>3</th>\n",
       "      <td>-26.157750</td>\n",
       "      <td>153.097286</td>\n",
       "      <td>0.27168</td>\n",
       "      <td>0.054012</td>\n",
       "      <td>2.050147</td>\n",
       "      <td>4.754424</td>\n",
       "      <td>1.565813</td>\n",
       "      <td>112.555036</td>\n",
       "      <td>8.719285</td>\n",
       "      <td>POINT (153.09729 -26.15775)</td>\n",
       "    </tr>\n",
       "    <tr>\n",
       "      <th>4</th>\n",
       "      <td>-26.311676</td>\n",
       "      <td>153.068419</td>\n",
       "      <td>0.27168</td>\n",
       "      <td>0.049932</td>\n",
       "      <td>2.045488</td>\n",
       "      <td>4.754424</td>\n",
       "      <td>1.565813</td>\n",
       "      <td>112.555036</td>\n",
       "      <td>8.719285</td>\n",
       "      <td>POINT (153.06842 -26.31168)</td>\n",
       "    </tr>\n",
       "  </tbody>\n",
       "</table>\n",
       "</div>"
      ],
      "text/plain": [
       "    latitude   longitude      d50  beach_slope_average      mstr    hs_max  \\\n",
       "0 -25.854332  153.078347  0.29525             0.060145  2.068996  4.754424   \n",
       "1 -25.932753  153.134103  0.29525             0.082709  2.068996  4.754424   \n",
       "2 -26.008686  153.153149  0.27168             0.060027  2.058574  4.754424   \n",
       "3 -26.157750  153.097286  0.27168             0.054012  2.050147  4.754424   \n",
       "4 -26.311676  153.068419  0.27168             0.049932  2.045488  4.754424   \n",
       "\n",
       "    hs_mean         dir        tp                     geometry  \n",
       "0  1.565813  112.555036  8.719285  POINT (153.07835 -25.85433)  \n",
       "1  1.565813  112.555036  8.719285  POINT (153.13410 -25.93275)  \n",
       "2  1.565813  112.555036  8.719285  POINT (153.15315 -26.00869)  \n",
       "3  1.565813  112.555036  8.719285  POINT (153.09729 -26.15775)  \n",
       "4  1.565813  112.555036  8.719285  POINT (153.06842 -26.31168)  "
      ]
     },
     "execution_count": 10,
     "metadata": {},
     "output_type": "execute_result"
    }
   ],
   "source": [
    "dfEAus.head()"
   ]
  },
  {
   "cell_type": "code",
   "execution_count": 13,
   "id": "ca49be67",
   "metadata": {},
   "outputs": [
    {
     "data": {
      "text/html": [
       "<div>\n",
       "<style scoped>\n",
       "    .dataframe tbody tr th:only-of-type {\n",
       "        vertical-align: middle;\n",
       "    }\n",
       "\n",
       "    .dataframe tbody tr th {\n",
       "        vertical-align: top;\n",
       "    }\n",
       "\n",
       "    .dataframe thead th {\n",
       "        text-align: right;\n",
       "    }\n",
       "</style>\n",
       "<table border=\"1\" class=\"dataframe\">\n",
       "  <thead>\n",
       "    <tr style=\"text-align: right;\">\n",
       "      <th></th>\n",
       "      <th>longitude</th>\n",
       "      <th>latitude</th>\n",
       "      <th>dc</th>\n",
       "      <th>slope</th>\n",
       "      <th>error_code</th>\n",
       "      <th>geometry</th>\n",
       "    </tr>\n",
       "  </thead>\n",
       "  <tbody>\n",
       "    <tr>\n",
       "      <th>0</th>\n",
       "      <td>-26.3728</td>\n",
       "      <td>-58.4052</td>\n",
       "      <td>20.485961</td>\n",
       "      <td>0.011182</td>\n",
       "      <td>6</td>\n",
       "      <td>POINT (-26.37280 -58.40520)</td>\n",
       "    </tr>\n",
       "    <tr>\n",
       "      <th>1</th>\n",
       "      <td>-26.3890</td>\n",
       "      <td>-58.4079</td>\n",
       "      <td>20.485961</td>\n",
       "      <td>0.011312</td>\n",
       "      <td>6</td>\n",
       "      <td>POINT (-26.38900 -58.40790)</td>\n",
       "    </tr>\n",
       "    <tr>\n",
       "      <th>2</th>\n",
       "      <td>-26.4057</td>\n",
       "      <td>-58.4098</td>\n",
       "      <td>20.485961</td>\n",
       "      <td>0.010914</td>\n",
       "      <td>6</td>\n",
       "      <td>POINT (-26.40570 -58.40980)</td>\n",
       "    </tr>\n",
       "    <tr>\n",
       "      <th>3</th>\n",
       "      <td>-26.4227</td>\n",
       "      <td>-58.4112</td>\n",
       "      <td>20.485961</td>\n",
       "      <td>0.010500</td>\n",
       "      <td>6</td>\n",
       "      <td>POINT (-26.42270 -58.41120)</td>\n",
       "    </tr>\n",
       "    <tr>\n",
       "      <th>4</th>\n",
       "      <td>-26.4396</td>\n",
       "      <td>-58.4123</td>\n",
       "      <td>20.485961</td>\n",
       "      <td>3.269054</td>\n",
       "      <td>0</td>\n",
       "      <td>POINT (-26.43960 -58.41230)</td>\n",
       "    </tr>\n",
       "  </tbody>\n",
       "</table>\n",
       "</div>"
      ],
      "text/plain": [
       "   longitude  latitude         dc     slope  error_code  \\\n",
       "0   -26.3728  -58.4052  20.485961  0.011182           6   \n",
       "1   -26.3890  -58.4079  20.485961  0.011312           6   \n",
       "2   -26.4057  -58.4098  20.485961  0.010914           6   \n",
       "3   -26.4227  -58.4112  20.485961  0.010500           6   \n",
       "4   -26.4396  -58.4123  20.485961  3.269054           0   \n",
       "\n",
       "                      geometry  \n",
       "0  POINT (-26.37280 -58.40520)  \n",
       "1  POINT (-26.38900 -58.40790)  \n",
       "2  POINT (-26.40570 -58.40980)  \n",
       "3  POINT (-26.42270 -58.41120)  \n",
       "4  POINT (-26.43960 -58.41230)  "
      ]
     },
     "execution_count": 13,
     "metadata": {},
     "output_type": "execute_result"
    }
   ],
   "source": [
    "slopes_dc.head()"
   ]
  },
  {
   "cell_type": "code",
   "execution_count": 15,
   "id": "71bacedd",
   "metadata": {},
   "outputs": [
    {
     "data": {
      "text/plain": [
       "256"
      ]
     },
     "execution_count": 15,
     "metadata": {},
     "output_type": "execute_result"
    }
   ],
   "source": [
    "len(dfEAus)"
   ]
  },
  {
   "cell_type": "code",
   "execution_count": 16,
   "id": "26fcdbbd",
   "metadata": {},
   "outputs": [
    {
     "name": "stderr",
     "output_type": "stream",
     "text": [
      "/tmp/ipykernel_41459/1652534034.py:1: UserWarning: CRS mismatch between the CRS of left geometries and the CRS of right geometries.\n",
      "Use `to_crs()` to reproject one of the input geometries to match the CRS of the other.\n",
      "\n",
      "Left CRS: None\n",
      "Right CRS: EPSG:4326\n",
      "\n",
      "  merged_data = gpd.sjoin_nearest(dfEAus, slopes_dc,distance_col=\"distances\")\n",
      "/home/marda/anaconda3/envs/cgrasp/lib/python3.10/site-packages/geopandas/array.py:341: UserWarning: Geometry is in a geographic CRS. Results from 'sjoin_nearest' are likely incorrect. Use 'GeoSeries.to_crs()' to re-project geometries to a projected CRS before this operation.\n",
      "\n",
      "  warnings.warn(\n"
     ]
    }
   ],
   "source": [
    "merged_data = gpd.sjoin_nearest(dfEAus, slopes_dc,distance_col=\"distances\")"
   ]
  },
  {
   "cell_type": "code",
   "execution_count": 17,
   "id": "39a1319f",
   "metadata": {},
   "outputs": [
    {
     "data": {
      "text/html": [
       "<div>\n",
       "<style scoped>\n",
       "    .dataframe tbody tr th:only-of-type {\n",
       "        vertical-align: middle;\n",
       "    }\n",
       "\n",
       "    .dataframe tbody tr th {\n",
       "        vertical-align: top;\n",
       "    }\n",
       "\n",
       "    .dataframe thead th {\n",
       "        text-align: right;\n",
       "    }\n",
       "</style>\n",
       "<table border=\"1\" class=\"dataframe\">\n",
       "  <thead>\n",
       "    <tr style=\"text-align: right;\">\n",
       "      <th></th>\n",
       "      <th>latitude_left</th>\n",
       "      <th>longitude_left</th>\n",
       "      <th>d50</th>\n",
       "      <th>beach_slope_average</th>\n",
       "      <th>mstr</th>\n",
       "      <th>hs_max</th>\n",
       "      <th>hs_mean</th>\n",
       "      <th>dir</th>\n",
       "      <th>tp</th>\n",
       "      <th>geometry</th>\n",
       "      <th>index_right</th>\n",
       "      <th>longitude_right</th>\n",
       "      <th>latitude_right</th>\n",
       "      <th>dc</th>\n",
       "      <th>slope</th>\n",
       "      <th>error_code</th>\n",
       "      <th>distances</th>\n",
       "    </tr>\n",
       "  </thead>\n",
       "  <tbody>\n",
       "    <tr>\n",
       "      <th>0</th>\n",
       "      <td>-25.854332</td>\n",
       "      <td>153.078347</td>\n",
       "      <td>0.29525</td>\n",
       "      <td>0.060145</td>\n",
       "      <td>2.068996</td>\n",
       "      <td>4.754424</td>\n",
       "      <td>1.565813</td>\n",
       "      <td>112.555036</td>\n",
       "      <td>8.719285</td>\n",
       "      <td>POINT (153.07835 -25.85433)</td>\n",
       "      <td>111741</td>\n",
       "      <td>153.077</td>\n",
       "      <td>-25.8541</td>\n",
       "      <td>12.368891</td>\n",
       "      <td>0.002786</td>\n",
       "      <td>2</td>\n",
       "      <td>0.001366</td>\n",
       "    </tr>\n",
       "    <tr>\n",
       "      <th>1</th>\n",
       "      <td>-25.932753</td>\n",
       "      <td>153.134103</td>\n",
       "      <td>0.29525</td>\n",
       "      <td>0.082709</td>\n",
       "      <td>2.068996</td>\n",
       "      <td>4.754424</td>\n",
       "      <td>1.565813</td>\n",
       "      <td>112.555036</td>\n",
       "      <td>8.719285</td>\n",
       "      <td>POINT (153.13410 -25.93275)</td>\n",
       "      <td>111730</td>\n",
       "      <td>153.129</td>\n",
       "      <td>-25.9389</td>\n",
       "      <td>12.368891</td>\n",
       "      <td>0.003187</td>\n",
       "      <td>6</td>\n",
       "      <td>0.007989</td>\n",
       "    </tr>\n",
       "    <tr>\n",
       "      <th>2</th>\n",
       "      <td>-26.008686</td>\n",
       "      <td>153.153149</td>\n",
       "      <td>0.27168</td>\n",
       "      <td>0.060027</td>\n",
       "      <td>2.058574</td>\n",
       "      <td>4.754424</td>\n",
       "      <td>1.565813</td>\n",
       "      <td>112.555036</td>\n",
       "      <td>8.719285</td>\n",
       "      <td>POINT (153.15315 -26.00869)</td>\n",
       "      <td>111714</td>\n",
       "      <td>153.151</td>\n",
       "      <td>-26.0114</td>\n",
       "      <td>12.368891</td>\n",
       "      <td>0.012545</td>\n",
       "      <td>0</td>\n",
       "      <td>0.003462</td>\n",
       "    </tr>\n",
       "    <tr>\n",
       "      <th>3</th>\n",
       "      <td>-26.157750</td>\n",
       "      <td>153.097286</td>\n",
       "      <td>0.27168</td>\n",
       "      <td>0.054012</td>\n",
       "      <td>2.050147</td>\n",
       "      <td>4.754424</td>\n",
       "      <td>1.565813</td>\n",
       "      <td>112.555036</td>\n",
       "      <td>8.719285</td>\n",
       "      <td>POINT (153.09729 -26.15775)</td>\n",
       "      <td>111697</td>\n",
       "      <td>153.096</td>\n",
       "      <td>-26.1568</td>\n",
       "      <td>12.368891</td>\n",
       "      <td>0.010452</td>\n",
       "      <td>6</td>\n",
       "      <td>0.001599</td>\n",
       "    </tr>\n",
       "    <tr>\n",
       "      <th>4</th>\n",
       "      <td>-26.311676</td>\n",
       "      <td>153.068419</td>\n",
       "      <td>0.27168</td>\n",
       "      <td>0.049932</td>\n",
       "      <td>2.045488</td>\n",
       "      <td>4.754424</td>\n",
       "      <td>1.565813</td>\n",
       "      <td>112.555036</td>\n",
       "      <td>8.719285</td>\n",
       "      <td>POINT (153.06842 -26.31168)</td>\n",
       "      <td>111680</td>\n",
       "      <td>153.063</td>\n",
       "      <td>-26.3070</td>\n",
       "      <td>12.368891</td>\n",
       "      <td>0.007531</td>\n",
       "      <td>6</td>\n",
       "      <td>0.007157</td>\n",
       "    </tr>\n",
       "    <tr>\n",
       "      <th>...</th>\n",
       "      <td>...</td>\n",
       "      <td>...</td>\n",
       "      <td>...</td>\n",
       "      <td>...</td>\n",
       "      <td>...</td>\n",
       "      <td>...</td>\n",
       "      <td>...</td>\n",
       "      <td>...</td>\n",
       "      <td>...</td>\n",
       "      <td>...</td>\n",
       "      <td>...</td>\n",
       "      <td>...</td>\n",
       "      <td>...</td>\n",
       "      <td>...</td>\n",
       "      <td>...</td>\n",
       "      <td>...</td>\n",
       "      <td>...</td>\n",
       "    </tr>\n",
       "    <tr>\n",
       "      <th>251</th>\n",
       "      <td>-37.647750</td>\n",
       "      <td>149.699574</td>\n",
       "      <td>0.31644</td>\n",
       "      <td>0.083394</td>\n",
       "      <td>1.551189</td>\n",
       "      <td>5.531577</td>\n",
       "      <td>1.781957</td>\n",
       "      <td>141.074429</td>\n",
       "      <td>8.642758</td>\n",
       "      <td>POINT (149.69957 -37.64775)</td>\n",
       "      <td>73586</td>\n",
       "      <td>149.697</td>\n",
       "      <td>-37.6514</td>\n",
       "      <td>14.010602</td>\n",
       "      <td>0.013192</td>\n",
       "      <td>0</td>\n",
       "      <td>0.004466</td>\n",
       "    </tr>\n",
       "    <tr>\n",
       "      <th>252</th>\n",
       "      <td>-37.664589</td>\n",
       "      <td>149.682173</td>\n",
       "      <td>0.25525</td>\n",
       "      <td>0.065000</td>\n",
       "      <td>1.551189</td>\n",
       "      <td>5.531577</td>\n",
       "      <td>1.781957</td>\n",
       "      <td>141.074429</td>\n",
       "      <td>8.642758</td>\n",
       "      <td>POINT (149.68217 -37.66459)</td>\n",
       "      <td>73584</td>\n",
       "      <td>149.684</td>\n",
       "      <td>-37.6660</td>\n",
       "      <td>14.010602</td>\n",
       "      <td>0.012540</td>\n",
       "      <td>0</td>\n",
       "      <td>0.002309</td>\n",
       "    </tr>\n",
       "    <tr>\n",
       "      <th>253</th>\n",
       "      <td>-37.699235</td>\n",
       "      <td>149.621151</td>\n",
       "      <td>0.40332</td>\n",
       "      <td>0.072287</td>\n",
       "      <td>1.531362</td>\n",
       "      <td>5.672305</td>\n",
       "      <td>1.867628</td>\n",
       "      <td>157.689644</td>\n",
       "      <td>8.776856</td>\n",
       "      <td>POINT (149.62115 -37.69924)</td>\n",
       "      <td>73577</td>\n",
       "      <td>149.623</td>\n",
       "      <td>-37.6988</td>\n",
       "      <td>14.010602</td>\n",
       "      <td>0.013755</td>\n",
       "      <td>6</td>\n",
       "      <td>0.001900</td>\n",
       "    </tr>\n",
       "    <tr>\n",
       "      <th>254</th>\n",
       "      <td>-37.725613</td>\n",
       "      <td>149.567487</td>\n",
       "      <td>0.24656</td>\n",
       "      <td>0.058896</td>\n",
       "      <td>1.519485</td>\n",
       "      <td>5.672305</td>\n",
       "      <td>1.867628</td>\n",
       "      <td>157.689644</td>\n",
       "      <td>8.776856</td>\n",
       "      <td>POINT (149.56749 -37.72561)</td>\n",
       "      <td>73571</td>\n",
       "      <td>149.569</td>\n",
       "      <td>-37.7252</td>\n",
       "      <td>14.010602</td>\n",
       "      <td>0.013558</td>\n",
       "      <td>0</td>\n",
       "      <td>0.001568</td>\n",
       "    </tr>\n",
       "    <tr>\n",
       "      <th>255</th>\n",
       "      <td>-37.736678</td>\n",
       "      <td>149.528543</td>\n",
       "      <td>0.22531</td>\n",
       "      <td>0.083674</td>\n",
       "      <td>1.519485</td>\n",
       "      <td>5.672305</td>\n",
       "      <td>1.867628</td>\n",
       "      <td>157.689644</td>\n",
       "      <td>8.776856</td>\n",
       "      <td>POINT (149.52854 -37.73668)</td>\n",
       "      <td>73567</td>\n",
       "      <td>149.527</td>\n",
       "      <td>-37.7381</td>\n",
       "      <td>14.010602</td>\n",
       "      <td>0.010348</td>\n",
       "      <td>0</td>\n",
       "      <td>0.002098</td>\n",
       "    </tr>\n",
       "  </tbody>\n",
       "</table>\n",
       "<p>256 rows × 17 columns</p>\n",
       "</div>"
      ],
      "text/plain": [
       "     latitude_left  longitude_left      d50  beach_slope_average      mstr  \\\n",
       "0       -25.854332      153.078347  0.29525             0.060145  2.068996   \n",
       "1       -25.932753      153.134103  0.29525             0.082709  2.068996   \n",
       "2       -26.008686      153.153149  0.27168             0.060027  2.058574   \n",
       "3       -26.157750      153.097286  0.27168             0.054012  2.050147   \n",
       "4       -26.311676      153.068419  0.27168             0.049932  2.045488   \n",
       "..             ...             ...      ...                  ...       ...   \n",
       "251     -37.647750      149.699574  0.31644             0.083394  1.551189   \n",
       "252     -37.664589      149.682173  0.25525             0.065000  1.551189   \n",
       "253     -37.699235      149.621151  0.40332             0.072287  1.531362   \n",
       "254     -37.725613      149.567487  0.24656             0.058896  1.519485   \n",
       "255     -37.736678      149.528543  0.22531             0.083674  1.519485   \n",
       "\n",
       "       hs_max   hs_mean         dir        tp                     geometry  \\\n",
       "0    4.754424  1.565813  112.555036  8.719285  POINT (153.07835 -25.85433)   \n",
       "1    4.754424  1.565813  112.555036  8.719285  POINT (153.13410 -25.93275)   \n",
       "2    4.754424  1.565813  112.555036  8.719285  POINT (153.15315 -26.00869)   \n",
       "3    4.754424  1.565813  112.555036  8.719285  POINT (153.09729 -26.15775)   \n",
       "4    4.754424  1.565813  112.555036  8.719285  POINT (153.06842 -26.31168)   \n",
       "..        ...       ...         ...       ...                          ...   \n",
       "251  5.531577  1.781957  141.074429  8.642758  POINT (149.69957 -37.64775)   \n",
       "252  5.531577  1.781957  141.074429  8.642758  POINT (149.68217 -37.66459)   \n",
       "253  5.672305  1.867628  157.689644  8.776856  POINT (149.62115 -37.69924)   \n",
       "254  5.672305  1.867628  157.689644  8.776856  POINT (149.56749 -37.72561)   \n",
       "255  5.672305  1.867628  157.689644  8.776856  POINT (149.52854 -37.73668)   \n",
       "\n",
       "     index_right  longitude_right  latitude_right         dc     slope  \\\n",
       "0         111741          153.077        -25.8541  12.368891  0.002786   \n",
       "1         111730          153.129        -25.9389  12.368891  0.003187   \n",
       "2         111714          153.151        -26.0114  12.368891  0.012545   \n",
       "3         111697          153.096        -26.1568  12.368891  0.010452   \n",
       "4         111680          153.063        -26.3070  12.368891  0.007531   \n",
       "..           ...              ...             ...        ...       ...   \n",
       "251        73586          149.697        -37.6514  14.010602  0.013192   \n",
       "252        73584          149.684        -37.6660  14.010602  0.012540   \n",
       "253        73577          149.623        -37.6988  14.010602  0.013755   \n",
       "254        73571          149.569        -37.7252  14.010602  0.013558   \n",
       "255        73567          149.527        -37.7381  14.010602  0.010348   \n",
       "\n",
       "     error_code  distances  \n",
       "0             2   0.001366  \n",
       "1             6   0.007989  \n",
       "2             0   0.003462  \n",
       "3             6   0.001599  \n",
       "4             6   0.007157  \n",
       "..          ...        ...  \n",
       "251           0   0.004466  \n",
       "252           0   0.002309  \n",
       "253           6   0.001900  \n",
       "254           0   0.001568  \n",
       "255           0   0.002098  \n",
       "\n",
       "[256 rows x 17 columns]"
      ]
     },
     "execution_count": 17,
     "metadata": {},
     "output_type": "execute_result"
    }
   ],
   "source": [
    "merged_data"
   ]
  },
  {
   "cell_type": "code",
   "execution_count": 21,
   "id": "8f0ad850",
   "metadata": {},
   "outputs": [
    {
     "data": {
      "text/plain": [
       "[<matplotlib.lines.Line2D at 0x7f27d24cf580>]"
      ]
     },
     "execution_count": 21,
     "metadata": {},
     "output_type": "execute_result"
    },
    {
     "data": {
      "image/png": "[encoded data removed]",
      "text/plain": [
       "<Figure size 432x288 with 1 Axes>"
      ]
     },
     "metadata": {
      "needs_background": "light"
     },
     "output_type": "display_data"
    }
   ],
   "source": [
    "plt.plot(merged_data['d50'], merged_data['dc'], 'ko')"
   ]
  },
  {
   "cell_type": "code",
   "execution_count": 22,
   "id": "3924b3dd",
   "metadata": {},
   "outputs": [
    {
     "data": {
      "text/plain": [
       "[<matplotlib.lines.Line2D at 0x7f27d2685240>]"
      ]
     },
     "execution_count": 22,
     "metadata": {},
     "output_type": "execute_result"
    },
    {
     "data": {
      "image/png": "[encoded data removed]",
      "text/plain": [
       "<Figure size 432x288 with 1 Axes>"
      ]
     },
     "metadata": {
      "needs_background": "light"
     },
     "output_type": "display_data"
    }
   ],
   "source": [
    "plt.plot(merged_data['d50'], merged_data['slope'], 'ko')"
   ]
  },
  {
   "cell_type": "code",
   "execution_count": 24,
   "id": "0c7eadca",
   "metadata": {},
   "outputs": [
    {
     "data": {
      "text/plain": [
       "[<matplotlib.lines.Line2D at 0x7f27c81e2c80>]"
      ]
     },
     "execution_count": 24,
     "metadata": {},
     "output_type": "execute_result"
    },
    {
     "data": {
      "image/png": "[encoded data removed]",
      "text/plain": [
       "<Figure size 432x288 with 1 Axes>"
      ]
     },
     "metadata": {
      "needs_background": "light"
     },
     "output_type": "display_data"
    }
   ],
   "source": [
    "plt.plot(merged_data['d50'], merged_data['beach_slope_average'], 'ko')"
   ]
  },
  {
   "cell_type": "code",
   "execution_count": null,
   "id": "9559c3ca",
   "metadata": {},
   "outputs": [],
   "source": []
  },
  {
   "cell_type": "code",
   "execution_count": null,
   "id": "a2f0527f",
   "metadata": {},
   "outputs": [],
   "source": []
  },
  {
   "cell_type": "code",
   "execution_count": 25,
   "id": "2d564286",
   "metadata": {},
   "outputs": [],
   "source": [
    "aus30m = gpd.read_file('/media/marda/TWOTB1/USGS/SOFTWARE/Projects/NOPP/shoreline_data_Australia.geojson')\n",
    "aus30m[\"geometry\"] = aus30m[\"geometry\"].to_crs(epsg=4326)"
   ]
  },
  {
   "cell_type": "code",
   "execution_count": 65,
   "id": "cff47613",
   "metadata": {},
   "outputs": [],
   "source": [
    "# aus30m.head()"
   ]
  },
  {
   "cell_type": "code",
   "execution_count": 35,
   "id": "dfa4d042",
   "metadata": {},
   "outputs": [],
   "source": [
    "bounds = dfEAus.bounds"
   ]
  },
  {
   "cell_type": "code",
   "execution_count": 43,
   "id": "cb46da68",
   "metadata": {},
   "outputs": [],
   "source": [
    "# bounds.max()"
   ]
  },
  {
   "cell_type": "code",
   "execution_count": 44,
   "id": "40142880",
   "metadata": {},
   "outputs": [],
   "source": [
    "# bounds.min()"
   ]
  },
  {
   "cell_type": "code",
   "execution_count": 38,
   "id": "aa11e24f",
   "metadata": {},
   "outputs": [],
   "source": [
    "# minx, miny, maxx, maxy,\n",
    "b = box(149.528543, -37.736678, 153.637151, -25.854332)"
   ]
  },
  {
   "cell_type": "code",
   "execution_count": 39,
   "id": "b98a92db",
   "metadata": {},
   "outputs": [],
   "source": [
    "polygon = Polygon(list(b.exterior.coords))\n",
    "\n",
    "data_clipped = aus30m.clip(polygon)"
   ]
  },
  {
   "cell_type": "code",
   "execution_count": 66,
   "id": "11f4cc8e",
   "metadata": {},
   "outputs": [
    {
     "data": {
      "text/html": [
       "<div>\n",
       "<style scoped>\n",
       "    .dataframe tbody tr th:only-of-type {\n",
       "        vertical-align: middle;\n",
       "    }\n",
       "\n",
       "    .dataframe tbody tr th {\n",
       "        vertical-align: top;\n",
       "    }\n",
       "\n",
       "    .dataframe thead th {\n",
       "        text-align: right;\n",
       "    }\n",
       "</style>\n",
       "<table border=\"1\" class=\"dataframe\">\n",
       "  <thead>\n",
       "    <tr style=\"text-align: right;\">\n",
       "      <th></th>\n",
       "      <th>OBJECTID</th>\n",
       "      <th>MasterKey</th>\n",
       "      <th>RandomSort</th>\n",
       "      <th>MEAN_SIG_WAVEHEIGHT</th>\n",
       "      <th>TIDAL_RANGE</th>\n",
       "      <th>CHLOROPHYLL</th>\n",
       "      <th>TURBIDITY</th>\n",
       "      <th>TEMP_MOISTURE</th>\n",
       "      <th>EMU_PHYSICAL</th>\n",
       "      <th>REGIONAL_SINUOSITY</th>\n",
       "      <th>...</th>\n",
       "      <th>sinuosity_label</th>\n",
       "      <th>slope_label</th>\n",
       "      <th>tidal_label</th>\n",
       "      <th>turbid_label</th>\n",
       "      <th>wave_label</th>\n",
       "      <th>CSU_Descriptor</th>\n",
       "      <th>CSU_ID</th>\n",
       "      <th>OUTFLOW_DENSITY_RESCALED</th>\n",
       "      <th>Shape_Length</th>\n",
       "      <th>geometry</th>\n",
       "    </tr>\n",
       "  </thead>\n",
       "  <tbody>\n",
       "    <tr>\n",
       "      <th>2232</th>\n",
       "      <td>300767</td>\n",
       "      <td>300767</td>\n",
       "      <td>2.570800e+06</td>\n",
       "      <td>1.454914</td>\n",
       "      <td>1.764066</td>\n",
       "      <td>1.006219</td>\n",
       "      <td>0.1273</td>\n",
       "      <td>Warm Temperate Moist</td>\n",
       "      <td>Euhaline-Oxic-Warm to Very Warm</td>\n",
       "      <td>1.499636</td>\n",
       "      <td>...</td>\n",
       "      <td>straight</td>\n",
       "      <td>sloping</td>\n",
       "      <td>moderately tidal</td>\n",
       "      <td>moderately turbid</td>\n",
       "      <td>moderate wave energy</td>\n",
       "      <td>sloping, straight, medium erodibility, warm te...</td>\n",
       "      <td>58029</td>\n",
       "      <td>0.002392</td>\n",
       "      <td>0.007980</td>\n",
       "      <td>LINESTRING (151.50789 -33.23309, 151.50818 -33...</td>\n",
       "    </tr>\n",
       "    <tr>\n",
       "      <th>2233</th>\n",
       "      <td>300775</td>\n",
       "      <td>300775</td>\n",
       "      <td>1.455922e+06</td>\n",
       "      <td>1.454914</td>\n",
       "      <td>1.764066</td>\n",
       "      <td>0.869298</td>\n",
       "      <td>0.1273</td>\n",
       "      <td>Warm Temperate Moist</td>\n",
       "      <td>Euhaline-Oxic-Warm to Very Warm</td>\n",
       "      <td>3.100705</td>\n",
       "      <td>...</td>\n",
       "      <td>sinuous</td>\n",
       "      <td>steeply sloping</td>\n",
       "      <td>moderately tidal</td>\n",
       "      <td>moderately turbid</td>\n",
       "      <td>moderate wave energy</td>\n",
       "      <td>steeply sloping, sinuous, medium erodibility, ...</td>\n",
       "      <td>57768</td>\n",
       "      <td>0.002392</td>\n",
       "      <td>0.008080</td>\n",
       "      <td>LINESTRING (151.53476 -33.23913, 151.53418 -33...</td>\n",
       "    </tr>\n",
       "    <tr>\n",
       "      <th>2234</th>\n",
       "      <td>300778</td>\n",
       "      <td>300778</td>\n",
       "      <td>1.627740e+06</td>\n",
       "      <td>1.454914</td>\n",
       "      <td>1.764066</td>\n",
       "      <td>1.099951</td>\n",
       "      <td>0.1273</td>\n",
       "      <td>Warm Temperate Moist</td>\n",
       "      <td>Euhaline-Oxic-Warm to Very Warm</td>\n",
       "      <td>2.769717</td>\n",
       "      <td>...</td>\n",
       "      <td>sinuous</td>\n",
       "      <td>sloping</td>\n",
       "      <td>moderately tidal</td>\n",
       "      <td>moderately turbid</td>\n",
       "      <td>moderate wave energy</td>\n",
       "      <td>sloping, sinuous, high erodibility, warm tempe...</td>\n",
       "      <td>6825</td>\n",
       "      <td>0.002392</td>\n",
       "      <td>0.008689</td>\n",
       "      <td>LINESTRING (151.55549 -33.23596, 151.55522 -33...</td>\n",
       "    </tr>\n",
       "    <tr>\n",
       "      <th>2235</th>\n",
       "      <td>300777</td>\n",
       "      <td>300777</td>\n",
       "      <td>4.220471e+05</td>\n",
       "      <td>1.454914</td>\n",
       "      <td>1.764066</td>\n",
       "      <td>0.977596</td>\n",
       "      <td>0.1273</td>\n",
       "      <td>Warm Temperate Moist</td>\n",
       "      <td>Euhaline-Oxic-Warm to Very Warm</td>\n",
       "      <td>3.100705</td>\n",
       "      <td>...</td>\n",
       "      <td>sinuous</td>\n",
       "      <td>sloping</td>\n",
       "      <td>moderately tidal</td>\n",
       "      <td>moderately turbid</td>\n",
       "      <td>moderate wave energy</td>\n",
       "      <td>sloping, sinuous, medium erodibility, warm tem...</td>\n",
       "      <td>57690</td>\n",
       "      <td>0.002392</td>\n",
       "      <td>0.008474</td>\n",
       "      <td>LINESTRING (151.54758 -33.23302, 151.54743 -33...</td>\n",
       "    </tr>\n",
       "    <tr>\n",
       "      <th>2236</th>\n",
       "      <td>300826</td>\n",
       "      <td>300826</td>\n",
       "      <td>5.162680e+05</td>\n",
       "      <td>1.454914</td>\n",
       "      <td>1.764066</td>\n",
       "      <td>0.716648</td>\n",
       "      <td>0.1273</td>\n",
       "      <td>Warm Temperate Moist</td>\n",
       "      <td>Euhaline-Oxic-Warm to Very Warm</td>\n",
       "      <td>1.325699</td>\n",
       "      <td>...</td>\n",
       "      <td>straight</td>\n",
       "      <td>steeply sloping</td>\n",
       "      <td>moderately tidal</td>\n",
       "      <td>moderately turbid</td>\n",
       "      <td>moderate wave energy</td>\n",
       "      <td>steeply sloping, straight, high erodibility, w...</td>\n",
       "      <td>7387</td>\n",
       "      <td>0.002392</td>\n",
       "      <td>0.008123</td>\n",
       "      <td>LINESTRING (151.57863 -33.22931, 151.57828 -33...</td>\n",
       "    </tr>\n",
       "  </tbody>\n",
       "</table>\n",
       "<p>5 rows × 28 columns</p>\n",
       "</div>"
      ],
      "text/plain": [
       "      OBJECTID  MasterKey    RandomSort  MEAN_SIG_WAVEHEIGHT  TIDAL_RANGE  \\\n",
       "2232    300767     300767  2.570800e+06             1.454914     1.764066   \n",
       "2233    300775     300775  1.455922e+06             1.454914     1.764066   \n",
       "2234    300778     300778  1.627740e+06             1.454914     1.764066   \n",
       "2235    300777     300777  4.220471e+05             1.454914     1.764066   \n",
       "2236    300826     300826  5.162680e+05             1.454914     1.764066   \n",
       "\n",
       "      CHLOROPHYLL  TURBIDITY         TEMP_MOISTURE  \\\n",
       "2232     1.006219     0.1273  Warm Temperate Moist   \n",
       "2233     0.869298     0.1273  Warm Temperate Moist   \n",
       "2234     1.099951     0.1273  Warm Temperate Moist   \n",
       "2235     0.977596     0.1273  Warm Temperate Moist   \n",
       "2236     0.716648     0.1273  Warm Temperate Moist   \n",
       "\n",
       "                         EMU_PHYSICAL  REGIONAL_SINUOSITY  ...  \\\n",
       "2232  Euhaline-Oxic-Warm to Very Warm            1.499636  ...   \n",
       "2233  Euhaline-Oxic-Warm to Very Warm            3.100705  ...   \n",
       "2234  Euhaline-Oxic-Warm to Very Warm            2.769717  ...   \n",
       "2235  Euhaline-Oxic-Warm to Very Warm            3.100705  ...   \n",
       "2236  Euhaline-Oxic-Warm to Very Warm            1.325699  ...   \n",
       "\n",
       "      sinuosity_label      slope_label       tidal_label       turbid_label  \\\n",
       "2232         straight          sloping  moderately tidal  moderately turbid   \n",
       "2233          sinuous  steeply sloping  moderately tidal  moderately turbid   \n",
       "2234          sinuous          sloping  moderately tidal  moderately turbid   \n",
       "2235          sinuous          sloping  moderately tidal  moderately turbid   \n",
       "2236         straight  steeply sloping  moderately tidal  moderately turbid   \n",
       "\n",
       "                wave_label                                     CSU_Descriptor  \\\n",
       "2232  moderate wave energy  sloping, straight, medium erodibility, warm te...   \n",
       "2233  moderate wave energy  steeply sloping, sinuous, medium erodibility, ...   \n",
       "2234  moderate wave energy  sloping, sinuous, high erodibility, warm tempe...   \n",
       "2235  moderate wave energy  sloping, sinuous, medium erodibility, warm tem...   \n",
       "2236  moderate wave energy  steeply sloping, straight, high erodibility, w...   \n",
       "\n",
       "     CSU_ID OUTFLOW_DENSITY_RESCALED Shape_Length  \\\n",
       "2232  58029                 0.002392     0.007980   \n",
       "2233  57768                 0.002392     0.008080   \n",
       "2234   6825                 0.002392     0.008689   \n",
       "2235  57690                 0.002392     0.008474   \n",
       "2236   7387                 0.002392     0.008123   \n",
       "\n",
       "                                               geometry  \n",
       "2232  LINESTRING (151.50789 -33.23309, 151.50818 -33...  \n",
       "2233  LINESTRING (151.53476 -33.23913, 151.53418 -33...  \n",
       "2234  LINESTRING (151.55549 -33.23596, 151.55522 -33...  \n",
       "2235  LINESTRING (151.54758 -33.23302, 151.54743 -33...  \n",
       "2236  LINESTRING (151.57863 -33.22931, 151.57828 -33...  \n",
       "\n",
       "[5 rows x 28 columns]"
      ]
     },
     "execution_count": 66,
     "metadata": {},
     "output_type": "execute_result"
    }
   ],
   "source": [
    "data_clipped.head()"
   ]
  },
  {
   "cell_type": "code",
   "execution_count": 41,
   "id": "acf80dea",
   "metadata": {},
   "outputs": [
    {
     "name": "stderr",
     "output_type": "stream",
     "text": [
      "/home/marda/anaconda3/envs/cgrasp/lib/python3.10/site-packages/geopandas/io/file.py:362: FutureWarning: pandas.Int64Index is deprecated and will be removed from pandas in a future version. Use pandas.Index with the appropriate dtype instead.\n",
      "  pd.Int64Index,\n"
     ]
    }
   ],
   "source": [
    "data_clipped.to_file('/media/marda/TWOTB1/USGS/SOFTWARE/Projects/NOPP/shoreline_data_East_Australia.geojson', driver=\"GeoJSON\") "
   ]
  },
  {
   "cell_type": "code",
   "execution_count": 46,
   "id": "241232ae",
   "metadata": {},
   "outputs": [
    {
     "data": {
      "text/plain": [
       "Index(['latitude_left', 'longitude_left', 'd50', 'beach_slope_average', 'mstr',\n",
       "       'hs_max', 'hs_mean', 'dir', 'tp', 'geometry', 'index_right',\n",
       "       'longitude_right', 'latitude_right', 'dc', 'slope', 'error_code',\n",
       "       'distances'],\n",
       "      dtype='object')"
      ]
     },
     "execution_count": 46,
     "metadata": {},
     "output_type": "execute_result"
    }
   ],
   "source": [
    "merged_data.keys()"
   ]
  },
  {
   "cell_type": "code",
   "execution_count": 47,
   "id": "4ac8894e",
   "metadata": {},
   "outputs": [],
   "source": [
    "merged_data = merged_data[['latitude_left', 'longitude_left', 'd50', 'beach_slope_average', 'mstr',\n",
    "       'hs_max', 'hs_mean', 'dir', 'tp', 'geometry',  'dc', 'slope', 'error_code']].copy()"
   ]
  },
  {
   "cell_type": "code",
   "execution_count": null,
   "id": "11d4a389",
   "metadata": {},
   "outputs": [],
   "source": []
  },
  {
   "cell_type": "code",
   "execution_count": 48,
   "id": "931d0dd1",
   "metadata": {},
   "outputs": [
    {
     "name": "stderr",
     "output_type": "stream",
     "text": [
      "/tmp/ipykernel_41459/2409152181.py:1: UserWarning: CRS mismatch between the CRS of left geometries and the CRS of right geometries.\n",
      "Use `to_crs()` to reproject one of the input geometries to match the CRS of the other.\n",
      "\n",
      "Left CRS: None\n",
      "Right CRS: EPSG:4326\n",
      "\n",
      "  merged_all_data = gpd.sjoin_nearest(merged_data, data_clipped,distance_col=\"distances\")\n",
      "/home/marda/anaconda3/envs/cgrasp/lib/python3.10/site-packages/geopandas/array.py:341: UserWarning: Geometry is in a geographic CRS. Results from 'sjoin_nearest' are likely incorrect. Use 'GeoSeries.to_crs()' to re-project geometries to a projected CRS before this operation.\n",
      "\n",
      "  warnings.warn(\n"
     ]
    }
   ],
   "source": [
    "merged_all_data = gpd.sjoin_nearest(merged_data, data_clipped,distance_col=\"distances\")"
   ]
  },
  {
   "cell_type": "code",
   "execution_count": 63,
   "id": "17d23a66",
   "metadata": {},
   "outputs": [
    {
     "data": {
      "text/html": [
       "<div>\n",
       "<style scoped>\n",
       "    .dataframe tbody tr th:only-of-type {\n",
       "        vertical-align: middle;\n",
       "    }\n",
       "\n",
       "    .dataframe tbody tr th {\n",
       "        vertical-align: top;\n",
       "    }\n",
       "\n",
       "    .dataframe thead th {\n",
       "        text-align: right;\n",
       "    }\n",
       "</style>\n",
       "<table border=\"1\" class=\"dataframe\">\n",
       "  <thead>\n",
       "    <tr style=\"text-align: right;\">\n",
       "      <th></th>\n",
       "      <th>latitude_left</th>\n",
       "      <th>longitude_left</th>\n",
       "      <th>d50</th>\n",
       "      <th>beach_slope_average</th>\n",
       "      <th>mstr</th>\n",
       "      <th>hs_max</th>\n",
       "      <th>hs_mean</th>\n",
       "      <th>dir</th>\n",
       "      <th>tp</th>\n",
       "      <th>geometry</th>\n",
       "      <th>...</th>\n",
       "      <th>sinuosity_label</th>\n",
       "      <th>slope_label</th>\n",
       "      <th>tidal_label</th>\n",
       "      <th>turbid_label</th>\n",
       "      <th>wave_label</th>\n",
       "      <th>CSU_Descriptor</th>\n",
       "      <th>CSU_ID</th>\n",
       "      <th>OUTFLOW_DENSITY_RESCALED</th>\n",
       "      <th>Shape_Length</th>\n",
       "      <th>distances</th>\n",
       "    </tr>\n",
       "  </thead>\n",
       "  <tbody>\n",
       "    <tr>\n",
       "      <th>0</th>\n",
       "      <td>-25.854332</td>\n",
       "      <td>153.078347</td>\n",
       "      <td>0.29525</td>\n",
       "      <td>0.060145</td>\n",
       "      <td>2.068996</td>\n",
       "      <td>4.754424</td>\n",
       "      <td>1.565813</td>\n",
       "      <td>112.555036</td>\n",
       "      <td>8.719285</td>\n",
       "      <td>POINT (153.07835 -25.85433)</td>\n",
       "      <td>...</td>\n",
       "      <td>straight</td>\n",
       "      <td>sloping</td>\n",
       "      <td>moderately tidal</td>\n",
       "      <td>moderately turbid</td>\n",
       "      <td>moderate wave energy</td>\n",
       "      <td>sloping, straight, high erodibility, sub tropi...</td>\n",
       "      <td>12970</td>\n",
       "      <td>0.000712</td>\n",
       "      <td>0.008116</td>\n",
       "      <td>0.001421</td>\n",
       "    </tr>\n",
       "    <tr>\n",
       "      <th>1</th>\n",
       "      <td>-25.932753</td>\n",
       "      <td>153.134103</td>\n",
       "      <td>0.29525</td>\n",
       "      <td>0.082709</td>\n",
       "      <td>2.068996</td>\n",
       "      <td>4.754424</td>\n",
       "      <td>1.565813</td>\n",
       "      <td>112.555036</td>\n",
       "      <td>8.719285</td>\n",
       "      <td>POINT (153.13410 -25.93275)</td>\n",
       "      <td>...</td>\n",
       "      <td>straight</td>\n",
       "      <td>steeply sloping</td>\n",
       "      <td>moderately tidal</td>\n",
       "      <td>moderately turbid</td>\n",
       "      <td>moderate wave energy</td>\n",
       "      <td>steeply sloping, straight, high erodibility, s...</td>\n",
       "      <td>13462</td>\n",
       "      <td>0.000294</td>\n",
       "      <td>0.008677</td>\n",
       "      <td>0.008405</td>\n",
       "    </tr>\n",
       "    <tr>\n",
       "      <th>2</th>\n",
       "      <td>-26.008686</td>\n",
       "      <td>153.153149</td>\n",
       "      <td>0.27168</td>\n",
       "      <td>0.060027</td>\n",
       "      <td>2.058574</td>\n",
       "      <td>4.754424</td>\n",
       "      <td>1.565813</td>\n",
       "      <td>112.555036</td>\n",
       "      <td>8.719285</td>\n",
       "      <td>POINT (153.15315 -26.00869)</td>\n",
       "      <td>...</td>\n",
       "      <td>straight</td>\n",
       "      <td>steeply sloping</td>\n",
       "      <td>moderately tidal</td>\n",
       "      <td>moderately turbid</td>\n",
       "      <td>moderate wave energy</td>\n",
       "      <td>steeply sloping, straight, high erodibility, s...</td>\n",
       "      <td>13462</td>\n",
       "      <td>0.000294</td>\n",
       "      <td>0.008206</td>\n",
       "      <td>0.001390</td>\n",
       "    </tr>\n",
       "    <tr>\n",
       "      <th>3</th>\n",
       "      <td>-26.157750</td>\n",
       "      <td>153.097286</td>\n",
       "      <td>0.27168</td>\n",
       "      <td>0.054012</td>\n",
       "      <td>2.050147</td>\n",
       "      <td>4.754424</td>\n",
       "      <td>1.565813</td>\n",
       "      <td>112.555036</td>\n",
       "      <td>8.719285</td>\n",
       "      <td>POINT (153.09729 -26.15775)</td>\n",
       "      <td>...</td>\n",
       "      <td>straight</td>\n",
       "      <td>vertical</td>\n",
       "      <td>moderately tidal</td>\n",
       "      <td>clear</td>\n",
       "      <td>moderate wave energy</td>\n",
       "      <td>vertical, straight, high erodibility, sub trop...</td>\n",
       "      <td>13862</td>\n",
       "      <td>0.000022</td>\n",
       "      <td>0.008161</td>\n",
       "      <td>0.001038</td>\n",
       "    </tr>\n",
       "    <tr>\n",
       "      <th>4</th>\n",
       "      <td>-26.311676</td>\n",
       "      <td>153.068419</td>\n",
       "      <td>0.27168</td>\n",
       "      <td>0.049932</td>\n",
       "      <td>2.045488</td>\n",
       "      <td>4.754424</td>\n",
       "      <td>1.565813</td>\n",
       "      <td>112.555036</td>\n",
       "      <td>8.719285</td>\n",
       "      <td>POINT (153.06842 -26.31168)</td>\n",
       "      <td>...</td>\n",
       "      <td>straight</td>\n",
       "      <td>steeply sloping</td>\n",
       "      <td>moderately tidal</td>\n",
       "      <td>moderately turbid</td>\n",
       "      <td>moderate wave energy</td>\n",
       "      <td>steeply sloping, straight, high erodibility, s...</td>\n",
       "      <td>13462</td>\n",
       "      <td>0.000123</td>\n",
       "      <td>0.008081</td>\n",
       "      <td>0.006272</td>\n",
       "    </tr>\n",
       "  </tbody>\n",
       "</table>\n",
       "<p>5 rows × 42 columns</p>\n",
       "</div>"
      ],
      "text/plain": [
       "   latitude_left  longitude_left      d50  beach_slope_average      mstr  \\\n",
       "0     -25.854332      153.078347  0.29525             0.060145  2.068996   \n",
       "1     -25.932753      153.134103  0.29525             0.082709  2.068996   \n",
       "2     -26.008686      153.153149  0.27168             0.060027  2.058574   \n",
       "3     -26.157750      153.097286  0.27168             0.054012  2.050147   \n",
       "4     -26.311676      153.068419  0.27168             0.049932  2.045488   \n",
       "\n",
       "     hs_max   hs_mean         dir        tp                     geometry  ...  \\\n",
       "0  4.754424  1.565813  112.555036  8.719285  POINT (153.07835 -25.85433)  ...   \n",
       "1  4.754424  1.565813  112.555036  8.719285  POINT (153.13410 -25.93275)  ...   \n",
       "2  4.754424  1.565813  112.555036  8.719285  POINT (153.15315 -26.00869)  ...   \n",
       "3  4.754424  1.565813  112.555036  8.719285  POINT (153.09729 -26.15775)  ...   \n",
       "4  4.754424  1.565813  112.555036  8.719285  POINT (153.06842 -26.31168)  ...   \n",
       "\n",
       "   sinuosity_label      slope_label       tidal_label       turbid_label  \\\n",
       "0         straight          sloping  moderately tidal  moderately turbid   \n",
       "1         straight  steeply sloping  moderately tidal  moderately turbid   \n",
       "2         straight  steeply sloping  moderately tidal  moderately turbid   \n",
       "3         straight         vertical  moderately tidal              clear   \n",
       "4         straight  steeply sloping  moderately tidal  moderately turbid   \n",
       "\n",
       "             wave_label                                     CSU_Descriptor  \\\n",
       "0  moderate wave energy  sloping, straight, high erodibility, sub tropi...   \n",
       "1  moderate wave energy  steeply sloping, straight, high erodibility, s...   \n",
       "2  moderate wave energy  steeply sloping, straight, high erodibility, s...   \n",
       "3  moderate wave energy  vertical, straight, high erodibility, sub trop...   \n",
       "4  moderate wave energy  steeply sloping, straight, high erodibility, s...   \n",
       "\n",
       "   CSU_ID  OUTFLOW_DENSITY_RESCALED  Shape_Length  distances  \n",
       "0   12970                  0.000712      0.008116   0.001421  \n",
       "1   13462                  0.000294      0.008677   0.008405  \n",
       "2   13462                  0.000294      0.008206   0.001390  \n",
       "3   13862                  0.000022      0.008161   0.001038  \n",
       "4   13462                  0.000123      0.008081   0.006272  \n",
       "\n",
       "[5 rows x 42 columns]"
      ]
     },
     "execution_count": 63,
     "metadata": {},
     "output_type": "execute_result"
    }
   ],
   "source": [
    "merged_all_data.head()"
   ]
  },
  {
   "cell_type": "code",
   "execution_count": 68,
   "id": "9f73566f",
   "metadata": {},
   "outputs": [
    {
     "data": {
      "text/plain": [
       "Index(['latitude_left', 'longitude_left', 'd50', 'beach_slope_average', 'mstr',\n",
       "       'hs_max', 'hs_mean', 'dir', 'tp', 'geometry', 'dc', 'slope',\n",
       "       'error_code', 'index_right', 'OBJECTID', 'MasterKey', 'RandomSort',\n",
       "       'MEAN_SIG_WAVEHEIGHT', 'TIDAL_RANGE', 'CHLOROPHYLL', 'TURBIDITY',\n",
       "       'TEMP_MOISTURE', 'EMU_PHYSICAL', 'REGIONAL_SINUOSITY', 'GHM',\n",
       "       'MAX_SLOPE', 'OUTFLOW_DENSITY', 'ERODIBILITY', 'Cluster', 'LENGTH_GEO',\n",
       "       'chl_label', 'river_label', 'sinuosity_label', 'slope_label',\n",
       "       'tidal_label', 'turbid_label', 'wave_label', 'CSU_Descriptor', 'CSU_ID',\n",
       "       'OUTFLOW_DENSITY_RESCALED', 'Shape_Length', 'distances'],\n",
       "      dtype='object')"
      ]
     },
     "execution_count": 68,
     "metadata": {},
     "output_type": "execute_result"
    }
   ],
   "source": [
    "merged_all_data.keys()"
   ]
  },
  {
   "cell_type": "code",
   "execution_count": 78,
   "id": "f2126013",
   "metadata": {},
   "outputs": [
    {
     "data": {
      "text/plain": [
       "0      2\n",
       "1      2\n",
       "2      2\n",
       "3      2\n",
       "4      2\n",
       "      ..\n",
       "251    3\n",
       "252    6\n",
       "253    6\n",
       "254    6\n",
       "255    6\n",
       "Name: Cluster, Length: 256, dtype: int64"
      ]
     },
     "execution_count": 78,
     "metadata": {},
     "output_type": "execute_result"
    }
   ],
   "source": [
    "merged_all_data['Cluster']"
   ]
  },
  {
   "cell_type": "code",
   "execution_count": 53,
   "id": "e4ff3535",
   "metadata": {},
   "outputs": [
    {
     "data": {
      "text/plain": [
       "[<matplotlib.lines.Line2D at 0x7f27e8454640>]"
      ]
     },
     "execution_count": 53,
     "metadata": {},
     "output_type": "execute_result"
    },
    {
     "data": {
      "image/png": "[encoded data removed]",
      "text/plain": [
       "<Figure size 432x288 with 1 Axes>"
      ]
     },
     "metadata": {
      "needs_background": "light"
     },
     "output_type": "display_data"
    }
   ],
   "source": [
    "plt.plot(merged_all_data['hs_mean'], merged_all_data['MEAN_SIG_WAVEHEIGHT'], 'ko')"
   ]
  },
  {
   "cell_type": "code",
   "execution_count": 54,
   "id": "19989dd5",
   "metadata": {},
   "outputs": [
    {
     "data": {
      "text/plain": [
       "[<matplotlib.lines.Line2D at 0x7f27e41471f0>]"
      ]
     },
     "execution_count": 54,
     "metadata": {},
     "output_type": "execute_result"
    },
    {
     "data": {
      "image/png": "[encoded data removed]",
      "text/plain": [
       "<Figure size 432x288 with 1 Axes>"
      ]
     },
     "metadata": {
      "needs_background": "light"
     },
     "output_type": "display_data"
    }
   ],
   "source": [
    "plt.plot(merged_all_data['mstr'], merged_all_data['TIDAL_RANGE'], 'ko')"
   ]
  },
  {
   "cell_type": "code",
   "execution_count": 82,
   "id": "a13e647a",
   "metadata": {},
   "outputs": [
    {
     "data": {
      "text/plain": [
       "[<matplotlib.lines.Line2D at 0x7f27ddd42890>]"
      ]
     },
     "execution_count": 82,
     "metadata": {},
     "output_type": "execute_result"
    },
    {
     "data": {
      "image/png": "[encoded data removed]",
      "text/plain": [
       "<Figure size 720x720 with 6 Axes>"
      ]
     },
     "metadata": {
      "needs_background": "light"
     },
     "output_type": "display_data"
    }
   ],
   "source": [
    "plt.figure(figsize=(10,10))\n",
    "\n",
    "plt.subplot(231)\n",
    "plt.plot(merged_all_data['d50'], merged_all_data['OUTFLOW_DENSITY_RESCALED'], 'ko')\n",
    "plt.subplot(232)\n",
    "plt.plot(merged_all_data['d50'], merged_all_data['MAX_SLOPE'], 'ko')\n",
    "plt.subplot(233)\n",
    "plt.semilogy(merged_all_data['d50'], merged_all_data['REGIONAL_SINUOSITY'], 'ko')\n",
    "plt.subplot(234)\n",
    "plt.plot(merged_all_data['d50'], merged_all_data['dc'], 'ko')\n",
    "plt.subplot(235)\n",
    "plt.semilogy(merged_all_data['d50'], merged_all_data['TURBIDITY'], 'ko')\n",
    "plt.subplot(236)\n",
    "plt.plot(merged_all_data['d50'], merged_all_data['GHM'], 'ko') #GlobalHumanModification"
   ]
  },
  {
   "cell_type": "code",
   "execution_count": 84,
   "id": "2e1ea041",
   "metadata": {},
   "outputs": [
    {
     "data": {
      "text/plain": [
       "array([2, 3, 6])"
      ]
     },
     "execution_count": 84,
     "metadata": {},
     "output_type": "execute_result"
    }
   ],
   "source": [
    "np.unique(merged_all_data['Cluster'])"
   ]
  },
  {
   "cell_type": "code",
   "execution_count": 91,
   "id": "eb664040",
   "metadata": {},
   "outputs": [
    {
     "data": {
      "text/plain": [
       "[<matplotlib.lines.Line2D at 0x7f27d41ad720>]"
      ]
     },
     "execution_count": 91,
     "metadata": {},
     "output_type": "execute_result"
    },
    {
     "data": {
      "image/png": "[encoded data removed]",
      "text/plain": [
       "<Figure size 720x720 with 6 Axes>"
      ]
     },
     "metadata": {
      "needs_background": "light"
     },
     "output_type": "display_data"
    }
   ],
   "source": [
    "plt.figure(figsize=(10,10))\n",
    "\n",
    "plt.subplot(231)\n",
    "plt.plot(merged_all_data['d50'][merged_all_data['Cluster']==2], merged_all_data['OUTFLOW_DENSITY_RESCALED'][merged_all_data['Cluster']==2], 'ko')\n",
    "plt.plot(merged_all_data['d50'][merged_all_data['Cluster']==3], merged_all_data['OUTFLOW_DENSITY_RESCALED'][merged_all_data['Cluster']==3], 'ro')\n",
    "plt.plot(merged_all_data['d50'][merged_all_data['Cluster']==6], merged_all_data['OUTFLOW_DENSITY_RESCALED'][merged_all_data['Cluster']==6], 'go')\n",
    "\n",
    "\n",
    "plt.subplot(232)\n",
    "plt.plot(merged_all_data['d50'][merged_all_data['Cluster']==2], merged_all_data['MAX_SLOPE'][merged_all_data['Cluster']==2], 'ko')\n",
    "plt.plot(merged_all_data['d50'][merged_all_data['Cluster']==3], merged_all_data['MAX_SLOPE'][merged_all_data['Cluster']==3], 'ro')\n",
    "plt.plot(merged_all_data['d50'][merged_all_data['Cluster']==6], merged_all_data['MAX_SLOPE'][merged_all_data['Cluster']==6], 'go')\n",
    "\n",
    "plt.subplot(233)\n",
    "plt.semilogy(merged_all_data['d50'][merged_all_data['Cluster']==2], merged_all_data['REGIONAL_SINUOSITY'][merged_all_data['Cluster']==2], 'ko')\n",
    "plt.semilogy(merged_all_data['d50'][merged_all_data['Cluster']==3], merged_all_data['REGIONAL_SINUOSITY'][merged_all_data['Cluster']==3], 'ro')\n",
    "plt.semilogy(merged_all_data['d50'][merged_all_data['Cluster']==6], merged_all_data['REGIONAL_SINUOSITY'][merged_all_data['Cluster']==6], 'go')\n",
    "\n",
    "plt.subplot(234)\n",
    "plt.plot(merged_all_data['d50'][merged_all_data['Cluster']==2], merged_all_data['dc'][merged_all_data['Cluster']==2], 'ko')\n",
    "plt.plot(merged_all_data['d50'][merged_all_data['Cluster']==3], merged_all_data['dc'][merged_all_data['Cluster']==3], 'ro')\n",
    "plt.plot(merged_all_data['d50'][merged_all_data['Cluster']==6], merged_all_data['dc'][merged_all_data['Cluster']==6], 'go')\n",
    "\n",
    "plt.subplot(235)\n",
    "plt.semilogy(merged_all_data['d50'][merged_all_data['Cluster']==2], merged_all_data['TURBIDITY'][merged_all_data['Cluster']==2], 'ko')\n",
    "plt.semilogy(merged_all_data['d50'][merged_all_data['Cluster']==3], merged_all_data['TURBIDITY'][merged_all_data['Cluster']==3], 'ro')\n",
    "plt.semilogy(merged_all_data['d50'][merged_all_data['Cluster']==6], merged_all_data['TURBIDITY'][merged_all_data['Cluster']==6], 'go')\n",
    "\n",
    "plt.subplot(236)\n",
    "plt.plot(merged_all_data['d50'][merged_all_data['Cluster']==2], merged_all_data['GHM'][merged_all_data['Cluster']==2], 'ko') \n",
    "plt.plot(merged_all_data['d50'][merged_all_data['Cluster']==3], merged_all_data['GHM'][merged_all_data['Cluster']==3], 'ro') \n",
    "plt.plot(merged_all_data['d50'][merged_all_data['Cluster']==6], merged_all_data['GHM'][merged_all_data['Cluster']==6], 'go') \n"
   ]
  },
  {
   "cell_type": "code",
   "execution_count": null,
   "id": "7173d39c",
   "metadata": {},
   "outputs": [],
   "source": []
  },
  {
   "cell_type": "code",
   "execution_count": null,
   "id": "fc887140",
   "metadata": {},
   "outputs": [],
   "source": []
  },
  {
   "cell_type": "code",
   "execution_count": null,
   "id": "dec63cb0",
   "metadata": {},
   "outputs": [],
   "source": []
  }
 ],
 "metadata": {
  "kernelspec": {
   "display_name": "Python 3 (ipykernel)",
   "language": "python",
   "name": "python3"
  },
  "language_info": {
   "codemirror_mode": {
    "name": "ipython",
    "version": 3
   },
   "file_extension": ".py",
   "mimetype": "text/x-python",
   "name": "python",
   "nbconvert_exporter": "python",
   "pygments_lexer": "ipython3",
   "version": "3.10.2"
  }
 },
 "nbformat": 4,
 "nbformat_minor": 5
}
