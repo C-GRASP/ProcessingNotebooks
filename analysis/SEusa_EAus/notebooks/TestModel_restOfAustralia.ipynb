{
 "cells": [
  {
   "cell_type": "code",
   "execution_count": null,
   "id": "17eb988f-f881-4768-9485-2fc04eb4440d",
   "metadata": {},
   "outputs": [],
   "source": []
  },
  {
   "cell_type": "code",
   "execution_count": 1,
   "id": "186241fe-1f1f-46b1-9bfe-b7b078088071",
   "metadata": {},
   "outputs": [],
   "source": [
    "import pandas as pd\n",
    "import matplotlib.pyplot as plt\n",
    "import numpy as np\n",
    "\n",
    "from sklearn import ensemble\n",
    "from sklearn.metrics import mean_squared_error\n",
    "\n",
    "import seaborn as sns\n",
    "from sklearn import preprocessing\n"
   ]
  },
  {
   "cell_type": "code",
   "execution_count": null,
   "id": "8c6b106c-753f-4673-8fbc-68425fb9d707",
   "metadata": {},
   "outputs": [],
   "source": [
    "df = pd.read_csv()"
   ]
  },
  {
   "cell_type": "code",
   "execution_count": null,
   "id": "07c2f324-e1e1-4a46-9950-81528159a445",
   "metadata": {},
   "outputs": [],
   "source": [
    "rand = np.load()"
   ]
  },
  {
   "cell_type": "code",
   "execution_count": null,
   "id": "2217d2f4-0a40-47f2-9d7e-2481a800a72c",
   "metadata": {},
   "outputs": [],
   "source": [
    "model1out = np.load('../model_out/dataset_SEUS_E_Aus_coast_model1.npy', allow_pickle=True)\n",
    "model2out = np.load('../model_out/dataset_SEUS_E_Aus_coast_model1.npy', allow_pickle=True)\n",
    "model3out = np.load('../model_out/dataset_SEUS_E_Aus_coast_model1.npy', allow_pickle=True)\n",
    "model4out = np.load('../model_out/dataset_SEUS_E_Aus_coast_model1.npy', allow_pickle=True)\n",
    "model5out = np.load('../model_out/dataset_SEUS_E_Aus_coast_model1.npy', allow_pickle=True)\n",
    "model6out = np.load('../model_out/dataset_SEUS_E_Aus_coast_model1.npy', allow_pickle=True)\n",
    "model7out = np.load('../model_out/dataset_SEUS_E_Aus_coast_model1.npy', allow_pickle=True)\n",
    "model8out = np.load('../model_out/dataset_SEUS_E_Aus_coast_model1.npy', allow_pickle=True)\n"
   ]
  },
  {
   "cell_type": "code",
   "execution_count": null,
   "id": "5caa035f-bee2-4ab1-96d8-2f0309d36014",
   "metadata": {},
   "outputs": [],
   "source": [
    "df = df.assign(rand=rand)"
   ]
  },
  {
   "cell_type": "code",
   "execution_count": null,
   "id": "42782703-666e-4fcf-be23-7ba8608cd069",
   "metadata": {},
   "outputs": [],
   "source": []
  },
  {
   "cell_type": "code",
   "execution_count": null,
   "id": "d78211d5-1b30-45bd-bf4d-0f11195dadff",
   "metadata": {},
   "outputs": [],
   "source": []
  }
 ],
 "metadata": {
  "kernelspec": {
   "display_name": "Python 3 (ipykernel)",
   "language": "python",
   "name": "python3"
  },
  "language_info": {
   "codemirror_mode": {
    "name": "ipython",
    "version": 3
   },
   "file_extension": ".py",
   "mimetype": "text/x-python",
   "name": "python",
   "nbconvert_exporter": "python",
   "pygments_lexer": "ipython3",
   "version": "3.10.4"
  }
 },
 "nbformat": 4,
 "nbformat_minor": 5
}
