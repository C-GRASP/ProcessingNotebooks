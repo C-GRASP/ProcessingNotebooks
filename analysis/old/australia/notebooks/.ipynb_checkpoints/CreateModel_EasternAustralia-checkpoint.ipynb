{
 "cells": [
  {
   "cell_type": "markdown",
   "id": "49056ba4",
   "metadata": {},
   "source": [
    "## Regional Grain Size Model - eastern Australia\n",
    "\n",
    "Dan Buscombe 7/5/22"
   ]
  },
  {
   "cell_type": "code",
   "execution_count": 1,
   "id": "18b21c8c",
   "metadata": {},
   "outputs": [
    {
     "name": "stderr",
     "output_type": "stream",
     "text": [
      "C:\\Users\\dbuscombe\\Anaconda3\\envs\\cgrasp\\lib\\site-packages\\outdated\\utils.py:14: OutdatedPackageWarning: The package pingouin is out of date. Your version is 0.5.1, the latest is 0.5.2.\n",
      "Set the environment variable OUTDATED_IGNORE=1 to disable these warnings.\n",
      "  return warn(\n"
     ]
    }
   ],
   "source": [
    "import pandas as pd\n",
    "import matplotlib.pyplot as plt\n",
    "import numpy as np\n",
    "\n",
    "from sklearn.model_selection import train_test_split\n",
    "from sklearn import ensemble\n",
    "from sklearn.metrics import mean_squared_error\n",
    "from sklearn.inspection import permutation_importance\n",
    "\n",
    "from pingouin import partial_corr\n",
    "import pingouin as pg\n",
    "from sklearn.model_selection import RepeatedKFold, cross_val_score\n"
   ]
  },
  {
   "cell_type": "code",
   "execution_count": 2,
   "id": "85b7d0a4",
   "metadata": {},
   "outputs": [],
   "source": [
    "from mpl_toolkits.axes_grid1.inset_locator import inset_axes\n",
    "from cartopy import config\n",
    "import cartopy.crs as ccrs\n",
    "from cartopy.mpl.gridliner import LONGITUDE_FORMATTER, LATITUDE_FORMATTER\n",
    "import cartopy.feature as cfeature\n",
    "import geopandas as gpd\n",
    "from shapely.geometry import Polygon, box"
   ]
  },
  {
   "cell_type": "code",
   "execution_count": 3,
   "id": "16c64320",
   "metadata": {},
   "outputs": [],
   "source": [
    "## load Bujan data"
   ]
  },
  {
   "cell_type": "code",
   "execution_count": 4,
   "id": "e9a1c7fd",
   "metadata": {},
   "outputs": [],
   "source": [
    "bujan_dat = pd.read_csv('../../../orig_data/bujan_et_al_data/Size-Slope-Data-Points.csv')\n",
    "bujan_dat#.keys()\n",
    "\n",
    "bujan_sand = bujan_dat[bujan_dat['Clast size (mm)']<2]"
   ]
  },
  {
   "cell_type": "code",
   "execution_count": 5,
   "id": "523fd5d6",
   "metadata": {},
   "outputs": [],
   "source": [
    "## load eastern Oz data and remove low quality slopes"
   ]
  },
  {
   "cell_type": "code",
   "execution_count": 24,
   "id": "3b30a646",
   "metadata": {},
   "outputs": [
    {
     "data": {
      "text/plain": [
       "277"
      ]
     },
     "execution_count": 24,
     "metadata": {},
     "output_type": "execute_result"
    }
   ],
   "source": [
    "dataset = '../../../orig_data/australia/dataset_Australia_East_coast.geojson'\n",
    "\n",
    "dfOz = gpd.read_file(dataset)\n",
    "\n",
    "dfOz = dfOz[dfOz['d50']<=.9] #2\n",
    "len(dfOz)"
   ]
  },
  {
   "cell_type": "code",
   "execution_count": 25,
   "id": "a5c48fac",
   "metadata": {},
   "outputs": [
    {
     "data": {
      "text/plain": [
       "271"
      ]
     },
     "execution_count": 25,
     "metadata": {},
     "output_type": "execute_result"
    }
   ],
   "source": [
    "ind = np.where(dfOz['quality_flag']!='Low')[0]\n",
    "len(ind)\n",
    "dfOz = dfOz.iloc[ind]\n",
    "len(dfOz)"
   ]
  },
  {
   "cell_type": "code",
   "execution_count": 26,
   "id": "be765b9a",
   "metadata": {},
   "outputs": [
    {
     "data": {
      "text/plain": [
       "256"
      ]
     },
     "execution_count": 26,
     "metadata": {},
     "output_type": "execute_result"
    }
   ],
   "source": [
    "ind = np.where(dfOz['distance_to_sample']<1000)[0]\n",
    "len(ind)\n",
    "dfOz = dfOz.iloc[ind]\n",
    "len(dfOz)\n"
   ]
  },
  {
   "cell_type": "code",
   "execution_count": 27,
   "id": "8d78a9e4",
   "metadata": {},
   "outputs": [
    {
     "data": {
      "text/plain": [
       "Index(['beach_id', 'beach_slope_average', 'width_ci_average', 'quality_flag',\n",
       "       'mstr', 'hsig_median', 'prc_mstr_obs', 'min_tide_obs', 'max_tide_obs',\n",
       "       'sl_points_average', 'beach_length', 'coastal_region',\n",
       "       'primary_comp_id', 'secondary_comp_id', 'd50', 'distance_to_sample',\n",
       "       'latitude', 'longitude', 'Hs_mean', 'Hs_max', 'Tp_mean', 'Wdir_mean',\n",
       "       'Wdir_weighted_mean', 'geometry'],\n",
       "      dtype='object')"
      ]
     },
     "execution_count": 27,
     "metadata": {},
     "output_type": "execute_result"
    }
   ],
   "source": [
    "dfOz.keys()"
   ]
  },
  {
   "cell_type": "code",
   "execution_count": 28,
   "id": "df8131df",
   "metadata": {},
   "outputs": [
    {
     "data": {
      "text/plain": [
       "256"
      ]
     },
     "execution_count": 28,
     "metadata": {},
     "output_type": "execute_result"
    }
   ],
   "source": [
    "dfOz = dfOz.dropna()\n",
    "# df.head()\n",
    "len(dfOz)"
   ]
  },
  {
   "cell_type": "code",
   "execution_count": 29,
   "id": "8c09907a",
   "metadata": {},
   "outputs": [],
   "source": [
    "dfOz.rename(columns = {'Hs_max':'hs_max', 'Hs_mean':'hs_mean', 'Tp_mean': 'tp', 'Wdir_mean':'dir'}, inplace = True)\n",
    "dfOz.to_csv('../model_data/dataset_Australia_East_coast_nostrat.csv')"
   ]
  },
  {
   "cell_type": "code",
   "execution_count": 10,
   "id": "3233b92f",
   "metadata": {},
   "outputs": [],
   "source": [
    "# df_strat_mstr = dfOz.copy()\n",
    "\n",
    "# num_cats=5\n",
    "# num_samples_per_category = 14\n",
    "\n",
    "# df_strat_mstr['category'] = pd.cut(dfOz['mstr'], num_cats)\n",
    "# df_strat_mstr = df_strat_mstr.groupby(['category']).apply(lambda x: x.sample(num_samples_per_category, replace = False)).reset_index(drop = True)\n",
    "\n",
    "# len(df_strat_mstr) #70"
   ]
  },
  {
   "cell_type": "code",
   "execution_count": 12,
   "id": "14d56ec8",
   "metadata": {},
   "outputs": [
    {
     "data": {
      "text/plain": [
       "104"
      ]
     },
     "execution_count": 12,
     "metadata": {},
     "output_type": "execute_result"
    }
   ],
   "source": [
    "df_strat_lat = dfOz.copy()\n",
    "\n",
    "num_cats=8\n",
    "num_samples_per_category = 13\n",
    "\n",
    "df_strat_lat['category'] = pd.cut(dfOz['latitude'], num_cats)\n",
    "df_strat_lat = df_strat_lat.groupby(['category']).apply(lambda x: x.sample(num_samples_per_category, replace = False)).reset_index(drop = True)\n",
    "\n",
    "len(df_strat_lat)"
   ]
  },
  {
   "cell_type": "code",
   "execution_count": 13,
   "id": "cb0c04c9",
   "metadata": {},
   "outputs": [
    {
     "data": {
      "text/plain": [
       "[<matplotlib.lines.Line2D at 0x27e985b7b20>]"
      ]
     },
     "execution_count": 13,
     "metadata": {},
     "output_type": "execute_result"
    },
    {
     "data": {
      "image/png": "[encoded data removed]",
      "text/plain": [
       "<Figure size 432x288 with 1 Axes>"
      ]
     },
     "metadata": {
      "needs_background": "light"
     },
     "output_type": "display_data"
    }
   ],
   "source": [
    "plt.plot(dfOz['longitude'], dfOz['latitude'],'.')\n",
    "\n",
    "plt.plot(df_strat_lat['longitude'], df_strat_lat['latitude'],'ro')"
   ]
  },
  {
   "cell_type": "code",
   "execution_count": 14,
   "id": "7f94d4d0-3fb3-4854-96ec-e1eac97f02a1",
   "metadata": {},
   "outputs": [],
   "source": [
    "# df_strat_lon = dfOz.copy()\n",
    "\n",
    "# num_cats=8\n",
    "# num_samples_per_category = 11\n",
    "\n",
    "# df_strat_lon['category'] = pd.cut(dfOz['longitude'], num_cats)\n",
    "# df_strat_lon = df_strat_lon.groupby(['category']).apply(lambda x: x.sample(num_samples_per_category, replace = False)).reset_index(drop = True)\n",
    "\n",
    "# len(df_strat_lon)"
   ]
  },
  {
   "cell_type": "code",
   "execution_count": 15,
   "id": "62f01846-dcf6-4a2a-b35d-ccbe3b0409c2",
   "metadata": {},
   "outputs": [],
   "source": [
    "# df_strat_mstr = dfOz.copy()\n",
    "\n",
    "# num_cats=5\n",
    "# num_samples_per_category = 13\n",
    "\n",
    "# df_strat_mstr['category'] = pd.cut(dfOz['mstr'], num_cats)\n",
    "# df_strat_mstr = df_strat_mstr.groupby(['category']).apply(lambda x: x.sample(num_samples_per_category, replace = False)).reset_index(drop = True)\n",
    "\n",
    "# len(df_strat_mstr)"
   ]
  },
  {
   "cell_type": "code",
   "execution_count": 16,
   "id": "e62f5b64-3430-4d72-9f8e-7f316f1c87af",
   "metadata": {},
   "outputs": [],
   "source": [
    "# dfOz = pd.concat([df_strat_lat, df_strat_mstr], ignore_index=True)\n",
    "# dfOz = dfOz.dropna()\n",
    "# len(dfOz)\n",
    "# dfOz = dfOz.drop_duplicates()\n",
    "# len(dfOz)"
   ]
  },
  {
   "cell_type": "code",
   "execution_count": 17,
   "id": "84fc86c9-50b1-4fc2-86ce-66de6920a283",
   "metadata": {},
   "outputs": [],
   "source": [
    "# plt.plot(dfOz['longitude'], dfOz['latitude'],'.')"
   ]
  },
  {
   "cell_type": "code",
   "execution_count": null,
   "id": "4fc654bf-2dbb-41fa-ac1b-55d552871b5e",
   "metadata": {},
   "outputs": [],
   "source": []
  },
  {
   "cell_type": "code",
   "execution_count": 18,
   "id": "3535251a",
   "metadata": {},
   "outputs": [],
   "source": [
    "### exploratory plots"
   ]
  },
  {
   "cell_type": "code",
   "execution_count": 19,
   "id": "0bf393d0",
   "metadata": {},
   "outputs": [],
   "source": [
    "df = df_strat_lat.copy()\n",
    "df.rename(columns = {'Hs_max':'hs_max', 'Hs_mean':'hs_mean', 'Tp_mean': 'tp', 'Wdir_mean':'dir'}, inplace = True)"
   ]
  },
  {
   "cell_type": "code",
   "execution_count": 20,
   "id": "dfba7a7f",
   "metadata": {},
   "outputs": [
    {
     "data": {
      "text/plain": [
       "Index(['beach_id', 'beach_slope_average', 'width_ci_average', 'quality_flag',\n",
       "       'mstr', 'hsig_median', 'prc_mstr_obs', 'min_tide_obs', 'max_tide_obs',\n",
       "       'sl_points_average', 'beach_length', 'coastal_region',\n",
       "       'primary_comp_id', 'secondary_comp_id', 'd50', 'distance_to_sample',\n",
       "       'latitude', 'longitude', 'hs_mean', 'hs_max', 'tp', 'dir',\n",
       "       'Wdir_weighted_mean', 'geometry', 'category'],\n",
       "      dtype='object')"
      ]
     },
     "execution_count": 20,
     "metadata": {},
     "output_type": "execute_result"
    }
   ],
   "source": [
    "df.keys()"
   ]
  },
  {
   "cell_type": "code",
   "execution_count": 21,
   "id": "15f0f15b",
   "metadata": {},
   "outputs": [
    {
     "data": {
      "text/plain": [
       "(array([ 3., 34., 31., 22., 10.,  2.,  0.,  1.,  0.,  1.]),\n",
       " array([0.1189 , 0.17176, 0.22462, 0.27748, 0.33034, 0.3832 , 0.43606,\n",
       "        0.48892, 0.54178, 0.59464, 0.6475 ]),\n",
       " <BarContainer object of 10 artists>)"
      ]
     },
     "execution_count": 21,
     "metadata": {},
     "output_type": "execute_result"
    },
    {
     "data": {
      "image/png": "[encoded data removed]",
      "text/plain": [
       "<Figure size 432x288 with 1 Axes>"
      ]
     },
     "metadata": {
      "needs_background": "light"
     },
     "output_type": "display_data"
    }
   ],
   "source": [
    "plt.hist(df['d50'])"
   ]
  },
  {
   "cell_type": "code",
   "execution_count": 22,
   "id": "eac126ca",
   "metadata": {},
   "outputs": [
    {
     "data": {
      "image/png": "[encoded data removed]",
      "text/plain": [
       "<Figure size 864x864 with 8 Axes>"
      ]
     },
     "metadata": {
      "needs_background": "light"
     },
     "output_type": "display_data"
    }
   ],
   "source": [
    "plt.figure(figsize=(12,12))\n",
    "plt.subplots_adjust(wspace=0.3, hspace=0.3)\n",
    "\n",
    "plt.subplot(331)\n",
    "plt.plot(df['d50'], df['beach_slope_average'],'k.')\n",
    "plt.xlabel(r'$D_{50}$ (mm)')\n",
    "plt.ylabel('Beach Slope (tan β)')\n",
    "plt.title(\"a)\", loc='left')\n",
    "\n",
    "coef = np.polyfit(df['d50'], df['beach_slope_average'],1)\n",
    "poly1d_fn = np.poly1d(coef) \n",
    "plt.plot(df['d50'], poly1d_fn(df['d50']), '-k')\n",
    "\n",
    "r2 = np.min(np.corrcoef(df['d50'], df['beach_slope_average']))**2\n",
    "# plt.text(.1,.09,r'$R^2$='+str(r2)[:4])\n",
    "\n",
    "# plt.subplot(332)\n",
    "# plt.plot(df['d50'], df['trend'],'k.')\n",
    "# plt.xlabel(r'$D_{50}$ (mm)')\n",
    "# plt.ylabel('Shoreline trend (m/yr)')\n",
    "# plt.title(\"b)\", loc='left')\n",
    "\n",
    "# coef = np.polyfit(df['d50'], df['trend'],1)\n",
    "# poly1d_fn = np.poly1d(coef) \n",
    "# plt.plot(df['d50'], poly1d_fn(df['d50']), '-k')\n",
    "\n",
    "# r2 = np.min(np.corrcoef(df['d50'], df['trend']))**2\n",
    "# plt.text(.25,1.1,r'$R^2$='+str(r2)[:4])\n",
    "\n",
    "plt.subplot(333)\n",
    "plt.plot(df['d50'], df['dir'],'k.')\n",
    "plt.xlabel(r'$D_{50}$ (mm)')\n",
    "plt.ylabel('Wave Direction (degrees)')\n",
    "plt.title(\"c)\", loc='left')\n",
    "\n",
    "coef = np.polyfit(df['d50'], df['dir'],1)\n",
    "poly1d_fn = np.poly1d(coef) \n",
    "plt.plot(df['d50'], poly1d_fn(df['d50']), '-k')\n",
    "\n",
    "r2 = np.min(np.corrcoef(df['d50'], df['dir']))**2\n",
    "# plt.text(.25,170,r'$R^2$='+str(r2)[:4])\n",
    "\n",
    "plt.subplot(334)\n",
    "plt.plot(df['d50'], df['hs_mean'],'k.')\n",
    "plt.xlabel(r'$D_{50}$ (mm)')\n",
    "plt.ylabel(r'$H_{s}$ (m)')\n",
    "plt.title(\"d)\", loc='left')\n",
    "\n",
    "coef = np.polyfit(df['d50'], df['hs_mean'],1)\n",
    "poly1d_fn = np.poly1d(coef) \n",
    "plt.plot(df['d50'], poly1d_fn(df['d50']), '-k')\n",
    "\n",
    "r2 = np.min(np.corrcoef(df['d50'], df['hs_mean']))**2\n",
    "# plt.text(.25,.3,r'$R^2$='+str(r2)[:4])\n",
    "\n",
    "plt.subplot(335)\n",
    "plt.plot(df['d50'], df['hs_max'],'k.')\n",
    "plt.xlabel(r'$D_{50}$ (mm)')\n",
    "plt.ylabel(r'$H_{max}$ (m)')\n",
    "plt.title(\"e)\", loc='left')\n",
    "\n",
    "coef = np.polyfit(df['d50'], df['hs_max'],1)\n",
    "poly1d_fn = np.poly1d(coef) \n",
    "plt.plot(df['d50'], poly1d_fn(df['d50']), '-k')\n",
    "\n",
    "r2 = np.min(np.corrcoef(df['d50'], df['hs_max']))**2\n",
    "# plt.text(.25,.3,r'$R^2$='+str(r2)[:4])\n",
    "\n",
    "plt.subplot(336)\n",
    "plt.plot(df['d50'], df['tp'],'k.')\n",
    "plt.xlabel(r'$D_{50}$ (mm)')\n",
    "plt.ylabel(r'$T_{p}$ (s)')\n",
    "plt.title(\"f)\", loc='left')\n",
    "\n",
    "coef = np.polyfit(df['d50'], df['tp'],1)\n",
    "poly1d_fn = np.poly1d(coef) \n",
    "plt.plot(df['d50'], poly1d_fn(df['d50']), '-k')\n",
    "\n",
    "r2 = np.min(np.corrcoef(df['d50'], df['tp']))**2\n",
    "# plt.text(.25,6,r'$R^2$='+str(r2)[:4])\n",
    "\n",
    "plt.subplot(337)\n",
    "plt.plot(df['d50'],df['mstr'] ,'k.')\n",
    "plt.xlabel(r'$D_{50}$ (mm)')\n",
    "plt.ylabel(r'$T$ (m)')\n",
    "plt.title(\"g)\", loc='left')\n",
    "\n",
    "coef = np.polyfit(df['d50'], df['mstr'],1)\n",
    "poly1d_fn = np.poly1d(coef) \n",
    "plt.plot(df['d50'], poly1d_fn(df['d50']), '-k')\n",
    "\n",
    "r2 = np.min(np.corrcoef(df['d50'], df['mstr']))**2\n",
    "# plt.text(.25,.5,r'$R^2$='+str(r2)[:4])\n",
    "\n",
    "plt.subplot(338)\n",
    "plt.plot(df['d50'],df['latitude'] ,'k.')\n",
    "plt.xlabel(r'$D_{50}$ (mm)')\n",
    "plt.ylabel(r'Latitude (deg. N)')\n",
    "plt.title(\"h)\", loc='left')\n",
    "\n",
    "coef = np.polyfit(df['d50'], df['latitude'],1)\n",
    "poly1d_fn = np.poly1d(coef) \n",
    "plt.plot(df['d50'], poly1d_fn(df['d50']), '-k')\n",
    "\n",
    "r2 = np.min(np.corrcoef(df['d50'], df['latitude']))**2\n",
    "# plt.text(.25,30,r'$R^2$='+str(r2)[:4])\n",
    "\n",
    "plt.subplot(339)\n",
    "plt.plot(df['d50'],df['longitude'] ,'k.')\n",
    "plt.xlabel(r'$D_{50}$ (mm)')\n",
    "plt.ylabel(r'Longitude (deg. W)')\n",
    "plt.title(\"i)\", loc='left')\n",
    "\n",
    "coef = np.polyfit(df['d50'], df['longitude'],1)\n",
    "poly1d_fn = np.poly1d(coef) \n",
    "plt.plot(df['d50'], poly1d_fn(df['d50']), '-k')\n",
    "\n",
    "r2 = np.min(np.corrcoef(df['d50'], df['longitude']))**2\n",
    "# plt.text(.25,-78,r'$R^2$='+str(r2)[:4])\n",
    "\n",
    "# plt.savefig('data_plots/CGRASP_d50-linreg-df_strat_lat.jpg', dpi=300, bbox_inches='tight')"
   ]
  },
  {
   "cell_type": "code",
   "execution_count": 23,
   "id": "a3aa2f93",
   "metadata": {},
   "outputs": [],
   "source": [
    "def mcfall(X,hs):\n",
    "    if hs<=1:\n",
    "        A = 3.1; n = -1.1 \n",
    "    elif hs>=3:\n",
    "        A = 3.9; n = -1.85         \n",
    "    else:\n",
    "        A = 2.1; n = -1.8             \n",
    "    return (X/A)**(1/n)"
   ]
  },
  {
   "cell_type": "code",
   "execution_count": 24,
   "id": "09e4b531",
   "metadata": {},
   "outputs": [],
   "source": [
    "def prc_err(y,yest):\n",
    "    return 100*(np.abs(y-yest)/y)"
   ]
  },
  {
   "cell_type": "code",
   "execution_count": 25,
   "id": "acb2f800",
   "metadata": {},
   "outputs": [],
   "source": [
    "def bujan(B,a,b,c):\n",
    "    t1=(B-c)\n",
    "    return (1/8)*(8*((t1/a))**(1/b)+1)"
   ]
  },
  {
   "cell_type": "code",
   "execution_count": null,
   "id": "93af8b22",
   "metadata": {},
   "outputs": [],
   "source": []
  },
  {
   "cell_type": "code",
   "execution_count": 26,
   "id": "8b861759",
   "metadata": {},
   "outputs": [],
   "source": [
    "### Model - data stratified by latitude"
   ]
  },
  {
   "cell_type": "code",
   "execution_count": 27,
   "id": "ab5f5e04",
   "metadata": {},
   "outputs": [],
   "source": [
    "X = pg.pairwise_corr(df[['beach_slope_average','d50','mstr','tp','dir','hs_mean']].copy(), columns=['d50'], method='spearman', alternative='greater', padjust='bonf').round(3)"
   ]
  },
  {
   "cell_type": "code",
   "execution_count": 28,
   "id": "6918c658",
   "metadata": {},
   "outputs": [
    {
     "data": {
      "image/png": "[encoded data removed]",
      "text/plain": [
       "<Figure size 432x288 with 1 Axes>"
      ]
     },
     "metadata": {
      "needs_background": "light"
     },
     "output_type": "display_data"
    }
   ],
   "source": [
    "\n",
    "ax=plt.subplot(111)\n",
    "plt.stem(X['r'])\n",
    "# plt.stem(lower)\n",
    "# plt.stem(upper)\n",
    "plt.xticks([0,1,2,3,4])\n",
    "ax.set_xticklabels(['...β (radians)','...MSTR (m)',r'...$T_p$ (s)',r'...$\\theta$ (deg.)',r'...$H_s$ (m)'])\n",
    "plt.ylim(-1,1)\n",
    "plt.ylabel(r'Partial correlation, $D_{50}$ and ...')\n",
    "plt.xlabel(r'Covariates')\n",
    "plt.title(r\"N = {}\".format(len(df)), loc='left')\n",
    "\n",
    "plt.savefig('../data_plots/partial_correl_EAus.jpg', dpi=300, bbox_inches='tight')"
   ]
  },
  {
   "cell_type": "code",
   "execution_count": null,
   "id": "a9b14364",
   "metadata": {},
   "outputs": [],
   "source": []
  },
  {
   "cell_type": "code",
   "execution_count": 29,
   "id": "795d3356",
   "metadata": {},
   "outputs": [],
   "source": [
    "## same variables as SEUS"
   ]
  },
  {
   "cell_type": "code",
   "execution_count": 30,
   "id": "c6139345",
   "metadata": {},
   "outputs": [],
   "source": [
    "params = {\n",
    "    \"n_estimators\": 500,\n",
    "    \"max_depth\": 4,\n",
    "    \"min_samples_split\": 10,\n",
    "    \"learning_rate\": 0.01,\n",
    "    \"loss\": \"squared_error\",\n",
    "}\n",
    "\n",
    "test_size = 0.75"
   ]
  },
  {
   "cell_type": "code",
   "execution_count": 31,
   "id": "22aeade0",
   "metadata": {},
   "outputs": [],
   "source": [
    "Smean = []\n",
    "Sstd = []"
   ]
  },
  {
   "cell_type": "code",
   "execution_count": 32,
   "id": "36737d1c",
   "metadata": {},
   "outputs": [],
   "source": [
    "rand = np.random.randn(len(df))\n",
    "np.save('../model_out/EOz_rand.npy', rand, allow_pickle=True)\n",
    "\n",
    "rand = np.load('../model_out/EOz_rand.npy', allow_pickle=True)"
   ]
  },
  {
   "cell_type": "code",
   "execution_count": 33,
   "id": "e82d9ca5",
   "metadata": {},
   "outputs": [
    {
     "name": "stdout",
     "output_type": "stream",
     "text": [
      "The mean squared error (MSE) on test set: 0.0156\n"
     ]
    }
   ],
   "source": [
    "feature_names1 = ['β (radians)', r'$\\theta$ (dir.)', 'MSTR (m)', 'Random (non-dim.)']\n",
    "X = np.stack((df['beach_slope_average'],df['dir'],df['mstr'], rand))\n",
    "X.shape\n",
    "\n",
    "X_train1, X_test1, y_train1, y_test1 = train_test_split(\n",
    "    X.T, df['d50'], test_size=test_size, random_state=2022\n",
    ")\n",
    "\n",
    "model1 = ensemble.GradientBoostingRegressor(**params)\n",
    "model1.fit(X_train1, y_train1)\n",
    "\n",
    "mse1 = mean_squared_error(y_test1, model1.predict(X_test1))\n",
    "print(\"The mean squared error (MSE) on test set: {:.4f}\".format(mse1))"
   ]
  },
  {
   "cell_type": "code",
   "execution_count": 34,
   "id": "36df8709",
   "metadata": {},
   "outputs": [],
   "source": [
    "model1out = {}\n",
    "model1out['feature_names'] = feature_names1\n",
    "model1out['Xtest'] = X_test1\n",
    "model1out['Xtrain'] = X_train1\n",
    "model1out['ytest'] = y_test1\n",
    "model1out['ytrain'] = y_train1\n",
    "model1out['model'] = model1\n",
    "model1out['mse'] = mse1"
   ]
  },
  {
   "cell_type": "code",
   "execution_count": 35,
   "id": "b72ede0a",
   "metadata": {},
   "outputs": [
    {
     "name": "stdout",
     "output_type": "stream",
     "text": [
      "Mean RMSE: 0.067 (0.044)\n"
     ]
    }
   ],
   "source": [
    "cv = RepeatedKFold(n_splits=10, n_repeats=5, random_state=2022)\n",
    "# evaluate model\n",
    "scores = cross_val_score(model1, X_test1, y_test1, scoring='neg_root_mean_squared_error', cv=cv, n_jobs=-1)\n",
    "\n",
    "# force scores to be positive\n",
    "scores = np.absolute(scores)\n",
    "print('Mean RMSE: %.3f (%.3f)' % (scores.mean(), scores.std()) )\n",
    "\n",
    "Smean.append(scores.mean())\n",
    "Sstd.append(scores.std())"
   ]
  },
  {
   "cell_type": "code",
   "execution_count": 36,
   "id": "ae7e130d",
   "metadata": {},
   "outputs": [
    {
     "name": "stdout",
     "output_type": "stream",
     "text": [
      "The mean squared error (MSE) on test set: 0.0167\n"
     ]
    }
   ],
   "source": [
    "feature_names2 = [r'β (radians)','MSTR (m)', 'Random (non-dim.)']\n",
    "# X = np.stack((df['beach_slope_median'],df['mstr'], rand))\n",
    "X = np.stack((df['beach_slope_average'],df['mstr'], rand))\n",
    "# X = np.stack((df['beach_slope'],df['mstr'], rand))\n",
    "X.shape\n",
    "\n",
    "X_train2, X_test2, y_train2, y_test2 = train_test_split(\n",
    "    X.T, df['d50'], test_size=test_size, random_state=2022\n",
    ")\n",
    "\n",
    "model2 = ensemble.GradientBoostingRegressor(**params)\n",
    "model2.fit(X_train2, y_train2)\n",
    "\n",
    "mse2 = mean_squared_error(y_test2, model2.predict(X_test2))\n",
    "print(\"The mean squared error (MSE) on test set: {:.4f}\".format(mse2))"
   ]
  },
  {
   "cell_type": "code",
   "execution_count": 37,
   "id": "4658b403",
   "metadata": {},
   "outputs": [],
   "source": [
    "model2out = {}\n",
    "model2out['feature_names'] = feature_names2\n",
    "model2out['Xtest'] = X_test2\n",
    "model2out['Xtrain'] = X_train2\n",
    "model2out['ytest'] = y_test2\n",
    "model2out['ytrain'] = y_train2\n",
    "model2out['model'] = model2\n",
    "model2out['mse'] = mse2"
   ]
  },
  {
   "cell_type": "code",
   "execution_count": 38,
   "id": "646e754b",
   "metadata": {},
   "outputs": [
    {
     "name": "stdout",
     "output_type": "stream",
     "text": [
      "Mean RMSE: 0.069 (0.044)\n"
     ]
    }
   ],
   "source": [
    "cv = RepeatedKFold(n_splits=10, n_repeats=5, random_state=2022)\n",
    "# evaluate model\n",
    "scores = cross_val_score(model2, X_test2, y_test2, scoring='neg_root_mean_squared_error', cv=cv, n_jobs=-1)\n",
    "\n",
    "# force scores to be positive\n",
    "scores = np.absolute(scores)\n",
    "print('Mean RMSE: %.3f (%.3f)' % (scores.mean(), scores.std()) )\n",
    "\n",
    "Smean.append(scores.mean())\n",
    "Sstd.append(scores.std())"
   ]
  },
  {
   "cell_type": "code",
   "execution_count": 39,
   "id": "5845cf6b",
   "metadata": {},
   "outputs": [
    {
     "name": "stdout",
     "output_type": "stream",
     "text": [
      "The mean squared error (MSE) on test set: 0.0161\n"
     ]
    }
   ],
   "source": [
    "feature_names3 = [r'$H_s$ (m)', r'$T_p$ (s)', r'$\\theta$ (dir.)', 'Random (non-dim.)']\n",
    "X = np.stack((df['hs_mean'],df['tp'],df['dir'], rand))\n",
    "# X = np.stack((df['hs_max'],df['tp'],df['dir'], rand))\n",
    "X.shape\n",
    "\n",
    "X_train3, X_test3, y_train3, y_test3 = train_test_split(\n",
    "    X.T, df['d50'], test_size=test_size, random_state=2022\n",
    ")\n",
    "\n",
    "model3 = ensemble.GradientBoostingRegressor(**params)\n",
    "model3.fit(X_train3, y_train3)\n",
    "\n",
    "mse3 = mean_squared_error(y_test3, model3.predict(X_test3))\n",
    "print(\"The mean squared error (MSE) on test set: {:.4f}\".format(mse3))"
   ]
  },
  {
   "cell_type": "code",
   "execution_count": 40,
   "id": "68b509d5",
   "metadata": {},
   "outputs": [],
   "source": [
    "model3out = {}\n",
    "model3out['feature_names'] = feature_names3\n",
    "model3out['Xtest'] = X_test3\n",
    "model3out['Xtrain'] = X_train3\n",
    "model3out['ytest'] = y_test3\n",
    "model3out['ytrain'] = y_train3\n",
    "model3out['model'] = model3\n",
    "model3out['mse'] = mse3"
   ]
  },
  {
   "cell_type": "code",
   "execution_count": 41,
   "id": "115b5452",
   "metadata": {},
   "outputs": [
    {
     "name": "stdout",
     "output_type": "stream",
     "text": [
      "Mean RMSE: 0.078 (0.041)\n"
     ]
    }
   ],
   "source": [
    "cv = RepeatedKFold(n_splits=10, n_repeats=5, random_state=2022)\n",
    "# evaluate model\n",
    "scores = cross_val_score(model3, X_test3, y_test3, scoring='neg_root_mean_squared_error', cv=cv, n_jobs=-1)\n",
    "\n",
    "# force scores to be positive\n",
    "scores = np.absolute(scores)\n",
    "print('Mean RMSE: %.3f (%.3f)' % (scores.mean(), scores.std()) )\n",
    "\n",
    "Smean.append(scores.mean())\n",
    "Sstd.append(scores.std())"
   ]
  },
  {
   "cell_type": "code",
   "execution_count": 42,
   "id": "7c3d8d60",
   "metadata": {},
   "outputs": [
    {
     "name": "stdout",
     "output_type": "stream",
     "text": [
      "The mean squared error (MSE) on test set: 0.0148\n"
     ]
    }
   ],
   "source": [
    "feature_names4 = [r'$H_s$ (m)', r'$T_p$ (s)', r'$\\theta$ (dir.)','MSTR (m)','β', 'Random (non-dim.)']\n",
    "X = np.stack((df['hs_mean'],df['tp'],df['dir'],df['mstr'], df['beach_slope_average'], rand))\n",
    "# X = np.stack((df['hs_max'],df['tp'],df['dir'],df['mstr'], rand))\n",
    "X.shape\n",
    "\n",
    "X_train4, X_test4, y_train4, y_test4 = train_test_split(\n",
    "    X.T, df['d50'], test_size=test_size, random_state=2022\n",
    ")\n",
    "\n",
    "model4 = ensemble.GradientBoostingRegressor(**params)\n",
    "model4.fit(X_train4, y_train4)\n",
    "\n",
    "mse4 = mean_squared_error(y_test4, model4.predict(X_test4))\n",
    "print(\"The mean squared error (MSE) on test set: {:.4f}\".format(mse4))"
   ]
  },
  {
   "cell_type": "code",
   "execution_count": 43,
   "id": "0cad09a9",
   "metadata": {},
   "outputs": [],
   "source": [
    "model4out = {}\n",
    "model4out['feature_names'] = feature_names4\n",
    "model4out['Xtest'] = X_test4\n",
    "model4out['Xtrain'] = X_train4\n",
    "model4out['ytest'] = y_test4\n",
    "model4out['ytrain'] = y_train4\n",
    "model4out['model'] = model4\n",
    "model4out['mse'] = mse4"
   ]
  },
  {
   "cell_type": "code",
   "execution_count": 44,
   "id": "3f2de49d",
   "metadata": {},
   "outputs": [
    {
     "name": "stdout",
     "output_type": "stream",
     "text": [
      "Mean RMSE: 0.065 (0.046)\n"
     ]
    }
   ],
   "source": [
    "cv = RepeatedKFold(n_splits=10, n_repeats=5, random_state=2022)\n",
    "# evaluate model\n",
    "scores = cross_val_score(model4, X_test4, y_test4, scoring='neg_root_mean_squared_error', cv=cv, n_jobs=-1)\n",
    "\n",
    "# force scores to be positive\n",
    "scores = np.absolute(scores)\n",
    "print('Mean RMSE: %.3f (%.3f)' % (scores.mean(), scores.std()) )\n",
    "\n",
    "Smean.append(scores.mean())\n",
    "Sstd.append(scores.std())"
   ]
  },
  {
   "cell_type": "code",
   "execution_count": 45,
   "id": "ce1517fb",
   "metadata": {},
   "outputs": [
    {
     "name": "stdout",
     "output_type": "stream",
     "text": [
      "The mean squared error (MSE) on test set: 0.0163\n"
     ]
    }
   ],
   "source": [
    "feature_names5 = ['MSTR (m)', 'Random (non-dim.)']\n",
    "X = np.stack((df['mstr'], rand))\n",
    "X.shape\n",
    "\n",
    "X_train5, X_test5, y_train5, y_test5 = train_test_split(\n",
    "    X.T, df['d50'], test_size=test_size, random_state=2022\n",
    ")\n",
    "\n",
    "model5 = ensemble.GradientBoostingRegressor(**params)\n",
    "model5.fit(X_train5, y_train5)\n",
    "\n",
    "mse5 = mean_squared_error(y_test5, model5.predict(X_test5))\n",
    "print(\"The mean squared error (MSE) on test set: {:.4f}\".format(mse5))"
   ]
  },
  {
   "cell_type": "code",
   "execution_count": 46,
   "id": "39907136",
   "metadata": {},
   "outputs": [],
   "source": [
    "model5out = {}\n",
    "model5out['feature_names'] = feature_names5\n",
    "model5out['Xtest'] = X_test5\n",
    "model5out['Xtrain'] = X_train5\n",
    "model5out['ytest'] = y_test5\n",
    "model5out['ytrain'] = y_train5\n",
    "model5out['model'] = model5\n",
    "model5out['mse'] = mse5"
   ]
  },
  {
   "cell_type": "code",
   "execution_count": 47,
   "id": "2a0b67a4",
   "metadata": {},
   "outputs": [
    {
     "name": "stdout",
     "output_type": "stream",
     "text": [
      "Mean RMSE: 0.080 (0.041)\n"
     ]
    }
   ],
   "source": [
    "cv = RepeatedKFold(n_splits=10, n_repeats=5, random_state=2022)\n",
    "# evaluate model\n",
    "scores = cross_val_score(model5, X_test5, y_test5, scoring='neg_root_mean_squared_error', cv=cv, n_jobs=-1)\n",
    "\n",
    "# force scores to be positive\n",
    "scores = np.absolute(scores)\n",
    "print('Mean RMSE: %.3f (%.3f)' % (scores.mean(), scores.std()) )\n",
    "\n",
    "Smean.append(scores.mean())\n",
    "Sstd.append(scores.std())"
   ]
  },
  {
   "cell_type": "code",
   "execution_count": 48,
   "id": "ac17d0f8",
   "metadata": {},
   "outputs": [
    {
     "name": "stdout",
     "output_type": "stream",
     "text": [
      "The mean squared error (MSE) on test set: 0.0172\n"
     ]
    }
   ],
   "source": [
    "feature_names6 = ['β (m)', 'Random (non-dim.)']\n",
    "X = np.stack((df['beach_slope_average'], rand))\n",
    "# X = np.stack((df['beach_slope_median'], rand))\n",
    "X.shape\n",
    "\n",
    "X_train6, X_test6, y_train6, y_test6 = train_test_split(\n",
    "    X.T, df['d50'], test_size=test_size, random_state=2022\n",
    ")\n",
    "\n",
    "model6 = ensemble.GradientBoostingRegressor(**params)\n",
    "model6.fit(X_train6, y_train6)\n",
    "\n",
    "mse6 = mean_squared_error(y_test6,model6.predict(X_test6))\n",
    "print(\"The mean squared error (MSE) on test set: {:.4f}\".format(mse6))"
   ]
  },
  {
   "cell_type": "code",
   "execution_count": 49,
   "id": "f51c2063",
   "metadata": {},
   "outputs": [],
   "source": [
    "model6out = {}\n",
    "model6out['feature_names'] = feature_names6\n",
    "model6out['Xtest'] = X_test6\n",
    "model6out['Xtrain'] = X_train6\n",
    "model6out['ytest'] = y_test6\n",
    "model6out['ytrain'] = y_train6\n",
    "model6out['model'] = model6\n",
    "model6out['mse'] = mse6"
   ]
  },
  {
   "cell_type": "code",
   "execution_count": 50,
   "id": "dcba73b9",
   "metadata": {},
   "outputs": [
    {
     "name": "stdout",
     "output_type": "stream",
     "text": [
      "Mean RMSE: 0.068 (0.038)\n"
     ]
    }
   ],
   "source": [
    "cv = RepeatedKFold(n_splits=10, n_repeats=5, random_state=2022)\n",
    "# evaluate model\n",
    "scores = cross_val_score(model6, X_test6, y_test6, scoring='neg_root_mean_squared_error', cv=cv, n_jobs=-1)\n",
    "\n",
    "# force scores to be positive\n",
    "scores = np.absolute(scores)\n",
    "print('Mean RMSE: %.3f (%.3f)' % (scores.mean(), scores.std()) )\n",
    "\n",
    "Smean.append(scores.mean())\n",
    "Sstd.append(scores.std())"
   ]
  },
  {
   "cell_type": "code",
   "execution_count": 51,
   "id": "8db927db",
   "metadata": {},
   "outputs": [
    {
     "data": {
      "text/plain": [
       "[0.06710542724269838,\n",
       " 0.06866719579599366,\n",
       " 0.07816167651569275,\n",
       " 0.06522118964727959,\n",
       " 0.08010506422669199,\n",
       " 0.06840917078343098]"
      ]
     },
     "execution_count": 51,
     "metadata": {},
     "output_type": "execute_result"
    }
   ],
   "source": [
    "Smean"
   ]
  },
  {
   "cell_type": "code",
   "execution_count": 52,
   "id": "f2716273",
   "metadata": {},
   "outputs": [],
   "source": [
    "ds_est_baseline = [mcfall(X,hs) for X,hs in zip(1/df['beach_slope_average'],df['hs_mean'])]\n",
    "\n",
    "a = -0.154\n",
    "b = -0.145\n",
    "c = 0.268\n",
    "\n",
    "ds_est_baseline2 = [bujan(B,a,b,c) for B in df['beach_slope_average']]"
   ]
  },
  {
   "cell_type": "code",
   "execution_count": 53,
   "id": "6e372f9b",
   "metadata": {},
   "outputs": [
    {
     "data": {
      "image/png": "[encoded data removed]",
      "text/plain": [
       "<Figure size 1440x720 with 7 Axes>"
      ]
     },
     "metadata": {
      "needs_background": "light"
     },
     "output_type": "display_data"
    }
   ],
   "source": [
    "plt.figure(figsize=(20,10))\n",
    "plt.subplots_adjust(wspace=0.5, hspace=0.)\n",
    "\n",
    "plt.subplot(171)\n",
    "ds_est = model6.predict(X_test6)\n",
    "plt.plot(y_test6, ds_est, 'ko', label='Test data')\n",
    "plt.xlim(.1,.7); plt.ylim(.1,.7)\n",
    "yl=plt.ylim()\n",
    "plt.plot(yl,yl,'--r')\n",
    "plt.xlabel(r'Observed $D_{50}$ (mm)')\n",
    "plt.ylabel(r'Estimated $D_{50}$ (mm)')\n",
    "plt.title(r\"a) f(β)\", loc='left')\n",
    "r2 = np.min(np.corrcoef(y_test6, ds_est))**2\n",
    "plt.text(.27,.25,r'$R^2$ (test)='+str(r2)[:4])\n",
    "\n",
    "coef = np.polyfit(y_test6, ds_est,1)\n",
    "poly1d_fn = np.poly1d(coef) \n",
    "plt.plot(y_test6, poly1d_fn(y_test6), '-k')\n",
    "plt.text(.27,.23, r'Mean error: {}%'.format(str(np.mean(prc_err(y_test6,ds_est)))[:2]))\n",
    "plt.text(.27,.21, r'MSE: {}mm'.format(str(Smean[5])[:4]))\n",
    "\n",
    "ds_est2 = model6.predict(X_train6)\n",
    "plt.plot(y_train6, ds_est2, 'bp', alpha=0.5, label='Train data')\n",
    "plt.legend(loc=2)\n",
    "\n",
    "plt.text(.27,.17, r'Overall mean error:', color='g')\n",
    "plt.text(.27,.15, r'{}%'.format(str(np.mean(prc_err(np.hstack((y_test6,y_train6)),np.hstack((ds_est,ds_est2)))))[:2]), color='g')\n",
    "\n",
    "plt.subplot(172)\n",
    "ds_est = model5.predict(X_test5)\n",
    "plt.plot(y_test5, ds_est, 'ko')\n",
    "plt.xlim(.1,.7); plt.ylim(.1,.7)\n",
    "yl=plt.ylim()\n",
    "plt.plot(yl,yl,'--r')\n",
    "plt.xlabel(r'Observed $D_{50}$ (mm)')\n",
    "# plt.ylabel(r'Estimated $D_{50}$ (mm)')\n",
    "plt.title(r\"b) f($MSTR$)\", loc='left')\n",
    "r2 = np.min(np.corrcoef(y_test5, ds_est))**2\n",
    "plt.text(.27,.25,r'$R^2$='+str(r2)[:4])\n",
    "\n",
    "coef = np.polyfit(y_test5, ds_est,1)\n",
    "poly1d_fn = np.poly1d(coef) \n",
    "plt.plot(y_test5, poly1d_fn(y_test5), '-k')\n",
    "plt.text(.27,.23, r'Mean error: {}%'.format(str(np.mean(prc_err(y_test5,ds_est)))[:2]))\n",
    "plt.text(.27,.21, r'MSE: {}mm'.format(str(Smean[4])[:4]))\n",
    "\n",
    "ds_est2 = model5.predict(X_train5)\n",
    "plt.plot(y_train5, ds_est2, 'bp', alpha=0.5, label='Train data')\n",
    "\n",
    "plt.text(.27,.17, r'Overall mean error:', color='g')\n",
    "plt.text(.27,.15, r'{}%'.format(str(np.mean(prc_err(np.hstack((y_test5,y_train5)),np.hstack((ds_est,ds_est2)))))[:2]), color='g')\n",
    "\n",
    "plt.subplot(173)\n",
    "ds_est = model2.predict(X_test2)\n",
    "plt.plot(y_test2, ds_est, 'ko')\n",
    "plt.xlim(.1,.7); plt.ylim(.1,.7)\n",
    "yl=plt.ylim()\n",
    "plt.plot(yl,yl,'--r')\n",
    "plt.xlabel(r'Observed $D_{50}$ (mm)')\n",
    "# plt.ylabel(r'Estimated $D_{50}$ (mm)')\n",
    "plt.title(\"c) f(β, $MSTR$)\", loc='left')\n",
    "r2 = np.min(np.corrcoef(y_test2, ds_est))**2\n",
    "plt.text(.27,.25,r'$R^2$ (test)='+str(r2)[:4])\n",
    "\n",
    "coef = np.polyfit(y_test2, ds_est,1)\n",
    "poly1d_fn = np.poly1d(coef) \n",
    "plt.plot(y_test2, poly1d_fn(y_test2), '-k')\n",
    "plt.text(.27,.23, r'Mean error: {}%'.format(str(np.mean(prc_err(y_test2,ds_est)))[:2]))\n",
    "plt.text(.27,.21, r'MSE: {}mm'.format(str(Smean[1])[:4]))\n",
    "\n",
    "ds_est2 = model2.predict(X_train2)\n",
    "plt.plot(y_train2, ds_est2, 'bp', alpha=0.5, label='Train data')\n",
    "\n",
    "plt.text(.27,.17, r'Overall mean error:', color='g')\n",
    "plt.text(.27,.15, r'{}%'.format(str(np.mean(prc_err(np.hstack((y_test2,y_train2)),np.hstack((ds_est,ds_est2)))))[:2]), color='g')\n",
    "\n",
    "plt.subplot(174)\n",
    "ds_est = model1.predict(X_test1)\n",
    "plt.plot(y_test1, ds_est, 'ko')\n",
    "plt.xlim(.1,.7); plt.ylim(.1,.7)\n",
    "yl=plt.ylim()\n",
    "plt.plot(yl,yl,'--r')\n",
    "plt.xlabel(r'Observed $D_{50}$ (mm)')\n",
    "# plt.ylabel(r'Estimated $D_{50}$ (mm)')\n",
    "plt.title(r\"d) f(β, $\\theta$, $MSTR$)\", loc='left')\n",
    "r2 = np.min(np.corrcoef(y_test1, ds_est))**2\n",
    "plt.text(.27,.25,r'$R^2$ (test)='+str(r2)[:4])\n",
    "plt.text(.27,.23, r'Mean error: {}%'.format(str(np.mean(prc_err(y_test1,ds_est)))[:2]))\n",
    "plt.text(.27,.21, r'MSE: {}mm'.format(str(Smean[0])[:4]))\n",
    "\n",
    "coef = np.polyfit(y_test1, ds_est,1)\n",
    "poly1d_fn = np.poly1d(coef) \n",
    "plt.plot(y_test1, poly1d_fn(y_test1), '-k')\n",
    "\n",
    "ds_est2 = model1.predict(X_train1)\n",
    "plt.plot(y_train1, ds_est2, 'bp', alpha=0.5, label='Train data')\n",
    "\n",
    "plt.text(.27,.17, r'Overall mean error:', color='g')\n",
    "plt.text(.27,.15, r'{}%'.format(str(np.mean(prc_err(np.hstack((y_test1,y_train1)),np.hstack((ds_est,ds_est2)))))[:2]), color='g')\n",
    "\n",
    "\n",
    "plt.subplot(175)\n",
    "ds_est = model3.predict(X_test3)\n",
    "plt.plot(y_test3, ds_est, 'ko')\n",
    "plt.xlim(.1,.7); plt.ylim(.1,.7)\n",
    "yl=plt.ylim()\n",
    "plt.plot(yl,yl,'--r')\n",
    "plt.xlabel(r'Observed $D_{50}$ (mm)')\n",
    "# plt.ylabel(r'Estimated $D_{50}$ (mm)')\n",
    "plt.title(r\"e) f($H_s$, $T_p$, $\\theta$)\", loc='left')\n",
    "r2 = np.min(np.corrcoef(y_test3, ds_est))**2\n",
    "plt.text(.27,.25,r'$R^2$ (test)='+str(r2)[:4])\n",
    "\n",
    "coef = np.polyfit(y_test3, ds_est,1)\n",
    "poly1d_fn = np.poly1d(coef) \n",
    "plt.plot(y_test3, poly1d_fn(y_test3), '-k')\n",
    "plt.text(.27,.23, r'Mean error: {}%'.format(str(np.mean(prc_err(y_test3,ds_est)))[:2]))\n",
    "plt.text(.27,.21, r'MSE: {}mm'.format(str(Smean[2])[:4]))\n",
    "\n",
    "ds_est2 = model3.predict(X_train3)\n",
    "plt.plot(y_train3, ds_est2, 'bp', alpha=0.5, label='Train data')\n",
    "\n",
    "plt.text(.27,.17, r'Overall mean error:', color='g')\n",
    "plt.text(.27,.15, r'{}%'.format(str(np.mean(prc_err(np.hstack((y_test3,y_train3)),np.hstack((ds_est,ds_est2)))))[:2]), color='g')\n",
    "\n",
    "\n",
    "plt.subplot(176)\n",
    "ds_est = model4.predict(X_test4)\n",
    "plt.plot(y_test4, ds_est, 'ko')\n",
    "plt.xlim(.1,.7); plt.ylim(.1,.7)\n",
    "yl=plt.ylim()\n",
    "plt.plot(yl,yl,'--r')\n",
    "plt.xlabel(r'Observed $D_{50}$ (mm)')\n",
    "# plt.ylabel(r'Estimated $D_{50}$ (mm)')\n",
    "plt.title(r\"f) f($H_s$, $T_p$, $\\theta$, $MSTR$, β)\", loc='left')\n",
    "r2 = np.min(np.corrcoef(y_test4, ds_est))**2\n",
    "plt.text(.27,.25,r'$R^2$ (test)='+str(r2)[:4])\n",
    "\n",
    "coef = np.polyfit(y_test4, ds_est,1)\n",
    "poly1d_fn = np.poly1d(coef) \n",
    "plt.plot(y_test4, poly1d_fn(y_test4), '-k')\n",
    "plt.text(.27,.23, r'Mean error: {}%'.format(str(np.mean(prc_err(y_test4,ds_est)))[:2]))\n",
    "plt.text(.27,.21, r'MSE: {}mm'.format(str(Smean[3])[:4]))\n",
    "\n",
    "ds_est2 = model4.predict(X_train4)\n",
    "plt.plot(y_train4, ds_est2, 'bp', alpha=0.5, label='Train data')\n",
    "\n",
    "plt.text(.27,.17, r'Overall mean error:', color='g')\n",
    "plt.text(.27,.15, r'{}%'.format(str(np.mean(prc_err(np.hstack((y_test4,y_train4)),np.hstack((ds_est,ds_est2)))))[:2]), color='g')\n",
    "\n",
    "\n",
    "plt.subplot(177)\n",
    "plt.plot(df['d50'], ds_est_baseline, 'bp', label=r'McFall (2019), f($\\beta$, $H_s$)')\n",
    "plt.xlim(.1,.7); plt.ylim(.1,.7)\n",
    "yl=plt.ylim()\n",
    "plt.plot(yl,yl,'--r')\n",
    "plt.xlabel(r'Observed $D_{50}$ (mm)')\n",
    "# plt.ylabel(r'Estimated $D_{50}$ (mm)')\n",
    "plt.title(r\"g) Baseline models\", loc='left')\n",
    "r2 = np.min(np.corrcoef(df['d50'], ds_est_baseline))**2\n",
    "plt.text(.22,.65,r'$R^2$ (all)='+str(r2)[:4], color='b')\n",
    "\n",
    "coef = np.polyfit(df['d50'], ds_est_baseline,1)\n",
    "poly1d_fn = np.poly1d(coef) \n",
    "plt.plot(df['d50'], poly1d_fn(df['d50']), '-b')\n",
    "\n",
    "\n",
    "plt.plot(df['d50'], ds_est_baseline2, 'ms', alpha=0.5, label=r\"Bujan et al. (2019), f($\\beta$)\")\n",
    "plt.xlim(.1,.7); plt.ylim(.1,.7)\n",
    "yl=plt.ylim()\n",
    "plt.plot(yl,yl,'--r')\n",
    "plt.xlabel(r'Observed $D_{50}$ (mm)')\n",
    "# plt.ylabel(r'Estimated $D_{50}$ (mm)')\n",
    "# plt.title(r\"f) Bujan et al. (2019) relation, f($\\beta$)\", loc='left')\n",
    "r2 = np.min(np.corrcoef(df['d50'], ds_est_baseline2))**2\n",
    "plt.text(.22,.55,r'$R^2$ (all)='+str(r2)[:4], color='m')\n",
    "\n",
    "coef = np.polyfit(df['d50'], ds_est_baseline2,1)\n",
    "poly1d_fn = np.poly1d(coef) \n",
    "plt.plot(df['d50'], poly1d_fn(df['d50']), '-m')\n",
    "plt.legend(fontsize=8)\n",
    "\n",
    "plt.savefig('../model_plots/EAus_d50-6model-baseline-skill.jpg', dpi=300, bbox_inches='tight')\n",
    "# plt.close()"
   ]
  },
  {
   "cell_type": "code",
   "execution_count": 54,
   "id": "10a6dcab",
   "metadata": {},
   "outputs": [
    {
     "name": "stderr",
     "output_type": "stream",
     "text": [
      "C:\\Users\\dbuscombe\\Anaconda3\\envs\\cgrasp\\lib\\site-packages\\sklearn\\utils\\deprecation.py:103: FutureWarning: Attribute `loss_` was deprecated in version 1.1 and will be removed in 1.3.\n",
      "  warnings.warn(msg, category=FutureWarning)\n",
      "C:\\Users\\dbuscombe\\Anaconda3\\envs\\cgrasp\\lib\\site-packages\\sklearn\\utils\\deprecation.py:103: FutureWarning: Attribute `loss_` was deprecated in version 1.1 and will be removed in 1.3.\n",
      "  warnings.warn(msg, category=FutureWarning)\n",
      "C:\\Users\\dbuscombe\\Anaconda3\\envs\\cgrasp\\lib\\site-packages\\sklearn\\utils\\deprecation.py:103: FutureWarning: Attribute `loss_` was deprecated in version 1.1 and will be removed in 1.3.\n",
      "  warnings.warn(msg, category=FutureWarning)\n",
      "C:\\Users\\dbuscombe\\Anaconda3\\envs\\cgrasp\\lib\\site-packages\\sklearn\\utils\\deprecation.py:103: FutureWarning: Attribute `loss_` was deprecated in version 1.1 and will be removed in 1.3.\n",
      "  warnings.warn(msg, category=FutureWarning)\n",
      "C:\\Users\\dbuscombe\\Anaconda3\\envs\\cgrasp\\lib\\site-packages\\sklearn\\utils\\deprecation.py:103: FutureWarning: Attribute `loss_` was deprecated in version 1.1 and will be removed in 1.3.\n",
      "  warnings.warn(msg, category=FutureWarning)\n",
      "C:\\Users\\dbuscombe\\Anaconda3\\envs\\cgrasp\\lib\\site-packages\\sklearn\\utils\\deprecation.py:103: FutureWarning: Attribute `loss_` was deprecated in version 1.1 and will be removed in 1.3.\n",
      "  warnings.warn(msg, category=FutureWarning)\n"
     ]
    },
    {
     "data": {
      "image/png": "[encoded data removed]",
      "text/plain": [
       "<Figure size 1008x576 with 6 Axes>"
      ]
     },
     "metadata": {
      "needs_background": "light"
     },
     "output_type": "display_data"
    }
   ],
   "source": [
    "fig=plt.figure(figsize=(14,8))\n",
    "plt.subplots_adjust(wspace=0.4, hspace=0.4)\n",
    "\n",
    "\n",
    "####################\n",
    "test_score = np.zeros((params[\"n_estimators\"],), dtype=np.float64)\n",
    "for i, y_pred6 in enumerate(model6.staged_predict(X_test6)):\n",
    "    test_score[i] = model6.loss_(y_test6, y_pred6)\n",
    "\n",
    "plt.subplot(1, 6, 1)\n",
    "plt.title(r\"a) f(β)\", loc='left')\n",
    "plt.plot(\n",
    "    np.arange(params[\"n_estimators\"]) + 1,\n",
    "    np.sqrt(model6.train_score_),\n",
    "    \"b-\",\n",
    "    label=\"Training set\",\n",
    ")\n",
    "plt.plot(\n",
    "    np.arange(params[\"n_estimators\"]) + 1, np.sqrt(test_score), \"r--\", label=\"Test set\", lw=2\n",
    ")\n",
    "plt.axhline(0.15, linestyle=':',label='0.15 mm threshold')\n",
    "# plt.legend(loc=\"upper right\")\n",
    "plt.xlabel(\"Boosting iterations\")\n",
    "plt.ylabel(\"Mean deviance (mm)\")\n",
    "plt.ylim(0,.25)\n",
    "plt.legend(loc=\"upper right\")\n",
    "\n",
    "###########################\n",
    "test_score = np.zeros((params[\"n_estimators\"],), dtype=np.float64)\n",
    "for i, y_pred5 in enumerate(model5.staged_predict(X_test5)):\n",
    "    test_score[i] = model5.loss_(y_test5, y_pred5)\n",
    "\n",
    "plt.subplot(1, 6, 2)\n",
    "plt.title(r\"b) f($MSTR$)\", loc='left')\n",
    "plt.plot(\n",
    "    np.arange(params[\"n_estimators\"]) + 1,\n",
    "    np.sqrt(model5.train_score_),\n",
    "    \"b-\",\n",
    "    label=\"Training set\",\n",
    ")\n",
    "plt.plot(\n",
    "    np.arange(params[\"n_estimators\"]) + 1, np.sqrt(test_score), \"r--\", label=\"Test set\", lw=2\n",
    ")\n",
    "plt.axhline(0.15, linestyle=':',label='0.15 mm threshold')\n",
    "# plt.legend(loc=\"upper right\")\n",
    "plt.xlabel(\"Boosting iterations\")\n",
    "# plt.ylabel(\"Deviance (non-dim.)\")\n",
    "plt.ylim(0,.25)\n",
    "\n",
    "\n",
    "#############################\n",
    "test_score = np.zeros((params[\"n_estimators\"],), dtype=np.float64)\n",
    "for i, y_pred2 in enumerate(model2.staged_predict(X_test2)):\n",
    "    test_score[i] = model2.loss_(y_test2, y_pred2)\n",
    "\n",
    "plt.subplot(1, 6, 3)\n",
    "plt.title(\"c) f(β, $MSTR$)\", loc='left')\n",
    "plt.plot(\n",
    "    np.arange(params[\"n_estimators\"]) + 1,\n",
    "    np.sqrt(model2.train_score_),\n",
    "    \"b-\",\n",
    "    label=\"Training set\",\n",
    ")\n",
    "plt.plot(\n",
    "    np.arange(params[\"n_estimators\"]) + 1, np.sqrt(test_score), \"r--\", label=\"Test set\", lw=2\n",
    ")\n",
    "plt.axhline(0.15, linestyle=':',label='0.15 mm threshold')\n",
    "# plt.legend(loc=\"upper right\")\n",
    "plt.xlabel(\"Boosting iterations\")\n",
    "# plt.ylabel(\"Deviance (non-dim.)\")\n",
    "plt.ylim(0,.25)\n",
    "\n",
    "\n",
    "#####################\n",
    "test_score = np.zeros((params[\"n_estimators\"],), dtype=np.float64)\n",
    "for i, y_pred1 in enumerate(model1.staged_predict(X_test1)):\n",
    "    test_score[i] = model1.loss_(y_test1, y_pred1)\n",
    "    \n",
    "plt.subplot(1, 6, 4)\n",
    "plt.title(\"d) f(β, $\\theta$, $MSTR$) \", loc='left')\n",
    "plt.plot(\n",
    "    np.arange(params[\"n_estimators\"]) + 1,\n",
    "    np.sqrt(model1.train_score_),\n",
    "    \"b-\",\n",
    "    label=\"Training set\",\n",
    ")\n",
    "plt.plot(\n",
    "    np.arange(params[\"n_estimators\"]) + 1, np.sqrt(test_score), \"r--\", label=\"Test set\", lw=2\n",
    ")\n",
    "plt.axhline(0.15, linestyle=':',label='0.15 mm threshold')\n",
    "plt.xlabel(\"Boosting iterations\")\n",
    "# plt.ylabel(\"Deviance (non-dim.)\")\n",
    "plt.ylim(0,.25)\n",
    "\n",
    "#####################\n",
    "test_score = np.zeros((params[\"n_estimators\"],), dtype=np.float64)\n",
    "for i, y_pred3 in enumerate(model3.staged_predict(X_test3)):\n",
    "    test_score[i] = model3.loss_(y_test3, y_pred3)\n",
    "    \n",
    "plt.subplot(1, 6, 5)\n",
    "plt.title(r\"e) f($H_s$, $T_p$, $\\theta$)\", loc='left')\n",
    "plt.plot(\n",
    "    np.arange(params[\"n_estimators\"]) + 1,\n",
    "    np.sqrt(model3.train_score_),\n",
    "    \"b-\",\n",
    "    label=\"Training set\",\n",
    ")\n",
    "plt.plot(\n",
    "    np.arange(params[\"n_estimators\"]) + 1, np.sqrt(test_score), \"r--\", label=\"Test set\", lw=2\n",
    ")\n",
    "plt.axhline(0.15, linestyle=':',label='0.15 mm threshold')\n",
    "# plt.legend(loc=\"upper right\")\n",
    "plt.xlabel(\"Boosting iterations\")\n",
    "# plt.ylabel(\"Deviance (non-dim.)\")\n",
    "plt.ylim(0,.25)\n",
    "\n",
    "#####################\n",
    "test_score = np.zeros((params[\"n_estimators\"],), dtype=np.float64)\n",
    "for i, y_pred4 in enumerate(model4.staged_predict(X_test4)):\n",
    "    test_score[i] = model4.loss_(y_test4, y_pred4)\n",
    "    \n",
    "plt.subplot(1, 6, 6)\n",
    "plt.title(r\"f) f($H_s$, $T_p$, $\\theta$, $MSTR$, β)\", loc='left')\n",
    "plt.plot(\n",
    "    np.arange(params[\"n_estimators\"]) + 1,\n",
    "    np.sqrt(model4.train_score_),\n",
    "    \"b-\",\n",
    "    label=\"Training set\",\n",
    ")\n",
    "plt.plot(\n",
    "    np.arange(params[\"n_estimators\"]) + 1, np.sqrt(test_score), \"r--\", label=\"Test set\", lw=2\n",
    ")\n",
    "plt.axhline(0.15, linestyle=':',label='0.15 mm threshold')\n",
    "# plt.legend(loc=\"upper right\")\n",
    "plt.xlabel(\"Boosting iterations\")\n",
    "# plt.ylabel(\"Deviance (non-dim.)\")\n",
    "plt.ylim(0,.25)\n",
    "\n",
    "fig.tight_layout()\n",
    "# plt.show()\n",
    "plt.savefig('../model_plots/EAus_d50-6models-training-strat-lat.jpg', dpi=300, bbox_inches='tight')"
   ]
  },
  {
   "cell_type": "code",
   "execution_count": 55,
   "id": "fdc34c86",
   "metadata": {},
   "outputs": [
    {
     "data": {
      "image/png": "[encoded data removed]",
      "text/plain": [
       "<Figure size 864x576 with 6 Axes>"
      ]
     },
     "metadata": {
      "needs_background": "light"
     },
     "output_type": "display_data"
    }
   ],
   "source": [
    "\n",
    "fig=plt.figure(figsize=(12,8))\n",
    "plt.subplots_adjust(wspace=0.4, hspace=0.4)\n",
    "\n",
    "########################\n",
    "result = permutation_importance(\n",
    "    model6, X_test6, y_test6, n_repeats=10, random_state=42, n_jobs=2\n",
    ")\n",
    "sorted_idx = result.importances_mean.argsort()\n",
    "plt.subplot(231)\n",
    "plt.boxplot(\n",
    "    result.importances[sorted_idx].T,\n",
    "    vert=False,\n",
    "    labels=np.array(feature_names6)[sorted_idx],\n",
    ")\n",
    "\n",
    "plt.xlim(0,2)\n",
    "plt.title(\"a) f(β) \", loc='left')\n",
    "plt.xlabel(\"Permutation importance (non-dim.), test set\")\n",
    "plt.ylabel(\"Variable\")\n",
    "\n",
    "#########################\n",
    "result = permutation_importance(\n",
    "    model5, X_test5, y_test5, n_repeats=10, random_state=42, n_jobs=2\n",
    ")\n",
    "sorted_idx = result.importances_mean.argsort()\n",
    "plt.subplot(232)\n",
    "plt.boxplot(\n",
    "    result.importances[sorted_idx].T,\n",
    "    vert=False,\n",
    "    labels=np.array(feature_names5)[sorted_idx],\n",
    ")\n",
    "\n",
    "plt.xlim(0,2)\n",
    "plt.title(\"b) f($MSTR$) \", loc='left')\n",
    "plt.xlabel(\"Permutation importance (non-dim.), test set\")\n",
    "plt.ylabel(\"Variable\")\n",
    "\n",
    "#############################\n",
    "result = permutation_importance(\n",
    "    model2, X_test2, y_test3, n_repeats=10, random_state=42, n_jobs=2\n",
    ")\n",
    "sorted_idx = result.importances_mean.argsort()\n",
    "plt.subplot(233)\n",
    "plt.boxplot(\n",
    "    result.importances[sorted_idx].T,\n",
    "    vert=False,\n",
    "    labels=np.array(feature_names2)[sorted_idx],\n",
    ")\n",
    "\n",
    "plt.xlim(0,2)\n",
    "plt.title(\"c) f(β + $MSTR$) \", loc='left')\n",
    "plt.xlabel(\"Permutation importance (non-dim.), test set\")\n",
    "plt.ylabel(\"Variable\")\n",
    "\n",
    "############################\n",
    "result = permutation_importance(\n",
    "    model1, X_test1, y_test1, n_repeats=10, random_state=42, n_jobs=2\n",
    ")\n",
    "sorted_idx = result.importances_mean.argsort()\n",
    "plt.subplot(234)\n",
    "plt.boxplot(\n",
    "    result.importances[sorted_idx].T,\n",
    "    vert=False,\n",
    "    labels=np.array(feature_names1)[sorted_idx],\n",
    ")\n",
    "plt.xlim(0,2)\n",
    "plt.title(r\"d) f(β, $\\theta$, $MSTR$)\", loc='left')\n",
    "plt.xlabel(\"Permutation importance (non-dim.), test set\")\n",
    "plt.ylabel(\"Variable\")\n",
    "\n",
    "############################\n",
    "result = permutation_importance(\n",
    "    model3, X_test3, y_test3, n_repeats=10, random_state=42, n_jobs=2\n",
    ")\n",
    "sorted_idx = result.importances_mean.argsort()\n",
    "plt.subplot(235)\n",
    "plt.boxplot(\n",
    "    result.importances[sorted_idx].T,\n",
    "    vert=False,\n",
    "    labels=np.array(feature_names3)[sorted_idx],\n",
    ")\n",
    "plt.xlim(0,2)\n",
    "plt.title(r\"e) f($H_s$, $T_p$, $\\theta$) \", loc='left')\n",
    "plt.xlabel(\"Permutation importance (non-dim.), test set\")\n",
    "plt.ylabel(\"Variable\")\n",
    "\n",
    "##################################\n",
    "result = permutation_importance(\n",
    "    model4, X_test4, y_test4, n_repeats=10, random_state=42, n_jobs=2\n",
    ")\n",
    "sorted_idx = result.importances_mean.argsort()\n",
    "plt.subplot(236)\n",
    "plt.boxplot(\n",
    "    result.importances[sorted_idx].T,\n",
    "    vert=False,\n",
    "    labels=np.array(feature_names4)[sorted_idx],\n",
    ")\n",
    "plt.xlim(0,2)\n",
    "plt.title(r\"f) f($H_s$, $T_p$, $\\theta$, $MSTR$, β) \", loc='left')\n",
    "plt.xlabel(\"Permutation importance (non-dim.), test set\")\n",
    "plt.ylabel(\"Variable\")\n",
    "\n",
    "fig.tight_layout()\n",
    "\n",
    "plt.savefig('../model_plots/EAus_d50-6models-featimps-v2.jpg', dpi=300, bbox_inches='tight')\n"
   ]
  },
  {
   "cell_type": "code",
   "execution_count": null,
   "id": "cf0a39ee",
   "metadata": {},
   "outputs": [],
   "source": []
  },
  {
   "cell_type": "code",
   "execution_count": 56,
   "id": "37fa3c63",
   "metadata": {},
   "outputs": [],
   "source": [
    "### save model"
   ]
  },
  {
   "cell_type": "code",
   "execution_count": 57,
   "id": "7aa072ff",
   "metadata": {},
   "outputs": [],
   "source": [
    "np.save('../model_out/dataset_Australia_East_coast_model1.npy', model1out, allow_pickle=True)\n",
    "np.save('../model_out/dataset_Australia_East_coast_model2.npy', model2out, allow_pickle=True)\n",
    "np.save('../model_out/dataset_Australia_East_coast_model3.npy', model3out, allow_pickle=True)\n",
    "np.save('../model_out/dataset_Australia_East_coast_model4.npy', model4out, allow_pickle=True)\n",
    "np.save('../model_out/dataset_Australia_East_coast_model5.npy', model5out, allow_pickle=True)\n",
    "np.save('../model_out/dataset_Australia_East_coast_model6.npy', model6out, allow_pickle=True)"
   ]
  },
  {
   "cell_type": "code",
   "execution_count": 58,
   "id": "e4430ef3",
   "metadata": {},
   "outputs": [],
   "source": [
    "del df['category']"
   ]
  },
  {
   "cell_type": "code",
   "execution_count": 59,
   "id": "41dac0c2",
   "metadata": {},
   "outputs": [],
   "source": [
    "df.to_csv('../model_data/dataset_Australia_East_coast_stratsample-by-lat.csv') # 104 samples (no replacement)\n",
    "df = pd.read_csv('../model_data/dataset_Australia_East_coast_stratsample-by-lat.csv')"
   ]
  },
  {
   "cell_type": "code",
   "execution_count": null,
   "id": "ad950502",
   "metadata": {},
   "outputs": [],
   "source": []
  },
  {
   "cell_type": "code",
   "execution_count": 60,
   "id": "e4c70c56",
   "metadata": {},
   "outputs": [
    {
     "data": {
      "text/plain": [
       "104"
      ]
     },
     "execution_count": 60,
     "metadata": {},
     "output_type": "execute_result"
    }
   ],
   "source": [
    "len(df)"
   ]
  },
  {
   "cell_type": "code",
   "execution_count": null,
   "id": "335f703f",
   "metadata": {},
   "outputs": [],
   "source": []
  },
  {
   "cell_type": "code",
   "execution_count": null,
   "id": "169460a4",
   "metadata": {},
   "outputs": [],
   "source": []
  },
  {
   "cell_type": "code",
   "execution_count": null,
   "id": "5e89d3f5",
   "metadata": {},
   "outputs": [],
   "source": []
  },
  {
   "cell_type": "code",
   "execution_count": null,
   "id": "94b13733",
   "metadata": {},
   "outputs": [],
   "source": []
  },
  {
   "cell_type": "code",
   "execution_count": null,
   "id": "a34def40",
   "metadata": {},
   "outputs": [],
   "source": []
  },
  {
   "cell_type": "code",
   "execution_count": null,
   "id": "cdd94e77",
   "metadata": {},
   "outputs": [],
   "source": []
  },
  {
   "cell_type": "code",
   "execution_count": null,
   "id": "d136409e",
   "metadata": {},
   "outputs": [],
   "source": []
  },
  {
   "cell_type": "code",
   "execution_count": null,
   "id": "c8670f3c",
   "metadata": {},
   "outputs": [],
   "source": []
  },
  {
   "cell_type": "code",
   "execution_count": null,
   "id": "fbd015a7",
   "metadata": {},
   "outputs": [],
   "source": []
  },
  {
   "cell_type": "code",
   "execution_count": null,
   "id": "4a2d8a39",
   "metadata": {},
   "outputs": [],
   "source": []
  },
  {
   "cell_type": "code",
   "execution_count": null,
   "id": "90d91431",
   "metadata": {},
   "outputs": [],
   "source": []
  },
  {
   "cell_type": "code",
   "execution_count": 61,
   "id": "cc454a39",
   "metadata": {},
   "outputs": [],
   "source": [
    "### optimized hyperparameters"
   ]
  },
  {
   "cell_type": "code",
   "execution_count": 62,
   "id": "b56dbb5e",
   "metadata": {},
   "outputs": [],
   "source": [
    "# from sklearn import preprocessing\n"
   ]
  },
  {
   "cell_type": "code",
   "execution_count": 63,
   "id": "0160fbfe",
   "metadata": {},
   "outputs": [],
   "source": [
    "# # params = {\n",
    "# #     \"n_estimators\": 500,\n",
    "# #     \"max_depth\": 4,\n",
    "# #     \"min_samples_split\": 10,\n",
    "# #     \"learning_rate\": 0.01,\n",
    "# #     \"loss\": \"squared_error\",\n",
    "# # }\n",
    "\n",
    "# # test_size = 0.75\n",
    "\n",
    "\n",
    "# params = {\n",
    "#     \"n_estimators\": 500,\n",
    "#     \"max_depth\": 4,\n",
    "#     \"min_samples_split\": 5,\n",
    "#     \"learning_rate\": 0.1, #0.01,\n",
    "#     \"loss\": \"squared_error\",\n",
    "# }\n",
    "\n",
    "# test_size = 0.75"
   ]
  },
  {
   "cell_type": "code",
   "execution_count": 64,
   "id": "44ed590d",
   "metadata": {},
   "outputs": [],
   "source": [
    "# yscaler = preprocessing.StandardScaler().fit(df['d50'].values.reshape(-1, 1))\n",
    "# y = yscaler.transform(df['d50'].values.reshape(-1, 1))\n",
    "\n",
    "# indices = np.arange(len(y))"
   ]
  },
  {
   "cell_type": "code",
   "execution_count": 65,
   "id": "082e325e",
   "metadata": {},
   "outputs": [],
   "source": [
    "# Smean = []\n",
    "# Sstd = []"
   ]
  },
  {
   "cell_type": "code",
   "execution_count": 66,
   "id": "884455d3",
   "metadata": {},
   "outputs": [],
   "source": [
    "# rand = np.load('EOz_rand.npy', allow_pickle=True)"
   ]
  },
  {
   "cell_type": "code",
   "execution_count": 67,
   "id": "dcf5dc97",
   "metadata": {},
   "outputs": [],
   "source": [
    "# feature_names1 = ['β (radians)', r'$\\theta$ (dir.)', 'MSTR (m)', 'Random (non-dim.)']\n",
    "# X = np.stack((df['beach_slope_average'],df['dir'],df['mstr'], rand))\n",
    "# X.shape\n",
    "\n",
    "# X_train1, X_test1, y_train1, y_test1 = train_test_split(\n",
    "#     X.T, y.ravel(), test_size=test_size, random_state=2022\n",
    "# )\n",
    "\n",
    "# #unscale y - we balanced it to sample equally among grain size bins\n",
    "# y_test1 = yscaler.inverse_transform(y_test1.reshape(-1, 1)).squeeze()\n",
    "# y_train1 = yscaler.inverse_transform(y_train1.reshape(-1, 1)).squeeze()\n",
    "\n",
    "# print(y_test1.max())\n",
    "# print(y_train1.max())\n",
    "\n",
    "# model1 = ensemble.GradientBoostingRegressor(**params)\n",
    "# model1.fit(X_train1, y_train1)\n",
    "\n",
    "# mse1 = mean_squared_error(y_test1, model1.predict(X_test1))\n",
    "# print(\"The mean squared error (MSE) on test set: {:.4f}\".format(mse1))"
   ]
  },
  {
   "cell_type": "code",
   "execution_count": 68,
   "id": "10e8e4c5",
   "metadata": {},
   "outputs": [],
   "source": [
    "# model1out = {}\n",
    "# model1out['feature_names'] = feature_names1\n",
    "# model1out['Xtest'] = X_test1\n",
    "# model1out['Xtrain'] = X_train1\n",
    "# model1out['ytest'] = y_test1\n",
    "# model1out['ytrain'] = y_train1\n",
    "# model1out['model'] = model1\n",
    "# model1out['mse'] = mse1"
   ]
  },
  {
   "cell_type": "code",
   "execution_count": 69,
   "id": "5fa56cce",
   "metadata": {},
   "outputs": [],
   "source": [
    "# cv = RepeatedKFold(n_splits=10, n_repeats=5, random_state=2022)\n",
    "# # evaluate model\n",
    "# scores = cross_val_score(model1, X_test1, y_test1, scoring='neg_root_mean_squared_error', cv=cv, n_jobs=-1)\n",
    "\n",
    "# # force scores to be positive\n",
    "# scores = np.absolute(scores)\n",
    "# print('Mean RMSE: %.3f (%.3f)' % (scores.mean(), scores.std()) )\n",
    "\n",
    "# Smean.append(scores.mean())\n",
    "# Sstd.append(scores.std())"
   ]
  },
  {
   "cell_type": "code",
   "execution_count": 70,
   "id": "bd4aecb1",
   "metadata": {},
   "outputs": [],
   "source": [
    "# feature_names2 = [r'β (radians)','MSTR (m)', 'Random (non-dim.)']\n",
    "# # X = np.stack((df['beach_slope_median'],df['mstr'], rand))\n",
    "# X = np.stack((df['beach_slope_average'],df['mstr'], rand))\n",
    "# # X = np.stack((df['beach_slope'],df['mstr'], rand))\n",
    "# X.shape\n",
    "\n",
    "# X_train2, X_test2, y_train2, y_test2 = train_test_split(\n",
    "#     X.T, y.ravel(), test_size=test_size, random_state=2022, #df['d50']\n",
    "# )\n",
    "\n",
    "# #unscale y - we balanced it to sample equally among grain size bins\n",
    "# y_test2 = yscaler.inverse_transform(y_test2.reshape(-1, 1)).squeeze()\n",
    "# y_train2 = yscaler.inverse_transform(y_train2.reshape(-1, 1)).squeeze()\n",
    "\n",
    "# print(y_test2.max())\n",
    "# print(y_train2.max())\n",
    "\n",
    "# model2 = ensemble.GradientBoostingRegressor(**params)\n",
    "# model2.fit(X_train2, y_train2)\n",
    "\n",
    "# mse2 = mean_squared_error(y_test2, model2.predict(X_test2))\n",
    "# print(\"The mean squared error (MSE) on test set: {:.4f}\".format(mse2))"
   ]
  },
  {
   "cell_type": "code",
   "execution_count": 71,
   "id": "6f4f0449",
   "metadata": {},
   "outputs": [],
   "source": [
    "# model2out = {}\n",
    "# model2out['feature_names'] = feature_names2\n",
    "# model2out['Xtest'] = X_test2\n",
    "# model2out['Xtrain'] = X_train2\n",
    "# model2out['ytest'] = y_test2\n",
    "# model2out['ytrain'] = y_train2\n",
    "# model2out['model'] = model2\n",
    "# model2out['mse'] = mse2"
   ]
  },
  {
   "cell_type": "code",
   "execution_count": 72,
   "id": "14753b4e",
   "metadata": {},
   "outputs": [],
   "source": [
    "# cv = RepeatedKFold(n_splits=10, n_repeats=5, random_state=2022)\n",
    "# # evaluate model\n",
    "# scores = cross_val_score(model2, X_test2, y_test2, scoring='neg_root_mean_squared_error', cv=cv, n_jobs=-1)\n",
    "\n",
    "# # force scores to be positive\n",
    "# scores = np.absolute(scores)\n",
    "# print('Mean RMSE: %.3f (%.3f)' % (scores.mean(), scores.std()) )\n",
    "\n",
    "# Smean.append(scores.mean())\n",
    "# Sstd.append(scores.std())"
   ]
  },
  {
   "cell_type": "code",
   "execution_count": 73,
   "id": "dc75958b",
   "metadata": {},
   "outputs": [],
   "source": [
    "# feature_names3 = [r'$H_s$ (m)', r'$T_p$ (s)', r'$\\theta$ (dir.)', 'Random (non-dim.)']\n",
    "# X = np.stack((df['hs_mean'],df['tp'],df['dir'], rand))\n",
    "# # X = np.stack((df['hs_max'],df['tp'],df['dir'], rand))\n",
    "# X.shape\n",
    "\n",
    "# X_train3, X_test3, y_train3, y_test3 = train_test_split(\n",
    "#     X.T, y.ravel(), test_size=test_size, random_state=2022 #df['d50']\n",
    "# )\n",
    "\n",
    "# #unscale y - we balanced it to sample equally among grain size bins\n",
    "# y_test3 = yscaler.inverse_transform(y_test3.reshape(-1, 1)).squeeze()\n",
    "# y_train3 = yscaler.inverse_transform(y_train3.reshape(-1, 1)).squeeze()\n",
    "\n",
    "# print(y_test3.max())\n",
    "# print(y_train3.max())\n",
    "\n",
    "# model3 = ensemble.GradientBoostingRegressor(**params)\n",
    "# model3.fit(X_train3, y_train3)\n",
    "\n",
    "# mse3 = mean_squared_error(y_test3, model3.predict(X_test3))\n",
    "# print(\"The mean squared error (MSE) on test set: {:.4f}\".format(mse3))"
   ]
  },
  {
   "cell_type": "code",
   "execution_count": 74,
   "id": "8db4f707",
   "metadata": {},
   "outputs": [],
   "source": [
    "# model3out = {}\n",
    "# model3out['feature_names'] = feature_names3\n",
    "# model3out['Xtest'] = X_test3\n",
    "# model3out['Xtrain'] = X_train3\n",
    "# model3out['ytest'] = y_test3\n",
    "# model3out['ytrain'] = y_train3\n",
    "# model3out['model'] = model3\n",
    "# model3out['mse'] = mse3"
   ]
  },
  {
   "cell_type": "code",
   "execution_count": 75,
   "id": "31983fa7",
   "metadata": {},
   "outputs": [],
   "source": [
    "# cv = RepeatedKFold(n_splits=10, n_repeats=5, random_state=2022)\n",
    "# # evaluate model\n",
    "# scores = cross_val_score(model3, X_test3, y_test3, scoring='neg_root_mean_squared_error', cv=cv, n_jobs=-1)\n",
    "\n",
    "# # force scores to be positive\n",
    "# scores = np.absolute(scores)\n",
    "# print('Mean RMSE: %.3f (%.3f)' % (scores.mean(), scores.std()) )\n",
    "\n",
    "# Smean.append(scores.mean())\n",
    "# Sstd.append(scores.std())"
   ]
  },
  {
   "cell_type": "code",
   "execution_count": 76,
   "id": "706ba090",
   "metadata": {},
   "outputs": [],
   "source": [
    "# feature_names4 = [r'$H_s$ (m)', r'$T_p$ (s)', r'$\\theta$ (dir.)','MSTR (m)','β', 'Random (non-dim.)']\n",
    "# X = np.stack((df['hs_mean'],df['tp'],df['dir'],df['mstr'], df['beach_slope_average'], rand))\n",
    "# # X = np.stack((df['hs_max'],df['tp'],df['dir'],df['mstr'], rand))\n",
    "# X.shape\n",
    "\n",
    "# X_train4, X_test4, y_train4, y_test4 = train_test_split(\n",
    "#     X.T, y.ravel(), test_size=test_size, random_state=2022\n",
    "# )\n",
    "\n",
    "# #unscale y - we balanced it to sample equally among grain size bins\n",
    "# y_test4 = yscaler.inverse_transform(y_test4.reshape(-1, 1)).squeeze()\n",
    "# y_train4 = yscaler.inverse_transform(y_train4.reshape(-1, 1)).squeeze()\n",
    "\n",
    "# print(y_test4.max())\n",
    "# print(y_train4.max())\n",
    "\n",
    "# model4 = ensemble.GradientBoostingRegressor(**params)\n",
    "# model4.fit(X_train4, y_train4)\n",
    "\n",
    "# mse4 = mean_squared_error(y_test4, model4.predict(X_test4))\n",
    "# print(\"The mean squared error (MSE) on test set: {:.4f}\".format(mse4))"
   ]
  },
  {
   "cell_type": "code",
   "execution_count": 77,
   "id": "7edadde5",
   "metadata": {},
   "outputs": [],
   "source": [
    "# model4out = {}\n",
    "# model4out['feature_names'] = feature_names4\n",
    "# model4out['Xtest'] = X_test4\n",
    "# model4out['Xtrain'] = X_train4\n",
    "# model4out['ytest'] = y_test4\n",
    "# model4out['ytrain'] = y_train4\n",
    "# model4out['model'] = model4\n",
    "# model4out['mse'] = mse4"
   ]
  },
  {
   "cell_type": "code",
   "execution_count": 78,
   "id": "3b1f6fea",
   "metadata": {},
   "outputs": [],
   "source": [
    "# cv = RepeatedKFold(n_splits=10, n_repeats=5, random_state=2022)\n",
    "# # evaluate model\n",
    "# scores = cross_val_score(model4, X_test4, y_test4, scoring='neg_root_mean_squared_error', cv=cv, n_jobs=-1)\n",
    "\n",
    "# # force scores to be positive\n",
    "# scores = np.absolute(scores)\n",
    "# print('Mean RMSE: %.3f (%.3f)' % (scores.mean(), scores.std()) )\n",
    "\n",
    "# Smean.append(scores.mean())\n",
    "# Sstd.append(scores.std())"
   ]
  },
  {
   "cell_type": "code",
   "execution_count": 79,
   "id": "e59956ca",
   "metadata": {},
   "outputs": [],
   "source": [
    "# feature_names5 = ['MSTR (m)', 'Random (non-dim.)']\n",
    "# X = np.stack((df['mstr'], rand))\n",
    "# X.shape\n",
    "\n",
    "# X_train5, X_test5, y_train5, y_test5 = train_test_split(\n",
    "#     X.T, y.ravel(), test_size=test_size, random_state=2022\n",
    "# )\n",
    "\n",
    "# #unscale y - we balanced it to sample equally among grain size bins\n",
    "# y_test5 = yscaler.inverse_transform(y_test5.reshape(-1, 1)).squeeze()\n",
    "# y_train5 = yscaler.inverse_transform(y_train5.reshape(-1, 1)).squeeze()\n",
    "\n",
    "# print(y_test5.max())\n",
    "# print(y_train5.max())\n",
    "\n",
    "# model5 = ensemble.GradientBoostingRegressor(**params)\n",
    "# model5.fit(X_train5, y_train5)\n",
    "\n",
    "# mse5 = mean_squared_error(y_test5, model5.predict(X_test5))\n",
    "# print(\"The mean squared error (MSE) on test set: {:.4f}\".format(mse5))"
   ]
  },
  {
   "cell_type": "code",
   "execution_count": 80,
   "id": "80d458cb",
   "metadata": {},
   "outputs": [],
   "source": [
    "# model5out = {}\n",
    "# model5out['feature_names'] = feature_names5\n",
    "# model5out['Xtest'] = X_test5\n",
    "# model5out['Xtrain'] = X_train5\n",
    "# model5out['ytest'] = y_test5\n",
    "# model5out['ytrain'] = y_train5\n",
    "# model5out['model'] = model5\n",
    "# model5out['mse'] = mse5"
   ]
  },
  {
   "cell_type": "code",
   "execution_count": 81,
   "id": "c2037576",
   "metadata": {},
   "outputs": [],
   "source": [
    "# cv = RepeatedKFold(n_splits=10, n_repeats=5, random_state=2022)\n",
    "# # evaluate model\n",
    "# scores = cross_val_score(model5, X_test5, y_test5, scoring='neg_root_mean_squared_error', cv=cv, n_jobs=-1)\n",
    "\n",
    "# # force scores to be positive\n",
    "# scores = np.absolute(scores)\n",
    "# print('Mean RMSE: %.3f (%.3f)' % (scores.mean(), scores.std()) )\n",
    "\n",
    "# Smean.append(scores.mean())\n",
    "# Sstd.append(scores.std())"
   ]
  },
  {
   "cell_type": "code",
   "execution_count": 82,
   "id": "794aff56",
   "metadata": {},
   "outputs": [],
   "source": [
    "# feature_names6 = ['β (m)', 'Random (non-dim.)']\n",
    "# X = np.stack((df['beach_slope_average'], rand))\n",
    "# # X = np.stack((df['beach_slope_median'], rand))\n",
    "# X.shape\n",
    "\n",
    "# X_train6, X_test6, y_train6, y_test6 = train_test_split(\n",
    "#     X.T, y.ravel(), test_size=test_size, random_state=2022\n",
    "# )\n",
    "\n",
    "# #unscale y - we balanced it to sample equally among grain size bins\n",
    "# y_test6 = yscaler.inverse_transform(y_test6.reshape(-1, 1)).squeeze()\n",
    "# y_train6 = yscaler.inverse_transform(y_train6.reshape(-1, 1)).squeeze()\n",
    "\n",
    "# print(y_test6.max())\n",
    "# print(y_train6.max())\n",
    "\n",
    "# model6 = ensemble.GradientBoostingRegressor(**params)\n",
    "# model6.fit(X_train6, y_train6)\n",
    "\n",
    "# mse6 = mean_squared_error(y_test6,model6.predict(X_test6))\n",
    "# print(\"The mean squared error (MSE) on test set: {:.4f}\".format(mse6))"
   ]
  },
  {
   "cell_type": "code",
   "execution_count": 83,
   "id": "1a9b5786",
   "metadata": {},
   "outputs": [],
   "source": [
    "# model6out = {}\n",
    "# model6out['feature_names'] = feature_names6\n",
    "# model6out['Xtest'] = X_test6\n",
    "# model6out['Xtrain'] = X_train6\n",
    "# model6out['ytest'] = y_test6\n",
    "# model6out['ytrain'] = y_train6\n",
    "# model6out['model'] = model6\n",
    "# model6out['mse'] = mse6"
   ]
  },
  {
   "cell_type": "code",
   "execution_count": 84,
   "id": "c31e9c08",
   "metadata": {},
   "outputs": [],
   "source": [
    "# cv = RepeatedKFold(n_splits=10, n_repeats=5, random_state=2022)\n",
    "# # evaluate model\n",
    "# scores = cross_val_score(model6, X_test6, y_test6, scoring='neg_root_mean_squared_error', cv=cv, n_jobs=-1)\n",
    "\n",
    "# # force scores to be positive\n",
    "# scores = np.absolute(scores)\n",
    "# print('Mean RMSE: %.3f (%.3f)' % (scores.mean(), scores.std()) )\n",
    "\n",
    "# Smean.append(scores.mean())\n",
    "# Sstd.append(scores.std())"
   ]
  },
  {
   "cell_type": "code",
   "execution_count": 85,
   "id": "8c8d5dfb",
   "metadata": {},
   "outputs": [],
   "source": [
    "# plt.figure(figsize=(20,10))\n",
    "# plt.subplots_adjust(wspace=0.5, hspace=0.)\n",
    "\n",
    "# plt.subplot(171)\n",
    "# ds_est = model6.predict(X_test6)\n",
    "# plt.plot(y_test6, ds_est, 'ko', label='Test data')\n",
    "# plt.xlim(.1,.7); plt.ylim(.1,.7)\n",
    "# yl=plt.ylim()\n",
    "# plt.plot(yl,yl,'--r')\n",
    "# plt.xlabel(r'Observed $D_{50}$ (mm)')\n",
    "# plt.ylabel(r'Estimated $D_{50}$ (mm)')\n",
    "# plt.title(r\"a) f(β)\", loc='left')\n",
    "# r2 = np.min(np.corrcoef(y_test6, ds_est))**2\n",
    "# plt.text(.27,.25,r'$R^2$ (test)='+str(r2)[:4])\n",
    "\n",
    "# coef = np.polyfit(y_test6, ds_est,1)\n",
    "# poly1d_fn = np.poly1d(coef) \n",
    "# plt.plot(y_test6, poly1d_fn(y_test6), '-k')\n",
    "# plt.text(.27,.23, r'Mean error: {}%'.format(str(np.mean(prc_err(y_test6,ds_est)))[:2]))\n",
    "# plt.text(.27,.21, r'MSE: {}mm'.format(str(Smean[5])[:4]))\n",
    "\n",
    "# ds_est2 = model6.predict(X_train6)\n",
    "# plt.plot(y_train6, ds_est2, 'bp', alpha=0.5, label='Train data')\n",
    "# plt.legend(loc=2)\n",
    "\n",
    "# plt.text(.27,.17, r'Overall mean error:', color='g')\n",
    "# plt.text(.27,.15, r'{}%'.format(str(np.mean(prc_err(np.hstack((y_test6,y_train6)),np.hstack((ds_est,ds_est2)))))[:2]), color='g')\n",
    "\n",
    "# plt.subplot(172)\n",
    "# ds_est = model5.predict(X_test5)\n",
    "# plt.plot(y_test5, ds_est, 'ko')\n",
    "# plt.xlim(.1,.7); plt.ylim(.1,.7)\n",
    "# yl=plt.ylim()\n",
    "# plt.plot(yl,yl,'--r')\n",
    "# plt.xlabel(r'Observed $D_{50}$ (mm)')\n",
    "# # plt.ylabel(r'Estimated $D_{50}$ (mm)')\n",
    "# plt.title(r\"b) f($MSTR$)\", loc='left')\n",
    "# r2 = np.min(np.corrcoef(y_test5, ds_est))**2\n",
    "# plt.text(.27,.25,r'$R^2$='+str(r2)[:4])\n",
    "\n",
    "# coef = np.polyfit(y_test5, ds_est,1)\n",
    "# poly1d_fn = np.poly1d(coef) \n",
    "# plt.plot(y_test5, poly1d_fn(y_test5), '-k')\n",
    "# plt.text(.27,.23, r'Mean error: {}%'.format(str(np.mean(prc_err(y_test5,ds_est)))[:2]))\n",
    "# plt.text(.27,.21, r'MSE: {}mm'.format(str(Smean[4])[:4]))\n",
    "\n",
    "# ds_est2 = model5.predict(X_train5)\n",
    "# plt.plot(y_train5, ds_est2, 'bp', alpha=0.5, label='Train data')\n",
    "\n",
    "# plt.text(.27,.17, r'Overall mean error:', color='g')\n",
    "# plt.text(.27,.15, r'{}%'.format(str(np.mean(prc_err(np.hstack((y_test5,y_train5)),np.hstack((ds_est,ds_est2)))))[:2]), color='g')\n",
    "\n",
    "# plt.subplot(173)\n",
    "# ds_est = model2.predict(X_test2)\n",
    "# plt.plot(y_test2, ds_est, 'ko')\n",
    "# plt.xlim(.1,.7); plt.ylim(.1,.7)\n",
    "# yl=plt.ylim()\n",
    "# plt.plot(yl,yl,'--r')\n",
    "# plt.xlabel(r'Observed $D_{50}$ (mm)')\n",
    "# # plt.ylabel(r'Estimated $D_{50}$ (mm)')\n",
    "# plt.title(\"c) f(β, $MSTR$)\", loc='left')\n",
    "# r2 = np.min(np.corrcoef(y_test2, ds_est))**2\n",
    "# plt.text(.27,.25,r'$R^2$ (test)='+str(r2)[:4])\n",
    "\n",
    "# coef = np.polyfit(y_test2, ds_est,1)\n",
    "# poly1d_fn = np.poly1d(coef) \n",
    "# plt.plot(y_test2, poly1d_fn(y_test2), '-k')\n",
    "# plt.text(.27,.23, r'Mean error: {}%'.format(str(np.mean(prc_err(y_test2,ds_est)))[:2]))\n",
    "# plt.text(.27,.21, r'MSE: {}mm'.format(str(Smean[1])[:4]))\n",
    "\n",
    "# ds_est2 = model2.predict(X_train2)\n",
    "# plt.plot(y_train2, ds_est2, 'bp', alpha=0.5, label='Train data')\n",
    "\n",
    "# plt.text(.27,.17, r'Overall mean error:', color='g')\n",
    "# plt.text(.27,.15, r'{}%'.format(str(np.mean(prc_err(np.hstack((y_test2,y_train2)),np.hstack((ds_est,ds_est2)))))[:2]), color='g')\n",
    "\n",
    "# plt.subplot(174)\n",
    "# ds_est = model1.predict(X_test1)\n",
    "# plt.plot(y_test1, ds_est, 'ko')\n",
    "# plt.xlim(0,1.1); plt.ylim(0,1.1)\n",
    "# yl=plt.ylim()\n",
    "# plt.plot(yl,yl,'--r')\n",
    "# plt.xlabel(r'Observed $D_{50}$ (mm)')\n",
    "# # plt.ylabel(r'Estimated $D_{50}$ (mm)')\n",
    "# plt.title(r\"d) f(β, $\\theta$, $MSTR$)\", loc='left')\n",
    "# r2 = np.min(np.corrcoef(y_test1, ds_est))**2\n",
    "# plt.text(.27,.25,r'$R^2$ (test)='+str(r2)[:4])\n",
    "# plt.text(.27,.23, r'Mean error: {}%'.format(str(np.mean(prc_err(y_test1,ds_est)))[:2]))\n",
    "# plt.text(.27,.21, r'MSE: {}mm'.format(str(Smean[0])[:4]))\n",
    "\n",
    "# coef = np.polyfit(y_test1, ds_est,1)\n",
    "# poly1d_fn = np.poly1d(coef) \n",
    "# plt.plot(y_test1, poly1d_fn(y_test1), '-k')\n",
    "\n",
    "# ds_est2 = model1.predict(X_train1)\n",
    "# plt.plot(y_train1, ds_est2, 'bp', alpha=0.5, label='Train data')\n",
    "\n",
    "# plt.text(.27,.17, r'Overall mean error:', color='g')\n",
    "# plt.text(.27,.15, r'{}%'.format(str(np.mean(prc_err(np.hstack((y_test1,y_train1)),np.hstack((ds_est,ds_est2)))))[:2]), color='g')\n",
    "\n",
    "\n",
    "# plt.subplot(175)\n",
    "# ds_est = model3.predict(X_test3)\n",
    "# plt.plot(y_test3, ds_est, 'ko')\n",
    "# plt.xlim(.1,.7); plt.ylim(.1,.7)\n",
    "# yl=plt.ylim()\n",
    "# plt.plot(yl,yl,'--r')\n",
    "# plt.xlabel(r'Observed $D_{50}$ (mm)')\n",
    "\n",
    "# plt.title(r\"e) f($H_s$, $T_p$, $\\theta$)\", loc='left')\n",
    "# r2 = np.min(np.corrcoef(y_test3, ds_est))**2\n",
    "# plt.text(.27,.25,r'$R^2$ (test)='+str(r2)[:4])\n",
    "\n",
    "# coef = np.polyfit(y_test3, ds_est,1)\n",
    "# poly1d_fn = np.poly1d(coef) \n",
    "# plt.plot(y_test3, poly1d_fn(y_test3), '-k')\n",
    "# plt.text(.27,.23, r'Mean error: {}%'.format(str(np.mean(prc_err(y_test3,ds_est)))[:2]))\n",
    "# plt.text(.27,.21, r'MSE: {}mm'.format(str(Smean[2])[:4]))\n",
    "\n",
    "# ds_est2 = model3.predict(X_train3)\n",
    "# plt.plot(y_train3, ds_est2, 'bp', alpha=0.5, label='Train data')\n",
    "\n",
    "# plt.text(.27,.17, r'Overall mean error:', color='g')\n",
    "# plt.text(.27,.15, r'{}%'.format(str(np.mean(prc_err(np.hstack((y_test3,y_train3)),np.hstack((ds_est,ds_est2)))))[:2]), color='g')\n",
    "\n",
    "\n",
    "# plt.subplot(176)\n",
    "# ds_est = model4.predict(X_test4)\n",
    "# plt.plot(y_test4, ds_est, 'ko')\n",
    "# plt.xlim(.1,.7); plt.ylim(.1,.7)\n",
    "# yl=plt.ylim()\n",
    "# plt.plot(yl,yl,'--r')\n",
    "# plt.xlabel(r'Observed $D_{50}$ (mm)')\n",
    "# # plt.ylabel(r'Estimated $D_{50}$ (mm)')\n",
    "# plt.title(r\"f) f($H_s$, $T_p$, $\\theta$, $MSTR$, β)\", loc='left')\n",
    "# r2 = np.min(np.corrcoef(y_test4, ds_est))**2\n",
    "# plt.text(.27,.25,r'$R^2$ (test)='+str(r2)[:4])\n",
    "\n",
    "# coef = np.polyfit(y_test4, ds_est,1)\n",
    "# poly1d_fn = np.poly1d(coef) \n",
    "# plt.plot(y_test4, poly1d_fn(y_test4), '-k')\n",
    "# plt.text(.27,.23, r'Mean error: {}%'.format(str(np.mean(prc_err(y_test4,ds_est)))[:2]))\n",
    "# plt.text(.27,.21, r'MSE: {}mm'.format(str(Smean[3])[:4]))\n",
    "\n",
    "# ds_est2 = model4.predict(X_train4)\n",
    "# plt.plot(y_train4, ds_est2, 'bp', alpha=0.5, label='Train data')\n",
    "\n",
    "# plt.text(.27,.17, r'Overall mean error:', color='g')\n",
    "# plt.text(.27,.15, r'{}%'.format(str(np.mean(prc_err(np.hstack((y_test4,y_train4)),np.hstack((ds_est,ds_est2)))))[:2]), color='g')\n",
    "\n",
    "\n",
    "# plt.subplot(177)\n",
    "# plt.plot(df['d50'], ds_est_baseline, 'bp', label=r'McFall (2019), f($\\beta$, $H_s$)')\n",
    "# plt.xlim(.1,.7); plt.ylim(.1,.7)\n",
    "# yl=plt.ylim()\n",
    "# plt.plot(yl,yl,'--r')\n",
    "# plt.xlabel(r'Observed $D_{50}$ (mm)')\n",
    "# # plt.ylabel(r'Estimated $D_{50}$ (mm)')\n",
    "# plt.title(r\"g) Baseline models\", loc='left')\n",
    "# r2 = np.min(np.corrcoef(df['d50'], ds_est_baseline))**2\n",
    "# plt.text(.22,.65,r'$R^2$ (all)='+str(r2)[:4], color='b')\n",
    "\n",
    "# coef = np.polyfit(df['d50'], ds_est_baseline,1)\n",
    "# poly1d_fn = np.poly1d(coef) \n",
    "# plt.plot(df['d50'], poly1d_fn(df['d50']), '-b')\n",
    "\n",
    "\n",
    "# plt.plot(df['d50'], ds_est_baseline2, 'ms', alpha=0.5, label=r\"Bujan et al. (2019), f($\\beta$)\")\n",
    "# plt.xlim(.1,.7); plt.ylim(.1,.7)\n",
    "# yl=plt.ylim()\n",
    "# plt.plot(yl,yl,'--r')\n",
    "# plt.xlabel(r'Observed $D_{50}$ (mm)')\n",
    "# # plt.ylabel(r'Estimated $D_{50}$ (mm)')\n",
    "# # plt.title(r\"f) Bujan et al. (2019) relation, f($\\beta$)\", loc='left')\n",
    "# r2 = np.min(np.corrcoef(df['d50'], ds_est_baseline2))**2\n",
    "# plt.text(.22,.55,r'$R^2$ (all)='+str(r2)[:4], color='m')\n",
    "\n",
    "# coef = np.polyfit(df['d50'], ds_est_baseline2,1)\n",
    "# poly1d_fn = np.poly1d(coef) \n",
    "# plt.plot(df['d50'], poly1d_fn(df['d50']), '-m')\n",
    "# plt.legend(fontsize=8)\n",
    "\n",
    "# # plt.savefig('../model_plots/EAus_d50-5model-baseline-skill.jpg', dpi=300, bbox_inches='tight')\n",
    "# # # plt.close()"
   ]
  },
  {
   "cell_type": "code",
   "execution_count": 86,
   "id": "a0534bbc",
   "metadata": {},
   "outputs": [],
   "source": [
    "# fig=plt.figure(figsize=(14,8))\n",
    "# plt.subplots_adjust(wspace=0.4, hspace=0.4)\n",
    "\n",
    "\n",
    "# ####################\n",
    "# test_score = np.zeros((params[\"n_estimators\"],), dtype=np.float64)\n",
    "# for i, y_pred6 in enumerate(model6.staged_predict(X_test6)):\n",
    "#     test_score[i] = model6.loss_(y_test6, y_pred6)\n",
    "\n",
    "# plt.subplot(1, 6, 1)\n",
    "# plt.title(r\"a) f(β)\", loc='left')\n",
    "# plt.plot(\n",
    "#     np.arange(params[\"n_estimators\"]) + 1,\n",
    "#     np.sqrt(model6.train_score_),\n",
    "#     \"b-\",\n",
    "#     label=\"Training set\",\n",
    "# )\n",
    "# plt.plot(\n",
    "#     np.arange(params[\"n_estimators\"]) + 1, np.sqrt(test_score), \"r--\", label=\"Test set\", lw=2\n",
    "# )\n",
    "# plt.axhline(0.15, linestyle=':',label='0.15 mm threshold')\n",
    "# # plt.legend(loc=\"upper right\")\n",
    "# plt.xlabel(\"Boosting iterations\")\n",
    "# plt.ylabel(\"Mean deviance (mm)\")\n",
    "# plt.ylim(0,.25)\n",
    "# plt.legend(loc=\"upper right\")\n",
    "\n",
    "# ###########################\n",
    "# test_score = np.zeros((params[\"n_estimators\"],), dtype=np.float64)\n",
    "# for i, y_pred5 in enumerate(model5.staged_predict(X_test5)):\n",
    "#     test_score[i] = model5.loss_(y_test5, y_pred5)\n",
    "\n",
    "# plt.subplot(1, 6, 2)\n",
    "# plt.title(r\"b) f($MSTR$)\", loc='left')\n",
    "# plt.plot(\n",
    "#     np.arange(params[\"n_estimators\"]) + 1,\n",
    "#     np.sqrt(model5.train_score_),\n",
    "#     \"b-\",\n",
    "#     label=\"Training set\",\n",
    "# )\n",
    "# plt.plot(\n",
    "#     np.arange(params[\"n_estimators\"]) + 1, np.sqrt(test_score), \"r--\", label=\"Test set\", lw=2\n",
    "# )\n",
    "# plt.axhline(0.15, linestyle=':',label='0.15 mm threshold')\n",
    "# # plt.legend(loc=\"upper right\")\n",
    "# plt.xlabel(\"Boosting iterations\")\n",
    "# # plt.ylabel(\"Deviance (non-dim.)\")\n",
    "# plt.ylim(0,.25)\n",
    "\n",
    "\n",
    "# #############################\n",
    "# test_score = np.zeros((params[\"n_estimators\"],), dtype=np.float64)\n",
    "# for i, y_pred2 in enumerate(model2.staged_predict(X_test2)):\n",
    "#     test_score[i] = model2.loss_(y_test2, y_pred2)\n",
    "\n",
    "# plt.subplot(1, 6, 3)\n",
    "# plt.title(\"c) f(β, $MSTR$)\", loc='left')\n",
    "# plt.plot(\n",
    "#     np.arange(params[\"n_estimators\"]) + 1,\n",
    "#     np.sqrt(model2.train_score_),\n",
    "#     \"b-\",\n",
    "#     label=\"Training set\",\n",
    "# )\n",
    "# plt.plot(\n",
    "#     np.arange(params[\"n_estimators\"]) + 1, np.sqrt(test_score), \"r--\", label=\"Test set\", lw=2\n",
    "# )\n",
    "# plt.axhline(0.15, linestyle=':',label='0.15 mm threshold')\n",
    "# # plt.legend(loc=\"upper right\")\n",
    "# plt.xlabel(\"Boosting iterations\")\n",
    "# # plt.ylabel(\"Deviance (non-dim.)\")\n",
    "# plt.ylim(0,.25)\n",
    "\n",
    "\n",
    "# #####################\n",
    "# test_score = np.zeros((params[\"n_estimators\"],), dtype=np.float64)\n",
    "# for i, y_pred1 in enumerate(model1.staged_predict(X_test1)):\n",
    "#     test_score[i] = model1.loss_(y_test1, y_pred1)\n",
    "    \n",
    "# plt.subplot(1, 6, 4)\n",
    "# plt.title(\"d) f(β, $S$, $MSTR$) \", loc='left')\n",
    "# plt.plot(\n",
    "#     np.arange(params[\"n_estimators\"]) + 1,\n",
    "#     np.sqrt(model1.train_score_),\n",
    "#     \"b-\",\n",
    "#     label=\"Training set\",\n",
    "# )\n",
    "# plt.plot(\n",
    "#     np.arange(params[\"n_estimators\"]) + 1, np.sqrt(test_score), \"r--\", label=\"Test set\", lw=2\n",
    "# )\n",
    "# plt.axhline(0.15, linestyle=':',label='0.15 mm threshold')\n",
    "# plt.xlabel(\"Boosting iterations\")\n",
    "# # plt.ylabel(\"Deviance (non-dim.)\")\n",
    "# plt.ylim(0,.25)\n",
    "\n",
    "# #####################\n",
    "# test_score = np.zeros((params[\"n_estimators\"],), dtype=np.float64)\n",
    "# for i, y_pred3 in enumerate(model3.staged_predict(X_test3)):\n",
    "#     test_score[i] = model3.loss_(y_test3, y_pred3)\n",
    "    \n",
    "# plt.subplot(1, 6, 5)\n",
    "# plt.title(r\"e) f($H_s$, $T_p$, $\\theta$)\", loc='left')\n",
    "# plt.plot(\n",
    "#     np.arange(params[\"n_estimators\"]) + 1,\n",
    "#     np.sqrt(model3.train_score_),\n",
    "#     \"b-\",\n",
    "#     label=\"Training set\",\n",
    "# )\n",
    "# plt.plot(\n",
    "#     np.arange(params[\"n_estimators\"]) + 1, np.sqrt(test_score), \"r--\", label=\"Test set\", lw=2\n",
    "# )\n",
    "# plt.axhline(0.15, linestyle=':',label='0.15 mm threshold')\n",
    "# # plt.legend(loc=\"upper right\")\n",
    "# plt.xlabel(\"Boosting iterations\")\n",
    "# # plt.ylabel(\"Deviance (non-dim.)\")\n",
    "# plt.ylim(0,.25)\n",
    "\n",
    "# #####################\n",
    "# test_score = np.zeros((params[\"n_estimators\"],), dtype=np.float64)\n",
    "# for i, y_pred4 in enumerate(model4.staged_predict(X_test4)):\n",
    "#     test_score[i] = model4.loss_(y_test4, y_pred4)\n",
    "    \n",
    "# plt.subplot(1, 6, 6)\n",
    "# plt.title(r\"f) f($H_s$, $T_p$, $\\theta$, $MSTR$, β)\", loc='left')\n",
    "# plt.plot(\n",
    "#     np.arange(params[\"n_estimators\"]) + 1,\n",
    "#     np.sqrt(model4.train_score_),\n",
    "#     \"b-\",\n",
    "#     label=\"Training set\",\n",
    "# )\n",
    "# plt.plot(\n",
    "#     np.arange(params[\"n_estimators\"]) + 1, np.sqrt(test_score), \"r--\", label=\"Test set\", lw=2\n",
    "# )\n",
    "# plt.axhline(0.15, linestyle=':',label='0.15 mm threshold')\n",
    "# # plt.legend(loc=\"upper right\")\n",
    "# plt.xlabel(\"Boosting iterations\")\n",
    "# # plt.ylabel(\"Deviance (non-dim.)\")\n",
    "# plt.ylim(0,.25)\n",
    "\n",
    "# fig.tight_layout()\n",
    "# # plt.show()\n",
    "# # plt.savefig('../model_plots/CGRASP_d50-4models-training-strat-lat.jpg', dpi=300, bbox_inches='tight')"
   ]
  },
  {
   "cell_type": "code",
   "execution_count": 87,
   "id": "d2563244",
   "metadata": {},
   "outputs": [],
   "source": [
    "# fig = plt.figure(figsize=(12,8))\n",
    "# plt.subplots_adjust(wspace=0.3, hspace=0.3)\n",
    "\n",
    "# plt.subplot(2,5,1)\n",
    "# plt.hist(X_train4[:,0], bins=np.arange(.5,2.5,.1))\n",
    "# plt.ylim(0,55); plt.ylabel('Train set'); plt.xlabel(r'$H_s$ (m)')\n",
    "# plt.title(r'a) ', loc='left')\n",
    "\n",
    "# plt.subplot(2,5,2)\n",
    "# plt.hist(X_train4[:,1], bins=np.arange(3,10,.5))\n",
    "# plt.ylim(0,55); plt.xlabel(r'$T_p$ (s)')\n",
    "# plt.title(r'b)', loc='left')\n",
    "\n",
    "# plt.subplot(2,5,3)\n",
    "# plt.hist(X_train4[:,2], bins=np.arange(50,180,20))\n",
    "# plt.ylim(0,55); plt.xlabel(r'$\\theta$ (dir.)')\n",
    "# plt.title(r'c) ', loc='left')\n",
    "\n",
    "# plt.subplot(2,5,4)\n",
    "# plt.hist(X_train4[:,3], bins=np.arange(0.2,2.5,.1))\n",
    "# plt.ylim(0,55); plt.xlabel('T (m)')\n",
    "# plt.title(r'd) ', loc='left')\n",
    "\n",
    "# plt.subplot(2,5,5)\n",
    "# plt.hist(y_train4, bins=np.arange(0,1,.1))\n",
    "# plt.ylim(0,55); plt.xlabel(r'$D_{50}$ (mm)')\n",
    "# plt.title(r'e) ', loc='left')\n",
    "\n",
    "# plt.subplot(2,5,6)\n",
    "# plt.hist(X_test4[:,0], bins=np.arange(.5,2.5,.1))\n",
    "# plt.ylim(0,55); plt.ylabel('Test set'); plt.xlabel(r'$H_s$ (m)')\n",
    "# plt.title(r'f) ', loc='left')\n",
    "\n",
    "# plt.subplot(2,5,7)\n",
    "# plt.hist(X_test4[:,1], bins=np.arange(3,10,.5))\n",
    "# plt.ylim(0,55); plt.xlabel(r'$T_p$ (s)')\n",
    "# plt.title(r'g)', loc='left')\n",
    "\n",
    "# plt.subplot(2,5,8)\n",
    "# plt.hist(X_test4[:,2], bins=np.arange(50,180,20))\n",
    "# plt.ylim(0,55); plt.xlabel(r'$\\theta$ (dir.)')\n",
    "# plt.title(r'h) ', loc='left')\n",
    "\n",
    "# plt.subplot(2,5,9)\n",
    "# plt.hist(X_test4[:,3], bins=np.arange(0.2,2.5,.1))\n",
    "# plt.ylim(0,55); plt.xlabel('T (m)')\n",
    "# plt.title(r'i) ', loc='left')\n",
    "\n",
    "# plt.subplot(2,5,10)\n",
    "# plt.hist(y_test4, bins=np.arange(0,1,.1))\n",
    "# plt.ylim(0,55); plt.xlabel('$D_{50}$ (mm)')\n",
    "# plt.title(r'j) ', loc='left')\n",
    "\n",
    "# # plt.savefig('../data_plots/EAus_d50-test_train_dists.jpg', dpi=300, bbox_inches='tight')"
   ]
  },
  {
   "cell_type": "code",
   "execution_count": null,
   "id": "e53f9ca0",
   "metadata": {},
   "outputs": [],
   "source": []
  },
  {
   "cell_type": "code",
   "execution_count": null,
   "id": "a9245b01",
   "metadata": {},
   "outputs": [],
   "source": []
  }
 ],
 "metadata": {
  "kernelspec": {
   "display_name": "Python 3 (ipykernel)",
   "language": "python",
   "name": "python3"
  },
  "language_info": {
   "codemirror_mode": {
    "name": "ipython",
    "version": 3
   },
   "file_extension": ".py",
   "mimetype": "text/x-python",
   "name": "python",
   "nbconvert_exporter": "python",
   "pygments_lexer": "ipython3",
   "version": "3.10.4"
  }
 },
 "nbformat": 4,
 "nbformat_minor": 5
}
