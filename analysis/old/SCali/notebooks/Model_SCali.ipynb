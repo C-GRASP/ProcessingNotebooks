{
 "cells": [
  {
   "cell_type": "code",
   "execution_count": 1,
   "id": "b674c2b6",
   "metadata": {},
   "outputs": [],
   "source": [
    "import pandas as pd\n",
    "import matplotlib.pyplot as plt\n",
    "import numpy as np\n",
    "\n",
    "from sklearn.model_selection import train_test_split\n",
    "from sklearn import ensemble\n",
    "from sklearn.metrics import mean_squared_error\n",
    "from sklearn.inspection import permutation_importance\n",
    "\n",
    "from pingouin import partial_corr\n",
    "import pingouin as pg\n",
    "from sklearn.model_selection import RepeatedKFold, cross_val_score\n",
    "import seaborn as sns\n",
    "from sklearn import preprocessing\n",
    "from sklearn.model_selection import GridSearchCV\n",
    "\n",
    "import geopandas as gpd\n",
    "from geopandas.tools import sjoin"
   ]
  },
  {
   "cell_type": "code",
   "execution_count": 348,
   "id": "a912963e",
   "metadata": {},
   "outputs": [],
   "source": [
    "dfSCali = pd.read_csv('../../../orig_data/US_S_CA/SoCal_GrainSize_waves_slopes_tide_merged.csv')"
   ]
  },
  {
   "cell_type": "code",
   "execution_count": 349,
   "id": "14b205d8",
   "metadata": {},
   "outputs": [],
   "source": [
    "# dfSCali = dfSCali[dfSCali['Grain_Size']<1.0] ## too few samples >1.0\n",
    "dfSCali = dfSCali[dfSCali['Grain_Size']<2] ## too few samples >1.0"
   ]
  },
  {
   "cell_type": "code",
   "execution_count": 350,
   "id": "118b14b9",
   "metadata": {},
   "outputs": [
    {
     "data": {
      "text/plain": [
       "1392"
      ]
     },
     "execution_count": 350,
     "metadata": {},
     "output_type": "execute_result"
    }
   ],
   "source": [
    "len(dfSCali)"
   ]
  },
  {
   "cell_type": "code",
   "execution_count": 366,
   "id": "4d88bf84",
   "metadata": {},
   "outputs": [
    {
     "data": {
      "text/plain": [
       "240"
      ]
     },
     "execution_count": 366,
     "metadata": {},
     "output_type": "execute_result"
    }
   ],
   "source": [
    "df_strat_gs = dfSCali.copy()\n",
    "\n",
    "num_cats=12\n",
    "num_samples_per_category = 20\n",
    "\n",
    "df_strat_gs['category'] = pd.cut(df_strat_gs['Grain_Size'], num_cats)\n",
    "df_strat_gs = df_strat_gs.groupby(['category']).apply(lambda x: x.sample(num_samples_per_category, replace = True)).reset_index(drop = True)\n",
    "\n",
    "len(df_strat_gs)"
   ]
  },
  {
   "cell_type": "code",
   "execution_count": 367,
   "id": "4d9df068",
   "metadata": {},
   "outputs": [
    {
     "data": {
      "text/plain": [
       "0      (-0.00194, 0.162]\n",
       "1      (-0.00194, 0.162]\n",
       "2      (-0.00194, 0.162]\n",
       "3      (-0.00194, 0.162]\n",
       "4      (-0.00194, 0.162]\n",
       "             ...        \n",
       "235       (1.781, 1.943]\n",
       "236       (1.781, 1.943]\n",
       "237       (1.781, 1.943]\n",
       "238       (1.781, 1.943]\n",
       "239       (1.781, 1.943]\n",
       "Name: category, Length: 240, dtype: category\n",
       "Categories (12, interval[float64, right]): [(-0.00194, 0.162] < (0.162, 0.324] < (0.324, 0.486] < (0.486, 0.648] ... (1.295, 1.457] < (1.457, 1.619] < (1.619, 1.781] < (1.781, 1.943]]"
      ]
     },
     "execution_count": 367,
     "metadata": {},
     "output_type": "execute_result"
    }
   ],
   "source": [
    "df_strat_gs['category']"
   ]
  },
  {
   "cell_type": "code",
   "execution_count": 329,
   "id": "3336cfa6",
   "metadata": {},
   "outputs": [],
   "source": [
    "# df_strat_lat = dfSCali.copy()\n",
    "\n",
    "# num_cats=5\n",
    "# num_samples_per_category = 60\n",
    "\n",
    "# df_strat_lat['category'] = pd.cut(df_strat_lat['Lat'], num_cats)\n",
    "# df_strat_lat = df_strat_lat.groupby(['category']).apply(lambda x: x.sample(num_samples_per_category, replace = False)).reset_index(drop = True)\n",
    "\n",
    "# len(df_strat_lat)"
   ]
  },
  {
   "cell_type": "code",
   "execution_count": 330,
   "id": "fcb0f618",
   "metadata": {},
   "outputs": [
    {
     "data": {
      "text/plain": [
       "[<matplotlib.lines.Line2D at 0x1893e49bd30>]"
      ]
     },
     "execution_count": 330,
     "metadata": {},
     "output_type": "execute_result"
    },
    {
     "data": {
      "image/png": "[encoded data removed]",
      "text/plain": [
       "<Figure size 432x288 with 1 Axes>"
      ]
     },
     "metadata": {
      "needs_background": "light"
     },
     "output_type": "display_data"
    }
   ],
   "source": [
    "# plt.plot(dfSCali['Lon'], dfSCali['Lat'], '.')\n",
    "# plt.plot(df_strat_lat['Lon'], df_strat_lat['Lat'], 'ro')"
   ]
  },
  {
   "cell_type": "code",
   "execution_count": 331,
   "id": "e460be4c",
   "metadata": {},
   "outputs": [],
   "source": [
    "# dfSCali = df_strat_lat.copy()\n",
    "# len(dfSCali)"
   ]
  },
  {
   "cell_type": "code",
   "execution_count": 368,
   "id": "22acf0cb",
   "metadata": {},
   "outputs": [
    {
     "data": {
      "text/plain": [
       "[<matplotlib.lines.Line2D at 0x1893e530100>]"
      ]
     },
     "execution_count": 368,
     "metadata": {},
     "output_type": "execute_result"
    },
    {
     "data": {
      "image/png": "[encoded data removed]",
      "text/plain": [
       "<Figure size 432x288 with 1 Axes>"
      ]
     },
     "metadata": {
      "needs_background": "light"
     },
     "output_type": "display_data"
    }
   ],
   "source": [
    "plt.plot(dfSCali['Lon'], dfSCali['Lat'], '.')\n",
    "plt.plot(df_strat_gs['Lon'], df_strat_gs['Lat'], 'ro')"
   ]
  },
  {
   "cell_type": "code",
   "execution_count": 369,
   "id": "9a2f18f7",
   "metadata": {},
   "outputs": [
    {
     "data": {
      "text/plain": [
       "240"
      ]
     },
     "execution_count": 369,
     "metadata": {},
     "output_type": "execute_result"
    }
   ],
   "source": [
    "dfSCali = df_strat_gs.copy()\n",
    "len(dfSCali)"
   ]
  },
  {
   "cell_type": "code",
   "execution_count": null,
   "id": "5ec52c6f",
   "metadata": {},
   "outputs": [],
   "source": []
  },
  {
   "cell_type": "markdown",
   "id": "1167fc31",
   "metadata": {},
   "source": [
    "### Beachface sand"
   ]
  },
  {
   "cell_type": "code",
   "execution_count": 370,
   "id": "26f50c22",
   "metadata": {},
   "outputs": [],
   "source": [
    "dfSCali = dfSCali[dfSCali['Ele']=='BF']\n",
    "dfSCali = dfSCali.dropna()"
   ]
  },
  {
   "cell_type": "code",
   "execution_count": 371,
   "id": "cfa52ba0",
   "metadata": {},
   "outputs": [
    {
     "data": {
      "text/plain": [
       "Index(['Unnamed: 0', 'Ele', 'dataset', 'Grain_Size', 'Hs', 'Tp', 'Ta', 'Dp',\n",
       "       'Da', 'Ea', 'Es', 'geometry', 'Lon', 'Lat', 'Beach face slope',\n",
       "       'index_right', 'MEAN_SIG_WAVEHEIGHT', 'TIDAL_RANGE', 'ERODIBILITY',\n",
       "       'CHLOROPHYLL', 'TURBIDITY', 'REGIONAL_SINUOSITY',\n",
       "       'OUTFLOW_DENSITY_RESCALED', 'category'],\n",
       "      dtype='object')"
      ]
     },
     "execution_count": 371,
     "metadata": {},
     "output_type": "execute_result"
    }
   ],
   "source": [
    "dfSCali.keys()"
   ]
  },
  {
   "cell_type": "code",
   "execution_count": 372,
   "id": "0dab7c50",
   "metadata": {},
   "outputs": [
    {
     "data": {
      "text/html": [
       "<div>\n",
       "<style scoped>\n",
       "    .dataframe tbody tr th:only-of-type {\n",
       "        vertical-align: middle;\n",
       "    }\n",
       "\n",
       "    .dataframe tbody tr th {\n",
       "        vertical-align: top;\n",
       "    }\n",
       "\n",
       "    .dataframe thead th {\n",
       "        text-align: right;\n",
       "    }\n",
       "</style>\n",
       "<table border=\"1\" class=\"dataframe\">\n",
       "  <thead>\n",
       "    <tr style=\"text-align: right;\">\n",
       "      <th></th>\n",
       "      <th>Unnamed: 0</th>\n",
       "      <th>Ele</th>\n",
       "      <th>dataset</th>\n",
       "      <th>Grain_Size</th>\n",
       "      <th>Hs</th>\n",
       "      <th>Tp</th>\n",
       "      <th>Ta</th>\n",
       "      <th>Dp</th>\n",
       "      <th>Da</th>\n",
       "      <th>Ea</th>\n",
       "      <th>...</th>\n",
       "      <th>Beach face slope</th>\n",
       "      <th>index_right</th>\n",
       "      <th>MEAN_SIG_WAVEHEIGHT</th>\n",
       "      <th>TIDAL_RANGE</th>\n",
       "      <th>ERODIBILITY</th>\n",
       "      <th>CHLOROPHYLL</th>\n",
       "      <th>TURBIDITY</th>\n",
       "      <th>REGIONAL_SINUOSITY</th>\n",
       "      <th>OUTFLOW_DENSITY_RESCALED</th>\n",
       "      <th>category</th>\n",
       "    </tr>\n",
       "  </thead>\n",
       "  <tbody>\n",
       "    <tr>\n",
       "      <th>7</th>\n",
       "      <td>454</td>\n",
       "      <td>BF</td>\n",
       "      <td>SC_Beach</td>\n",
       "      <td>0.119207</td>\n",
       "      <td>0.471879</td>\n",
       "      <td>13.503772</td>\n",
       "      <td>6.759757</td>\n",
       "      <td>190.163111</td>\n",
       "      <td>198.507856</td>\n",
       "      <td>0.071827</td>\n",
       "      <td>...</td>\n",
       "      <td>0.125</td>\n",
       "      <td>1586</td>\n",
       "      <td>1.595954</td>\n",
       "      <td>2.443020</td>\n",
       "      <td>Medium</td>\n",
       "      <td>1.387715</td>\n",
       "      <td>0.0586</td>\n",
       "      <td>1.044490</td>\n",
       "      <td>0.000006</td>\n",
       "      <td>(-0.00194, 0.162]</td>\n",
       "    </tr>\n",
       "    <tr>\n",
       "      <th>20</th>\n",
       "      <td>112</td>\n",
       "      <td>BF</td>\n",
       "      <td>Barnard_Santa_Barbara</td>\n",
       "      <td>0.313100</td>\n",
       "      <td>0.324704</td>\n",
       "      <td>13.261334</td>\n",
       "      <td>8.268525</td>\n",
       "      <td>200.886225</td>\n",
       "      <td>201.017797</td>\n",
       "      <td>0.036279</td>\n",
       "      <td>...</td>\n",
       "      <td>0.035</td>\n",
       "      <td>1500</td>\n",
       "      <td>1.229692</td>\n",
       "      <td>2.465291</td>\n",
       "      <td>Medium</td>\n",
       "      <td>2.450058</td>\n",
       "      <td>0.0570</td>\n",
       "      <td>1.081441</td>\n",
       "      <td>0.000077</td>\n",
       "      <td>(0.162, 0.324]</td>\n",
       "    </tr>\n",
       "    <tr>\n",
       "      <th>22</th>\n",
       "      <td>876</td>\n",
       "      <td>BF</td>\n",
       "      <td>Yates_Oceanside</td>\n",
       "      <td>0.178145</td>\n",
       "      <td>0.798118</td>\n",
       "      <td>14.240321</td>\n",
       "      <td>8.094112</td>\n",
       "      <td>229.412118</td>\n",
       "      <td>239.928318</td>\n",
       "      <td>0.247379</td>\n",
       "      <td>...</td>\n",
       "      <td>0.055</td>\n",
       "      <td>515</td>\n",
       "      <td>1.009815</td>\n",
       "      <td>2.476446</td>\n",
       "      <td>High</td>\n",
       "      <td>1.051371</td>\n",
       "      <td>0.0648</td>\n",
       "      <td>1.363763</td>\n",
       "      <td>0.000066</td>\n",
       "      <td>(0.162, 0.324]</td>\n",
       "    </tr>\n",
       "    <tr>\n",
       "      <th>23</th>\n",
       "      <td>234</td>\n",
       "      <td>BF</td>\n",
       "      <td>Barnard_Santa_Barbara</td>\n",
       "      <td>0.306800</td>\n",
       "      <td>0.485931</td>\n",
       "      <td>12.074118</td>\n",
       "      <td>6.882265</td>\n",
       "      <td>216.058124</td>\n",
       "      <td>218.575441</td>\n",
       "      <td>0.072683</td>\n",
       "      <td>...</td>\n",
       "      <td>0.060</td>\n",
       "      <td>1468</td>\n",
       "      <td>1.229692</td>\n",
       "      <td>2.507136</td>\n",
       "      <td>High</td>\n",
       "      <td>1.641315</td>\n",
       "      <td>0.0538</td>\n",
       "      <td>1.083677</td>\n",
       "      <td>0.000109</td>\n",
       "      <td>(0.162, 0.324]</td>\n",
       "    </tr>\n",
       "    <tr>\n",
       "      <th>24</th>\n",
       "      <td>893</td>\n",
       "      <td>BF</td>\n",
       "      <td>Yates_Oceanside</td>\n",
       "      <td>0.207809</td>\n",
       "      <td>0.838615</td>\n",
       "      <td>14.090832</td>\n",
       "      <td>8.200167</td>\n",
       "      <td>226.579987</td>\n",
       "      <td>237.522363</td>\n",
       "      <td>0.276630</td>\n",
       "      <td>...</td>\n",
       "      <td>0.045</td>\n",
       "      <td>513</td>\n",
       "      <td>1.009815</td>\n",
       "      <td>2.475991</td>\n",
       "      <td>High</td>\n",
       "      <td>1.011539</td>\n",
       "      <td>0.0648</td>\n",
       "      <td>1.363763</td>\n",
       "      <td>0.000066</td>\n",
       "      <td>(0.162, 0.324]</td>\n",
       "    </tr>\n",
       "    <tr>\n",
       "      <th>...</th>\n",
       "      <td>...</td>\n",
       "      <td>...</td>\n",
       "      <td>...</td>\n",
       "      <td>...</td>\n",
       "      <td>...</td>\n",
       "      <td>...</td>\n",
       "      <td>...</td>\n",
       "      <td>...</td>\n",
       "      <td>...</td>\n",
       "      <td>...</td>\n",
       "      <td>...</td>\n",
       "      <td>...</td>\n",
       "      <td>...</td>\n",
       "      <td>...</td>\n",
       "      <td>...</td>\n",
       "      <td>...</td>\n",
       "      <td>...</td>\n",
       "      <td>...</td>\n",
       "      <td>...</td>\n",
       "      <td>...</td>\n",
       "      <td>...</td>\n",
       "    </tr>\n",
       "    <tr>\n",
       "      <th>235</th>\n",
       "      <td>106</td>\n",
       "      <td>BF</td>\n",
       "      <td>SC_Beach</td>\n",
       "      <td>1.942912</td>\n",
       "      <td>0.765155</td>\n",
       "      <td>13.720220</td>\n",
       "      <td>7.870910</td>\n",
       "      <td>227.992884</td>\n",
       "      <td>236.904423</td>\n",
       "      <td>0.219924</td>\n",
       "      <td>...</td>\n",
       "      <td>0.065</td>\n",
       "      <td>578</td>\n",
       "      <td>0.825399</td>\n",
       "      <td>2.480865</td>\n",
       "      <td>High</td>\n",
       "      <td>1.018145</td>\n",
       "      <td>0.0696</td>\n",
       "      <td>1.041937</td>\n",
       "      <td>0.000100</td>\n",
       "      <td>(1.781, 1.943]</td>\n",
       "    </tr>\n",
       "    <tr>\n",
       "      <th>236</th>\n",
       "      <td>106</td>\n",
       "      <td>BF</td>\n",
       "      <td>SC_Beach</td>\n",
       "      <td>1.942912</td>\n",
       "      <td>0.765155</td>\n",
       "      <td>13.720220</td>\n",
       "      <td>7.870910</td>\n",
       "      <td>227.992884</td>\n",
       "      <td>236.904423</td>\n",
       "      <td>0.219924</td>\n",
       "      <td>...</td>\n",
       "      <td>0.065</td>\n",
       "      <td>578</td>\n",
       "      <td>0.825399</td>\n",
       "      <td>2.480865</td>\n",
       "      <td>High</td>\n",
       "      <td>1.018145</td>\n",
       "      <td>0.0696</td>\n",
       "      <td>1.041937</td>\n",
       "      <td>0.000100</td>\n",
       "      <td>(1.781, 1.943]</td>\n",
       "    </tr>\n",
       "    <tr>\n",
       "      <th>237</th>\n",
       "      <td>106</td>\n",
       "      <td>BF</td>\n",
       "      <td>SC_Beach</td>\n",
       "      <td>1.942912</td>\n",
       "      <td>0.765155</td>\n",
       "      <td>13.720220</td>\n",
       "      <td>7.870910</td>\n",
       "      <td>227.992884</td>\n",
       "      <td>236.904423</td>\n",
       "      <td>0.219924</td>\n",
       "      <td>...</td>\n",
       "      <td>0.065</td>\n",
       "      <td>578</td>\n",
       "      <td>0.825399</td>\n",
       "      <td>2.480865</td>\n",
       "      <td>High</td>\n",
       "      <td>1.018145</td>\n",
       "      <td>0.0696</td>\n",
       "      <td>1.041937</td>\n",
       "      <td>0.000100</td>\n",
       "      <td>(1.781, 1.943]</td>\n",
       "    </tr>\n",
       "    <tr>\n",
       "      <th>238</th>\n",
       "      <td>106</td>\n",
       "      <td>BF</td>\n",
       "      <td>SC_Beach</td>\n",
       "      <td>1.942912</td>\n",
       "      <td>0.765155</td>\n",
       "      <td>13.720220</td>\n",
       "      <td>7.870910</td>\n",
       "      <td>227.992884</td>\n",
       "      <td>236.904423</td>\n",
       "      <td>0.219924</td>\n",
       "      <td>...</td>\n",
       "      <td>0.065</td>\n",
       "      <td>578</td>\n",
       "      <td>0.825399</td>\n",
       "      <td>2.480865</td>\n",
       "      <td>High</td>\n",
       "      <td>1.018145</td>\n",
       "      <td>0.0696</td>\n",
       "      <td>1.041937</td>\n",
       "      <td>0.000100</td>\n",
       "      <td>(1.781, 1.943]</td>\n",
       "    </tr>\n",
       "    <tr>\n",
       "      <th>239</th>\n",
       "      <td>106</td>\n",
       "      <td>BF</td>\n",
       "      <td>SC_Beach</td>\n",
       "      <td>1.942912</td>\n",
       "      <td>0.765155</td>\n",
       "      <td>13.720220</td>\n",
       "      <td>7.870910</td>\n",
       "      <td>227.992884</td>\n",
       "      <td>236.904423</td>\n",
       "      <td>0.219924</td>\n",
       "      <td>...</td>\n",
       "      <td>0.065</td>\n",
       "      <td>578</td>\n",
       "      <td>0.825399</td>\n",
       "      <td>2.480865</td>\n",
       "      <td>High</td>\n",
       "      <td>1.018145</td>\n",
       "      <td>0.0696</td>\n",
       "      <td>1.041937</td>\n",
       "      <td>0.000100</td>\n",
       "      <td>(1.781, 1.943]</td>\n",
       "    </tr>\n",
       "  </tbody>\n",
       "</table>\n",
       "<p>133 rows × 24 columns</p>\n",
       "</div>"
      ],
      "text/plain": [
       "     Unnamed: 0 Ele                dataset  Grain_Size        Hs         Tp  \\\n",
       "7           454  BF               SC_Beach    0.119207  0.471879  13.503772   \n",
       "20          112  BF  Barnard_Santa_Barbara    0.313100  0.324704  13.261334   \n",
       "22          876  BF        Yates_Oceanside    0.178145  0.798118  14.240321   \n",
       "23          234  BF  Barnard_Santa_Barbara    0.306800  0.485931  12.074118   \n",
       "24          893  BF        Yates_Oceanside    0.207809  0.838615  14.090832   \n",
       "..          ...  ..                    ...         ...       ...        ...   \n",
       "235         106  BF               SC_Beach    1.942912  0.765155  13.720220   \n",
       "236         106  BF               SC_Beach    1.942912  0.765155  13.720220   \n",
       "237         106  BF               SC_Beach    1.942912  0.765155  13.720220   \n",
       "238         106  BF               SC_Beach    1.942912  0.765155  13.720220   \n",
       "239         106  BF               SC_Beach    1.942912  0.765155  13.720220   \n",
       "\n",
       "           Ta          Dp          Da        Ea  ...  Beach face slope  \\\n",
       "7    6.759757  190.163111  198.507856  0.071827  ...             0.125   \n",
       "20   8.268525  200.886225  201.017797  0.036279  ...             0.035   \n",
       "22   8.094112  229.412118  239.928318  0.247379  ...             0.055   \n",
       "23   6.882265  216.058124  218.575441  0.072683  ...             0.060   \n",
       "24   8.200167  226.579987  237.522363  0.276630  ...             0.045   \n",
       "..        ...         ...         ...       ...  ...               ...   \n",
       "235  7.870910  227.992884  236.904423  0.219924  ...             0.065   \n",
       "236  7.870910  227.992884  236.904423  0.219924  ...             0.065   \n",
       "237  7.870910  227.992884  236.904423  0.219924  ...             0.065   \n",
       "238  7.870910  227.992884  236.904423  0.219924  ...             0.065   \n",
       "239  7.870910  227.992884  236.904423  0.219924  ...             0.065   \n",
       "\n",
       "    index_right  MEAN_SIG_WAVEHEIGHT  TIDAL_RANGE  ERODIBILITY  CHLOROPHYLL  \\\n",
       "7          1586             1.595954     2.443020       Medium     1.387715   \n",
       "20         1500             1.229692     2.465291       Medium     2.450058   \n",
       "22          515             1.009815     2.476446         High     1.051371   \n",
       "23         1468             1.229692     2.507136         High     1.641315   \n",
       "24          513             1.009815     2.475991         High     1.011539   \n",
       "..          ...                  ...          ...          ...          ...   \n",
       "235         578             0.825399     2.480865         High     1.018145   \n",
       "236         578             0.825399     2.480865         High     1.018145   \n",
       "237         578             0.825399     2.480865         High     1.018145   \n",
       "238         578             0.825399     2.480865         High     1.018145   \n",
       "239         578             0.825399     2.480865         High     1.018145   \n",
       "\n",
       "     TURBIDITY  REGIONAL_SINUOSITY OUTFLOW_DENSITY_RESCALED           category  \n",
       "7       0.0586            1.044490                 0.000006  (-0.00194, 0.162]  \n",
       "20      0.0570            1.081441                 0.000077     (0.162, 0.324]  \n",
       "22      0.0648            1.363763                 0.000066     (0.162, 0.324]  \n",
       "23      0.0538            1.083677                 0.000109     (0.162, 0.324]  \n",
       "24      0.0648            1.363763                 0.000066     (0.162, 0.324]  \n",
       "..         ...                 ...                      ...                ...  \n",
       "235     0.0696            1.041937                 0.000100     (1.781, 1.943]  \n",
       "236     0.0696            1.041937                 0.000100     (1.781, 1.943]  \n",
       "237     0.0696            1.041937                 0.000100     (1.781, 1.943]  \n",
       "238     0.0696            1.041937                 0.000100     (1.781, 1.943]  \n",
       "239     0.0696            1.041937                 0.000100     (1.781, 1.943]  \n",
       "\n",
       "[133 rows x 24 columns]"
      ]
     },
     "execution_count": 372,
     "metadata": {},
     "output_type": "execute_result"
    }
   ],
   "source": [
    "dfSCali"
   ]
  },
  {
   "cell_type": "code",
   "execution_count": 373,
   "id": "c4fc3d7c",
   "metadata": {},
   "outputs": [
    {
     "data": {
      "text/plain": [
       "(array([13., 11.,  9., 18.,  2., 20., 20., 15.,  5., 20.]),\n",
       " array([0.11920699, 0.30157751, 0.48394802, 0.66631854, 0.84868906,\n",
       "        1.03105958, 1.2134301 , 1.39580061, 1.57817113, 1.76054165,\n",
       "        1.94291217]),\n",
       " <BarContainer object of 10 artists>)"
      ]
     },
     "execution_count": 373,
     "metadata": {},
     "output_type": "execute_result"
    },
    {
     "data": {
      "image/png": "[encoded data removed]",
      "text/plain": [
       "<Figure size 432x288 with 1 Axes>"
      ]
     },
     "metadata": {
      "needs_background": "light"
     },
     "output_type": "display_data"
    }
   ],
   "source": [
    "plt.hist(dfSCali['Grain_Size'])"
   ]
  },
  {
   "cell_type": "code",
   "execution_count": 374,
   "id": "962f55e1",
   "metadata": {},
   "outputs": [
    {
     "data": {
      "text/plain": [
       "Index(['Unnamed: 0', 'Ele', 'dataset', 'Grain_Size', 'Hs', 'Tp', 'Ta', 'Dp',\n",
       "       'Da', 'Ea', 'Es', 'geometry', 'Lon', 'Lat', 'Beach face slope',\n",
       "       'index_right', 'MEAN_SIG_WAVEHEIGHT', 'TIDAL_RANGE', 'ERODIBILITY',\n",
       "       'CHLOROPHYLL', 'TURBIDITY', 'REGIONAL_SINUOSITY',\n",
       "       'OUTFLOW_DENSITY_RESCALED', 'category'],\n",
       "      dtype='object')"
      ]
     },
     "execution_count": 374,
     "metadata": {},
     "output_type": "execute_result"
    }
   ],
   "source": [
    "dfSCali.keys()"
   ]
  },
  {
   "cell_type": "code",
   "execution_count": 375,
   "id": "5b1ba907",
   "metadata": {},
   "outputs": [],
   "source": [
    "# parameters = {\n",
    "#     'n_estimators':[100,500,1000], \n",
    "#     'max_depth':[3,5,7,9], \n",
    "#     \"min_samples_split\":[3,5,7,9], \n",
    "#     \"learning_rate\": [0.001,0.01,0.1], \n",
    "#     \"subsample\": [0.5,0.75,1.0],\n",
    "#     \"loss\": [\"squared_error\", \"huber\"]\n",
    "# }\n",
    "\n",
    "parameters = {\n",
    "    'n_estimators':[25,50, 100,200, 500], \n",
    "    'max_depth':[3,5,7,9], \n",
    "    \"min_samples_split\":[3,5,7,9], \n",
    "    \"learning_rate\": [0.01,0.05, 0.1], \n",
    "    \"subsample\": [0.25,0.5,0.75,1.0],\n",
    "    \"loss\": [\"squared_error\", \"absolute_error\", \"huber\"]\n",
    "}"
   ]
  },
  {
   "cell_type": "code",
   "execution_count": 376,
   "id": "4af1d394",
   "metadata": {},
   "outputs": [],
   "source": [
    "rand = np.random.randn(len(dfSCali))\n",
    "np.save('../model_out/SCali_randBF.npy', rand, allow_pickle=True)"
   ]
  },
  {
   "cell_type": "code",
   "execution_count": 377,
   "id": "705c6a94",
   "metadata": {},
   "outputs": [],
   "source": [
    "# yscaler = preprocessing.StandardScaler().fit(dfSCali['Grain_Size'].values.reshape(-1, 1))\n",
    "# y = yscaler.transform(dfSCali['Grain_Size'].values.reshape(-1, 1))"
   ]
  },
  {
   "cell_type": "markdown",
   "id": "6f5b0878",
   "metadata": {},
   "source": [
    "### model 1"
   ]
  },
  {
   "cell_type": "code",
   "execution_count": 378,
   "id": "f52fb7b9",
   "metadata": {},
   "outputs": [],
   "source": [
    "Smean = []\n",
    "Sstd = []\n",
    "\n",
    "test_size = 0.5\n",
    "\n",
    "standardize = False"
   ]
  },
  {
   "cell_type": "code",
   "execution_count": 379,
   "id": "e8145381",
   "metadata": {},
   "outputs": [
    {
     "name": "stdout",
     "output_type": "stream",
     "text": [
      "1.942912168\n",
      "1.942912168\n",
      "Fitting 5 folds for each of 2880 candidates, totalling 14400 fits\n",
      "The mean squared error (MSE) on test set: 0.3753\n"
     ]
    }
   ],
   "source": [
    "feature_names1 = ['β (radians)', 'Random\\n (non-dim.)']\n",
    "X = np.stack((dfSCali['Beach face slope'], rand))\n",
    "X.shape\n",
    "\n",
    "if standardize:\n",
    "    xscaler = preprocessing.StandardScaler().fit(X)\n",
    "    X = xscaler.transform(X)\n",
    "    print('Covariates standardized')\n",
    "\n",
    "X_train1, X_test1, y_train1, y_test1 = train_test_split(\n",
    "    X.T,dfSCali['Grain_Size'], test_size=test_size, random_state=43  ##\n",
    ")\n",
    "\n",
    "# X_train1, X_test1, y_train1, y_test1 = train_test_split(\n",
    "#     X.T,y.ravel(), test_size=test_size, random_state=2022  ##dfEAus['d50']\n",
    "# )\n",
    "\n",
    "\n",
    "# # unscale y - we balanced it to sample equally among grain size bins\n",
    "# y_test1 = yscaler.inverse_transform(y_test1.reshape(-1, 1)).squeeze()\n",
    "# y_train1 = yscaler.inverse_transform(y_train1.reshape(-1, 1)).squeeze()\n",
    "\n",
    "print(y_test1.max())\n",
    "print(y_train1.max())\n",
    "\n",
    "# model1 = ensemble.GradientBoostingRegressor(**params)\n",
    "gbr = ensemble.GradientBoostingRegressor()#**params)\n",
    "\n",
    "model1 = GridSearchCV(gbr, parameters, n_jobs=-1, verbose=2)\n",
    "\n",
    "model1.fit(X_train1, y_train1)\n",
    "\n",
    "mse1 = mean_squared_error(y_test1, model1.predict(X_test1))\n",
    "print(\"The mean squared error (MSE) on test set: {:.4f}\".format(mse1))"
   ]
  },
  {
   "cell_type": "code",
   "execution_count": 380,
   "id": "735e7b88",
   "metadata": {},
   "outputs": [
    {
     "data": {
      "text/plain": [
       "{'learning_rate': 0.05,\n",
       " 'loss': 'absolute_error',\n",
       " 'max_depth': 5,\n",
       " 'min_samples_split': 5,\n",
       " 'n_estimators': 25,\n",
       " 'subsample': 0.25}"
      ]
     },
     "execution_count": 380,
     "metadata": {},
     "output_type": "execute_result"
    }
   ],
   "source": [
    "model1.best_params_"
   ]
  },
  {
   "cell_type": "code",
   "execution_count": 381,
   "id": "ed15ecb5",
   "metadata": {},
   "outputs": [],
   "source": [
    "model1out = {}\n",
    "model1out['feature_names'] = feature_names1\n",
    "model1out['Xtest'] = X_test1\n",
    "model1out['Xtrain'] = X_train1\n",
    "model1out['ytest'] = y_test1\n",
    "model1out['ytrain'] = y_train1\n",
    "model1out['model'] = model1\n",
    "model1out['mse'] = mse1\n",
    "model1out['best_params'] = model1.best_params_"
   ]
  },
  {
   "cell_type": "code",
   "execution_count": 382,
   "id": "30b93035",
   "metadata": {},
   "outputs": [],
   "source": [
    "# model1 = model1.best_estimator_"
   ]
  },
  {
   "cell_type": "code",
   "execution_count": 383,
   "id": "20b06b1c",
   "metadata": {},
   "outputs": [
    {
     "name": "stdout",
     "output_type": "stream",
     "text": [
      "Mean RMSE: 0.545 (0.100)\n"
     ]
    }
   ],
   "source": [
    "model1 = model1.best_estimator_\n",
    "\n",
    "cv = RepeatedKFold(n_splits=10, n_repeats=5, random_state=2022)\n",
    "# evaluate model\n",
    "scores = cross_val_score(model1, X_test1, y_test1, scoring='neg_root_mean_squared_error', cv=cv, n_jobs=-1)\n",
    "\n",
    "# force scores to be positive\n",
    "scores = np.absolute(scores)\n",
    "print('Mean RMSE: %.3f (%.3f)' % (scores.mean(), scores.std()) )\n",
    "\n",
    "Smean.append(scores.mean())\n",
    "Sstd.append(scores.std())"
   ]
  },
  {
   "cell_type": "markdown",
   "id": "7ba6a3ab",
   "metadata": {},
   "source": [
    "### model 2"
   ]
  },
  {
   "cell_type": "code",
   "execution_count": 384,
   "id": "fc6db0f6",
   "metadata": {},
   "outputs": [
    {
     "name": "stdout",
     "output_type": "stream",
     "text": [
      "Fitting 5 folds for each of 2880 candidates, totalling 14400 fits\n",
      "The mean squared error (MSE) on test set: 0.2179\n"
     ]
    }
   ],
   "source": [
    "feature_names2 = [r'MSTR (m)', 'Random\\n (non-dim.)']\n",
    "X = np.stack((dfSCali['TIDAL_RANGE'], rand))\n",
    "\n",
    "X.shape\n",
    "\n",
    "if standardize:\n",
    "    xscaler = preprocessing.StandardScaler().fit(X)\n",
    "    X = xscaler.transform(X)\n",
    "    print('Covariates standardized')\n",
    "\n",
    "X_train2, X_test2, y_train2, y_test2 = train_test_split(\n",
    "    X.T, dfSCali['Grain_Size'], test_size=test_size, random_state=43\n",
    ")\n",
    "\n",
    "# model2 = ensemble.GradientBoostingRegressor(**params)\n",
    "gbr = ensemble.GradientBoostingRegressor()#**params)\n",
    "\n",
    "model2 = GridSearchCV(gbr, parameters, n_jobs=-1, verbose=2)\n",
    "model2.fit(X_train2, y_train2)\n",
    "\n",
    "mse2 = mean_squared_error(y_test2, model2.predict(X_test2))\n",
    "print(\"The mean squared error (MSE) on test set: {:.4f}\".format(mse2))"
   ]
  },
  {
   "cell_type": "code",
   "execution_count": 385,
   "id": "5a6a02c4",
   "metadata": {},
   "outputs": [
    {
     "name": "stdout",
     "output_type": "stream",
     "text": [
      "{'learning_rate': 0.01, 'loss': 'squared_error', 'max_depth': 3, 'min_samples_split': 7, 'n_estimators': 100, 'subsample': 1.0}\n"
     ]
    }
   ],
   "source": [
    "print(model2.best_params_)\n",
    "model2out = {}\n",
    "model2out['feature_names'] = feature_names2\n",
    "model2out['Xtest'] = X_test2\n",
    "model2out['Xtrain'] = X_train2\n",
    "model2out['ytest'] = y_test2\n",
    "model2out['ytrain'] = y_train2\n",
    "model2out['model'] = model2\n",
    "model2out['mse'] = mse2\n",
    "model2out['best_params'] = model2.best_params_"
   ]
  },
  {
   "cell_type": "code",
   "execution_count": 386,
   "id": "5833616f",
   "metadata": {},
   "outputs": [
    {
     "name": "stdout",
     "output_type": "stream",
     "text": [
      "Mean RMSE: 0.428 (0.094)\n"
     ]
    }
   ],
   "source": [
    "model2 = model2.best_estimator_\n",
    "\n",
    "cv = RepeatedKFold(n_splits=10, n_repeats=5, random_state=2022)\n",
    "# evaluate model\n",
    "scores = cross_val_score(model2, X_test2, y_test2, scoring='neg_root_mean_squared_error', cv=cv, n_jobs=-1)\n",
    "\n",
    "# force scores to be positive\n",
    "scores = np.absolute(scores)\n",
    "print('Mean RMSE: %.3f (%.3f)' % (scores.mean(), scores.std()) )\n",
    "\n",
    "Smean.append(scores.mean())\n",
    "Sstd.append(scores.std())"
   ]
  },
  {
   "cell_type": "markdown",
   "id": "e4f6c698",
   "metadata": {},
   "source": [
    "### model 3"
   ]
  },
  {
   "cell_type": "code",
   "execution_count": 387,
   "id": "94a04eec",
   "metadata": {},
   "outputs": [
    {
     "name": "stdout",
     "output_type": "stream",
     "text": [
      "Fitting 5 folds for each of 2880 candidates, totalling 14400 fits\n",
      "The mean squared error (MSE) on test set: 0.2203\n"
     ]
    }
   ],
   "source": [
    "feature_names3 = ['β (radians)','MSTR (m)', 'Random\\n (non-dim.)']\n",
    "X = np.stack((dfSCali['Beach face slope'], dfSCali['TIDAL_RANGE'], rand))\n",
    "X.shape\n",
    "\n",
    "if standardize:\n",
    "    xscaler = preprocessing.StandardScaler().fit(X)\n",
    "    X = xscaler.transform(X)\n",
    "    print('Covariates standardized')\n",
    "\n",
    "X_train3, X_test3, y_train3, y_test3 = train_test_split(\n",
    "    X.T, dfSCali['Grain_Size'], test_size=test_size, random_state=43\n",
    ")\n",
    "\n",
    "# model3 = ensemble.GradientBoostingRegressor(**params)\n",
    "gbr = ensemble.GradientBoostingRegressor()#**params)\n",
    "\n",
    "model3 = GridSearchCV(gbr, parameters, n_jobs=-1, verbose=2)\n",
    "model3.fit(X_train3, y_train3)\n",
    "\n",
    "mse3 = mean_squared_error(y_test3, model3.predict(X_test3))\n",
    "print(\"The mean squared error (MSE) on test set: {:.4f}\".format(mse3))"
   ]
  },
  {
   "cell_type": "code",
   "execution_count": null,
   "id": "b0bc0a86",
   "metadata": {},
   "outputs": [],
   "source": []
  },
  {
   "cell_type": "code",
   "execution_count": 388,
   "id": "759e9b94",
   "metadata": {},
   "outputs": [
    {
     "name": "stdout",
     "output_type": "stream",
     "text": [
      "{'learning_rate': 0.01, 'loss': 'squared_error', 'max_depth': 3, 'min_samples_split': 3, 'n_estimators': 100, 'subsample': 1.0}\n"
     ]
    }
   ],
   "source": [
    "print(model3.best_params_)\n",
    "model3out = {}\n",
    "model3out['feature_names'] = feature_names3\n",
    "model3out['Xtest'] = X_test3\n",
    "model3out['Xtrain'] = X_train3\n",
    "model3out['ytest'] = y_test3\n",
    "model3out['ytrain'] = y_train3\n",
    "model3out['model'] = model3\n",
    "model3out['mse'] = mse3\n",
    "model3out['best_params'] = model3.best_params_"
   ]
  },
  {
   "cell_type": "code",
   "execution_count": null,
   "id": "d7f97ba0",
   "metadata": {},
   "outputs": [],
   "source": []
  },
  {
   "cell_type": "code",
   "execution_count": 389,
   "id": "903802e4",
   "metadata": {},
   "outputs": [
    {
     "name": "stdout",
     "output_type": "stream",
     "text": [
      "Mean RMSE: 0.426 (0.092)\n"
     ]
    }
   ],
   "source": [
    "model3 = model3.best_estimator_\n",
    "\n",
    "cv = RepeatedKFold(n_splits=10, n_repeats=5, random_state=2022)\n",
    "# evaluate model\n",
    "scores = cross_val_score(model3, X_test3, y_test3, scoring='neg_root_mean_squared_error', cv=cv, n_jobs=-1)\n",
    "\n",
    "# force scores to be positive\n",
    "scores = np.absolute(scores)\n",
    "print('Mean RMSE: %.3f (%.3f)' % (scores.mean(), scores.std()) )\n",
    "\n",
    "Smean.append(scores.mean())\n",
    "Sstd.append(scores.std())"
   ]
  },
  {
   "cell_type": "markdown",
   "id": "1e440b9c",
   "metadata": {},
   "source": [
    "### model 4"
   ]
  },
  {
   "cell_type": "code",
   "execution_count": 390,
   "id": "4e662ea8",
   "metadata": {},
   "outputs": [
    {
     "name": "stdout",
     "output_type": "stream",
     "text": [
      "Fitting 5 folds for each of 2880 candidates, totalling 14400 fits\n",
      "The mean squared error (MSE) on test set: 0.1979\n"
     ]
    }
   ],
   "source": [
    "feature_names4 = ['β (radians)','MSTR (m)',r'$T_p$ (s)', 'Random\\n (non-dim.)']\n",
    "X = np.stack((dfSCali['Beach face slope'], dfSCali['TIDAL_RANGE'], dfSCali['Tp'], rand))\n",
    "X.shape\n",
    "\n",
    "if standardize:\n",
    "    xscaler = preprocessing.StandardScaler().fit(X)\n",
    "    X = xscaler.transform(X)\n",
    "    print('Covariates standardized')\n",
    "\n",
    "X_train4, X_test4, y_train4, y_test4 = train_test_split(\n",
    "    X.T, dfSCali['Grain_Size'], test_size=test_size, random_state=43\n",
    ")\n",
    "\n",
    "# model4 = ensemble.GradientBoostingRegressor(**params)\n",
    "gbr = ensemble.GradientBoostingRegressor()#**params)\n",
    "\n",
    "model4 = GridSearchCV(gbr, parameters, n_jobs=-1, verbose=2)\n",
    "\n",
    "model4.fit(X_train4, y_train4)\n",
    "\n",
    "mse4 = mean_squared_error(y_test4, model4.predict(X_test4))\n",
    "print(\"The mean squared error (MSE) on test set: {:.4f}\".format(mse4))"
   ]
  },
  {
   "cell_type": "code",
   "execution_count": 391,
   "id": "3c020e2f",
   "metadata": {},
   "outputs": [
    {
     "name": "stdout",
     "output_type": "stream",
     "text": [
      "{'learning_rate': 0.05, 'loss': 'squared_error', 'max_depth': 3, 'min_samples_split': 3, 'n_estimators': 25, 'subsample': 1.0}\n"
     ]
    }
   ],
   "source": [
    "print(model4.best_params_)\n",
    "\n",
    "model4out = {}\n",
    "model4out['feature_names'] = feature_names4\n",
    "model4out['Xtest'] = X_test4\n",
    "model4out['Xtrain'] = X_train4\n",
    "model4out['ytest'] = y_test4\n",
    "model4out['ytrain'] = y_train4\n",
    "model4out['model'] = model4\n",
    "model4out['mse'] = mse4\n",
    "model4out['best_params'] = model4.best_params_"
   ]
  },
  {
   "cell_type": "code",
   "execution_count": 392,
   "id": "c3b93340",
   "metadata": {},
   "outputs": [
    {
     "name": "stdout",
     "output_type": "stream",
     "text": [
      "Mean RMSE: 0.415 (0.089)\n"
     ]
    }
   ],
   "source": [
    "model4 = model4.best_estimator_\n",
    "\n",
    "cv = RepeatedKFold(n_splits=10, n_repeats=5, random_state=2022)\n",
    "# evaluate model\n",
    "scores = cross_val_score(model4, X_test4, y_test4, scoring='neg_root_mean_squared_error', cv=cv, n_jobs=-1)\n",
    "\n",
    "# force scores to be positive\n",
    "scores = np.absolute(scores)\n",
    "print('Mean RMSE: %.3f (%.3f)' % (scores.mean(), scores.std()) )\n",
    "\n",
    "Smean.append(scores.mean())\n",
    "Sstd.append(scores.std())"
   ]
  },
  {
   "cell_type": "markdown",
   "id": "9ad3f06c",
   "metadata": {},
   "source": [
    "### model 5"
   ]
  },
  {
   "cell_type": "code",
   "execution_count": 393,
   "id": "ebaa0435",
   "metadata": {},
   "outputs": [
    {
     "name": "stdout",
     "output_type": "stream",
     "text": [
      "Fitting 5 folds for each of 2880 candidates, totalling 14400 fits\n",
      "The mean squared error (MSE) on test set: 0.2223\n"
     ]
    }
   ],
   "source": [
    "feature_names5 = ['β (radians)','MSTR (m)',r'$H_s$ (m)', 'Random\\n (non-dim.)']\n",
    "X = np.stack((dfSCali['Beach face slope'], dfSCali['TIDAL_RANGE'], dfSCali['Hs'], rand))\n",
    "X.shape\n",
    "\n",
    "if standardize:\n",
    "    xscaler = preprocessing.StandardScaler().fit(X)\n",
    "    X = xscaler.transform(X)\n",
    "    print('Covariates standardized')\n",
    "\n",
    "X_train5, X_test5, y_train5, y_test5 = train_test_split(\n",
    "    X.T, dfSCali['Grain_Size'], test_size=test_size, random_state=43\n",
    ")\n",
    "\n",
    "# model5 = ensemble.GradientBoostingRegressor(**params)\n",
    "gbr = ensemble.GradientBoostingRegressor()#**params)\n",
    "\n",
    "model5 = GridSearchCV(gbr, parameters, n_jobs=-1, verbose=2)\n",
    "model5.fit(X_train5, y_train5)\n",
    "\n",
    "mse5 = mean_squared_error(y_test5, model5.predict(X_test5))\n",
    "print(\"The mean squared error (MSE) on test set: {:.4f}\".format(mse5))"
   ]
  },
  {
   "cell_type": "code",
   "execution_count": 394,
   "id": "14021539",
   "metadata": {},
   "outputs": [],
   "source": [
    "# redo above"
   ]
  },
  {
   "cell_type": "code",
   "execution_count": 395,
   "id": "825c654f",
   "metadata": {},
   "outputs": [
    {
     "name": "stdout",
     "output_type": "stream",
     "text": [
      "{'learning_rate': 0.05, 'loss': 'absolute_error', 'max_depth': 3, 'min_samples_split': 5, 'n_estimators': 50, 'subsample': 0.75}\n"
     ]
    }
   ],
   "source": [
    "print(model5.best_params_)\n",
    "model5out = {}\n",
    "model5out['feature_names'] = feature_names5\n",
    "model5out['Xtest'] = X_test5\n",
    "model5out['Xtrain'] = X_train5\n",
    "model5out['ytest'] = y_test5\n",
    "model5out['ytrain'] = y_train5\n",
    "model5out['model'] = model5\n",
    "model5out['mse'] = mse5\n",
    "model5out['best_params'] = model5.best_params_"
   ]
  },
  {
   "cell_type": "code",
   "execution_count": 396,
   "id": "a816d15c",
   "metadata": {},
   "outputs": [
    {
     "name": "stdout",
     "output_type": "stream",
     "text": [
      "Mean RMSE: 0.431 (0.095)\n"
     ]
    }
   ],
   "source": [
    "model5 = model5.best_estimator_\n",
    "\n",
    "cv = RepeatedKFold(n_splits=10, n_repeats=5, random_state=2022)\n",
    "# evaluate model\n",
    "scores = cross_val_score(model5, X_test5, y_test5, scoring='neg_root_mean_squared_error', cv=cv, n_jobs=-1)\n",
    "\n",
    "# force scores to be positive\n",
    "scores = np.absolute(scores)\n",
    "print('Mean RMSE: %.3f (%.3f)' % (scores.mean(), scores.std()) )\n",
    "\n",
    "Smean.append(scores.mean())\n",
    "Sstd.append(scores.std())"
   ]
  },
  {
   "cell_type": "markdown",
   "id": "1718bab6",
   "metadata": {},
   "source": [
    "### model 6"
   ]
  },
  {
   "cell_type": "code",
   "execution_count": 397,
   "id": "4b6a16f7",
   "metadata": {},
   "outputs": [
    {
     "name": "stdout",
     "output_type": "stream",
     "text": [
      "Fitting 5 folds for each of 2880 candidates, totalling 14400 fits\n",
      "The mean squared error (MSE) on test set: 0.2051\n"
     ]
    }
   ],
   "source": [
    "feature_names6 = ['β (radians)','MSTR (m)',r'$\\theta$ (deg.)', 'Random\\n (non-dim.)']\n",
    "X = np.stack((dfSCali['Beach face slope'], dfSCali['TIDAL_RANGE'], dfSCali['Dp'], rand))\n",
    "\n",
    "X.shape\n",
    "\n",
    "if standardize:\n",
    "    xscaler = preprocessing.StandardScaler().fit(X)\n",
    "    X = xscaler.transform(X)\n",
    "    print('Covariates standardized')\n",
    "\n",
    "X_train6, X_test6, y_train6, y_test6 = train_test_split(\n",
    "    X.T, dfSCali['Grain_Size'], test_size=test_size, random_state=43\n",
    ")\n",
    "\n",
    "# model6 = ensemble.GradientBoostingRegressor(**params)\n",
    "gbr = ensemble.GradientBoostingRegressor()#**params)\n",
    "\n",
    "model6 = GridSearchCV(gbr, parameters, n_jobs=-1, verbose=2)\n",
    "model6.fit(X_train6, y_train6)\n",
    "\n",
    "mse6 = mean_squared_error(y_test6,model6.predict(X_test6))\n",
    "print(\"The mean squared error (MSE) on test set: {:.4f}\".format(mse6))"
   ]
  },
  {
   "cell_type": "code",
   "execution_count": 398,
   "id": "7593bca5",
   "metadata": {},
   "outputs": [
    {
     "name": "stdout",
     "output_type": "stream",
     "text": [
      "{'learning_rate': 0.05, 'loss': 'squared_error', 'max_depth': 3, 'min_samples_split': 3, 'n_estimators': 25, 'subsample': 1.0}\n"
     ]
    }
   ],
   "source": [
    "print(model6.best_params_)\n",
    "\n",
    "model6out = {}\n",
    "model6out['feature_names'] = feature_names6\n",
    "model6out['Xtest'] = X_test6\n",
    "model6out['Xtrain'] = X_train6\n",
    "model6out['ytest'] = y_test6\n",
    "model6out['ytrain'] = y_train6\n",
    "model6out['model'] = model6\n",
    "model6out['mse'] = mse6\n",
    "model6out['best_params'] = model6.best_params_"
   ]
  },
  {
   "cell_type": "code",
   "execution_count": 399,
   "id": "21e614db",
   "metadata": {},
   "outputs": [
    {
     "name": "stdout",
     "output_type": "stream",
     "text": [
      "Mean RMSE: 0.406 (0.091)\n"
     ]
    }
   ],
   "source": [
    "model6 = model6.best_estimator_\n",
    "\n",
    "cv = RepeatedKFold(n_splits=10, n_repeats=5, random_state=2022)\n",
    "# evaluate model\n",
    "scores = cross_val_score(model6, X_test6, y_test6, scoring='neg_root_mean_squared_error', cv=cv, n_jobs=-1)\n",
    "\n",
    "# force scores to be positive\n",
    "scores = np.absolute(scores)\n",
    "print('Mean RMSE: %.3f (%.3f)' % (scores.mean(), scores.std()) )\n",
    "\n",
    "Smean.append(scores.mean())\n",
    "Sstd.append(scores.std())"
   ]
  },
  {
   "cell_type": "markdown",
   "id": "9158ad16",
   "metadata": {},
   "source": [
    "### model 7"
   ]
  },
  {
   "cell_type": "code",
   "execution_count": 400,
   "id": "e90d1334",
   "metadata": {},
   "outputs": [
    {
     "name": "stdout",
     "output_type": "stream",
     "text": [
      "Fitting 5 folds for each of 2880 candidates, totalling 14400 fits\n",
      "The mean squared error (MSE) on test set: 0.2047\n"
     ]
    }
   ],
   "source": [
    "feature_names7 = ['MSTR (m)',r'$T_p$ (s)',r'$H_s$ (m)', 'Random\\n (non-dim.)']\n",
    "# X = np.stack((dfEAus['mstr'], dfEAus['tp'], dfEAus['hs_mean'],  rand))\n",
    "X = np.stack((dfSCali['TIDAL_RANGE'], dfSCali['Tp'], dfSCali['Hs'], rand))\n",
    "\n",
    "X.shape\n",
    "\n",
    "if standardize:\n",
    "    xscaler = preprocessing.StandardScaler().fit(X)\n",
    "    X = xscaler.transform(X)\n",
    "    print('Covariates standardized')\n",
    "\n",
    "X_train7, X_test7, y_train7, y_test7 = train_test_split(\n",
    "    X.T, dfSCali['Grain_Size'], test_size=test_size, random_state=43\n",
    ")\n",
    "\n",
    "# model7 = ensemble.GradientBoostingRegressor(**params)\n",
    "gbr = ensemble.GradientBoostingRegressor()#**params)\n",
    "\n",
    "model7 = GridSearchCV(gbr, parameters, n_jobs=-1, verbose=2)\n",
    "model7.fit(X_train7, y_train7)\n",
    "\n",
    "mse7 = mean_squared_error(y_test7,model7.predict(X_test7))\n",
    "print(\"The mean squared error (MSE) on test set: {:.4f}\".format(mse7))"
   ]
  },
  {
   "cell_type": "code",
   "execution_count": 401,
   "id": "795e3f15",
   "metadata": {},
   "outputs": [
    {
     "name": "stdout",
     "output_type": "stream",
     "text": [
      "{'learning_rate': 0.05, 'loss': 'huber', 'max_depth': 3, 'min_samples_split': 5, 'n_estimators': 25, 'subsample': 1.0}\n"
     ]
    }
   ],
   "source": [
    "print(model7.best_params_)\n",
    "\n",
    "model7out = {}\n",
    "model7out['feature_names'] = feature_names7\n",
    "model7out['Xtest'] = X_test7\n",
    "model7out['Xtrain'] = X_train7\n",
    "model7out['ytest'] = y_test7\n",
    "model7out['ytrain'] = y_train7\n",
    "model7out['model'] = model7\n",
    "model7out['mse'] = mse7\n",
    "model7out['best_params'] = model7.best_params_"
   ]
  },
  {
   "cell_type": "code",
   "execution_count": 402,
   "id": "86829c54",
   "metadata": {},
   "outputs": [
    {
     "name": "stdout",
     "output_type": "stream",
     "text": [
      "Mean RMSE: 0.441 (0.117)\n"
     ]
    }
   ],
   "source": [
    "model7 = model7.best_estimator_\n",
    "\n",
    "cv = RepeatedKFold(n_splits=10, n_repeats=5, random_state=2022)\n",
    "# evaluate model\n",
    "scores = cross_val_score(model7, X_test7, y_test7, scoring='neg_root_mean_squared_error', cv=cv, n_jobs=-1)\n",
    "\n",
    "# force scores to be positive\n",
    "scores = np.absolute(scores)\n",
    "print('Mean RMSE: %.3f (%.3f)' % (scores.mean(), scores.std()) )\n",
    "\n",
    "Smean.append(scores.mean())\n",
    "Sstd.append(scores.std())"
   ]
  },
  {
   "cell_type": "markdown",
   "id": "e8f1feb9",
   "metadata": {},
   "source": [
    "### model 8"
   ]
  },
  {
   "cell_type": "code",
   "execution_count": 403,
   "id": "fac5b645",
   "metadata": {},
   "outputs": [
    {
     "name": "stdout",
     "output_type": "stream",
     "text": [
      "Fitting 5 folds for each of 2880 candidates, totalling 14400 fits\n",
      "The mean squared error (MSE) on test set: 0.2473\n"
     ]
    }
   ],
   "source": [
    "feature_names8 = ['β (radians)','MSTR (m)',r'$T_p$ (s)',r'$H_s$ (m)',  'Random\\n (non-dim.)']\n",
    "# X = np.stack((dfEAus['beach_slope_average'], dfEAus['mstr'], dfEAus['tp'], dfEAus['hs_mean'],  rand))\n",
    "X = np.stack((dfSCali['Beach face slope'], dfSCali['TIDAL_RANGE'], dfSCali['Tp'], dfSCali['Hs'], rand))\n",
    "\n",
    "X.shape\n",
    "\n",
    "if standardize:\n",
    "    xscaler = preprocessing.StandardScaler().fit(X)\n",
    "    X = xscaler.transform(X)\n",
    "    print('Covariates standardized')\n",
    "\n",
    "X_train8, X_test8, y_train8, y_test8= train_test_split(\n",
    "    X.T, dfSCali['Grain_Size'], test_size=test_size, random_state=43\n",
    ")\n",
    "\n",
    "# model8= ensemble.GradientBoostingRegressor(**params)\n",
    "gbr = ensemble.GradientBoostingRegressor()#**params)\n",
    "\n",
    "model8 = GridSearchCV(gbr, parameters, n_jobs=-1, verbose=2)\n",
    "model8.fit(X_train8, y_train8)\n",
    "\n",
    "mse8 = mean_squared_error(y_test8,model8.predict(X_test8))\n",
    "print(\"The mean squared error (MSE) on test set: {:.4f}\".format(mse8))"
   ]
  },
  {
   "cell_type": "code",
   "execution_count": 404,
   "id": "4c3bbf0b",
   "metadata": {},
   "outputs": [
    {
     "name": "stdout",
     "output_type": "stream",
     "text": [
      "{'learning_rate': 0.1, 'loss': 'absolute_error', 'max_depth': 3, 'min_samples_split': 3, 'n_estimators': 25, 'subsample': 0.5}\n"
     ]
    }
   ],
   "source": [
    "print(model8.best_params_)\n",
    "\n",
    "model8out = {}\n",
    "model8out['feature_names'] = feature_names8\n",
    "model8out['Xtest'] = X_test8\n",
    "model8out['Xtrain'] = X_train8\n",
    "model8out['ytest'] = y_test8\n",
    "model8out['ytrain'] = y_train8\n",
    "model8out['model'] = model8.best_estimator_\n",
    "model8out['mse'] = mse8\n",
    "model8out['best_params'] = model8.best_params_"
   ]
  },
  {
   "cell_type": "code",
   "execution_count": 405,
   "id": "602393a3",
   "metadata": {},
   "outputs": [
    {
     "name": "stdout",
     "output_type": "stream",
     "text": [
      "Mean RMSE: 0.429 (0.101)\n"
     ]
    }
   ],
   "source": [
    "model8 = model8.best_estimator_\n",
    "\n",
    "cv = RepeatedKFold(n_splits=10, n_repeats=5, random_state=2022)\n",
    "# evaluate model\n",
    "scores = cross_val_score(model8, X_test8, y_test8, scoring='neg_root_mean_squared_error', cv=cv, n_jobs=-1)\n",
    "\n",
    "# force scores to be positive\n",
    "scores = np.absolute(scores)\n",
    "\n",
    "print('Mean RMSE: %.3f (%.3f)' % (scores.mean(), scores.std()) )\n",
    "\n",
    "Smean.append(scores.mean())\n",
    "Sstd.append(scores.std())"
   ]
  },
  {
   "cell_type": "markdown",
   "id": "e8cc7aef",
   "metadata": {},
   "source": [
    "### plot skill all models"
   ]
  },
  {
   "cell_type": "code",
   "execution_count": 406,
   "id": "627bb71d",
   "metadata": {},
   "outputs": [],
   "source": [
    "def mcfall(X,hs):\n",
    "    if hs<=1:\n",
    "        A = 3.1; n = -1.1 \n",
    "    elif hs>=3:\n",
    "        A = 3.9; n = -1.85         \n",
    "    else:\n",
    "        A = 2.1; n = -1.8             \n",
    "    return (X/A)**(1/n)\n",
    "\n",
    "def bujan(B,a,b,c):\n",
    "    t1=(B-c)\n",
    "    return (1/8)*(8*((t1/a))**(1/b)+1)\n",
    "\n",
    "def prc_err(y,yest):\n",
    "    return 100*(np.abs(y-yest)/y)"
   ]
  },
  {
   "cell_type": "code",
   "execution_count": 409,
   "id": "a19b52f5",
   "metadata": {},
   "outputs": [
    {
     "data": {
      "image/png": "[encoded data removed]",
      "text/plain": [
       "<Figure size 1440x720 with 8 Axes>"
      ]
     },
     "metadata": {
      "needs_background": "light"
     },
     "output_type": "display_data"
    }
   ],
   "source": [
    "plt.figure(figsize=(20,10))\n",
    "plt.subplots_adjust(wspace=0.3, hspace=0.3)\n",
    "\n",
    "plt.subplot(241)\n",
    "ds_est = model1.predict(X_test1)\n",
    "plt.plot(y_test1, ds_est, 'ko', label='Test data')\n",
    "# plt.xlim(0.1,1.1); plt.ylim(.1,1.1)\n",
    "yl=plt.ylim()\n",
    "plt.plot(yl,yl,'--r')\n",
    "plt.xlabel(r'Observed $D_{50}$ (mm)')\n",
    "plt.ylabel(r'Estimated $D_{50}$ (mm)')\n",
    "plt.title(r\"a) f(β)\", loc='left')\n",
    "r2 = np.min(np.corrcoef(y_test1, ds_est))**2\n",
    "plt.text(.67,.35,r'$R^2$ (test)='+str(r2)[:4])\n",
    "\n",
    "coef = np.polyfit(y_test1, ds_est,1)\n",
    "poly1d_fn = np.poly1d(coef) \n",
    "plt.plot(y_test1, poly1d_fn(y_test1), '-k')\n",
    "plt.text(.67,.30, r'Mean error: {}%'.format(str(np.mean(prc_err(y_test1,ds_est)))[:2]))\n",
    "plt.text(.67,.25, r'MSE: {}mm'.format(str(Smean[0])[:4]))\n",
    "\n",
    "ds_est2 = model1.predict(X_train1)\n",
    "plt.plot(y_train1, ds_est2, 'bp', alpha=0.5, label='Train data')\n",
    "plt.legend(loc=2)\n",
    "\n",
    "plt.text(.67,.20, r'Overall mean error:', color='g')\n",
    "plt.text(.67,.15, r'{}%'.format(str(np.mean(prc_err(np.hstack((y_test1,y_train1)),np.hstack((ds_est,ds_est2)))))[:2]), color='g')\n",
    "\n",
    "plt.subplot(242)\n",
    "ds_est = model2.predict(X_test2)\n",
    "plt.plot(y_test2, ds_est, 'ko')\n",
    "# plt.xlim(0.1,1.1); plt.ylim(.1,1.1)\n",
    "yl=plt.ylim()\n",
    "plt.plot(yl,yl,'--r')\n",
    "plt.xlabel(r'Observed $D_{50}$ (mm)')\n",
    "# plt.ylabel(r'Estimated $D_{50}$ (mm)')\n",
    "plt.title(r\"b) f($MSTR$)\", loc='left')\n",
    "r2 = np.min(np.corrcoef(y_test2, ds_est))**2\n",
    "plt.text(.67,.35,r'$R^2$='+str(r2)[:4])\n",
    "\n",
    "coef = np.polyfit(y_test2, ds_est,1)\n",
    "poly1d_fn = np.poly1d(coef) \n",
    "plt.plot(y_test2, poly1d_fn(y_test2), '-k')\n",
    "plt.text(.67,.30, r'Mean error: {}%'.format(str(np.mean(prc_err(y_test2,ds_est)))[:2]))\n",
    "plt.text(.67,.25, r'MSE: {}mm'.format(str(Smean[1])[:4]))\n",
    "\n",
    "ds_est2 = model2.predict(X_train2)\n",
    "plt.plot(y_train2, ds_est2, 'bp', alpha=0.5, label='Train data')\n",
    "\n",
    "plt.text(.67,.20, r'Overall mean error:', color='g')\n",
    "plt.text(.67,.15, r'{}%'.format(str(np.mean(prc_err(np.hstack((y_test2,y_train2)),np.hstack((ds_est,ds_est2)))))[:2]), color='g')\n",
    "\n",
    "plt.subplot(243)\n",
    "ds_est = model3.predict(X_test3)\n",
    "plt.plot(y_test3, ds_est, 'ko')\n",
    "# plt.xlim(0.1,1.1); plt.ylim(.1,1.1)\n",
    "yl=plt.ylim()\n",
    "plt.plot(yl,yl,'--r')\n",
    "plt.xlabel(r'Observed $D_{50}$ (mm)')\n",
    "# plt.ylabel(r'Estimated $D_{50}$ (mm)')\n",
    "plt.title(\"c) f(β, $MSTR$)\", loc='left')\n",
    "r2 = np.min(np.corrcoef(y_test3, ds_est))**2\n",
    "plt.text(.67,.35,r'$R^2$ (test)='+str(r2)[:4])\n",
    "\n",
    "coef = np.polyfit(y_test3, ds_est,1)\n",
    "poly1d_fn = np.poly1d(coef) \n",
    "plt.plot(y_test3, poly1d_fn(y_test3), '-k')\n",
    "plt.text(.67,.30, r'Mean error: {}%'.format(str(np.mean(prc_err(y_test3,ds_est)))[:2]))\n",
    "plt.text(.67,.25, r'MSE: {}mm'.format(str(Smean[2])[:4]))\n",
    "\n",
    "ds_est2 = model3.predict(X_train3)\n",
    "plt.plot(y_train3, ds_est2, 'bp', alpha=0.5, label='Train data')\n",
    "\n",
    "plt.text(.67,.2, r'Overall mean error:', color='g')\n",
    "plt.text(.67,.15, r'{}%'.format(str(np.mean(prc_err(np.hstack((y_test3,y_train3)),np.hstack((ds_est,ds_est2)))))[:2]), color='g')\n",
    "\n",
    "plt.subplot(244)\n",
    "ds_est = model4.predict(X_test4)\n",
    "plt.plot(y_test4, ds_est, 'ko')\n",
    "# plt.xlim(0.1,1.1); plt.ylim(.1,1.1)\n",
    "yl=plt.ylim()\n",
    "plt.plot(yl,yl,'--r')\n",
    "plt.xlabel(r'Observed $D_{50}$ (mm)')\n",
    "plt.title(r\"d) f(β, $MSTR$, $T_p$)\", loc='left')\n",
    "r2 = np.min(np.corrcoef(y_test4, ds_est))**2\n",
    "plt.text(.67,.35,r'$R^2$ (test)='+str(r2)[:4])\n",
    "plt.text(.67,.3, r'Mean error: {}%'.format(str(np.mean(prc_err(y_test4,ds_est)))[:2]))\n",
    "plt.text(.67,.25, r'MSE: {}mm'.format(str(Smean[3])[:4]))\n",
    "\n",
    "coef = np.polyfit(y_test4, ds_est,1)\n",
    "poly1d_fn = np.poly1d(coef) \n",
    "plt.plot(y_test4, poly1d_fn(y_test4), '-k')\n",
    "\n",
    "ds_est2 = model4.predict(X_train4)\n",
    "plt.plot(y_train4, ds_est2, 'bp', alpha=0.5, label='Train data')\n",
    "\n",
    "plt.text(.67,.2, r'Overall mean error:', color='g')\n",
    "plt.text(.67,.15, r'{}%'.format(str(np.mean(prc_err(np.hstack((y_test4,y_train4)),np.hstack((ds_est,ds_est2)))))[:2]), color='g')\n",
    "\n",
    "\n",
    "plt.subplot(245)\n",
    "ds_est = model5.predict(X_test5)\n",
    "plt.plot(y_test5, ds_est, 'ko')\n",
    "# plt.xlim(0.1,1.1); plt.ylim(.1,1.1)\n",
    "yl=plt.ylim()\n",
    "plt.plot(yl,yl,'--r')\n",
    "plt.xlabel(r'Observed $D_{50}$ (mm)')\n",
    "plt.ylabel(r'Estimated $D_{50}$ (mm)')\n",
    "plt.title(r\"e) f(β, $MSTR$, $H_s$)\", loc='left')\n",
    "r2 = np.min(np.corrcoef(y_test5, ds_est))**2\n",
    "plt.text(.67,.35,r'$R^2$ (test)='+str(r2)[:4])\n",
    "\n",
    "coef = np.polyfit(y_test5, ds_est,1)\n",
    "poly1d_fn = np.poly1d(coef) \n",
    "plt.plot(y_test5, poly1d_fn(y_test5), '-k')\n",
    "plt.text(.67,.3, r'Mean error: {}%'.format(str(np.mean(prc_err(y_test5,ds_est)))[:2]))\n",
    "plt.text(.67,.25, r'MSE: {}mm'.format(str(Smean[4])[:4]))\n",
    "\n",
    "ds_est2 = model5.predict(X_train5)\n",
    "plt.plot(y_train5, ds_est2, 'bp', alpha=0.5, label='Train data')\n",
    "\n",
    "plt.text(.67,.2, r'Overall mean error:', color='g')\n",
    "plt.text(.67,.15, r'{}%'.format(str(np.mean(prc_err(np.hstack((y_test5,y_train5)),np.hstack((ds_est,ds_est2)))))[:2]), color='g')\n",
    "\n",
    "\n",
    "plt.subplot(246)\n",
    "ds_est = model6.predict(X_test6)\n",
    "plt.plot(y_test6, ds_est, 'ko')\n",
    "# plt.xlim(0.1,1.1); plt.ylim(.1,1.1)\n",
    "yl=plt.ylim()\n",
    "plt.plot(yl,yl,'--r')\n",
    "plt.xlabel(r'Observed $D_{50}$ (mm)')\n",
    "# plt.ylabel(r'Estimated $D_{50}$ (mm)')\n",
    "plt.title(r\"f) f(β, $MSTR$, $\\theta$)\", loc='left')\n",
    "r2 = np.min(np.corrcoef(y_test6, ds_est))**2\n",
    "plt.text(.67,.35,r'$R^2$ (test)='+str(r2)[:4])\n",
    "\n",
    "coef = np.polyfit(y_test6, ds_est,1)\n",
    "poly1d_fn = np.poly1d(coef) \n",
    "plt.plot(y_test6, poly1d_fn(y_test6), '-k')\n",
    "plt.text(.67,.3, r'Mean error: {}%'.format(str(np.mean(prc_err(y_test6,ds_est)))[:2]))\n",
    "plt.text(.67,.25, r'MSE: {}mm'.format(str(Smean[5])[:4]))\n",
    "\n",
    "ds_est2 = model6.predict(X_train6)\n",
    "plt.plot(y_train6, ds_est2, 'bp', alpha=0.5, label='Train data')\n",
    "\n",
    "plt.text(.67,.2, r'Overall mean error:', color='g')\n",
    "plt.text(.67,.15, r'{}%'.format(str(np.mean(prc_err(np.hstack((y_test6,y_train6)),np.hstack((ds_est,ds_est2)))))[:2]), color='g')\n",
    "\n",
    "plt.subplot(247)\n",
    "ds_est = model7.predict(X_test7)\n",
    "plt.plot(y_test7, ds_est, 'ko')\n",
    "# plt.xlim(0.1,1.1); plt.ylim(.1,1.1)\n",
    "yl=plt.ylim()\n",
    "plt.plot(yl,yl,'--r')\n",
    "plt.xlabel(r'Observed $D_{50}$ (mm)')\n",
    "# plt.ylabel(r'Estimated $D_{50}$ (mm)')\n",
    "plt.title(r\"g) f($MSTR$, $T_p$, $H_s$)\", loc='left')\n",
    "r2 = np.min(np.corrcoef(y_test7, ds_est))**2\n",
    "plt.text(.67,.35,r'$R^2$ (test)='+str(r2)[:4])\n",
    "\n",
    "coef = np.polyfit(y_test7, ds_est,1)\n",
    "poly1d_fn = np.poly1d(coef) \n",
    "plt.plot(y_test7, poly1d_fn(y_test7), '-k')\n",
    "plt.text(.67,.3, r'Mean error: {}%'.format(str(np.mean(prc_err(y_test7,ds_est)))[:2]))\n",
    "plt.text(.67,.25, r'MSE: {}mm'.format(str(Smean[6])[:4]))\n",
    "\n",
    "ds_est2 = model7.predict(X_train7)\n",
    "plt.plot(y_train7, ds_est2, 'bp', alpha=0.5, label='Train data')\n",
    "\n",
    "plt.text(.67,.2, r'Overall mean error:', color='g')\n",
    "plt.text(.67,.15, r'{}%'.format(str(np.mean(prc_err(np.hstack((y_test7,y_train7)),np.hstack((ds_est,ds_est2)))))[:2]), color='g')\n",
    "\n",
    "plt.subplot(248)\n",
    "ds_est = model8.predict(X_test8)\n",
    "plt.plot(y_test8, ds_est, 'ko')\n",
    "# plt.xlim(0.1,1.1); plt.ylim(.1,1.1)\n",
    "yl=plt.ylim()\n",
    "plt.plot(yl,yl,'--r')\n",
    "plt.xlabel(r'Observed $D_{50}$ (mm)')\n",
    "# plt.ylabel(r'Estimated $D_{50}$ (mm)')\n",
    "plt.title(r\"h) f(β, $MSTR$, $T_p$, $H_s$)\", loc='left')\n",
    "r2 = np.min(np.corrcoef(y_test8, ds_est))**2\n",
    "plt.text(.67,.35,r'$R^2$ (test)='+str(r2)[:4])\n",
    "\n",
    "coef = np.polyfit(y_test8, ds_est,1)\n",
    "poly1d_fn = np.poly1d(coef) \n",
    "plt.plot(y_test8, poly1d_fn(y_test8), '-k')\n",
    "plt.text(.67,.3, r'Mean error: {}%'.format(str(np.mean(prc_err(y_test8,ds_est)))[:2]))\n",
    "plt.text(.67,.25, r'MSE: {}mm'.format(str(Smean[7])[:4]))\n",
    "\n",
    "ds_est2 = model8.predict(X_train8)\n",
    "plt.plot(y_train8, ds_est2, 'bp', alpha=0.5, label='Train data')\n",
    "\n",
    "plt.text(.67,.2, r'Overall mean error:', color='g')\n",
    "plt.text(.67,.15, r'{}%'.format(str(np.mean(prc_err(np.hstack((y_test8,y_train8)),np.hstack((ds_est,ds_est2)))))[:2]), color='g')\n",
    "#\n",
    "# plt.savefig('../model_plots/SCali_d50-BF-8models-skill.jpg', dpi=300, bbox_inches='tight')\n",
    "# plt.savefig('../model_plots/SCali_stratlat_d50-BF-8models-skill.jpg', dpi=300, bbox_inches='tight')\n",
    "# plt.savefig('../model_plots/SCali_d50-BF-8models-skill-22-9-3.jpg', dpi=300, bbox_inches='tight')\n",
    "plt.savefig('../model_plots/SCali_gs_d50-BF-8models-skill.jpg', dpi=300, bbox_inches='tight')\n"
   ]
  },
  {
   "cell_type": "code",
   "execution_count": null,
   "id": "ff2df0b8",
   "metadata": {},
   "outputs": [],
   "source": []
  },
  {
   "cell_type": "code",
   "execution_count": 48,
   "id": "c41572d6",
   "metadata": {},
   "outputs": [],
   "source": [
    "# np.save('../model_out/dataset_SCali_coast_BF_model1.npy', model1out, allow_pickle=True)\n",
    "# np.save('../model_out/dataset_SCali_coast_BF_model2.npy', model2out, allow_pickle=True)\n",
    "# np.save('../model_out/dataset_SCali_coast_BF_model3.npy', model3out, allow_pickle=True)\n",
    "# np.save('../model_out/dataset_SCali_coast_BF_model4.npy', model4out, allow_pickle=True)\n",
    "# np.save('../model_out/dataset_SCali_coast_BF_model5.npy', model5out, allow_pickle=True)\n",
    "# np.save('../model_out/dataset_SCali_coast_BF_model6.npy', model6out, allow_pickle=True)\n",
    "# np.save('../model_out/dataset_SCali_coast_BF_model7.npy', model7out, allow_pickle=True)\n",
    "# np.save('../model_out/dataset_SCali_coast_BF_model8.npy', model8out, allow_pickle=True)"
   ]
  },
  {
   "cell_type": "code",
   "execution_count": 186,
   "id": "060b294c",
   "metadata": {},
   "outputs": [],
   "source": [
    "# np.save('../model_out/dataset_SCali_stratlat_coast_BF_model1.npy', model1out, allow_pickle=True)\n",
    "# np.save('../model_out/dataset_SCali_stratlat_coast_BF_model2.npy', model2out, allow_pickle=True)\n",
    "# np.save('../model_out/dataset_SCali_stratlat_coast_BF_model3.npy', model3out, allow_pickle=True)\n",
    "# np.save('../model_out/dataset_SCali_stratlat_coast_BF_model4.npy', model4out, allow_pickle=True)\n",
    "# np.save('../model_out/dataset_SCali_stratlat_coast_BF_model5.npy', model5out, allow_pickle=True)\n",
    "# np.save('../model_out/dataset_SCali_stratlat_coast_BF_model6.npy', model6out, allow_pickle=True)\n",
    "# np.save('../model_out/dataset_SCali_stratlat_coast_BF_model7.npy', model7out, allow_pickle=True)\n",
    "# np.save('../model_out/dataset_SCali_stratlat_coast_BF_model8.npy', model8out, allow_pickle=True)"
   ]
  },
  {
   "cell_type": "code",
   "execution_count": 410,
   "id": "b9380660",
   "metadata": {},
   "outputs": [],
   "source": [
    "np.save('../model_out/dataset_SCali_stratgs_coast_BF_model1.npy', model1out, allow_pickle=True)\n",
    "np.save('../model_out/dataset_SCali_stratgs_coast_BF_model2.npy', model2out, allow_pickle=True)\n",
    "np.save('../model_out/dataset_SCali_stratgs_coast_BF_model3.npy', model3out, allow_pickle=True)\n",
    "np.save('../model_out/dataset_SCali_stratgs_coast_BF_model4.npy', model4out, allow_pickle=True)\n",
    "np.save('../model_out/dataset_SCali_stratgs_coast_BF_model5.npy', model5out, allow_pickle=True)\n",
    "np.save('../model_out/dataset_SCali_stratgs_coast_BF_model6.npy', model6out, allow_pickle=True)\n",
    "np.save('../model_out/dataset_SCali_stratgs_coast_BF_model7.npy', model7out, allow_pickle=True)\n",
    "np.save('../model_out/dataset_SCali_stratgs_coast_BF_model8.npy', model8out, allow_pickle=True)"
   ]
  },
  {
   "cell_type": "markdown",
   "id": "226ac35e",
   "metadata": {},
   "source": [
    "### midbeach only"
   ]
  },
  {
   "cell_type": "code",
   "execution_count": 411,
   "id": "8a4796e9",
   "metadata": {},
   "outputs": [],
   "source": [
    "# dfSCali = pd.read_csv('../../../orig_data/US_S_CA/SoCal_GrainSize_waves_slopes_tide_merged.csv')"
   ]
  },
  {
   "cell_type": "code",
   "execution_count": 412,
   "id": "c22e3c2d",
   "metadata": {},
   "outputs": [
    {
     "data": {
      "text/plain": [
       "array(['BB', 'BF', 'MB', 'O'], dtype=object)"
      ]
     },
     "execution_count": 412,
     "metadata": {},
     "output_type": "execute_result"
    }
   ],
   "source": [
    "# np.unique(dfSCali['Ele'])"
   ]
  },
  {
   "cell_type": "code",
   "execution_count": 413,
   "id": "765a6d66",
   "metadata": {},
   "outputs": [
    {
     "data": {
      "text/plain": [
       "240"
      ]
     },
     "execution_count": 413,
     "metadata": {},
     "output_type": "execute_result"
    }
   ],
   "source": [
    "dfSCali = df_strat_gs.copy()\n",
    "len(dfSCali)"
   ]
  },
  {
   "cell_type": "code",
   "execution_count": 414,
   "id": "5d2f4cb7",
   "metadata": {},
   "outputs": [],
   "source": [
    "dfSCali = dfSCali[dfSCali['Grain_Size']<2] ## too few samples >1.0\n",
    "dfSCali = dfSCali[dfSCali['Ele']=='MB']\n",
    "dfSCali = dfSCali.dropna()"
   ]
  },
  {
   "cell_type": "code",
   "execution_count": 415,
   "id": "b5398902",
   "metadata": {},
   "outputs": [],
   "source": [
    "Smean = []\n",
    "Sstd = []\n",
    "\n",
    "test_size = 0.5\n",
    "\n",
    "standardize = False"
   ]
  },
  {
   "cell_type": "code",
   "execution_count": 416,
   "id": "118c3c9e",
   "metadata": {},
   "outputs": [
    {
     "data": {
      "text/plain": [
       "71"
      ]
     },
     "execution_count": 416,
     "metadata": {},
     "output_type": "execute_result"
    }
   ],
   "source": [
    "len(dfSCali)"
   ]
  },
  {
   "cell_type": "code",
   "execution_count": 417,
   "id": "3fccfe16",
   "metadata": {},
   "outputs": [
    {
     "data": {
      "text/plain": [
       "(array([ 5.,  7., 14.,  3.,  6.,  6., 10.,  0.,  0., 20.]),\n",
       " array([0.1604    , 0.30992774, 0.45945548, 0.60898323, 0.75851097,\n",
       "        0.90803871, 1.05756645, 1.2070942 , 1.35662194, 1.50614968,\n",
       "        1.65567742]),\n",
       " <BarContainer object of 10 artists>)"
      ]
     },
     "execution_count": 417,
     "metadata": {},
     "output_type": "execute_result"
    },
    {
     "data": {
      "image/png": "[encoded data removed]",
      "text/plain": [
       "<Figure size 432x288 with 1 Axes>"
      ]
     },
     "metadata": {
      "needs_background": "light"
     },
     "output_type": "display_data"
    }
   ],
   "source": [
    "plt.hist(dfSCali['Grain_Size'])"
   ]
  },
  {
   "cell_type": "code",
   "execution_count": 418,
   "id": "87fa8145",
   "metadata": {},
   "outputs": [],
   "source": [
    "rand = np.random.randn(len(dfSCali))\n",
    "np.save('../model_out/SCali_randMB.npy', rand, allow_pickle=True)"
   ]
  },
  {
   "cell_type": "markdown",
   "id": "fa3208a9",
   "metadata": {},
   "source": [
    "### model 1"
   ]
  },
  {
   "cell_type": "code",
   "execution_count": 419,
   "id": "b41535e2",
   "metadata": {},
   "outputs": [
    {
     "name": "stdout",
     "output_type": "stream",
     "text": [
      "1.655677425\n",
      "1.655677425\n",
      "Fitting 5 folds for each of 2880 candidates, totalling 14400 fits\n",
      "The mean squared error (MSE) on test set: 0.2838\n"
     ]
    }
   ],
   "source": [
    "feature_names1 = ['β (radians)', 'Random\\n (non-dim.)']\n",
    "X = np.stack((dfSCali['Beach face slope'], rand))\n",
    "X.shape\n",
    "\n",
    "if standardize:\n",
    "    xscaler = preprocessing.StandardScaler().fit(X)\n",
    "    X = xscaler.transform(X)\n",
    "    print('Covariates standardized')\n",
    "\n",
    "X_train1, X_test1, y_train1, y_test1 = train_test_split(\n",
    "    X.T,dfSCali['Grain_Size'], test_size=test_size, random_state=2022  \n",
    "    ## the varying seed is to better balance the test and train grain size ranges, which seems to be important\n",
    ")\n",
    "\n",
    "# X_train1, X_test1, y_train1, y_test1 = train_test_split(\n",
    "#     X.T,y.ravel(), test_size=test_size, random_state=2022  ##dfEAus['d50']\n",
    "# )\n",
    "\n",
    "#unscale y - we balanced it to sample equally among grain size bins\n",
    "# y_test1 = yscaler.inverse_transform(y_test1.reshape(-1, 1)).squeeze()\n",
    "# y_train1 = yscaler.inverse_transform(y_train1.reshape(-1, 1)).squeeze()\n",
    "\n",
    "print(y_test1.max())\n",
    "print(y_train1.max())\n",
    "\n",
    "# model1 = ensemble.GradientBoostingRegressor(**params)\n",
    "gbr = ensemble.GradientBoostingRegressor()#**params)\n",
    "\n",
    "model1 = GridSearchCV(gbr, parameters, n_jobs=-1, verbose=2)\n",
    "\n",
    "model1.fit(X_train1, y_train1)\n",
    "\n",
    "mse1 = mean_squared_error(y_test1, model1.predict(X_test1))\n",
    "print(\"The mean squared error (MSE) on test set: {:.4f}\".format(mse1))"
   ]
  },
  {
   "cell_type": "code",
   "execution_count": 420,
   "id": "2d77803a",
   "metadata": {},
   "outputs": [
    {
     "name": "stdout",
     "output_type": "stream",
     "text": [
      "{'learning_rate': 0.1, 'loss': 'absolute_error', 'max_depth': 7, 'min_samples_split': 3, 'n_estimators': 500, 'subsample': 0.75}\n"
     ]
    }
   ],
   "source": [
    "\n",
    "print(model1.best_params_)\n",
    "model1out = {}\n",
    "model1out['feature_names'] = feature_names1\n",
    "model1out['Xtest'] = X_test1\n",
    "model1out['Xtrain'] = X_train1\n",
    "model1out['ytest'] = y_test1\n",
    "model1out['ytrain'] = y_train1\n",
    "model1out['model'] = model1\n",
    "model1out['mse'] = mse1\n",
    "model1out['best_params'] = model1.best_params_"
   ]
  },
  {
   "cell_type": "code",
   "execution_count": 421,
   "id": "e2751b2b",
   "metadata": {},
   "outputs": [
    {
     "name": "stdout",
     "output_type": "stream",
     "text": [
      "Mean RMSE: 0.489 (0.183)\n"
     ]
    }
   ],
   "source": [
    "model1 = model1.best_estimator_\n",
    "\n",
    "cv = RepeatedKFold(n_splits=10, n_repeats=5, random_state=2022)\n",
    "# evaluate model\n",
    "scores = cross_val_score(model1, X_test1, y_test1, scoring='neg_root_mean_squared_error', cv=cv, n_jobs=-1)\n",
    "\n",
    "# force scores to be positive\n",
    "scores = np.absolute(scores)\n",
    "print('Mean RMSE: %.3f (%.3f)' % (scores.mean(), scores.std()) )\n",
    "\n",
    "Smean.append(scores.mean())\n",
    "Sstd.append(scores.std())"
   ]
  },
  {
   "cell_type": "markdown",
   "id": "7439e094",
   "metadata": {},
   "source": [
    "### model 2"
   ]
  },
  {
   "cell_type": "code",
   "execution_count": 422,
   "id": "b6b1bf68",
   "metadata": {},
   "outputs": [
    {
     "name": "stdout",
     "output_type": "stream",
     "text": [
      "Fitting 5 folds for each of 2880 candidates, totalling 14400 fits\n",
      "The mean squared error (MSE) on test set: 0.2739\n"
     ]
    }
   ],
   "source": [
    "feature_names2 = [r'MSTR (m)', 'Random\\n (non-dim.)']\n",
    "X = np.stack((dfSCali['TIDAL_RANGE'], rand))\n",
    "\n",
    "X.shape\n",
    "\n",
    "if standardize:\n",
    "    xscaler = preprocessing.StandardScaler().fit(X)\n",
    "    X = xscaler.transform(X)\n",
    "    print('Covariates standardized')\n",
    "\n",
    "X_train2, X_test2, y_train2, y_test2 = train_test_split(\n",
    "    X.T, dfSCali['Grain_Size'], test_size=test_size, random_state=2022\n",
    ")\n",
    "\n",
    "# model2 = ensemble.GradientBoostingRegressor(**params)\n",
    "gbr = ensemble.GradientBoostingRegressor()#**params)\n",
    "\n",
    "model2 = GridSearchCV(gbr, parameters, n_jobs=-1, verbose=2)\n",
    "model2.fit(X_train2, y_train2)\n",
    "\n",
    "mse2 = mean_squared_error(y_test2, model2.predict(X_test2))\n",
    "print(\"The mean squared error (MSE) on test set: {:.4f}\".format(mse2))"
   ]
  },
  {
   "cell_type": "code",
   "execution_count": 423,
   "id": "eb8d28ed",
   "metadata": {},
   "outputs": [
    {
     "name": "stdout",
     "output_type": "stream",
     "text": [
      "{'learning_rate': 0.05, 'loss': 'squared_error', 'max_depth': 7, 'min_samples_split': 5, 'n_estimators': 25, 'subsample': 1.0}\n"
     ]
    }
   ],
   "source": [
    "print(model2.best_params_)\n",
    "model2out = {}\n",
    "model2out['feature_names'] = feature_names2\n",
    "model2out['Xtest'] = X_test2\n",
    "model2out['Xtrain'] = X_train2\n",
    "model2out['ytest'] = y_test2\n",
    "model2out['ytrain'] = y_train2\n",
    "model2out['model'] = model2\n",
    "model2out['mse'] = mse2\n",
    "model2out['best_params'] = model2.best_params_"
   ]
  },
  {
   "cell_type": "code",
   "execution_count": 424,
   "id": "a1b8719a",
   "metadata": {},
   "outputs": [
    {
     "name": "stdout",
     "output_type": "stream",
     "text": [
      "Mean RMSE: 0.484 (0.230)\n"
     ]
    }
   ],
   "source": [
    "model2 = model2.best_estimator_\n",
    "\n",
    "cv = RepeatedKFold(n_splits=10, n_repeats=5, random_state=2022)\n",
    "# evaluate model\n",
    "scores = cross_val_score(model2, X_test2, y_test2, scoring='neg_root_mean_squared_error', cv=cv, n_jobs=-1)\n",
    "\n",
    "# force scores to be positive\n",
    "scores = np.absolute(scores)\n",
    "print('Mean RMSE: %.3f (%.3f)' % (scores.mean(), scores.std()) )\n",
    "\n",
    "Smean.append(scores.mean())\n",
    "Sstd.append(scores.std())"
   ]
  },
  {
   "cell_type": "markdown",
   "id": "e972704b",
   "metadata": {},
   "source": [
    "### model 3"
   ]
  },
  {
   "cell_type": "code",
   "execution_count": 425,
   "id": "af0c9a0f",
   "metadata": {},
   "outputs": [
    {
     "name": "stdout",
     "output_type": "stream",
     "text": [
      "Fitting 5 folds for each of 2880 candidates, totalling 14400 fits\n",
      "The mean squared error (MSE) on test set: 0.2471\n"
     ]
    }
   ],
   "source": [
    "feature_names3 = ['β (radians)','MSTR (m)', 'Random\\n (non-dim.)']\n",
    "X = np.stack((dfSCali['Beach face slope'], dfSCali['TIDAL_RANGE'], rand))\n",
    "X.shape\n",
    "\n",
    "if standardize:\n",
    "    xscaler = preprocessing.StandardScaler().fit(X)\n",
    "    X = xscaler.transform(X)\n",
    "    print('Covariates standardized')\n",
    "\n",
    "X_train3, X_test3, y_train3, y_test3 = train_test_split(\n",
    "    X.T, dfSCali['Grain_Size'], test_size=test_size, random_state=2022\n",
    ")\n",
    "\n",
    "# model3 = ensemble.GradientBoostingRegressor(**params)\n",
    "gbr = ensemble.GradientBoostingRegressor()#**params)\n",
    "\n",
    "model3 = GridSearchCV(gbr, parameters, n_jobs=-1, verbose=2)\n",
    "model3.fit(X_train3, y_train3)\n",
    "\n",
    "mse3 = mean_squared_error(y_test3, model3.predict(X_test3))\n",
    "print(\"The mean squared error (MSE) on test set: {:.4f}\".format(mse3))"
   ]
  },
  {
   "cell_type": "code",
   "execution_count": 426,
   "id": "3413e0a2",
   "metadata": {},
   "outputs": [
    {
     "name": "stdout",
     "output_type": "stream",
     "text": [
      "{'learning_rate': 0.05, 'loss': 'huber', 'max_depth': 5, 'min_samples_split': 5, 'n_estimators': 25, 'subsample': 1.0}\n"
     ]
    }
   ],
   "source": [
    "print(model3.best_params_)\n",
    "model3out = {}\n",
    "model3out['feature_names'] = feature_names3\n",
    "model3out['Xtest'] = X_test3\n",
    "model3out['Xtrain'] = X_train3\n",
    "model3out['ytest'] = y_test3\n",
    "model3out['ytrain'] = y_train3\n",
    "model3out['model'] = model3\n",
    "model3out['mse'] = mse3\n",
    "model3out['best_params'] = model3.best_params_"
   ]
  },
  {
   "cell_type": "code",
   "execution_count": 427,
   "id": "613059f3",
   "metadata": {},
   "outputs": [
    {
     "name": "stdout",
     "output_type": "stream",
     "text": [
      "Mean RMSE: 0.469 (0.228)\n"
     ]
    }
   ],
   "source": [
    "model3 = model3.best_estimator_\n",
    "\n",
    "cv = RepeatedKFold(n_splits=10, n_repeats=5, random_state=2022)\n",
    "# evaluate model\n",
    "scores = cross_val_score(model3, X_test3, y_test3, scoring='neg_root_mean_squared_error', cv=cv, n_jobs=-1)\n",
    "\n",
    "# force scores to be positive\n",
    "scores = np.absolute(scores)\n",
    "print('Mean RMSE: %.3f (%.3f)' % (scores.mean(), scores.std()) )\n",
    "\n",
    "Smean.append(scores.mean())\n",
    "Sstd.append(scores.std())"
   ]
  },
  {
   "cell_type": "markdown",
   "id": "baf4b379",
   "metadata": {},
   "source": [
    "### model 4"
   ]
  },
  {
   "cell_type": "code",
   "execution_count": 428,
   "id": "ea21accd",
   "metadata": {},
   "outputs": [
    {
     "name": "stdout",
     "output_type": "stream",
     "text": [
      "Fitting 5 folds for each of 2880 candidates, totalling 14400 fits\n",
      "The mean squared error (MSE) on test set: 0.3001\n"
     ]
    }
   ],
   "source": [
    "feature_names4 = ['β (radians)','MSTR (m)',r'$T_p$ (s)', 'Random\\n (non-dim.)']\n",
    "X = np.stack((dfSCali['Beach face slope'], dfSCali['TIDAL_RANGE'], dfSCali['Tp'], rand))\n",
    "X.shape\n",
    "\n",
    "if standardize:\n",
    "    xscaler = preprocessing.StandardScaler().fit(X)\n",
    "    X = xscaler.transform(X)\n",
    "    print('Covariates standardized')\n",
    "\n",
    "X_train4, X_test4, y_train4, y_test4 = train_test_split(\n",
    "    X.T, dfSCali['Grain_Size'], test_size=test_size, random_state=2022\n",
    ")\n",
    "\n",
    "# model4 = ensemble.GradientBoostingRegressor(**params)\n",
    "gbr = ensemble.GradientBoostingRegressor()#**params)\n",
    "\n",
    "model4 = GridSearchCV(gbr, parameters, n_jobs=-1, verbose=2)\n",
    "\n",
    "model4.fit(X_train4, y_train4)\n",
    "\n",
    "mse4 = mean_squared_error(y_test4, model4.predict(X_test4))\n",
    "print(\"The mean squared error (MSE) on test set: {:.4f}\".format(mse4))"
   ]
  },
  {
   "cell_type": "code",
   "execution_count": 429,
   "id": "921368b4",
   "metadata": {},
   "outputs": [
    {
     "name": "stdout",
     "output_type": "stream",
     "text": [
      "{'learning_rate': 0.01, 'loss': 'absolute_error', 'max_depth': 7, 'min_samples_split': 3, 'n_estimators': 100, 'subsample': 1.0}\n"
     ]
    }
   ],
   "source": [
    "print(model4.best_params_)\n",
    "\n",
    "model4out = {}\n",
    "model4out['feature_names'] = feature_names4\n",
    "model4out['Xtest'] = X_test4\n",
    "model4out['Xtrain'] = X_train4\n",
    "model4out['ytest'] = y_test4\n",
    "model4out['ytrain'] = y_train4\n",
    "model4out['model'] = model4\n",
    "model4out['mse'] = mse4\n",
    "model4out['best_params'] = model4.best_params_"
   ]
  },
  {
   "cell_type": "code",
   "execution_count": 430,
   "id": "87a439b7",
   "metadata": {},
   "outputs": [
    {
     "name": "stdout",
     "output_type": "stream",
     "text": [
      "Mean RMSE: 0.484 (0.199)\n"
     ]
    }
   ],
   "source": [
    "model4 = model4.best_estimator_\n",
    "\n",
    "cv = RepeatedKFold(n_splits=10, n_repeats=5, random_state=2022)\n",
    "# evaluate model\n",
    "scores = cross_val_score(model4, X_test4, y_test4, scoring='neg_root_mean_squared_error', cv=cv, n_jobs=-1)\n",
    "\n",
    "# force scores to be positive\n",
    "scores = np.absolute(scores)\n",
    "print('Mean RMSE: %.3f (%.3f)' % (scores.mean(), scores.std()) )\n",
    "\n",
    "Smean.append(scores.mean())\n",
    "Sstd.append(scores.std())"
   ]
  },
  {
   "cell_type": "markdown",
   "id": "91db491f",
   "metadata": {},
   "source": [
    "### model 5"
   ]
  },
  {
   "cell_type": "code",
   "execution_count": 431,
   "id": "ae5cabae",
   "metadata": {},
   "outputs": [
    {
     "name": "stdout",
     "output_type": "stream",
     "text": [
      "Fitting 5 folds for each of 2880 candidates, totalling 14400 fits\n",
      "The mean squared error (MSE) on test set: 0.3014\n"
     ]
    }
   ],
   "source": [
    "feature_names5 = ['β (radians)','MSTR (m)',r'$H_s$ (m)', 'Random\\n (non-dim.)']\n",
    "X = np.stack((dfSCali['Beach face slope'], dfSCali['TIDAL_RANGE'], dfSCali['Hs'], rand))\n",
    "X.shape\n",
    "\n",
    "if standardize:\n",
    "    xscaler = preprocessing.StandardScaler().fit(X)\n",
    "    X = xscaler.transform(X)\n",
    "    print('Covariates standardized')\n",
    "\n",
    "X_train5, X_test5, y_train5, y_test5 = train_test_split(\n",
    "    X.T, dfSCali['Grain_Size'], test_size=test_size, random_state=2022\n",
    ")\n",
    "\n",
    "# model5 = ensemble.GradientBoostingRegressor(**params)\n",
    "gbr = ensemble.GradientBoostingRegressor()#**params)\n",
    "\n",
    "model5 = GridSearchCV(gbr, parameters, n_jobs=-1, verbose=2)\n",
    "model5.fit(X_train5, y_train5)\n",
    "\n",
    "mse5 = mean_squared_error(y_test5, model5.predict(X_test5))\n",
    "print(\"The mean squared error (MSE) on test set: {:.4f}\".format(mse5))"
   ]
  },
  {
   "cell_type": "code",
   "execution_count": 432,
   "id": "fff76983",
   "metadata": {},
   "outputs": [
    {
     "name": "stdout",
     "output_type": "stream",
     "text": [
      "{'learning_rate': 0.1, 'loss': 'absolute_error', 'max_depth': 9, 'min_samples_split': 3, 'n_estimators': 200, 'subsample': 1.0}\n"
     ]
    }
   ],
   "source": [
    "print(model5.best_params_)\n",
    "model5out = {}\n",
    "model5out['feature_names'] = feature_names5\n",
    "model5out['Xtest'] = X_test5\n",
    "model5out['Xtrain'] = X_train5\n",
    "model5out['ytest'] = y_test5\n",
    "model5out['ytrain'] = y_train5\n",
    "model5out['model'] = model5\n",
    "model5out['mse'] = mse5\n",
    "model5out['best_params'] = model5.best_params_"
   ]
  },
  {
   "cell_type": "code",
   "execution_count": 433,
   "id": "46c773e2",
   "metadata": {},
   "outputs": [
    {
     "name": "stdout",
     "output_type": "stream",
     "text": [
      "Mean RMSE: 0.504 (0.248)\n"
     ]
    }
   ],
   "source": [
    "model5 = model5.best_estimator_\n",
    "\n",
    "cv = RepeatedKFold(n_splits=10, n_repeats=5, random_state=2022)\n",
    "# evaluate model\n",
    "scores = cross_val_score(model5, X_test5, y_test5, scoring='neg_root_mean_squared_error', cv=cv, n_jobs=-1)\n",
    "\n",
    "# force scores to be positive\n",
    "scores = np.absolute(scores)\n",
    "print('Mean RMSE: %.3f (%.3f)' % (scores.mean(), scores.std()) )\n",
    "\n",
    "Smean.append(scores.mean())\n",
    "Sstd.append(scores.std())"
   ]
  },
  {
   "cell_type": "markdown",
   "id": "8f40a15e",
   "metadata": {},
   "source": [
    "### model 6"
   ]
  },
  {
   "cell_type": "code",
   "execution_count": 434,
   "id": "a2f81f28",
   "metadata": {},
   "outputs": [
    {
     "name": "stdout",
     "output_type": "stream",
     "text": [
      "Fitting 5 folds for each of 2880 candidates, totalling 14400 fits\n",
      "The mean squared error (MSE) on test set: 0.2315\n"
     ]
    }
   ],
   "source": [
    "feature_names6 = ['β (radians)','MSTR (m)',r'$\\theta$ (deg.)', 'Random\\n (non-dim.)']\n",
    "X = np.stack((dfSCali['Beach face slope'], dfSCali['TIDAL_RANGE'], dfSCali['Dp'], rand))\n",
    "\n",
    "X.shape\n",
    "\n",
    "if standardize:\n",
    "    xscaler = preprocessing.StandardScaler().fit(X)\n",
    "    X = xscaler.transform(X)\n",
    "    print('Covariates standardized')\n",
    "\n",
    "X_train6, X_test6, y_train6, y_test6 = train_test_split(\n",
    "    X.T, dfSCali['Grain_Size'], test_size=test_size, random_state=2022\n",
    ")\n",
    "\n",
    "# model6 = ensemble.GradientBoostingRegressor(**params)\n",
    "gbr = ensemble.GradientBoostingRegressor()#**params)\n",
    "\n",
    "model6 = GridSearchCV(gbr, parameters, n_jobs=-1, verbose=2)\n",
    "model6.fit(X_train6, y_train6)\n",
    "\n",
    "mse6 = mean_squared_error(y_test6,model6.predict(X_test6))\n",
    "print(\"The mean squared error (MSE) on test set: {:.4f}\".format(mse6))"
   ]
  },
  {
   "cell_type": "code",
   "execution_count": 435,
   "id": "d907f9bd",
   "metadata": {},
   "outputs": [
    {
     "name": "stdout",
     "output_type": "stream",
     "text": [
      "{'learning_rate': 0.01, 'loss': 'huber', 'max_depth': 9, 'min_samples_split': 3, 'n_estimators': 200, 'subsample': 1.0}\n"
     ]
    }
   ],
   "source": [
    "print(model6.best_params_)\n",
    "\n",
    "model6out = {}\n",
    "model6out['feature_names'] = feature_names6\n",
    "model6out['Xtest'] = X_test6\n",
    "model6out['Xtrain'] = X_train6\n",
    "model6out['ytest'] = y_test6\n",
    "model6out['ytrain'] = y_train6\n",
    "model6out['model'] = model6\n",
    "model6out['mse'] = mse6\n",
    "model6out['best_params'] = model6.best_params_"
   ]
  },
  {
   "cell_type": "code",
   "execution_count": 436,
   "id": "a31ee883",
   "metadata": {},
   "outputs": [
    {
     "name": "stdout",
     "output_type": "stream",
     "text": [
      "Mean RMSE: 0.456 (0.276)\n"
     ]
    }
   ],
   "source": [
    "model6 = model6.best_estimator_\n",
    "\n",
    "cv = RepeatedKFold(n_splits=10, n_repeats=5, random_state=2022)\n",
    "# evaluate model\n",
    "scores = cross_val_score(model6, X_test6, y_test6, scoring='neg_root_mean_squared_error', cv=cv, n_jobs=-1)\n",
    "\n",
    "# force scores to be positive\n",
    "scores = np.absolute(scores)\n",
    "print('Mean RMSE: %.3f (%.3f)' % (scores.mean(), scores.std()) )\n",
    "\n",
    "Smean.append(scores.mean())\n",
    "Sstd.append(scores.std())"
   ]
  },
  {
   "cell_type": "markdown",
   "id": "b6aa6495",
   "metadata": {},
   "source": [
    "### model 7"
   ]
  },
  {
   "cell_type": "code",
   "execution_count": 437,
   "id": "2eb03b53",
   "metadata": {},
   "outputs": [
    {
     "name": "stdout",
     "output_type": "stream",
     "text": [
      "Fitting 5 folds for each of 2880 candidates, totalling 14400 fits\n",
      "The mean squared error (MSE) on test set: 0.3243\n"
     ]
    }
   ],
   "source": [
    "feature_names7 = ['MSTR (m)',r'$T_p$ (s)',r'$H_s$ (m)', 'Random\\n (non-dim.)']\n",
    "# X = np.stack((dfEAus['mstr'], dfEAus['tp'], dfEAus['hs_mean'],  rand))\n",
    "X = np.stack((dfSCali['TIDAL_RANGE'], dfSCali['Tp'], dfSCali['Hs'], rand))\n",
    "\n",
    "X.shape\n",
    "\n",
    "if standardize:\n",
    "    xscaler = preprocessing.StandardScaler().fit(X)\n",
    "    X = xscaler.transform(X)\n",
    "    print('Covariates standardized')\n",
    "\n",
    "X_train7, X_test7, y_train7, y_test7 = train_test_split(\n",
    "    X.T, dfSCali['Grain_Size'], test_size=test_size, random_state=2022\n",
    ")\n",
    "\n",
    "# model7 = ensemble.GradientBoostingRegressor(**params)\n",
    "gbr = ensemble.GradientBoostingRegressor()#**params)\n",
    "\n",
    "model7 = GridSearchCV(gbr, parameters, n_jobs=-1, verbose=2)\n",
    "model7.fit(X_train7, y_train7)\n",
    "\n",
    "mse7 = mean_squared_error(y_test7,model7.predict(X_test7))\n",
    "print(\"The mean squared error (MSE) on test set: {:.4f}\".format(mse7))"
   ]
  },
  {
   "cell_type": "code",
   "execution_count": 438,
   "id": "1b18bfa7",
   "metadata": {},
   "outputs": [
    {
     "name": "stdout",
     "output_type": "stream",
     "text": [
      "{'learning_rate': 0.1, 'loss': 'absolute_error', 'max_depth': 9, 'min_samples_split': 3, 'n_estimators': 500, 'subsample': 1.0}\n"
     ]
    }
   ],
   "source": [
    "print(model7.best_params_)\n",
    "\n",
    "model7out = {}\n",
    "model7out['feature_names'] = feature_names7\n",
    "model7out['Xtest'] = X_test7\n",
    "model7out['Xtrain'] = X_train7\n",
    "model7out['ytest'] = y_test7\n",
    "model7out['ytrain'] = y_train7\n",
    "model7out['model'] = model7\n",
    "model7out['mse'] = mse7\n",
    "model7out['best_params'] = model7.best_params_"
   ]
  },
  {
   "cell_type": "code",
   "execution_count": 439,
   "id": "596817e8",
   "metadata": {},
   "outputs": [
    {
     "name": "stdout",
     "output_type": "stream",
     "text": [
      "Mean RMSE: 0.511 (0.250)\n"
     ]
    }
   ],
   "source": [
    "model7 = model7.best_estimator_\n",
    "\n",
    "cv = RepeatedKFold(n_splits=10, n_repeats=5, random_state=2022)\n",
    "# evaluate model\n",
    "scores = cross_val_score(model7, X_test7, y_test7, scoring='neg_root_mean_squared_error', cv=cv, n_jobs=-1)\n",
    "\n",
    "# force scores to be positive\n",
    "scores = np.absolute(scores)\n",
    "print('Mean RMSE: %.3f (%.3f)' % (scores.mean(), scores.std()) )\n",
    "\n",
    "Smean.append(scores.mean())\n",
    "Sstd.append(scores.std())"
   ]
  },
  {
   "cell_type": "markdown",
   "id": "3df679c5",
   "metadata": {},
   "source": [
    "### model 8"
   ]
  },
  {
   "cell_type": "code",
   "execution_count": 440,
   "id": "79936f4b",
   "metadata": {},
   "outputs": [
    {
     "name": "stdout",
     "output_type": "stream",
     "text": [
      "Fitting 5 folds for each of 2880 candidates, totalling 14400 fits\n",
      "The mean squared error (MSE) on test set: 0.2860\n"
     ]
    }
   ],
   "source": [
    "feature_names8 = ['β (radians)','MSTR (m)',r'$T_p$ (s)',r'$H_s$ (m)',  'Random\\n (non-dim.)']\n",
    "# X = np.stack((dfEAus['beach_slope_average'], dfEAus['mstr'], dfEAus['tp'], dfEAus['hs_mean'],  rand))\n",
    "X = np.stack((dfSCali['Beach face slope'], dfSCali['TIDAL_RANGE'], dfSCali['Tp'], dfSCali['Hs'], rand))\n",
    "\n",
    "X.shape\n",
    "\n",
    "if standardize:\n",
    "    xscaler = preprocessing.StandardScaler().fit(X)\n",
    "    X = xscaler.transform(X)\n",
    "    print('Covariates standardized')\n",
    "\n",
    "X_train8, X_test8, y_train8, y_test8= train_test_split(\n",
    "    X.T, dfSCali['Grain_Size'], test_size=test_size, random_state=2022\n",
    ")\n",
    "\n",
    "# model8= ensemble.GradientBoostingRegressor(**params)\n",
    "gbr = ensemble.GradientBoostingRegressor()#**params)\n",
    "\n",
    "model8 = GridSearchCV(gbr, parameters, n_jobs=-1, verbose=2)\n",
    "model8.fit(X_train8, y_train8)\n",
    "\n",
    "mse8 = mean_squared_error(y_test8,model8.predict(X_test8))\n",
    "print(\"The mean squared error (MSE) on test set: {:.4f}\".format(mse8))"
   ]
  },
  {
   "cell_type": "code",
   "execution_count": 441,
   "id": "b43861ef",
   "metadata": {},
   "outputs": [
    {
     "name": "stdout",
     "output_type": "stream",
     "text": [
      "{'learning_rate': 0.05, 'loss': 'absolute_error', 'max_depth': 9, 'min_samples_split': 3, 'n_estimators': 25, 'subsample': 1.0}\n"
     ]
    }
   ],
   "source": [
    "print(model8.best_params_)\n",
    "\n",
    "model8out = {}\n",
    "model8out['feature_names'] = feature_names8\n",
    "model8out['Xtest'] = X_test8\n",
    "model8out['Xtrain'] = X_train8\n",
    "model8out['ytest'] = y_test8\n",
    "model8out['ytrain'] = y_train8\n",
    "model8out['model'] = model8.best_estimator_\n",
    "model8out['mse'] = mse8\n",
    "model8out['best_params'] = model8.best_params_"
   ]
  },
  {
   "cell_type": "code",
   "execution_count": 442,
   "id": "f8a53359",
   "metadata": {},
   "outputs": [
    {
     "name": "stdout",
     "output_type": "stream",
     "text": [
      "Mean RMSE: 0.497 (0.224)\n"
     ]
    }
   ],
   "source": [
    "model8 = model8.best_estimator_\n",
    "\n",
    "cv = RepeatedKFold(n_splits=10, n_repeats=5, random_state=2022)\n",
    "# evaluate model\n",
    "scores = cross_val_score(model8, X_test8, y_test8, scoring='neg_root_mean_squared_error', cv=cv, n_jobs=-1)\n",
    "\n",
    "# force scores to be positive\n",
    "scores = np.absolute(scores)\n",
    "\n",
    "print('Mean RMSE: %.3f (%.3f)' % (scores.mean(), scores.std()) )\n",
    "\n",
    "Smean.append(scores.mean())\n",
    "Sstd.append(scores.std())"
   ]
  },
  {
   "cell_type": "code",
   "execution_count": null,
   "id": "f116ab8d",
   "metadata": {},
   "outputs": [],
   "source": []
  },
  {
   "cell_type": "markdown",
   "id": "a9c5032c",
   "metadata": {},
   "source": [
    "### plot"
   ]
  },
  {
   "cell_type": "code",
   "execution_count": 443,
   "id": "8ceb3547",
   "metadata": {},
   "outputs": [
    {
     "data": {
      "image/png": "[encoded data removed]",
      "text/plain": [
       "<Figure size 1440x720 with 8 Axes>"
      ]
     },
     "metadata": {
      "needs_background": "light"
     },
     "output_type": "display_data"
    }
   ],
   "source": [
    "plt.figure(figsize=(20,10))\n",
    "plt.subplots_adjust(wspace=0.3, hspace=0.3)\n",
    "\n",
    "plt.subplot(241)\n",
    "ds_est = model1.predict(X_test1)\n",
    "plt.plot(y_test1, ds_est, 'ko', label='Test data')\n",
    "plt.xlim(0.1,1.1); plt.ylim(.1,1.1)\n",
    "yl=plt.ylim()\n",
    "plt.plot(yl,yl,'--r')\n",
    "plt.xlabel(r'Observed $D_{50}$ (mm)')\n",
    "plt.ylabel(r'Estimated $D_{50}$ (mm)')\n",
    "plt.title(r\"a) f(β)\", loc='left')\n",
    "r2 = np.min(np.corrcoef(y_test1, ds_est))**2\n",
    "plt.text(.67,.35,r'$R^2$ (test)='+str(r2)[:4])\n",
    "\n",
    "coef = np.polyfit(y_test1, ds_est,1)\n",
    "poly1d_fn = np.poly1d(coef) \n",
    "plt.plot(y_test1, poly1d_fn(y_test1), '-k')\n",
    "plt.text(.67,.30, r'Mean error: {}%'.format(str(np.mean(prc_err(y_test1,ds_est)))[:2]))\n",
    "plt.text(.67,.25, r'MSE: {}mm'.format(str(Smean[0])[:4]))\n",
    "\n",
    "ds_est2 = model1.predict(X_train1)\n",
    "plt.plot(y_train1, ds_est2, 'bp', alpha=0.5, label='Train data')\n",
    "plt.legend(loc=2)\n",
    "\n",
    "plt.text(.67,.20, r'Overall mean error:', color='g')\n",
    "plt.text(.67,.15, r'{}%'.format(str(np.mean(prc_err(np.hstack((y_test1,y_train1)),np.hstack((ds_est,ds_est2)))))[:2]), color='g')\n",
    "\n",
    "plt.subplot(242)\n",
    "ds_est = model2.predict(X_test2)\n",
    "plt.plot(y_test2, ds_est, 'ko')\n",
    "plt.xlim(0.1,1.1); plt.ylim(.1,1.1)\n",
    "yl=plt.ylim()\n",
    "plt.plot(yl,yl,'--r')\n",
    "plt.xlabel(r'Observed $D_{50}$ (mm)')\n",
    "# plt.ylabel(r'Estimated $D_{50}$ (mm)')\n",
    "plt.title(r\"b) f($MSTR$)\", loc='left')\n",
    "r2 = np.min(np.corrcoef(y_test2, ds_est))**2\n",
    "plt.text(.67,.35,r'$R^2$='+str(r2)[:4])\n",
    "\n",
    "coef = np.polyfit(y_test2, ds_est,1)\n",
    "poly1d_fn = np.poly1d(coef) \n",
    "plt.plot(y_test2, poly1d_fn(y_test2), '-k')\n",
    "plt.text(.67,.30, r'Mean error: {}%'.format(str(np.mean(prc_err(y_test2,ds_est)))[:2]))\n",
    "plt.text(.67,.25, r'MSE: {}mm'.format(str(Smean[1])[:4]))\n",
    "\n",
    "ds_est2 = model2.predict(X_train2)\n",
    "plt.plot(y_train2, ds_est2, 'bp', alpha=0.5, label='Train data')\n",
    "\n",
    "plt.text(.67,.20, r'Overall mean error:', color='g')\n",
    "plt.text(.67,.15, r'{}%'.format(str(np.mean(prc_err(np.hstack((y_test2,y_train2)),np.hstack((ds_est,ds_est2)))))[:2]), color='g')\n",
    "\n",
    "plt.subplot(243)\n",
    "ds_est = model3.predict(X_test3)\n",
    "plt.plot(y_test3, ds_est, 'ko')\n",
    "plt.xlim(0.1,1.1); plt.ylim(.1,1.1)\n",
    "yl=plt.ylim()\n",
    "plt.plot(yl,yl,'--r')\n",
    "plt.xlabel(r'Observed $D_{50}$ (mm)')\n",
    "# plt.ylabel(r'Estimated $D_{50}$ (mm)')\n",
    "plt.title(\"c) f(β, $MSTR$)\", loc='left')\n",
    "r2 = np.min(np.corrcoef(y_test3, ds_est))**2\n",
    "plt.text(.67,.35,r'$R^2$ (test)='+str(r2)[:4])\n",
    "\n",
    "coef = np.polyfit(y_test3, ds_est,1)\n",
    "poly1d_fn = np.poly1d(coef) \n",
    "plt.plot(y_test3, poly1d_fn(y_test3), '-k')\n",
    "plt.text(.67,.30, r'Mean error: {}%'.format(str(np.mean(prc_err(y_test3,ds_est)))[:2]))\n",
    "plt.text(.67,.25, r'MSE: {}mm'.format(str(Smean[2])[:4]))\n",
    "\n",
    "ds_est2 = model3.predict(X_train3)\n",
    "plt.plot(y_train3, ds_est2, 'bp', alpha=0.5, label='Train data')\n",
    "\n",
    "plt.text(.67,.2, r'Overall mean error:', color='g')\n",
    "plt.text(.67,.15, r'{}%'.format(str(np.mean(prc_err(np.hstack((y_test3,y_train3)),np.hstack((ds_est,ds_est2)))))[:2]), color='g')\n",
    "\n",
    "plt.subplot(244)\n",
    "ds_est = model4.predict(X_test4)\n",
    "plt.plot(y_test4, ds_est, 'ko')\n",
    "plt.xlim(0.1,1.1); plt.ylim(.1,1.1)\n",
    "yl=plt.ylim()\n",
    "plt.plot(yl,yl,'--r')\n",
    "plt.xlabel(r'Observed $D_{50}$ (mm)')\n",
    "plt.title(r\"d) f(β, $MSTR$, $T_p$)\", loc='left')\n",
    "r2 = np.min(np.corrcoef(y_test4, ds_est))**2\n",
    "plt.text(.67,.35,r'$R^2$ (test)='+str(r2)[:4])\n",
    "plt.text(.67,.3, r'Mean error: {}%'.format(str(np.mean(prc_err(y_test4,ds_est)))[:2]))\n",
    "plt.text(.67,.25, r'MSE: {}mm'.format(str(Smean[3])[:4]))\n",
    "\n",
    "coef = np.polyfit(y_test4, ds_est,1)\n",
    "poly1d_fn = np.poly1d(coef) \n",
    "plt.plot(y_test4, poly1d_fn(y_test4), '-k')\n",
    "\n",
    "ds_est2 = model4.predict(X_train4)\n",
    "plt.plot(y_train4, ds_est2, 'bp', alpha=0.5, label='Train data')\n",
    "\n",
    "plt.text(.67,.2, r'Overall mean error:', color='g')\n",
    "plt.text(.67,.15, r'{}%'.format(str(np.mean(prc_err(np.hstack((y_test4,y_train4)),np.hstack((ds_est,ds_est2)))))[:2]), color='g')\n",
    "\n",
    "\n",
    "plt.subplot(245)\n",
    "ds_est = model5.predict(X_test5)\n",
    "plt.plot(y_test5, ds_est, 'ko')\n",
    "plt.xlim(0.1,1.1); plt.ylim(.1,1.1)\n",
    "yl=plt.ylim()\n",
    "plt.plot(yl,yl,'--r')\n",
    "plt.xlabel(r'Observed $D_{50}$ (mm)')\n",
    "plt.ylabel(r'Estimated $D_{50}$ (mm)')\n",
    "plt.title(r\"e) f(β, $MSTR$, $H_s$)\", loc='left')\n",
    "r2 = np.min(np.corrcoef(y_test5, ds_est))**2\n",
    "plt.text(.67,.35,r'$R^2$ (test)='+str(r2)[:4])\n",
    "\n",
    "coef = np.polyfit(y_test5, ds_est,1)\n",
    "poly1d_fn = np.poly1d(coef) \n",
    "plt.plot(y_test5, poly1d_fn(y_test5), '-k')\n",
    "plt.text(.67,.3, r'Mean error: {}%'.format(str(np.mean(prc_err(y_test5,ds_est)))[:2]))\n",
    "plt.text(.67,.25, r'MSE: {}mm'.format(str(Smean[4])[:4]))\n",
    "\n",
    "ds_est2 = model5.predict(X_train5)\n",
    "plt.plot(y_train5, ds_est2, 'bp', alpha=0.5, label='Train data')\n",
    "\n",
    "plt.text(.67,.2, r'Overall mean error:', color='g')\n",
    "plt.text(.67,.15, r'{}%'.format(str(np.mean(prc_err(np.hstack((y_test5,y_train5)),np.hstack((ds_est,ds_est2)))))[:2]), color='g')\n",
    "\n",
    "\n",
    "plt.subplot(246)\n",
    "ds_est = model6.predict(X_test6)\n",
    "plt.plot(y_test6, ds_est, 'ko')\n",
    "plt.xlim(0.1,1.1); plt.ylim(.1,1.1)\n",
    "yl=plt.ylim()\n",
    "plt.plot(yl,yl,'--r')\n",
    "plt.xlabel(r'Observed $D_{50}$ (mm)')\n",
    "# plt.ylabel(r'Estimated $D_{50}$ (mm)')\n",
    "plt.title(r\"f) f(β, $MSTR$, $\\theta$)\", loc='left')\n",
    "r2 = np.min(np.corrcoef(y_test6, ds_est))**2\n",
    "plt.text(.67,.35,r'$R^2$ (test)='+str(r2)[:4])\n",
    "\n",
    "coef = np.polyfit(y_test6, ds_est,1)\n",
    "poly1d_fn = np.poly1d(coef) \n",
    "plt.plot(y_test6, poly1d_fn(y_test6), '-k')\n",
    "plt.text(.67,.3, r'Mean error: {}%'.format(str(np.mean(prc_err(y_test6,ds_est)))[:2]))\n",
    "plt.text(.67,.25, r'MSE: {}mm'.format(str(Smean[5])[:4]))\n",
    "\n",
    "ds_est2 = model6.predict(X_train6)\n",
    "plt.plot(y_train6, ds_est2, 'bp', alpha=0.5, label='Train data')\n",
    "\n",
    "plt.text(.67,.2, r'Overall mean error:', color='g')\n",
    "plt.text(.67,.15, r'{}%'.format(str(np.mean(prc_err(np.hstack((y_test6,y_train6)),np.hstack((ds_est,ds_est2)))))[:2]), color='g')\n",
    "\n",
    "plt.subplot(247)\n",
    "ds_est = model7.predict(X_test7)\n",
    "plt.plot(y_test7, ds_est, 'ko')\n",
    "plt.xlim(0.1,1.1); plt.ylim(.1,1.1)\n",
    "yl=plt.ylim()\n",
    "plt.plot(yl,yl,'--r')\n",
    "plt.xlabel(r'Observed $D_{50}$ (mm)')\n",
    "# plt.ylabel(r'Estimated $D_{50}$ (mm)')\n",
    "plt.title(r\"g) f($MSTR$, $T_p$, $H_s$)\", loc='left')\n",
    "r2 = np.min(np.corrcoef(y_test7, ds_est))**2\n",
    "plt.text(.67,.35,r'$R^2$ (test)='+str(r2)[:4])\n",
    "\n",
    "coef = np.polyfit(y_test7, ds_est,1)\n",
    "poly1d_fn = np.poly1d(coef) \n",
    "plt.plot(y_test7, poly1d_fn(y_test7), '-k')\n",
    "plt.text(.67,.3, r'Mean error: {}%'.format(str(np.mean(prc_err(y_test7,ds_est)))[:2]))\n",
    "plt.text(.67,.25, r'MSE: {}mm'.format(str(Smean[6])[:4]))\n",
    "\n",
    "ds_est2 = model7.predict(X_train7)\n",
    "plt.plot(y_train7, ds_est2, 'bp', alpha=0.5, label='Train data')\n",
    "\n",
    "plt.text(.67,.2, r'Overall mean error:', color='g')\n",
    "plt.text(.67,.15, r'{}%'.format(str(np.mean(prc_err(np.hstack((y_test7,y_train7)),np.hstack((ds_est,ds_est2)))))[:2]), color='g')\n",
    "\n",
    "plt.subplot(248)\n",
    "ds_est = model8.predict(X_test8)\n",
    "plt.plot(y_test8, ds_est, 'ko')\n",
    "plt.xlim(0.1,1.1); plt.ylim(.1,1.1)\n",
    "yl=plt.ylim()\n",
    "plt.plot(yl,yl,'--r')\n",
    "plt.xlabel(r'Observed $D_{50}$ (mm)')\n",
    "# plt.ylabel(r'Estimated $D_{50}$ (mm)')\n",
    "plt.title(r\"h) f(β, $MSTR$, $T_p$, $H_s$)\", loc='left')\n",
    "r2 = np.min(np.corrcoef(y_test8, ds_est))**2\n",
    "plt.text(.67,.35,r'$R^2$ (test)='+str(r2)[:4])\n",
    "\n",
    "coef = np.polyfit(y_test8, ds_est,1)\n",
    "poly1d_fn = np.poly1d(coef) \n",
    "plt.plot(y_test8, poly1d_fn(y_test8), '-k')\n",
    "plt.text(.67,.3, r'Mean error: {}%'.format(str(np.mean(prc_err(y_test8,ds_est)))[:2]))\n",
    "plt.text(.67,.25, r'MSE: {}mm'.format(str(Smean[7])[:4]))\n",
    "\n",
    "ds_est2 = model8.predict(X_train8)\n",
    "plt.plot(y_train8, ds_est2, 'bp', alpha=0.5, label='Train data')\n",
    "\n",
    "plt.text(.67,.2, r'Overall mean error:', color='g')\n",
    "plt.text(.67,.15, r'{}%'.format(str(np.mean(prc_err(np.hstack((y_test8,y_train8)),np.hstack((ds_est,ds_est2)))))[:2]), color='g')\n",
    "#\n",
    "# plt.savefig('../model_plots/SCali_MB_d50-8models-skill.jpg', dpi=300, bbox_inches='tight')\n",
    "plt.savefig('../model_plots/SCali_MB_d50-8models-skill-2022-9-3.jpg', dpi=300, bbox_inches='tight')\n",
    "\n"
   ]
  },
  {
   "cell_type": "code",
   "execution_count": 85,
   "id": "dd046407",
   "metadata": {},
   "outputs": [],
   "source": [
    "# np.save('../model_out/dataset_SCali_coast_MB_model1.npy', model1out, allow_pickle=True)\n",
    "# np.save('../model_out/dataset_SCali_coast_MB_model2.npy', model2out, allow_pickle=True)\n",
    "# np.save('../model_out/dataset_SCali_coast_MB_model3.npy', model3out, allow_pickle=True)\n",
    "# np.save('../model_out/dataset_SCali_coast_MB_model4.npy', model4out, allow_pickle=True)\n",
    "# np.save('../model_out/dataset_SCali_coast_MB_model5.npy', model5out, allow_pickle=True)\n",
    "# np.save('../model_out/dataset_SCali_coast_MB_model6.npy', model6out, allow_pickle=True)\n",
    "# np.save('../model_out/dataset_SCali_coast_MB_model7.npy', model7out, allow_pickle=True)\n",
    "# np.save('../model_out/dataset_SCali_coast_MB_model8.npy', model8out, allow_pickle=True)"
   ]
  },
  {
   "cell_type": "code",
   "execution_count": 444,
   "id": "d4364fd3",
   "metadata": {},
   "outputs": [],
   "source": [
    "np.save('../model_out/dataset_SCali_coast_MB_model1-22-9-3.npy', model1out, allow_pickle=True)\n",
    "np.save('../model_out/dataset_SCali_coast_MB_model2-22-9-3.npy', model2out, allow_pickle=True)\n",
    "np.save('../model_out/dataset_SCali_coast_MB_model3-22-9-3.npy', model3out, allow_pickle=True)\n",
    "np.save('../model_out/dataset_SCali_coast_MB_model4-22-9-3.npy', model4out, allow_pickle=True)\n",
    "np.save('../model_out/dataset_SCali_coast_MB_model5-22-9-3.npy', model5out, allow_pickle=True)\n",
    "np.save('../model_out/dataset_SCali_coast_MB_model6-22-9-3.npy', model6out, allow_pickle=True)\n",
    "np.save('../model_out/dataset_SCali_coast_MB_model7-22-9-3.npy', model7out, allow_pickle=True)\n",
    "np.save('../model_out/dataset_SCali_coast_MB_model8-22-9-3.npy', model8out, allow_pickle=True)"
   ]
  },
  {
   "cell_type": "code",
   "execution_count": null,
   "id": "78362c04",
   "metadata": {},
   "outputs": [],
   "source": []
  },
  {
   "cell_type": "markdown",
   "id": "5853b2d2",
   "metadata": {},
   "source": [
    "### beachface and midbeach samples"
   ]
  },
  {
   "cell_type": "code",
   "execution_count": 105,
   "id": "550b6215",
   "metadata": {},
   "outputs": [],
   "source": [
    "# dfSCali = pd.read_csv('../../../orig_data/US_S_CA/SoCal_GrainSize_waves_slopes_tide_merged.csv')"
   ]
  },
  {
   "cell_type": "code",
   "execution_count": 445,
   "id": "59f418d3",
   "metadata": {},
   "outputs": [
    {
     "data": {
      "text/plain": [
       "240"
      ]
     },
     "execution_count": 445,
     "metadata": {},
     "output_type": "execute_result"
    }
   ],
   "source": [
    "dfSCali = df_strat_gs.copy()\n",
    "len(dfSCali)"
   ]
  },
  {
   "cell_type": "code",
   "execution_count": 446,
   "id": "58ba6036",
   "metadata": {},
   "outputs": [],
   "source": [
    "dfSCali = dfSCali[dfSCali['Grain_Size']<2.0] ## too few samples >1.0\n",
    "dfSCali = dfSCali[(dfSCali['Ele']=='MB') | (dfSCali['Ele']=='BF')]\n",
    "dfSCali = dfSCali.dropna()"
   ]
  },
  {
   "cell_type": "code",
   "execution_count": 447,
   "id": "695f12db",
   "metadata": {},
   "outputs": [
    {
     "data": {
      "text/plain": [
       "204"
      ]
     },
     "execution_count": 447,
     "metadata": {},
     "output_type": "execute_result"
    }
   ],
   "source": [
    "len(dfSCali)"
   ]
  },
  {
   "cell_type": "code",
   "execution_count": 448,
   "id": "a9cea9a2",
   "metadata": {},
   "outputs": [],
   "source": [
    "Smean = []\n",
    "Sstd = []\n",
    "\n",
    "test_size = 0.5\n",
    "\n",
    "standardize = False"
   ]
  },
  {
   "cell_type": "code",
   "execution_count": 449,
   "id": "aad1c3e9",
   "metadata": {},
   "outputs": [],
   "source": [
    "rand = np.random.randn(len(dfSCali))\n",
    "np.save('../model_out/SCali_randMB_plus_BF.npy', rand, allow_pickle=True)"
   ]
  },
  {
   "cell_type": "markdown",
   "id": "a65ce1c2",
   "metadata": {},
   "source": [
    "### model 1"
   ]
  },
  {
   "cell_type": "code",
   "execution_count": 450,
   "id": "969a121e",
   "metadata": {},
   "outputs": [
    {
     "name": "stdout",
     "output_type": "stream",
     "text": [
      "1.942912168\n",
      "1.942912168\n",
      "Fitting 5 folds for each of 2880 candidates, totalling 14400 fits\n",
      "The mean squared error (MSE) on test set: 0.3244\n"
     ]
    }
   ],
   "source": [
    "feature_names1 = ['β (radians)', 'Random\\n (non-dim.)']\n",
    "X = np.stack((dfSCali['Beach face slope'], rand))\n",
    "X.shape\n",
    "\n",
    "if standardize:\n",
    "    xscaler = preprocessing.StandardScaler().fit(X)\n",
    "    X = xscaler.transform(X)\n",
    "    print('Covariates standardized')\n",
    "\n",
    "X_train1, X_test1, y_train1, y_test1 = train_test_split(\n",
    "    X.T,dfSCali['Grain_Size'], test_size=test_size, random_state=42 ##\n",
    ")\n",
    "\n",
    "# X_train1, X_test1, y_train1, y_test1 = train_test_split(\n",
    "#     X.T,y.ravel(), test_size=test_size, random_state=2022  ##dfEAus['d50']\n",
    "# )\n",
    "\n",
    "#unscale y - we balanced it to sample equally among grain size bins\n",
    "# y_test1 = yscaler.inverse_transform(y_test1.reshape(-1, 1)).squeeze()\n",
    "# y_train1 = yscaler.inverse_transform(y_train1.reshape(-1, 1)).squeeze()\n",
    "\n",
    "print(y_test1.max())\n",
    "print(y_train1.max())\n",
    "\n",
    "# model1 = ensemble.GradientBoostingRegressor(**params)\n",
    "gbr = ensemble.GradientBoostingRegressor()#**params)\n",
    "\n",
    "model1 = GridSearchCV(gbr, parameters, n_jobs=-1, verbose=2)\n",
    "\n",
    "model1.fit(X_train1, y_train1)\n",
    "\n",
    "mse1 = mean_squared_error(y_test1, model1.predict(X_test1))\n",
    "print(\"The mean squared error (MSE) on test set: {:.4f}\".format(mse1))"
   ]
  },
  {
   "cell_type": "code",
   "execution_count": 451,
   "id": "9231c542",
   "metadata": {},
   "outputs": [
    {
     "name": "stdout",
     "output_type": "stream",
     "text": [
      "{'learning_rate': 0.01, 'loss': 'absolute_error', 'max_depth': 3, 'min_samples_split': 9, 'n_estimators': 200, 'subsample': 1.0}\n"
     ]
    }
   ],
   "source": [
    "\n",
    "print(model1.best_params_)\n",
    "model1out = {}\n",
    "model1out['feature_names'] = feature_names1\n",
    "model1out['Xtest'] = X_test1\n",
    "model1out['Xtrain'] = X_train1\n",
    "model1out['ytest'] = y_test1\n",
    "model1out['ytrain'] = y_train1\n",
    "model1out['model'] = model1\n",
    "model1out['mse'] = mse1\n",
    "model1out['best_params'] = model1.best_params_"
   ]
  },
  {
   "cell_type": "code",
   "execution_count": 452,
   "id": "92074e55",
   "metadata": {},
   "outputs": [
    {
     "name": "stdout",
     "output_type": "stream",
     "text": [
      "Mean RMSE: 0.539 (0.085)\n"
     ]
    }
   ],
   "source": [
    "model1 = model1.best_estimator_\n",
    "\n",
    "cv = RepeatedKFold(n_splits=10, n_repeats=5, random_state=2022)\n",
    "# evaluate model\n",
    "scores = cross_val_score(model1, X_test1, y_test1, scoring='neg_root_mean_squared_error', cv=cv, n_jobs=-1)\n",
    "\n",
    "# force scores to be positive\n",
    "scores = np.absolute(scores)\n",
    "print('Mean RMSE: %.3f (%.3f)' % (scores.mean(), scores.std()) )\n",
    "\n",
    "Smean.append(scores.mean())\n",
    "Sstd.append(scores.std())"
   ]
  },
  {
   "cell_type": "markdown",
   "id": "3e0337b0",
   "metadata": {},
   "source": [
    "### model 2"
   ]
  },
  {
   "cell_type": "code",
   "execution_count": 453,
   "id": "dca90ea1",
   "metadata": {},
   "outputs": [
    {
     "name": "stdout",
     "output_type": "stream",
     "text": [
      "Fitting 5 folds for each of 2880 candidates, totalling 14400 fits\n",
      "The mean squared error (MSE) on test set: 0.2427\n"
     ]
    }
   ],
   "source": [
    "feature_names2 = [r'MSTR (m)', 'Random\\n (non-dim.)']\n",
    "X = np.stack((dfSCali['TIDAL_RANGE'], rand))\n",
    "\n",
    "X.shape\n",
    "\n",
    "if standardize:\n",
    "    xscaler = preprocessing.StandardScaler().fit(X)\n",
    "    X = xscaler.transform(X)\n",
    "    print('Covariates standardized')\n",
    "\n",
    "X_train2, X_test2, y_train2, y_test2 = train_test_split(\n",
    "    X.T, dfSCali['Grain_Size'], test_size=test_size, random_state=42\n",
    ")\n",
    "\n",
    "# model2 = ensemble.GradientBoostingRegressor(**params)\n",
    "gbr = ensemble.GradientBoostingRegressor()#**params)\n",
    "\n",
    "model2 = GridSearchCV(gbr, parameters, n_jobs=-1, verbose=2)\n",
    "model2.fit(X_train2, y_train2)\n",
    "\n",
    "mse2 = mean_squared_error(y_test2, model2.predict(X_test2))\n",
    "print(\"The mean squared error (MSE) on test set: {:.4f}\".format(mse2))"
   ]
  },
  {
   "cell_type": "code",
   "execution_count": 454,
   "id": "91415d0c",
   "metadata": {},
   "outputs": [
    {
     "name": "stdout",
     "output_type": "stream",
     "text": [
      "{'learning_rate': 0.05, 'loss': 'squared_error', 'max_depth': 3, 'min_samples_split': 3, 'n_estimators': 50, 'subsample': 1.0}\n"
     ]
    }
   ],
   "source": [
    "print(model2.best_params_)\n",
    "model2out = {}\n",
    "model2out['feature_names'] = feature_names2\n",
    "model2out['Xtest'] = X_test2\n",
    "model2out['Xtrain'] = X_train2\n",
    "model2out['ytest'] = y_test2\n",
    "model2out['ytrain'] = y_train2\n",
    "model2out['model'] = model2\n",
    "model2out['mse'] = mse2\n",
    "model2out['best_params'] = model2.best_params_"
   ]
  },
  {
   "cell_type": "code",
   "execution_count": 455,
   "id": "b7f10630",
   "metadata": {},
   "outputs": [
    {
     "name": "stdout",
     "output_type": "stream",
     "text": [
      "Mean RMSE: 0.480 (0.080)\n"
     ]
    }
   ],
   "source": [
    "model2 = model2.best_estimator_\n",
    "\n",
    "cv = RepeatedKFold(n_splits=10, n_repeats=5, random_state=2022)\n",
    "# evaluate model\n",
    "scores = cross_val_score(model2, X_test2, y_test2, scoring='neg_root_mean_squared_error', cv=cv, n_jobs=-1)\n",
    "\n",
    "# force scores to be positive\n",
    "scores = np.absolute(scores)\n",
    "print('Mean RMSE: %.3f (%.3f)' % (scores.mean(), scores.std()) )\n",
    "\n",
    "Smean.append(scores.mean())\n",
    "Sstd.append(scores.std())"
   ]
  },
  {
   "cell_type": "markdown",
   "id": "201264ed",
   "metadata": {},
   "source": [
    "### model 3"
   ]
  },
  {
   "cell_type": "code",
   "execution_count": 456,
   "id": "dafd2415",
   "metadata": {},
   "outputs": [
    {
     "name": "stdout",
     "output_type": "stream",
     "text": [
      "Fitting 5 folds for each of 2880 candidates, totalling 14400 fits\n",
      "The mean squared error (MSE) on test set: 0.2273\n"
     ]
    }
   ],
   "source": [
    "feature_names3 = ['β (radians)','MSTR (m)', 'Random\\n (non-dim.)']\n",
    "X = np.stack((dfSCali['Beach face slope'], dfSCali['TIDAL_RANGE'], rand))\n",
    "X.shape\n",
    "\n",
    "if standardize:\n",
    "    xscaler = preprocessing.StandardScaler().fit(X)\n",
    "    X = xscaler.transform(X)\n",
    "    print('Covariates standardized')\n",
    "\n",
    "X_train3, X_test3, y_train3, y_test3 = train_test_split(\n",
    "    X.T, dfSCali['Grain_Size'], test_size=test_size, random_state=2022\n",
    ")\n",
    "\n",
    "# model3 = ensemble.GradientBoostingRegressor(**params)\n",
    "gbr = ensemble.GradientBoostingRegressor()#**params)\n",
    "\n",
    "model3 = GridSearchCV(gbr, parameters, n_jobs=-1, verbose=2)\n",
    "model3.fit(X_train3, y_train3)\n",
    "\n",
    "mse3 = mean_squared_error(y_test3, model3.predict(X_test3))\n",
    "print(\"The mean squared error (MSE) on test set: {:.4f}\".format(mse3))"
   ]
  },
  {
   "cell_type": "code",
   "execution_count": 457,
   "id": "5b43736b",
   "metadata": {},
   "outputs": [
    {
     "name": "stdout",
     "output_type": "stream",
     "text": [
      "{'learning_rate': 0.05, 'loss': 'huber', 'max_depth': 3, 'min_samples_split': 3, 'n_estimators': 50, 'subsample': 1.0}\n"
     ]
    }
   ],
   "source": [
    "print(model3.best_params_)\n",
    "model3out = {}\n",
    "model3out['feature_names'] = feature_names3\n",
    "model3out['Xtest'] = X_test3\n",
    "model3out['Xtrain'] = X_train3\n",
    "model3out['ytest'] = y_test3\n",
    "model3out['ytrain'] = y_train3\n",
    "model3out['model'] = model3\n",
    "model3out['mse'] = mse3\n",
    "model3out['best_params'] = model3.best_params_"
   ]
  },
  {
   "cell_type": "code",
   "execution_count": 458,
   "id": "e5518e27",
   "metadata": {},
   "outputs": [
    {
     "name": "stdout",
     "output_type": "stream",
     "text": [
      "Mean RMSE: 0.442 (0.082)\n"
     ]
    }
   ],
   "source": [
    "model3 = model3.best_estimator_\n",
    "\n",
    "cv = RepeatedKFold(n_splits=10, n_repeats=5, random_state=2022)\n",
    "# evaluate model\n",
    "scores = cross_val_score(model3, X_test3, y_test3, scoring='neg_root_mean_squared_error', cv=cv, n_jobs=-1)\n",
    "\n",
    "# force scores to be positive\n",
    "scores = np.absolute(scores)\n",
    "print('Mean RMSE: %.3f (%.3f)' % (scores.mean(), scores.std()) )\n",
    "\n",
    "Smean.append(scores.mean())\n",
    "Sstd.append(scores.std())"
   ]
  },
  {
   "cell_type": "markdown",
   "id": "a5f508d8",
   "metadata": {},
   "source": [
    "### model 4"
   ]
  },
  {
   "cell_type": "code",
   "execution_count": 459,
   "id": "26e3a3a0",
   "metadata": {},
   "outputs": [
    {
     "name": "stdout",
     "output_type": "stream",
     "text": [
      "Fitting 5 folds for each of 2880 candidates, totalling 14400 fits\n",
      "The mean squared error (MSE) on test set: 0.2034\n"
     ]
    }
   ],
   "source": [
    "feature_names4 = ['β (radians)','MSTR (m)',r'$T_p$ (s)', 'Random\\n (non-dim.)']\n",
    "X = np.stack((dfSCali['Beach face slope'], dfSCali['TIDAL_RANGE'], dfSCali['Tp'], rand))\n",
    "X.shape\n",
    "\n",
    "if standardize:\n",
    "    xscaler = preprocessing.StandardScaler().fit(X)\n",
    "    X = xscaler.transform(X)\n",
    "    print('Covariates standardized')\n",
    "\n",
    "X_train4, X_test4, y_train4, y_test4 = train_test_split(\n",
    "    X.T, dfSCali['Grain_Size'], test_size=test_size, random_state=2022\n",
    ")\n",
    "\n",
    "# model4 = ensemble.GradientBoostingRegressor(**params)\n",
    "gbr = ensemble.GradientBoostingRegressor()#**params)\n",
    "\n",
    "model4 = GridSearchCV(gbr, parameters, n_jobs=-1, verbose=2)\n",
    "\n",
    "model4.fit(X_train4, y_train4)\n",
    "\n",
    "mse4 = mean_squared_error(y_test4, model4.predict(X_test4))\n",
    "print(\"The mean squared error (MSE) on test set: {:.4f}\".format(mse4))"
   ]
  },
  {
   "cell_type": "code",
   "execution_count": 460,
   "id": "1982ead6",
   "metadata": {},
   "outputs": [
    {
     "name": "stdout",
     "output_type": "stream",
     "text": [
      "{'learning_rate': 0.05, 'loss': 'huber', 'max_depth': 3, 'min_samples_split': 7, 'n_estimators': 50, 'subsample': 0.75}\n"
     ]
    }
   ],
   "source": [
    "print(model4.best_params_)\n",
    "\n",
    "model4out = {}\n",
    "model4out['feature_names'] = feature_names4\n",
    "model4out['Xtest'] = X_test4\n",
    "model4out['Xtrain'] = X_train4\n",
    "model4out['ytest'] = y_test4\n",
    "model4out['ytrain'] = y_train4\n",
    "model4out['model'] = model4\n",
    "model4out['mse'] = mse4\n",
    "model4out['best_params'] = model4.best_params_"
   ]
  },
  {
   "cell_type": "code",
   "execution_count": 461,
   "id": "4299a701",
   "metadata": {},
   "outputs": [
    {
     "name": "stdout",
     "output_type": "stream",
     "text": [
      "Mean RMSE: 0.433 (0.083)\n"
     ]
    }
   ],
   "source": [
    "model4 = model4.best_estimator_\n",
    "\n",
    "cv = RepeatedKFold(n_splits=10, n_repeats=5, random_state=2022)\n",
    "# evaluate model\n",
    "scores = cross_val_score(model4, X_test4, y_test4, scoring='neg_root_mean_squared_error', cv=cv, n_jobs=-1)\n",
    "\n",
    "# force scores to be positive\n",
    "scores = np.absolute(scores)\n",
    "print('Mean RMSE: %.3f (%.3f)' % (scores.mean(), scores.std()) )\n",
    "\n",
    "Smean.append(scores.mean())\n",
    "Sstd.append(scores.std())"
   ]
  },
  {
   "cell_type": "markdown",
   "id": "2aaa06d6",
   "metadata": {},
   "source": [
    "### model 5"
   ]
  },
  {
   "cell_type": "code",
   "execution_count": 462,
   "id": "daa9dca9",
   "metadata": {},
   "outputs": [
    {
     "name": "stdout",
     "output_type": "stream",
     "text": [
      "Fitting 5 folds for each of 2880 candidates, totalling 14400 fits\n",
      "The mean squared error (MSE) on test set: 0.2059\n"
     ]
    }
   ],
   "source": [
    "feature_names5 = ['β (radians)','MSTR (m)',r'$H_s$ (m)', 'Random\\n (non-dim.)']\n",
    "X = np.stack((dfSCali['Beach face slope'], dfSCali['TIDAL_RANGE'], dfSCali['Hs'], rand))\n",
    "X.shape\n",
    "\n",
    "if standardize:\n",
    "    xscaler = preprocessing.StandardScaler().fit(X)\n",
    "    X = xscaler.transform(X)\n",
    "    print('Covariates standardized')\n",
    "\n",
    "X_train5, X_test5, y_train5, y_test5 = train_test_split(\n",
    "    X.T, dfSCali['Grain_Size'], test_size=test_size, random_state=2022\n",
    ")\n",
    "\n",
    "# model5 = ensemble.GradientBoostingRegressor(**params)\n",
    "gbr = ensemble.GradientBoostingRegressor()#**params)\n",
    "\n",
    "model5 = GridSearchCV(gbr, parameters, n_jobs=-1, verbose=2)\n",
    "model5.fit(X_train5, y_train5)\n",
    "\n",
    "mse5 = mean_squared_error(y_test5, model5.predict(X_test5))\n",
    "print(\"The mean squared error (MSE) on test set: {:.4f}\".format(mse5))"
   ]
  },
  {
   "cell_type": "code",
   "execution_count": 463,
   "id": "fbf0802a",
   "metadata": {},
   "outputs": [
    {
     "name": "stdout",
     "output_type": "stream",
     "text": [
      "{'learning_rate': 0.01, 'loss': 'huber', 'max_depth': 3, 'min_samples_split': 3, 'n_estimators': 200, 'subsample': 1.0}\n"
     ]
    }
   ],
   "source": [
    "print(model5.best_params_)\n",
    "model5out = {}\n",
    "model5out['feature_names'] = feature_names5\n",
    "model5out['Xtest'] = X_test5\n",
    "model5out['Xtrain'] = X_train5\n",
    "model5out['ytest'] = y_test5\n",
    "model5out['ytrain'] = y_train5\n",
    "model5out['model'] = model5\n",
    "model5out['mse'] = mse5\n",
    "model5out['best_params'] = model5.best_params_"
   ]
  },
  {
   "cell_type": "code",
   "execution_count": 464,
   "id": "c096c2f6",
   "metadata": {},
   "outputs": [
    {
     "name": "stdout",
     "output_type": "stream",
     "text": [
      "Mean RMSE: 0.436 (0.083)\n"
     ]
    }
   ],
   "source": [
    "model5 = model5.best_estimator_\n",
    "\n",
    "cv = RepeatedKFold(n_splits=10, n_repeats=5, random_state=2022)\n",
    "# evaluate model\n",
    "scores = cross_val_score(model5, X_test5, y_test5, scoring='neg_root_mean_squared_error', cv=cv, n_jobs=-1)\n",
    "\n",
    "# force scores to be positive\n",
    "scores = np.absolute(scores)\n",
    "print('Mean RMSE: %.3f (%.3f)' % (scores.mean(), scores.std()) )\n",
    "\n",
    "Smean.append(scores.mean())\n",
    "Sstd.append(scores.std())"
   ]
  },
  {
   "cell_type": "markdown",
   "id": "b63cce00",
   "metadata": {},
   "source": [
    "### model 6"
   ]
  },
  {
   "cell_type": "code",
   "execution_count": 465,
   "id": "7136986b",
   "metadata": {},
   "outputs": [
    {
     "name": "stdout",
     "output_type": "stream",
     "text": [
      "Fitting 5 folds for each of 2880 candidates, totalling 14400 fits\n",
      "The mean squared error (MSE) on test set: 0.2188\n"
     ]
    }
   ],
   "source": [
    "feature_names6 = ['β (radians)','MSTR (m)',r'$\\theta$ (deg.)', 'Random\\n (non-dim.)']\n",
    "X = np.stack((dfSCali['Beach face slope'], dfSCali['TIDAL_RANGE'], dfSCali['Dp'], rand))\n",
    "\n",
    "X.shape\n",
    "\n",
    "if standardize:\n",
    "    xscaler = preprocessing.StandardScaler().fit(X)\n",
    "    X = xscaler.transform(X)\n",
    "    print('Covariates standardized')\n",
    "\n",
    "X_train6, X_test6, y_train6, y_test6 = train_test_split(\n",
    "    X.T, dfSCali['Grain_Size'], test_size=test_size, random_state=2022\n",
    ")\n",
    "\n",
    "# model6 = ensemble.GradientBoostingRegressor(**params)\n",
    "gbr = ensemble.GradientBoostingRegressor()#**params)\n",
    "\n",
    "model6 = GridSearchCV(gbr, parameters, n_jobs=-1, verbose=2)\n",
    "model6.fit(X_train6, y_train6)\n",
    "\n",
    "mse6 = mean_squared_error(y_test6,model6.predict(X_test6))\n",
    "print(\"The mean squared error (MSE) on test set: {:.4f}\".format(mse6))"
   ]
  },
  {
   "cell_type": "code",
   "execution_count": 466,
   "id": "9a9314a4",
   "metadata": {},
   "outputs": [
    {
     "name": "stdout",
     "output_type": "stream",
     "text": [
      "{'learning_rate': 0.01, 'loss': 'squared_error', 'max_depth': 3, 'min_samples_split': 5, 'n_estimators': 200, 'subsample': 0.75}\n"
     ]
    }
   ],
   "source": [
    "print(model6.best_params_)\n",
    "\n",
    "model6out = {}\n",
    "model6out['feature_names'] = feature_names6\n",
    "model6out['Xtest'] = X_test6\n",
    "model6out['Xtrain'] = X_train6\n",
    "model6out['ytest'] = y_test6\n",
    "model6out['ytrain'] = y_train6\n",
    "model6out['model'] = model6\n",
    "model6out['mse'] = mse6\n",
    "model6out['best_params'] = model6.best_params_"
   ]
  },
  {
   "cell_type": "code",
   "execution_count": 467,
   "id": "ebe01357",
   "metadata": {},
   "outputs": [
    {
     "name": "stdout",
     "output_type": "stream",
     "text": [
      "Mean RMSE: 0.441 (0.083)\n"
     ]
    }
   ],
   "source": [
    "model6 = model6.best_estimator_\n",
    "\n",
    "cv = RepeatedKFold(n_splits=10, n_repeats=5, random_state=2022)\n",
    "# evaluate model\n",
    "scores = cross_val_score(model6, X_test6, y_test6, scoring='neg_root_mean_squared_error', cv=cv, n_jobs=-1)\n",
    "\n",
    "# force scores to be positive\n",
    "scores = np.absolute(scores)\n",
    "print('Mean RMSE: %.3f (%.3f)' % (scores.mean(), scores.std()) )\n",
    "\n",
    "Smean.append(scores.mean())\n",
    "Sstd.append(scores.std())"
   ]
  },
  {
   "cell_type": "markdown",
   "id": "50e3d794",
   "metadata": {},
   "source": [
    "### model 7"
   ]
  },
  {
   "cell_type": "code",
   "execution_count": 468,
   "id": "6a1916fd",
   "metadata": {},
   "outputs": [
    {
     "name": "stdout",
     "output_type": "stream",
     "text": [
      "Fitting 5 folds for each of 2880 candidates, totalling 14400 fits\n",
      "The mean squared error (MSE) on test set: 0.2045\n"
     ]
    }
   ],
   "source": [
    "feature_names7 = ['MSTR (m)',r'$T_p$ (s)',r'$H_s$ (m)', 'Random\\n (non-dim.)']\n",
    "# X = np.stack((dfEAus['mstr'], dfEAus['tp'], dfEAus['hs_mean'],  rand))\n",
    "X = np.stack((dfSCali['TIDAL_RANGE'], dfSCali['Tp'], dfSCali['Hs'], rand))\n",
    "\n",
    "X.shape\n",
    "\n",
    "if standardize:\n",
    "    xscaler = preprocessing.StandardScaler().fit(X)\n",
    "    X = xscaler.transform(X)\n",
    "    print('Covariates standardized')\n",
    "\n",
    "X_train7, X_test7, y_train7, y_test7 = train_test_split(\n",
    "    X.T, dfSCali['Grain_Size'], test_size=test_size, random_state=2022\n",
    ")\n",
    "\n",
    "# model7 = ensemble.GradientBoostingRegressor(**params)\n",
    "gbr = ensemble.GradientBoostingRegressor()#**params)\n",
    "\n",
    "model7 = GridSearchCV(gbr, parameters, n_jobs=-1, verbose=2)\n",
    "model7.fit(X_train7, y_train7)\n",
    "\n",
    "mse7 = mean_squared_error(y_test7,model7.predict(X_test7))\n",
    "print(\"The mean squared error (MSE) on test set: {:.4f}\".format(mse7))"
   ]
  },
  {
   "cell_type": "code",
   "execution_count": 469,
   "id": "a9cded4e",
   "metadata": {},
   "outputs": [
    {
     "name": "stdout",
     "output_type": "stream",
     "text": [
      "{'learning_rate': 0.1, 'loss': 'huber', 'max_depth': 3, 'min_samples_split': 9, 'n_estimators': 25, 'subsample': 1.0}\n"
     ]
    }
   ],
   "source": [
    "print(model7.best_params_)\n",
    "\n",
    "model7out = {}\n",
    "model7out['feature_names'] = feature_names7\n",
    "model7out['Xtest'] = X_test7\n",
    "model7out['Xtrain'] = X_train7\n",
    "model7out['ytest'] = y_test7\n",
    "model7out['ytrain'] = y_train7\n",
    "model7out['model'] = model7\n",
    "model7out['mse'] = mse7\n",
    "model7out['best_params'] = model7.best_params_"
   ]
  },
  {
   "cell_type": "code",
   "execution_count": 470,
   "id": "b9963226",
   "metadata": {},
   "outputs": [
    {
     "name": "stdout",
     "output_type": "stream",
     "text": [
      "Mean RMSE: 0.431 (0.081)\n"
     ]
    }
   ],
   "source": [
    "model7 = model7.best_estimator_\n",
    "\n",
    "cv = RepeatedKFold(n_splits=10, n_repeats=5, random_state=2022)\n",
    "# evaluate model\n",
    "scores = cross_val_score(model7, X_test7, y_test7, scoring='neg_root_mean_squared_error', cv=cv, n_jobs=-1)\n",
    "\n",
    "# force scores to be positive\n",
    "scores = np.absolute(scores)\n",
    "print('Mean RMSE: %.3f (%.3f)' % (scores.mean(), scores.std()) )\n",
    "\n",
    "Smean.append(scores.mean())\n",
    "Sstd.append(scores.std())"
   ]
  },
  {
   "cell_type": "markdown",
   "id": "8413453a",
   "metadata": {},
   "source": [
    "### model 8"
   ]
  },
  {
   "cell_type": "code",
   "execution_count": 471,
   "id": "c32020b3",
   "metadata": {},
   "outputs": [
    {
     "name": "stdout",
     "output_type": "stream",
     "text": [
      "Fitting 5 folds for each of 2880 candidates, totalling 14400 fits\n",
      "The mean squared error (MSE) on test set: 0.1970\n"
     ]
    }
   ],
   "source": [
    "feature_names8 = ['β (radians)','MSTR (m)',r'$T_p$ (s)',r'$H_s$ (m)',  'Random\\n (non-dim.)']\n",
    "# X = np.stack((dfEAus['beach_slope_average'], dfEAus['mstr'], dfEAus['tp'], dfEAus['hs_mean'],  rand))\n",
    "X = np.stack((dfSCali['Beach face slope'], dfSCali['TIDAL_RANGE'], dfSCali['Tp'], dfSCali['Hs'], rand))\n",
    "\n",
    "X.shape\n",
    "\n",
    "if standardize:\n",
    "    xscaler = preprocessing.StandardScaler().fit(X)\n",
    "    X = xscaler.transform(X)\n",
    "    print('Covariates standardized')\n",
    "\n",
    "X_train8, X_test8, y_train8, y_test8= train_test_split(\n",
    "    X.T, dfSCali['Grain_Size'], test_size=test_size, random_state=2022\n",
    ")\n",
    "\n",
    "# model8= ensemble.GradientBoostingRegressor(**params)\n",
    "gbr = ensemble.GradientBoostingRegressor()#**params)\n",
    "\n",
    "model8 = GridSearchCV(gbr, parameters, n_jobs=-1, verbose=2)\n",
    "model8.fit(X_train8, y_train8)\n",
    "\n",
    "mse8 = mean_squared_error(y_test8,model8.predict(X_test8))\n",
    "print(\"The mean squared error (MSE) on test set: {:.4f}\".format(mse8))"
   ]
  },
  {
   "cell_type": "code",
   "execution_count": 472,
   "id": "0d44711a",
   "metadata": {},
   "outputs": [
    {
     "name": "stdout",
     "output_type": "stream",
     "text": [
      "{'learning_rate': 0.05, 'loss': 'huber', 'max_depth': 3, 'min_samples_split': 9, 'n_estimators': 50, 'subsample': 1.0}\n"
     ]
    }
   ],
   "source": [
    "print(model8.best_params_)\n",
    "\n",
    "model8out = {}\n",
    "model8out['feature_names'] = feature_names8\n",
    "model8out['Xtest'] = X_test8\n",
    "model8out['Xtrain'] = X_train8\n",
    "model8out['ytest'] = y_test8\n",
    "model8out['ytrain'] = y_train8\n",
    "model8out['model'] = model8.best_estimator_\n",
    "model8out['mse'] = mse8\n",
    "model8out['best_params'] = model8.best_params_"
   ]
  },
  {
   "cell_type": "code",
   "execution_count": 473,
   "id": "82fef075",
   "metadata": {},
   "outputs": [
    {
     "name": "stdout",
     "output_type": "stream",
     "text": [
      "Mean RMSE: 0.429 (0.082)\n"
     ]
    }
   ],
   "source": [
    "model8 = model8.best_estimator_\n",
    "\n",
    "cv = RepeatedKFold(n_splits=10, n_repeats=5, random_state=2022)\n",
    "# evaluate model\n",
    "scores = cross_val_score(model8, X_test8, y_test8, scoring='neg_root_mean_squared_error', cv=cv, n_jobs=-1)\n",
    "\n",
    "# force scores to be positive\n",
    "scores = np.absolute(scores)\n",
    "\n",
    "print('Mean RMSE: %.3f (%.3f)' % (scores.mean(), scores.std()) )\n",
    "\n",
    "Smean.append(scores.mean())\n",
    "Sstd.append(scores.std())"
   ]
  },
  {
   "cell_type": "markdown",
   "id": "6c8d639d",
   "metadata": {},
   "source": [
    "### plot"
   ]
  },
  {
   "cell_type": "code",
   "execution_count": 475,
   "id": "0bfaedb1",
   "metadata": {},
   "outputs": [
    {
     "data": {
      "image/png": "[encoded data removed]",
      "text/plain": [
       "<Figure size 1440x720 with 8 Axes>"
      ]
     },
     "metadata": {
      "needs_background": "light"
     },
     "output_type": "display_data"
    }
   ],
   "source": [
    "plt.figure(figsize=(20,10))\n",
    "plt.subplots_adjust(wspace=0.3, hspace=0.3)\n",
    "\n",
    "plt.subplot(241)\n",
    "ds_est = model1.predict(X_test1)\n",
    "plt.plot(y_test1, ds_est, 'ko', label='Test data')\n",
    "# plt.xlim(0.1,1.1); plt.ylim(.1,1.1)\n",
    "yl=plt.ylim()\n",
    "plt.plot(yl,yl,'--r')\n",
    "plt.xlabel(r'Observed $D_{50}$ (mm)')\n",
    "plt.ylabel(r'Estimated $D_{50}$ (mm)')\n",
    "plt.title(r\"a) f(β)\", loc='left')\n",
    "r2 = np.min(np.corrcoef(y_test1, ds_est))**2\n",
    "plt.text(.67,.35,r'$R^2$ (test)='+str(r2)[:4])\n",
    "\n",
    "coef = np.polyfit(y_test1, ds_est,1)\n",
    "poly1d_fn = np.poly1d(coef) \n",
    "plt.plot(y_test1, poly1d_fn(y_test1), '-k')\n",
    "plt.text(.67,.30, r'Mean error: {}%'.format(str(np.mean(prc_err(y_test1,ds_est)))[:2]))\n",
    "plt.text(.67,.25, r'MSE: {}mm'.format(str(Smean[0])[:4]))\n",
    "\n",
    "ds_est2 = model1.predict(X_train1)\n",
    "plt.plot(y_train1, ds_est2, 'bp', alpha=0.5, label='Train data')\n",
    "plt.legend(loc=2)\n",
    "\n",
    "plt.text(.67,.20, r'Overall mean error:', color='g')\n",
    "plt.text(.67,.15, r'{}%'.format(str(np.mean(prc_err(np.hstack((y_test1,y_train1)),np.hstack((ds_est,ds_est2)))))[:2]), color='g')\n",
    "\n",
    "plt.subplot(242)\n",
    "ds_est = model2.predict(X_test2)\n",
    "plt.plot(y_test2, ds_est, 'ko')\n",
    "# plt.xlim(0.1,1.1); plt.ylim(.1,1.1)\n",
    "yl=plt.ylim()\n",
    "plt.plot(yl,yl,'--r')\n",
    "plt.xlabel(r'Observed $D_{50}$ (mm)')\n",
    "# plt.ylabel(r'Estimated $D_{50}$ (mm)')\n",
    "plt.title(r\"b) f($MSTR$)\", loc='left')\n",
    "r2 = np.min(np.corrcoef(y_test2, ds_est))**2\n",
    "plt.text(.67,.35,r'$R^2$='+str(r2)[:4])\n",
    "\n",
    "coef = np.polyfit(y_test2, ds_est,1)\n",
    "poly1d_fn = np.poly1d(coef) \n",
    "plt.plot(y_test2, poly1d_fn(y_test2), '-k')\n",
    "plt.text(.67,.30, r'Mean error: {}%'.format(str(np.mean(prc_err(y_test2,ds_est)))[:2]))\n",
    "plt.text(.67,.25, r'MSE: {}mm'.format(str(Smean[1])[:4]))\n",
    "\n",
    "ds_est2 = model2.predict(X_train2)\n",
    "plt.plot(y_train2, ds_est2, 'bp', alpha=0.5, label='Train data')\n",
    "\n",
    "plt.text(.67,.20, r'Overall mean error:', color='g')\n",
    "plt.text(.67,.15, r'{}%'.format(str(np.mean(prc_err(np.hstack((y_test2,y_train2)),np.hstack((ds_est,ds_est2)))))[:2]), color='g')\n",
    "\n",
    "plt.subplot(243)\n",
    "ds_est = model3.predict(X_test3)\n",
    "plt.plot(y_test3, ds_est, 'ko')\n",
    "# plt.xlim(0.1,1.1); plt.ylim(.1,1.1)\n",
    "yl=plt.ylim()\n",
    "plt.plot(yl,yl,'--r')\n",
    "plt.xlabel(r'Observed $D_{50}$ (mm)')\n",
    "# plt.ylabel(r'Estimated $D_{50}$ (mm)')\n",
    "plt.title(\"c) f(β, $MSTR$)\", loc='left')\n",
    "r2 = np.min(np.corrcoef(y_test3, ds_est))**2\n",
    "plt.text(.67,.35,r'$R^2$ (test)='+str(r2)[:4])\n",
    "\n",
    "coef = np.polyfit(y_test3, ds_est,1)\n",
    "poly1d_fn = np.poly1d(coef) \n",
    "plt.plot(y_test3, poly1d_fn(y_test3), '-k')\n",
    "plt.text(.67,.30, r'Mean error: {}%'.format(str(np.mean(prc_err(y_test3,ds_est)))[:2]))\n",
    "plt.text(.67,.25, r'MSE: {}mm'.format(str(Smean[2])[:4]))\n",
    "\n",
    "ds_est2 = model3.predict(X_train3)\n",
    "plt.plot(y_train3, ds_est2, 'bp', alpha=0.5, label='Train data')\n",
    "\n",
    "plt.text(.67,.2, r'Overall mean error:', color='g')\n",
    "plt.text(.67,.15, r'{}%'.format(str(np.mean(prc_err(np.hstack((y_test3,y_train3)),np.hstack((ds_est,ds_est2)))))[:2]), color='g')\n",
    "\n",
    "plt.subplot(244)\n",
    "ds_est = model4.predict(X_test4)\n",
    "plt.plot(y_test4, ds_est, 'ko')\n",
    "# plt.xlim(0.1,1.1); plt.ylim(.1,1.1)\n",
    "yl=plt.ylim()\n",
    "plt.plot(yl,yl,'--r')\n",
    "plt.xlabel(r'Observed $D_{50}$ (mm)')\n",
    "plt.title(r\"d) f(β, $MSTR$, $T_p$)\", loc='left')\n",
    "r2 = np.min(np.corrcoef(y_test4, ds_est))**2\n",
    "plt.text(.67,.35,r'$R^2$ (test)='+str(r2)[:4])\n",
    "plt.text(.67,.3, r'Mean error: {}%'.format(str(np.mean(prc_err(y_test4,ds_est)))[:2]))\n",
    "plt.text(.67,.25, r'MSE: {}mm'.format(str(Smean[3])[:4]))\n",
    "\n",
    "coef = np.polyfit(y_test4, ds_est,1)\n",
    "poly1d_fn = np.poly1d(coef) \n",
    "plt.plot(y_test4, poly1d_fn(y_test4), '-k')\n",
    "\n",
    "ds_est2 = model4.predict(X_train4)\n",
    "plt.plot(y_train4, ds_est2, 'bp', alpha=0.5, label='Train data')\n",
    "\n",
    "plt.text(.67,.2, r'Overall mean error:', color='g')\n",
    "plt.text(.67,.15, r'{}%'.format(str(np.mean(prc_err(np.hstack((y_test4,y_train4)),np.hstack((ds_est,ds_est2)))))[:2]), color='g')\n",
    "\n",
    "\n",
    "plt.subplot(245)\n",
    "ds_est = model5.predict(X_test5)\n",
    "plt.plot(y_test5, ds_est, 'ko')\n",
    "# plt.xlim(0.1,1.1); plt.ylim(.1,1.1)\n",
    "yl=plt.ylim()\n",
    "plt.plot(yl,yl,'--r')\n",
    "plt.xlabel(r'Observed $D_{50}$ (mm)')\n",
    "plt.ylabel(r'Estimated $D_{50}$ (mm)')\n",
    "plt.title(r\"e) f(β, $MSTR$, $H_s$)\", loc='left')\n",
    "r2 = np.min(np.corrcoef(y_test5, ds_est))**2\n",
    "plt.text(.67,.35,r'$R^2$ (test)='+str(r2)[:4])\n",
    "\n",
    "coef = np.polyfit(y_test5, ds_est,1)\n",
    "poly1d_fn = np.poly1d(coef) \n",
    "plt.plot(y_test5, poly1d_fn(y_test5), '-k')\n",
    "plt.text(.67,.3, r'Mean error: {}%'.format(str(np.mean(prc_err(y_test5,ds_est)))[:2]))\n",
    "plt.text(.67,.25, r'MSE: {}mm'.format(str(Smean[4])[:4]))\n",
    "\n",
    "ds_est2 = model5.predict(X_train5)\n",
    "plt.plot(y_train5, ds_est2, 'bp', alpha=0.5, label='Train data')\n",
    "\n",
    "plt.text(.67,.2, r'Overall mean error:', color='g')\n",
    "plt.text(.67,.15, r'{}%'.format(str(np.mean(prc_err(np.hstack((y_test5,y_train5)),np.hstack((ds_est,ds_est2)))))[:2]), color='g')\n",
    "\n",
    "\n",
    "plt.subplot(246)\n",
    "ds_est = model6.predict(X_test6)\n",
    "plt.plot(y_test6, ds_est, 'ko')\n",
    "# plt.xlim(0.1,1.1); plt.ylim(.1,1.1)\n",
    "yl=plt.ylim()\n",
    "plt.plot(yl,yl,'--r')\n",
    "plt.xlabel(r'Observed $D_{50}$ (mm)')\n",
    "# plt.ylabel(r'Estimated $D_{50}$ (mm)')\n",
    "plt.title(r\"f) f(β, $MSTR$, $\\theta$)\", loc='left')\n",
    "r2 = np.min(np.corrcoef(y_test6, ds_est))**2\n",
    "plt.text(.67,.35,r'$R^2$ (test)='+str(r2)[:4])\n",
    "\n",
    "coef = np.polyfit(y_test6, ds_est,1)\n",
    "poly1d_fn = np.poly1d(coef) \n",
    "plt.plot(y_test6, poly1d_fn(y_test6), '-k')\n",
    "plt.text(.67,.3, r'Mean error: {}%'.format(str(np.mean(prc_err(y_test6,ds_est)))[:2]))\n",
    "plt.text(.67,.25, r'MSE: {}mm'.format(str(Smean[5])[:4]))\n",
    "\n",
    "ds_est2 = model6.predict(X_train6)\n",
    "plt.plot(y_train6, ds_est2, 'bp', alpha=0.5, label='Train data')\n",
    "\n",
    "plt.text(.67,.2, r'Overall mean error:', color='g')\n",
    "plt.text(.67,.15, r'{}%'.format(str(np.mean(prc_err(np.hstack((y_test6,y_train6)),np.hstack((ds_est,ds_est2)))))[:2]), color='g')\n",
    "\n",
    "plt.subplot(247)\n",
    "ds_est = model7.predict(X_test7)\n",
    "plt.plot(y_test7, ds_est, 'ko')\n",
    "# plt.xlim(0.1,1.1); plt.ylim(.1,1.1)\n",
    "yl=plt.ylim()\n",
    "plt.plot(yl,yl,'--r')\n",
    "plt.xlabel(r'Observed $D_{50}$ (mm)')\n",
    "# plt.ylabel(r'Estimated $D_{50}$ (mm)')\n",
    "plt.title(r\"g) f($MSTR$, $T_p$, $H_s$)\", loc='left')\n",
    "r2 = np.min(np.corrcoef(y_test7, ds_est))**2\n",
    "plt.text(.67,.35,r'$R^2$ (test)='+str(r2)[:4])\n",
    "\n",
    "coef = np.polyfit(y_test7, ds_est,1)\n",
    "poly1d_fn = np.poly1d(coef) \n",
    "plt.plot(y_test7, poly1d_fn(y_test7), '-k')\n",
    "plt.text(.67,.3, r'Mean error: {}%'.format(str(np.mean(prc_err(y_test7,ds_est)))[:2]))\n",
    "plt.text(.67,.25, r'MSE: {}mm'.format(str(Smean[6])[:4]))\n",
    "\n",
    "ds_est2 = model7.predict(X_train7)\n",
    "plt.plot(y_train7, ds_est2, 'bp', alpha=0.5, label='Train data')\n",
    "\n",
    "plt.text(.67,.2, r'Overall mean error:', color='g')\n",
    "plt.text(.67,.15, r'{}%'.format(str(np.mean(prc_err(np.hstack((y_test7,y_train7)),np.hstack((ds_est,ds_est2)))))[:2]), color='g')\n",
    "\n",
    "plt.subplot(248)\n",
    "ds_est = model8.predict(X_test8)\n",
    "plt.plot(y_test8, ds_est, 'ko')\n",
    "# plt.xlim(0.1,1.1); plt.ylim(.1,1.1)\n",
    "yl=plt.ylim()\n",
    "plt.plot(yl,yl,'--r')\n",
    "plt.xlabel(r'Observed $D_{50}$ (mm)')\n",
    "# plt.ylabel(r'Estimated $D_{50}$ (mm)')\n",
    "plt.title(r\"h) f(β, $MSTR$, $T_p$, $H_s$)\", loc='left')\n",
    "r2 = np.min(np.corrcoef(y_test8, ds_est))**2\n",
    "plt.text(.67,.35,r'$R^2$ (test)='+str(r2)[:4])\n",
    "\n",
    "coef = np.polyfit(y_test8, ds_est,1)\n",
    "poly1d_fn = np.poly1d(coef) \n",
    "plt.plot(y_test8, poly1d_fn(y_test8), '-k')\n",
    "plt.text(.67,.3, r'Mean error: {}%'.format(str(np.mean(prc_err(y_test8,ds_est)))[:2]))\n",
    "plt.text(.67,.25, r'MSE: {}mm'.format(str(Smean[7])[:4]))\n",
    "\n",
    "ds_est2 = model8.predict(X_train8)\n",
    "plt.plot(y_train8, ds_est2, 'bp', alpha=0.5, label='Train data')\n",
    "\n",
    "plt.text(.67,.2, r'Overall mean error:', color='g')\n",
    "plt.text(.67,.15, r'{}%'.format(str(np.mean(prc_err(np.hstack((y_test8,y_train8)),np.hstack((ds_est,ds_est2)))))[:2]), color='g')\n",
    "#\n",
    "# plt.savefig('../model_plots/SCali_MB_plus_BF_d50-8models-skill.jpg', dpi=300, bbox_inches='tight')\n",
    "# plt.savefig('../model_plots/SCali_MB_plus_BF_d50-8models-skill-2022-08-31.jpg', dpi=300, bbox_inches='tight')\n",
    "plt.savefig('../model_plots/SCali_MB_plus_BF_d50-8models-skill-2022-9-3.jpg', dpi=300, bbox_inches='tight')\n"
   ]
  },
  {
   "cell_type": "code",
   "execution_count": null,
   "id": "563a8537",
   "metadata": {},
   "outputs": [],
   "source": []
  },
  {
   "cell_type": "code",
   "execution_count": null,
   "id": "f51ebee2",
   "metadata": {},
   "outputs": [],
   "source": []
  },
  {
   "cell_type": "markdown",
   "id": "e4883cec",
   "metadata": {},
   "source": [
    "### offshore only"
   ]
  },
  {
   "cell_type": "code",
   "execution_count": 125,
   "id": "90a68e4d",
   "metadata": {},
   "outputs": [],
   "source": [
    "# dfSCali = pd.read_csv('../../../orig_data/US_S_CA/SoCal_GrainSize_waves_slopes_tide_merged.csv')"
   ]
  },
  {
   "cell_type": "code",
   "execution_count": 87,
   "id": "7a1f5611",
   "metadata": {},
   "outputs": [],
   "source": [
    "# dfSCali = dfSCali[dfSCali['Grain_Size']<1.0] ## too few samples >1.0\n",
    "# dfSCali = dfSCali[dfSCali['Ele']=='O']\n",
    "# dfSCali = dfSCali.dropna()"
   ]
  },
  {
   "cell_type": "code",
   "execution_count": 88,
   "id": "4a6d8138",
   "metadata": {},
   "outputs": [],
   "source": [
    "# Smean = []\n",
    "# Sstd = []\n",
    "\n",
    "# test_size = 0.5\n",
    "\n",
    "# standardize = False"
   ]
  },
  {
   "cell_type": "code",
   "execution_count": 89,
   "id": "e1991e1a",
   "metadata": {},
   "outputs": [
    {
     "data": {
      "text/plain": [
       "358"
      ]
     },
     "execution_count": 89,
     "metadata": {},
     "output_type": "execute_result"
    }
   ],
   "source": [
    "# len(dfSCali)"
   ]
  },
  {
   "cell_type": "code",
   "execution_count": 90,
   "id": "06622b3d",
   "metadata": {},
   "outputs": [],
   "source": [
    "# rand = np.random.randn(len(dfSCali))\n",
    "# np.save('../model_out/SCali_randMB.npy', rand, allow_pickle=True)"
   ]
  },
  {
   "cell_type": "markdown",
   "id": "01c8098e",
   "metadata": {},
   "source": [
    "### model 1"
   ]
  },
  {
   "cell_type": "code",
   "execution_count": 99,
   "id": "bb3727ea",
   "metadata": {},
   "outputs": [
    {
     "name": "stdout",
     "output_type": "stream",
     "text": [
      "0.7083\n",
      "0.865\n",
      "Fitting 5 folds for each of 2880 candidates, totalling 14400 fits\n",
      "The mean squared error (MSE) on test set: 0.0049\n"
     ]
    }
   ],
   "source": [
    "# feature_names1 = ['β (radians)', 'Random\\n (non-dim.)']\n",
    "# X = np.stack((dfSCali['Beach face slope'], rand))\n",
    "# X.shape\n",
    "\n",
    "# if standardize:\n",
    "#     xscaler = preprocessing.StandardScaler().fit(X)\n",
    "#     X = xscaler.transform(X)\n",
    "#     print('Covariates standardized')\n",
    "\n",
    "# X_train1, X_test1, y_train1, y_test1 = train_test_split(\n",
    "#     X.T,dfSCali['Grain_Size'], test_size=test_size, random_state=42 ##\n",
    "# )\n",
    "\n",
    "# # X_train1, X_test1, y_train1, y_test1 = train_test_split(\n",
    "# #     X.T,y.ravel(), test_size=test_size, random_state=2022  ##dfEAus['d50']\n",
    "# # )\n",
    "\n",
    "# #unscale y - we balanced it to sample equally among grain size bins\n",
    "# # y_test1 = yscaler.inverse_transform(y_test1.reshape(-1, 1)).squeeze()\n",
    "# # y_train1 = yscaler.inverse_transform(y_train1.reshape(-1, 1)).squeeze()\n",
    "\n",
    "# print(y_test1.max())\n",
    "# print(y_train1.max())\n",
    "\n",
    "# # model1 = ensemble.GradientBoostingRegressor(**params)\n",
    "# gbr = ensemble.GradientBoostingRegressor()#**params)\n",
    "\n",
    "# model1 = GridSearchCV(gbr, parameters, n_jobs=-1, verbose=2)\n",
    "\n",
    "# model1.fit(X_train1, y_train1)\n",
    "\n",
    "# mse1 = mean_squared_error(y_test1, model1.predict(X_test1))\n",
    "# print(\"The mean squared error (MSE) on test set: {:.4f}\".format(mse1))"
   ]
  },
  {
   "cell_type": "code",
   "execution_count": 100,
   "id": "648efbcb",
   "metadata": {},
   "outputs": [
    {
     "name": "stdout",
     "output_type": "stream",
     "text": [
      "{'learning_rate': 0.01, 'loss': 'squared_error', 'max_depth': 3, 'min_samples_split': 3, 'n_estimators': 25, 'subsample': 1.0}\n"
     ]
    }
   ],
   "source": [
    "\n",
    "# print(model1.best_params_)\n",
    "# model1out = {}\n",
    "# model1out['feature_names'] = feature_names1\n",
    "# model1out['Xtest'] = X_test1\n",
    "# model1out['Xtrain'] = X_train1\n",
    "# model1out['ytest'] = y_test1\n",
    "# model1out['ytrain'] = y_train1\n",
    "# model1out['model'] = model1\n",
    "# model1out['mse'] = mse1\n",
    "# model1out['best_params'] = model1.best_params_"
   ]
  },
  {
   "cell_type": "code",
   "execution_count": null,
   "id": "587cb2ee",
   "metadata": {},
   "outputs": [],
   "source": [
    "# model1 = model1.best_estimator_\n",
    "\n",
    "# cv = RepeatedKFold(n_splits=10, n_repeats=5, random_state=2022)\n",
    "# # evaluate model\n",
    "# scores = cross_val_score(model1, X_test1, y_test1, scoring='neg_root_mean_squared_error', cv=cv, n_jobs=-1)\n",
    "\n",
    "# # force scores to be positive\n",
    "# scores = np.absolute(scores)\n",
    "# print('Mean RMSE: %.3f (%.3f)' % (scores.mean(), scores.std()) )\n",
    "\n",
    "# Smean.append(scores.mean())\n",
    "# Sstd.append(scores.std())"
   ]
  },
  {
   "cell_type": "markdown",
   "id": "316a6fed",
   "metadata": {},
   "source": [
    "### model 2"
   ]
  },
  {
   "cell_type": "code",
   "execution_count": 101,
   "id": "a264b0fd",
   "metadata": {},
   "outputs": [
    {
     "name": "stdout",
     "output_type": "stream",
     "text": [
      "Fitting 5 folds for each of 2880 candidates, totalling 14400 fits\n",
      "The mean squared error (MSE) on test set: 0.0048\n"
     ]
    }
   ],
   "source": [
    "# feature_names2 = [r'MSTR (m)', 'Random\\n (non-dim.)']\n",
    "# X = np.stack((dfSCali['TIDAL_RANGE'], rand))\n",
    "\n",
    "# X.shape\n",
    "\n",
    "# if standardize:\n",
    "#     xscaler = preprocessing.StandardScaler().fit(X)\n",
    "#     X = xscaler.transform(X)\n",
    "#     print('Covariates standardized')\n",
    "\n",
    "# X_train2, X_test2, y_train2, y_test2 = train_test_split(\n",
    "#     X.T, dfSCali['Grain_Size'], test_size=test_size, random_state=42\n",
    "# )\n",
    "\n",
    "# # model2 = ensemble.GradientBoostingRegressor(**params)\n",
    "# gbr = ensemble.GradientBoostingRegressor()#**params)\n",
    "\n",
    "# model2 = GridSearchCV(gbr, parameters, n_jobs=-1, verbose=2)\n",
    "# model2.fit(X_train2, y_train2)\n",
    "\n",
    "# mse2 = mean_squared_error(y_test2, model2.predict(X_test2))\n",
    "# print(\"The mean squared error (MSE) on test set: {:.4f}\".format(mse2))"
   ]
  },
  {
   "cell_type": "code",
   "execution_count": 102,
   "id": "8861792c",
   "metadata": {},
   "outputs": [
    {
     "name": "stdout",
     "output_type": "stream",
     "text": [
      "{'learning_rate': 0.05, 'loss': 'huber', 'max_depth': 9, 'min_samples_split': 7, 'n_estimators': 25, 'subsample': 0.5}\n"
     ]
    }
   ],
   "source": [
    "# print(model2.best_params_)\n",
    "# model2out = {}\n",
    "# model2out['feature_names'] = feature_names2\n",
    "# model2out['Xtest'] = X_test2\n",
    "# model2out['Xtrain'] = X_train2\n",
    "# model2out['ytest'] = y_test2\n",
    "# model2out['ytrain'] = y_train2\n",
    "# model2out['model'] = model2\n",
    "# model2out['mse'] = mse2\n",
    "# model2out['best_params'] = model2.best_params_"
   ]
  },
  {
   "cell_type": "code",
   "execution_count": 103,
   "id": "d5d9c8d2",
   "metadata": {},
   "outputs": [
    {
     "name": "stdout",
     "output_type": "stream",
     "text": [
      "Mean RMSE: 0.063 (0.026)\n"
     ]
    }
   ],
   "source": [
    "# model2 = model2.best_estimator_\n",
    "\n",
    "# cv = RepeatedKFold(n_splits=10, n_repeats=5, random_state=2022)\n",
    "# # evaluate model\n",
    "# scores = cross_val_score(model2, X_test2, y_test2, scoring='neg_root_mean_squared_error', cv=cv, n_jobs=-1)\n",
    "\n",
    "# # force scores to be positive\n",
    "# scores = np.absolute(scores)\n",
    "# print('Mean RMSE: %.3f (%.3f)' % (scores.mean(), scores.std()) )\n",
    "\n",
    "# Smean.append(scores.mean())\n",
    "# Sstd.append(scores.std())"
   ]
  },
  {
   "cell_type": "markdown",
   "id": "5d29329f",
   "metadata": {},
   "source": [
    "### model 3"
   ]
  },
  {
   "cell_type": "code",
   "execution_count": 118,
   "id": "f8ea1428",
   "metadata": {},
   "outputs": [
    {
     "name": "stdout",
     "output_type": "stream",
     "text": [
      "Fitting 5 folds for each of 2880 candidates, totalling 14400 fits\n"
     ]
    },
    {
     "ename": "KeyboardInterrupt",
     "evalue": "",
     "output_type": "error",
     "traceback": [
      "\u001b[1;31m---------------------------------------------------------------------------\u001b[0m",
      "\u001b[1;31mKeyboardInterrupt\u001b[0m                         Traceback (most recent call last)",
      "Input \u001b[1;32mIn [118]\u001b[0m, in \u001b[0;36m<cell line: 18>\u001b[1;34m()\u001b[0m\n\u001b[0;32m     15\u001b[0m gbr \u001b[38;5;241m=\u001b[39m ensemble\u001b[38;5;241m.\u001b[39mGradientBoostingRegressor()\u001b[38;5;66;03m#**params)\u001b[39;00m\n\u001b[0;32m     17\u001b[0m model3 \u001b[38;5;241m=\u001b[39m GridSearchCV(gbr, parameters, n_jobs\u001b[38;5;241m=\u001b[39m\u001b[38;5;241m-\u001b[39m\u001b[38;5;241m1\u001b[39m, verbose\u001b[38;5;241m=\u001b[39m\u001b[38;5;241m2\u001b[39m)\n\u001b[1;32m---> 18\u001b[0m \u001b[43mmodel3\u001b[49m\u001b[38;5;241;43m.\u001b[39;49m\u001b[43mfit\u001b[49m\u001b[43m(\u001b[49m\u001b[43mX_train3\u001b[49m\u001b[43m,\u001b[49m\u001b[43m \u001b[49m\u001b[43my_train3\u001b[49m\u001b[43m)\u001b[49m\n\u001b[0;32m     20\u001b[0m mse3 \u001b[38;5;241m=\u001b[39m mean_squared_error(y_test3, model3\u001b[38;5;241m.\u001b[39mpredict(X_test3))\n\u001b[0;32m     21\u001b[0m \u001b[38;5;28mprint\u001b[39m(\u001b[38;5;124m\"\u001b[39m\u001b[38;5;124mThe mean squared error (MSE) on test set: \u001b[39m\u001b[38;5;132;01m{:.4f}\u001b[39;00m\u001b[38;5;124m\"\u001b[39m\u001b[38;5;241m.\u001b[39mformat(mse3))\n",
      "File \u001b[1;32m~\\Anaconda3\\envs\\cgrasp\\lib\\site-packages\\sklearn\\model_selection\\_search.py:875\u001b[0m, in \u001b[0;36mBaseSearchCV.fit\u001b[1;34m(self, X, y, groups, **fit_params)\u001b[0m\n\u001b[0;32m    869\u001b[0m     results \u001b[38;5;241m=\u001b[39m \u001b[38;5;28mself\u001b[39m\u001b[38;5;241m.\u001b[39m_format_results(\n\u001b[0;32m    870\u001b[0m         all_candidate_params, n_splits, all_out, all_more_results\n\u001b[0;32m    871\u001b[0m     )\n\u001b[0;32m    873\u001b[0m     \u001b[38;5;28;01mreturn\u001b[39;00m results\n\u001b[1;32m--> 875\u001b[0m \u001b[38;5;28;43mself\u001b[39;49m\u001b[38;5;241;43m.\u001b[39;49m\u001b[43m_run_search\u001b[49m\u001b[43m(\u001b[49m\u001b[43mevaluate_candidates\u001b[49m\u001b[43m)\u001b[49m\n\u001b[0;32m    877\u001b[0m \u001b[38;5;66;03m# multimetric is determined here because in the case of a callable\u001b[39;00m\n\u001b[0;32m    878\u001b[0m \u001b[38;5;66;03m# self.scoring the return type is only known after calling\u001b[39;00m\n\u001b[0;32m    879\u001b[0m first_test_score \u001b[38;5;241m=\u001b[39m all_out[\u001b[38;5;241m0\u001b[39m][\u001b[38;5;124m\"\u001b[39m\u001b[38;5;124mtest_scores\u001b[39m\u001b[38;5;124m\"\u001b[39m]\n",
      "File \u001b[1;32m~\\Anaconda3\\envs\\cgrasp\\lib\\site-packages\\sklearn\\model_selection\\_search.py:1375\u001b[0m, in \u001b[0;36mGridSearchCV._run_search\u001b[1;34m(self, evaluate_candidates)\u001b[0m\n\u001b[0;32m   1373\u001b[0m \u001b[38;5;28;01mdef\u001b[39;00m \u001b[38;5;21m_run_search\u001b[39m(\u001b[38;5;28mself\u001b[39m, evaluate_candidates):\n\u001b[0;32m   1374\u001b[0m     \u001b[38;5;124;03m\"\"\"Search all candidates in param_grid\"\"\"\u001b[39;00m\n\u001b[1;32m-> 1375\u001b[0m     \u001b[43mevaluate_candidates\u001b[49m\u001b[43m(\u001b[49m\u001b[43mParameterGrid\u001b[49m\u001b[43m(\u001b[49m\u001b[38;5;28;43mself\u001b[39;49m\u001b[38;5;241;43m.\u001b[39;49m\u001b[43mparam_grid\u001b[49m\u001b[43m)\u001b[49m\u001b[43m)\u001b[49m\n",
      "File \u001b[1;32m~\\Anaconda3\\envs\\cgrasp\\lib\\site-packages\\sklearn\\model_selection\\_search.py:822\u001b[0m, in \u001b[0;36mBaseSearchCV.fit.<locals>.evaluate_candidates\u001b[1;34m(candidate_params, cv, more_results)\u001b[0m\n\u001b[0;32m    814\u001b[0m \u001b[38;5;28;01mif\u001b[39;00m \u001b[38;5;28mself\u001b[39m\u001b[38;5;241m.\u001b[39mverbose \u001b[38;5;241m>\u001b[39m \u001b[38;5;241m0\u001b[39m:\n\u001b[0;32m    815\u001b[0m     \u001b[38;5;28mprint\u001b[39m(\n\u001b[0;32m    816\u001b[0m         \u001b[38;5;124m\"\u001b[39m\u001b[38;5;124mFitting \u001b[39m\u001b[38;5;132;01m{0}\u001b[39;00m\u001b[38;5;124m folds for each of \u001b[39m\u001b[38;5;132;01m{1}\u001b[39;00m\u001b[38;5;124m candidates,\u001b[39m\u001b[38;5;124m\"\u001b[39m\n\u001b[0;32m    817\u001b[0m         \u001b[38;5;124m\"\u001b[39m\u001b[38;5;124m totalling \u001b[39m\u001b[38;5;132;01m{2}\u001b[39;00m\u001b[38;5;124m fits\u001b[39m\u001b[38;5;124m\"\u001b[39m\u001b[38;5;241m.\u001b[39mformat(\n\u001b[0;32m    818\u001b[0m             n_splits, n_candidates, n_candidates \u001b[38;5;241m*\u001b[39m n_splits\n\u001b[0;32m    819\u001b[0m         )\n\u001b[0;32m    820\u001b[0m     )\n\u001b[1;32m--> 822\u001b[0m out \u001b[38;5;241m=\u001b[39m \u001b[43mparallel\u001b[49m\u001b[43m(\u001b[49m\n\u001b[0;32m    823\u001b[0m \u001b[43m    \u001b[49m\u001b[43mdelayed\u001b[49m\u001b[43m(\u001b[49m\u001b[43m_fit_and_score\u001b[49m\u001b[43m)\u001b[49m\u001b[43m(\u001b[49m\n\u001b[0;32m    824\u001b[0m \u001b[43m        \u001b[49m\u001b[43mclone\u001b[49m\u001b[43m(\u001b[49m\u001b[43mbase_estimator\u001b[49m\u001b[43m)\u001b[49m\u001b[43m,\u001b[49m\n\u001b[0;32m    825\u001b[0m \u001b[43m        \u001b[49m\u001b[43mX\u001b[49m\u001b[43m,\u001b[49m\n\u001b[0;32m    826\u001b[0m \u001b[43m        \u001b[49m\u001b[43my\u001b[49m\u001b[43m,\u001b[49m\n\u001b[0;32m    827\u001b[0m \u001b[43m        \u001b[49m\u001b[43mtrain\u001b[49m\u001b[38;5;241;43m=\u001b[39;49m\u001b[43mtrain\u001b[49m\u001b[43m,\u001b[49m\n\u001b[0;32m    828\u001b[0m \u001b[43m        \u001b[49m\u001b[43mtest\u001b[49m\u001b[38;5;241;43m=\u001b[39;49m\u001b[43mtest\u001b[49m\u001b[43m,\u001b[49m\n\u001b[0;32m    829\u001b[0m \u001b[43m        \u001b[49m\u001b[43mparameters\u001b[49m\u001b[38;5;241;43m=\u001b[39;49m\u001b[43mparameters\u001b[49m\u001b[43m,\u001b[49m\n\u001b[0;32m    830\u001b[0m \u001b[43m        \u001b[49m\u001b[43msplit_progress\u001b[49m\u001b[38;5;241;43m=\u001b[39;49m\u001b[43m(\u001b[49m\u001b[43msplit_idx\u001b[49m\u001b[43m,\u001b[49m\u001b[43m \u001b[49m\u001b[43mn_splits\u001b[49m\u001b[43m)\u001b[49m\u001b[43m,\u001b[49m\n\u001b[0;32m    831\u001b[0m \u001b[43m        \u001b[49m\u001b[43mcandidate_progress\u001b[49m\u001b[38;5;241;43m=\u001b[39;49m\u001b[43m(\u001b[49m\u001b[43mcand_idx\u001b[49m\u001b[43m,\u001b[49m\u001b[43m \u001b[49m\u001b[43mn_candidates\u001b[49m\u001b[43m)\u001b[49m\u001b[43m,\u001b[49m\n\u001b[0;32m    832\u001b[0m \u001b[43m        \u001b[49m\u001b[38;5;241;43m*\u001b[39;49m\u001b[38;5;241;43m*\u001b[39;49m\u001b[43mfit_and_score_kwargs\u001b[49m\u001b[43m,\u001b[49m\n\u001b[0;32m    833\u001b[0m \u001b[43m    \u001b[49m\u001b[43m)\u001b[49m\n\u001b[0;32m    834\u001b[0m \u001b[43m    \u001b[49m\u001b[38;5;28;43;01mfor\u001b[39;49;00m\u001b[43m \u001b[49m\u001b[43m(\u001b[49m\u001b[43mcand_idx\u001b[49m\u001b[43m,\u001b[49m\u001b[43m \u001b[49m\u001b[43mparameters\u001b[49m\u001b[43m)\u001b[49m\u001b[43m,\u001b[49m\u001b[43m \u001b[49m\u001b[43m(\u001b[49m\u001b[43msplit_idx\u001b[49m\u001b[43m,\u001b[49m\u001b[43m \u001b[49m\u001b[43m(\u001b[49m\u001b[43mtrain\u001b[49m\u001b[43m,\u001b[49m\u001b[43m \u001b[49m\u001b[43mtest\u001b[49m\u001b[43m)\u001b[49m\u001b[43m)\u001b[49m\u001b[43m \u001b[49m\u001b[38;5;129;43;01min\u001b[39;49;00m\u001b[43m \u001b[49m\u001b[43mproduct\u001b[49m\u001b[43m(\u001b[49m\n\u001b[0;32m    835\u001b[0m \u001b[43m        \u001b[49m\u001b[38;5;28;43menumerate\u001b[39;49m\u001b[43m(\u001b[49m\u001b[43mcandidate_params\u001b[49m\u001b[43m)\u001b[49m\u001b[43m,\u001b[49m\u001b[43m \u001b[49m\u001b[38;5;28;43menumerate\u001b[39;49m\u001b[43m(\u001b[49m\u001b[43mcv\u001b[49m\u001b[38;5;241;43m.\u001b[39;49m\u001b[43msplit\u001b[49m\u001b[43m(\u001b[49m\u001b[43mX\u001b[49m\u001b[43m,\u001b[49m\u001b[43m \u001b[49m\u001b[43my\u001b[49m\u001b[43m,\u001b[49m\u001b[43m \u001b[49m\u001b[43mgroups\u001b[49m\u001b[43m)\u001b[49m\u001b[43m)\u001b[49m\n\u001b[0;32m    836\u001b[0m \u001b[43m    \u001b[49m\u001b[43m)\u001b[49m\n\u001b[0;32m    837\u001b[0m \u001b[43m\u001b[49m\u001b[43m)\u001b[49m\n\u001b[0;32m    839\u001b[0m \u001b[38;5;28;01mif\u001b[39;00m \u001b[38;5;28mlen\u001b[39m(out) \u001b[38;5;241m<\u001b[39m \u001b[38;5;241m1\u001b[39m:\n\u001b[0;32m    840\u001b[0m     \u001b[38;5;28;01mraise\u001b[39;00m \u001b[38;5;167;01mValueError\u001b[39;00m(\n\u001b[0;32m    841\u001b[0m         \u001b[38;5;124m\"\u001b[39m\u001b[38;5;124mNo fits were performed. \u001b[39m\u001b[38;5;124m\"\u001b[39m\n\u001b[0;32m    842\u001b[0m         \u001b[38;5;124m\"\u001b[39m\u001b[38;5;124mWas the CV iterator empty? \u001b[39m\u001b[38;5;124m\"\u001b[39m\n\u001b[0;32m    843\u001b[0m         \u001b[38;5;124m\"\u001b[39m\u001b[38;5;124mWere there no candidates?\u001b[39m\u001b[38;5;124m\"\u001b[39m\n\u001b[0;32m    844\u001b[0m     )\n",
      "File \u001b[1;32m~\\Anaconda3\\envs\\cgrasp\\lib\\site-packages\\joblib\\parallel.py:1056\u001b[0m, in \u001b[0;36mParallel.__call__\u001b[1;34m(self, iterable)\u001b[0m\n\u001b[0;32m   1053\u001b[0m     \u001b[38;5;28mself\u001b[39m\u001b[38;5;241m.\u001b[39m_iterating \u001b[38;5;241m=\u001b[39m \u001b[38;5;28;01mFalse\u001b[39;00m\n\u001b[0;32m   1055\u001b[0m \u001b[38;5;28;01mwith\u001b[39;00m \u001b[38;5;28mself\u001b[39m\u001b[38;5;241m.\u001b[39m_backend\u001b[38;5;241m.\u001b[39mretrieval_context():\n\u001b[1;32m-> 1056\u001b[0m     \u001b[38;5;28;43mself\u001b[39;49m\u001b[38;5;241;43m.\u001b[39;49m\u001b[43mretrieve\u001b[49m\u001b[43m(\u001b[49m\u001b[43m)\u001b[49m\n\u001b[0;32m   1057\u001b[0m \u001b[38;5;66;03m# Make sure that we get a last message telling us we are done\u001b[39;00m\n\u001b[0;32m   1058\u001b[0m elapsed_time \u001b[38;5;241m=\u001b[39m time\u001b[38;5;241m.\u001b[39mtime() \u001b[38;5;241m-\u001b[39m \u001b[38;5;28mself\u001b[39m\u001b[38;5;241m.\u001b[39m_start_time\n",
      "File \u001b[1;32m~\\Anaconda3\\envs\\cgrasp\\lib\\site-packages\\joblib\\parallel.py:935\u001b[0m, in \u001b[0;36mParallel.retrieve\u001b[1;34m(self)\u001b[0m\n\u001b[0;32m    933\u001b[0m \u001b[38;5;28;01mtry\u001b[39;00m:\n\u001b[0;32m    934\u001b[0m     \u001b[38;5;28;01mif\u001b[39;00m \u001b[38;5;28mgetattr\u001b[39m(\u001b[38;5;28mself\u001b[39m\u001b[38;5;241m.\u001b[39m_backend, \u001b[38;5;124m'\u001b[39m\u001b[38;5;124msupports_timeout\u001b[39m\u001b[38;5;124m'\u001b[39m, \u001b[38;5;28;01mFalse\u001b[39;00m):\n\u001b[1;32m--> 935\u001b[0m         \u001b[38;5;28mself\u001b[39m\u001b[38;5;241m.\u001b[39m_output\u001b[38;5;241m.\u001b[39mextend(\u001b[43mjob\u001b[49m\u001b[38;5;241;43m.\u001b[39;49m\u001b[43mget\u001b[49m\u001b[43m(\u001b[49m\u001b[43mtimeout\u001b[49m\u001b[38;5;241;43m=\u001b[39;49m\u001b[38;5;28;43mself\u001b[39;49m\u001b[38;5;241;43m.\u001b[39;49m\u001b[43mtimeout\u001b[49m\u001b[43m)\u001b[49m)\n\u001b[0;32m    936\u001b[0m     \u001b[38;5;28;01melse\u001b[39;00m:\n\u001b[0;32m    937\u001b[0m         \u001b[38;5;28mself\u001b[39m\u001b[38;5;241m.\u001b[39m_output\u001b[38;5;241m.\u001b[39mextend(job\u001b[38;5;241m.\u001b[39mget())\n",
      "File \u001b[1;32m~\\Anaconda3\\envs\\cgrasp\\lib\\site-packages\\joblib\\_parallel_backends.py:542\u001b[0m, in \u001b[0;36mLokyBackend.wrap_future_result\u001b[1;34m(future, timeout)\u001b[0m\n\u001b[0;32m    539\u001b[0m \u001b[38;5;124;03m\"\"\"Wrapper for Future.result to implement the same behaviour as\u001b[39;00m\n\u001b[0;32m    540\u001b[0m \u001b[38;5;124;03mAsyncResults.get from multiprocessing.\"\"\"\u001b[39;00m\n\u001b[0;32m    541\u001b[0m \u001b[38;5;28;01mtry\u001b[39;00m:\n\u001b[1;32m--> 542\u001b[0m     \u001b[38;5;28;01mreturn\u001b[39;00m \u001b[43mfuture\u001b[49m\u001b[38;5;241;43m.\u001b[39;49m\u001b[43mresult\u001b[49m\u001b[43m(\u001b[49m\u001b[43mtimeout\u001b[49m\u001b[38;5;241;43m=\u001b[39;49m\u001b[43mtimeout\u001b[49m\u001b[43m)\u001b[49m\n\u001b[0;32m    543\u001b[0m \u001b[38;5;28;01mexcept\u001b[39;00m CfTimeoutError \u001b[38;5;28;01mas\u001b[39;00m e:\n\u001b[0;32m    544\u001b[0m     \u001b[38;5;28;01mraise\u001b[39;00m \u001b[38;5;167;01mTimeoutError\u001b[39;00m \u001b[38;5;28;01mfrom\u001b[39;00m \u001b[38;5;21;01me\u001b[39;00m\n",
      "File \u001b[1;32m~\\Anaconda3\\envs\\cgrasp\\lib\\concurrent\\futures\\_base.py:441\u001b[0m, in \u001b[0;36mFuture.result\u001b[1;34m(self, timeout)\u001b[0m\n\u001b[0;32m    438\u001b[0m \u001b[38;5;28;01melif\u001b[39;00m \u001b[38;5;28mself\u001b[39m\u001b[38;5;241m.\u001b[39m_state \u001b[38;5;241m==\u001b[39m FINISHED:\n\u001b[0;32m    439\u001b[0m     \u001b[38;5;28;01mreturn\u001b[39;00m \u001b[38;5;28mself\u001b[39m\u001b[38;5;241m.\u001b[39m__get_result()\n\u001b[1;32m--> 441\u001b[0m \u001b[38;5;28;43mself\u001b[39;49m\u001b[38;5;241;43m.\u001b[39;49m\u001b[43m_condition\u001b[49m\u001b[38;5;241;43m.\u001b[39;49m\u001b[43mwait\u001b[49m\u001b[43m(\u001b[49m\u001b[43mtimeout\u001b[49m\u001b[43m)\u001b[49m\n\u001b[0;32m    443\u001b[0m \u001b[38;5;28;01mif\u001b[39;00m \u001b[38;5;28mself\u001b[39m\u001b[38;5;241m.\u001b[39m_state \u001b[38;5;129;01min\u001b[39;00m [CANCELLED, CANCELLED_AND_NOTIFIED]:\n\u001b[0;32m    444\u001b[0m     \u001b[38;5;28;01mraise\u001b[39;00m CancelledError()\n",
      "File \u001b[1;32m~\\Anaconda3\\envs\\cgrasp\\lib\\threading.py:320\u001b[0m, in \u001b[0;36mCondition.wait\u001b[1;34m(self, timeout)\u001b[0m\n\u001b[0;32m    318\u001b[0m \u001b[38;5;28;01mtry\u001b[39;00m:    \u001b[38;5;66;03m# restore state no matter what (e.g., KeyboardInterrupt)\u001b[39;00m\n\u001b[0;32m    319\u001b[0m     \u001b[38;5;28;01mif\u001b[39;00m timeout \u001b[38;5;129;01mis\u001b[39;00m \u001b[38;5;28;01mNone\u001b[39;00m:\n\u001b[1;32m--> 320\u001b[0m         \u001b[43mwaiter\u001b[49m\u001b[38;5;241;43m.\u001b[39;49m\u001b[43macquire\u001b[49m\u001b[43m(\u001b[49m\u001b[43m)\u001b[49m\n\u001b[0;32m    321\u001b[0m         gotit \u001b[38;5;241m=\u001b[39m \u001b[38;5;28;01mTrue\u001b[39;00m\n\u001b[0;32m    322\u001b[0m     \u001b[38;5;28;01melse\u001b[39;00m:\n",
      "\u001b[1;31mKeyboardInterrupt\u001b[0m: "
     ]
    }
   ],
   "source": [
    "# feature_names3 = ['β (radians)','MSTR (m)', 'Random\\n (non-dim.)']\n",
    "# X = np.stack((dfSCali['Beach face slope'], dfSCali['TIDAL_RANGE'], rand))\n",
    "# X.shape\n",
    "\n",
    "# if standardize:\n",
    "#     xscaler = preprocessing.StandardScaler().fit(X)\n",
    "#     X = xscaler.transform(X)\n",
    "#     print('Covariates standardized')\n",
    "\n",
    "# X_train3, X_test3, y_train3, y_test3 = train_test_split(\n",
    "#     X.T, dfSCali['Grain_Size'], test_size=test_size, random_state=2022\n",
    "# )\n",
    "\n",
    "# # model3 = ensemble.GradientBoostingRegressor(**params)\n",
    "# gbr = ensemble.GradientBoostingRegressor()#**params)\n",
    "\n",
    "# model3 = GridSearchCV(gbr, parameters, n_jobs=-1, verbose=2)\n",
    "# model3.fit(X_train3, y_train3)\n",
    "\n",
    "# mse3 = mean_squared_error(y_test3, model3.predict(X_test3))\n",
    "# print(\"The mean squared error (MSE) on test set: {:.4f}\".format(mse3))"
   ]
  },
  {
   "cell_type": "code",
   "execution_count": null,
   "id": "9cda6b80",
   "metadata": {},
   "outputs": [],
   "source": []
  },
  {
   "cell_type": "code",
   "execution_count": null,
   "id": "6db398e6",
   "metadata": {},
   "outputs": [],
   "source": []
  },
  {
   "cell_type": "code",
   "execution_count": null,
   "id": "f003d313",
   "metadata": {},
   "outputs": [],
   "source": []
  },
  {
   "cell_type": "code",
   "execution_count": null,
   "id": "0f594665",
   "metadata": {},
   "outputs": [],
   "source": []
  },
  {
   "cell_type": "code",
   "execution_count": null,
   "id": "ea15de54",
   "metadata": {},
   "outputs": [],
   "source": []
  },
  {
   "cell_type": "code",
   "execution_count": null,
   "id": "db1eabc3",
   "metadata": {},
   "outputs": [],
   "source": []
  },
  {
   "cell_type": "code",
   "execution_count": null,
   "id": "87fa19af",
   "metadata": {},
   "outputs": [],
   "source": []
  },
  {
   "cell_type": "code",
   "execution_count": null,
   "id": "fc20bd8a",
   "metadata": {},
   "outputs": [],
   "source": []
  }
 ],
 "metadata": {
  "kernelspec": {
   "display_name": "Python 3 (ipykernel)",
   "language": "python",
   "name": "python3"
  },
  "language_info": {
   "codemirror_mode": {
    "name": "ipython",
    "version": 3
   },
   "file_extension": ".py",
   "mimetype": "text/x-python",
   "name": "python",
   "nbconvert_exporter": "python",
   "pygments_lexer": "ipython3",
   "version": "3.10.4"
  }
 },
 "nbformat": 4,
 "nbformat_minor": 5
}
