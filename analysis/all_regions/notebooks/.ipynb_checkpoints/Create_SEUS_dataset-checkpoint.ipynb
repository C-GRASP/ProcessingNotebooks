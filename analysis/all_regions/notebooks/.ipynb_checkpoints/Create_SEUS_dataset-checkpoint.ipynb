{
 "cells": [
  {
   "cell_type": "markdown",
   "id": "37c4bda3",
   "metadata": {},
   "source": [
    "## Create ML-ready dataset for a Regional Grain Size Model\n",
    "\n",
    "* Dan Buscombe \n",
    "* Will Speiser\n",
    "\n",
    "3/24/22 - May 2022"
   ]
  },
  {
   "cell_type": "code",
   "execution_count": 1,
   "id": "351f1d35",
   "metadata": {},
   "outputs": [],
   "source": [
    "import pandas as pd\n",
    "import matplotlib.pyplot as plt\n",
    "import numpy as np\n",
    "# import folium\n",
    "import io\n",
    "from PIL import Image\n",
    "import os, time\n",
    "# from selenium import webdriver\n",
    "# import geocoder\n",
    "from tqdm import tqdm\n",
    "import geopandas as gpd\n",
    "# import pygeos"
   ]
  },
  {
   "cell_type": "markdown",
   "id": "e0b9b971",
   "metadata": {},
   "source": [
    "#### data processing choices"
   ]
  },
  {
   "cell_type": "markdown",
   "id": "2768aa11",
   "metadata": {},
   "source": [
    "This number has to factor in very large errors in some g-s position data"
   ]
  },
  {
   "cell_type": "code",
   "execution_count": 216,
   "id": "12797523",
   "metadata": {},
   "outputs": [],
   "source": [
    "# join_dist=.0005\n",
    "# join_dist=.001\n",
    "# join_dist=.0015\n",
    "# join_dist=.003\n",
    "join_dist=.004"
   ]
  },
  {
   "cell_type": "code",
   "execution_count": 217,
   "id": "5e8fa525",
   "metadata": {},
   "outputs": [],
   "source": [
    "# choice = 'beach'\n",
    "choice = 'transects'"
   ]
  },
  {
   "cell_type": "code",
   "execution_count": 218,
   "id": "ed2efa03",
   "metadata": {},
   "outputs": [],
   "source": [
    "merge = 'right'\n",
    "# merge = 'left'"
   ]
  },
  {
   "cell_type": "markdown",
   "id": "8180e896",
   "metadata": {},
   "source": [
    "#### read gs data "
   ]
  },
  {
   "cell_type": "code",
   "execution_count": 410,
   "id": "2ecbaba1",
   "metadata": {},
   "outputs": [],
   "source": [
    "# dataset = 'Data_Post2012_VerifiedOnshore'\n",
    "dataset = 'Data_VerifiedOnshore'"
   ]
  },
  {
   "cell_type": "code",
   "execution_count": 411,
   "id": "0a0a159e",
   "metadata": {},
   "outputs": [],
   "source": [
    "dataset2 = 'sed_data_wrangle_final'"
   ]
  },
  {
   "cell_type": "code",
   "execution_count": 412,
   "id": "7796f72c",
   "metadata": {},
   "outputs": [],
   "source": [
    "path='../../../orig_data/US_SAtlantic/CGRASP/'"
   ]
  },
  {
   "cell_type": "code",
   "execution_count": 415,
   "id": "f4ca6534",
   "metadata": {},
   "outputs": [],
   "source": [
    "cgrasp_dat = pd.read_csv(path+'/'+dataset+'.csv')\n",
    "sand = cgrasp_dat[cgrasp_dat['d50']<2]\n"
   ]
  },
  {
   "cell_type": "code",
   "execution_count": 416,
   "id": "086721a1",
   "metadata": {},
   "outputs": [
    {
     "data": {
      "text/plain": [
       "array(['BOEM', 'C_Alexander', 'SusanBell_UniversitySouthernFlorida',\n",
       "       'UMASS', 'USGS East Coast Sediment Texture Database', 'bicms',\n",
       "       'mcfall_via_weigl', 'rossi', 'sandsnap'], dtype=object)"
      ]
     },
     "execution_count": 416,
     "metadata": {},
     "output_type": "execute_result"
    }
   ],
   "source": [
    "np.unique(cgrasp_dat['dataset'])"
   ]
  },
  {
   "cell_type": "code",
   "execution_count": 417,
   "id": "bdd26e7b",
   "metadata": {},
   "outputs": [],
   "source": [
    "cgrasp_dat = cgrasp_dat[cgrasp_dat['dataset']!='mcfall_via_weigl']"
   ]
  },
  {
   "cell_type": "code",
   "execution_count": 418,
   "id": "38217dd0",
   "metadata": {},
   "outputs": [
    {
     "data": {
      "text/plain": [
       "array(['BOEM', 'C_Alexander', 'SusanBell_UniversitySouthernFlorida',\n",
       "       'UMASS', 'USGS East Coast Sediment Texture Database', 'bicms',\n",
       "       'rossi', 'sandsnap'], dtype=object)"
      ]
     },
     "execution_count": 418,
     "metadata": {},
     "output_type": "execute_result"
    }
   ],
   "source": [
    "np.unique(cgrasp_dat['dataset'])"
   ]
  },
  {
   "cell_type": "code",
   "execution_count": 419,
   "id": "ad9010c6",
   "metadata": {},
   "outputs": [],
   "source": [
    "# len(sand)"
   ]
  },
  {
   "cell_type": "code",
   "execution_count": 420,
   "id": "be2bd21a",
   "metadata": {},
   "outputs": [],
   "source": [
    "cgrasp_dat2 = pd.read_csv(path+'/'+dataset2+'.csv')\n",
    "sand2 = cgrasp_dat2[cgrasp_dat2['d50']<2]"
   ]
  },
  {
   "cell_type": "code",
   "execution_count": 421,
   "id": "d0df0644",
   "metadata": {},
   "outputs": [],
   "source": [
    "# len(sand2)"
   ]
  },
  {
   "cell_type": "code",
   "execution_count": 422,
   "id": "13569081",
   "metadata": {},
   "outputs": [],
   "source": [
    "merged_sand = pd.concat([sand, sand2])"
   ]
  },
  {
   "cell_type": "code",
   "execution_count": 423,
   "id": "5c9364f9",
   "metadata": {},
   "outputs": [],
   "source": [
    "merged_sand = merged_sand[merged_sand['d50']>.063]"
   ]
  },
  {
   "cell_type": "code",
   "execution_count": 424,
   "id": "3905cd2f",
   "metadata": {},
   "outputs": [
    {
     "data": {
      "text/plain": [
       "1.92916893"
      ]
     },
     "execution_count": 424,
     "metadata": {},
     "output_type": "execute_result"
    }
   ],
   "source": [
    "merged_sand['d50'].max()"
   ]
  },
  {
   "cell_type": "code",
   "execution_count": 425,
   "id": "c9dd1fa4",
   "metadata": {},
   "outputs": [
    {
     "data": {
      "text/plain": [
       "0.066067513"
      ]
     },
     "execution_count": 425,
     "metadata": {},
     "output_type": "execute_result"
    }
   ],
   "source": [
    "merged_sand['d50'].min()"
   ]
  },
  {
   "cell_type": "code",
   "execution_count": 426,
   "id": "3206a6a6",
   "metadata": {},
   "outputs": [],
   "source": [
    "# gdf_sand = gpd.GeoDataFrame(\n",
    "#     sand, geometry=gpd.points_from_xy(sand.longitude, sand.latitude))\n",
    "\n",
    "gdf_merged_sand = gpd.GeoDataFrame(\n",
    "    merged_sand, geometry=gpd.points_from_xy(merged_sand.longitude, merged_sand.latitude))"
   ]
  },
  {
   "cell_type": "code",
   "execution_count": 427,
   "id": "d5401d4c",
   "metadata": {},
   "outputs": [
    {
     "data": {
      "text/plain": [
       "4242"
      ]
     },
     "execution_count": 427,
     "metadata": {},
     "output_type": "execute_result"
    }
   ],
   "source": [
    "# len(gdf_sand)\n",
    "len(gdf_merged_sand)"
   ]
  },
  {
   "cell_type": "code",
   "execution_count": 428,
   "id": "63ba701d",
   "metadata": {},
   "outputs": [
    {
     "name": "stderr",
     "output_type": "stream",
     "text": [
      "C:\\Users\\dbuscombe\\AppData\\Local\\Temp\\6\\ipykernel_15072\\1144441917.py:1: SettingWithCopyWarning: \n",
      "A value is trying to be set on a copy of a slice from a DataFrame\n",
      "\n",
      "See the caveats in the documentation: https://pandas.pydata.org/pandas-docs/stable/user_guide/indexing.html#returning-a-view-versus-a-copy\n",
      "  gdf_merged_sand['dataset'][gdf_merged_sand['dataset']=='sandsnap']='McFall, 2022'\n"
     ]
    }
   ],
   "source": [
    "gdf_merged_sand['dataset'][gdf_merged_sand['dataset']=='sandsnap']='McFall, 2022'"
   ]
  },
  {
   "cell_type": "code",
   "execution_count": 429,
   "id": "c7178e6b",
   "metadata": {},
   "outputs": [],
   "source": [
    "gdf_merged_sand = gdf_merged_sand[gdf_merged_sand['dataset']!='UMASS']"
   ]
  },
  {
   "cell_type": "code",
   "execution_count": 439,
   "id": "b779fc35",
   "metadata": {},
   "outputs": [
    {
     "data": {
      "text/plain": [
       "array(['BOEM', 'Briggs (2022)', 'C_Alexander', 'Fenster et al (2016)',\n",
       "       'McFall, 2022', 'SusanBell_UniversitySouthernFlorida',\n",
       "       'USGS East Coast Sediment Texture Database', 'bicms', 'rossi'],\n",
       "      dtype=object)"
      ]
     },
     "execution_count": 439,
     "metadata": {},
     "output_type": "execute_result"
    }
   ],
   "source": [
    "np.unique(gdf_merged_sand['dataset'])"
   ]
  },
  {
   "cell_type": "code",
   "execution_count": 440,
   "id": "2f164f40",
   "metadata": {},
   "outputs": [
    {
     "data": {
      "text/plain": [
       "3350"
      ]
     },
     "execution_count": 440,
     "metadata": {},
     "output_type": "execute_result"
    }
   ],
   "source": [
    "len(gdf_merged_sand)"
   ]
  },
  {
   "cell_type": "code",
   "execution_count": 441,
   "id": "c89bf3d4",
   "metadata": {},
   "outputs": [],
   "source": [
    "# 'SusanBell_UniversitySouthernFlorida'"
   ]
  },
  {
   "cell_type": "markdown",
   "id": "35285cf3",
   "metadata": {},
   "source": [
    "#### read slope data "
   ]
  },
  {
   "cell_type": "code",
   "execution_count": 433,
   "id": "fde8c6a4",
   "metadata": {},
   "outputs": [],
   "source": [
    "# slopes_t = pd.DataFrame(gpd.read_file('../../../orig_data/US_SAtlantic/beach_slopes/US_East_coast_slopes_by_transect.geojson'))\n",
    "# slopes_b = pd.DataFrame(gpd.read_file('../../../orig_data/US_SAtlantic/beach_slopes/US_East_coast_slopes_by_beach.geojson'))\n",
    "\n",
    "slopes_t = pd.DataFrame(gpd.read_file('../../../orig_data/US_SAtlantic/beach_slopes/US_East_coast_slopes_by_transect_v3.geojson'))\n",
    "slopes_b = pd.DataFrame(gpd.read_file('../../../orig_data/US_SAtlantic/beach_slopes/US_East_coast_slopes_by_beach_v3.geojson'))\n"
   ]
  },
  {
   "cell_type": "code",
   "execution_count": 434,
   "id": "4794bddb",
   "metadata": {},
   "outputs": [
    {
     "data": {
      "text/plain": [
       "34067"
      ]
     },
     "execution_count": 434,
     "metadata": {},
     "output_type": "execute_result"
    }
   ],
   "source": [
    "len(slopes_t)"
   ]
  },
  {
   "cell_type": "code",
   "execution_count": 435,
   "id": "8ef6394f",
   "metadata": {},
   "outputs": [],
   "source": [
    "slopes_t['points'] = slopes_t.apply(lambda x: [y for y in x['geometry'].coords], axis=1)\n",
    "latlon = np.vstack([np.mean(s,axis=0) for s in slopes_t.points.values])\n",
    "\n",
    "slopes_t.insert(2, \"longitude\", latlon[:,0], True)\n",
    "slopes_t.insert(3, \"latitude\", latlon[:,1], True)"
   ]
  },
  {
   "cell_type": "code",
   "execution_count": null,
   "id": "8efbae1c",
   "metadata": {},
   "outputs": [],
   "source": []
  },
  {
   "cell_type": "code",
   "execution_count": 436,
   "id": "e46ef378",
   "metadata": {},
   "outputs": [],
   "source": [
    "slopes_b['points'] = slopes_b.apply(lambda x: [y for y in x['geometry'].coords], axis=1)\n",
    "latlon = np.vstack([np.mean(s,axis=0) for s in slopes_b.points.values])\n",
    "\n",
    "slopes_b.insert(2, \"longitude\", latlon[:,0], True)\n",
    "slopes_b.insert(3, \"latitude\", latlon[:,1], True)"
   ]
  },
  {
   "cell_type": "code",
   "execution_count": 437,
   "id": "f5f3381c",
   "metadata": {},
   "outputs": [
    {
     "data": {
      "text/plain": [
       "Index(['id', 'beach_slope_weighted_average', 'longitude', 'latitude',\n",
       "       'width_ci_average', 'quality_flag', 'beach_slope_average',\n",
       "       'beach_slope_median', 'sl_points_average', 'mstr', 'prc_mstr_obs',\n",
       "       'min_tide_obs', 'max_tide_obs', 'easting', 'northing', 'geometry',\n",
       "       'points'],\n",
       "      dtype='object')"
      ]
     },
     "execution_count": 437,
     "metadata": {},
     "output_type": "execute_result"
    }
   ],
   "source": [
    "slopes_b.keys()"
   ]
  },
  {
   "cell_type": "code",
   "execution_count": 438,
   "id": "e101a637",
   "metadata": {},
   "outputs": [
    {
     "data": {
      "text/plain": [
       "[<matplotlib.lines.Line2D at 0x28fee88af50>]"
      ]
     },
     "execution_count": 438,
     "metadata": {},
     "output_type": "execute_result"
    },
    {
     "data": {
      "image/png": "[encoded data removed]",
      "text/plain": [
       "<Figure size 864x864 with 1 Axes>"
      ]
     },
     "metadata": {
      "needs_background": "light"
     },
     "output_type": "display_data"
    }
   ],
   "source": [
    "X = np.vstack((slopes_b['mstr'],slopes_b['beach_slope_average']))\n",
    "\n",
    "X = X[:,~np.isnan(X).any(axis=0)]\n",
    "\n",
    "plt.figure(figsize=(12,12))\n",
    "plt.subplot(221)\n",
    "plt.plot(X[0,:],X[1,:], 'r.')\n",
    "\n",
    "ind = np.where(X[0,:]>=1)[0]\n",
    "X = X[:,ind]\n",
    "\n",
    "X.shape\n",
    "plt.plot(X[0,:],X[1,:], 'ko')\n",
    "\n",
    "plt.ylabel(r'tan β')\n",
    "plt.xlabel(r'MSTR')\n",
    "plt.title(r\"a)\", loc='left')\n",
    "r2 = np.min(np.corrcoef(X[0,:],X[1,:]))**2\n",
    "plt.text(2,.1,r'$R^2$='+str(r2)[:4])\n",
    "\n",
    "coef = np.polyfit(X[0,:],X[1,:],1)\n",
    "poly1d_fn = np.poly1d(coef) \n",
    "plt.plot(X[0,:], poly1d_fn(X[0,:]), '-k')\n",
    "\n",
    "# plt.savefig('data_plots/Partial_correl_a.jpg', dpi=300, bbox_inches='tight')"
   ]
  },
  {
   "cell_type": "code",
   "execution_count": null,
   "id": "aa245330",
   "metadata": {},
   "outputs": [],
   "source": []
  },
  {
   "cell_type": "markdown",
   "id": "50d34c9a",
   "metadata": {},
   "source": [
    "#### plot grain size and slope data on map"
   ]
  },
  {
   "cell_type": "code",
   "execution_count": 442,
   "id": "d33e48ea",
   "metadata": {},
   "outputs": [],
   "source": [
    "# map = folium.Map(\n",
    "#                 location=[np.mean(sand['latitude']), np.mean(sand['longitude'])], \n",
    "#                 zoom_start=4, \n",
    "#                 control_scale=True,\n",
    "#                 tiles='stamentoner',#tiles=\"Stamen Terrain\", \n",
    "# )"
   ]
  },
  {
   "cell_type": "code",
   "execution_count": 443,
   "id": "92562b3f",
   "metadata": {},
   "outputs": [],
   "source": [
    "# for counter, (lat,lon) in enumerate(zip(sand['latitude'],sand['longitude'])):\n",
    "#     folium.CircleMarker(location=[lat, lon],\n",
    "#                                 radius = 3,\n",
    "#                                 fill=True, # Set fill to True\n",
    "#                                 color = 'red',\n",
    "#                                 opacity=0.1,\n",
    "#                                 fill_opacity=0.7).add_to(map)"
   ]
  },
  {
   "cell_type": "code",
   "execution_count": 444,
   "id": "db823dcf",
   "metadata": {},
   "outputs": [],
   "source": [
    "# for counter, (lat,lon) in enumerate(zip(slopes_t['latitude'],slopes_t['longitude'])):\n",
    "#     folium.CircleMarker(location=[lat, lon],\n",
    "#                                 radius = 3,\n",
    "#                                 fill=True, # Set fill to True\n",
    "#                                 color = 'blue',\n",
    "#                                 opacity=0.1,\n",
    "#                                 fill_opacity=0.7).add_to(map)"
   ]
  },
  {
   "cell_type": "code",
   "execution_count": 445,
   "id": "5e7fbf1b",
   "metadata": {},
   "outputs": [],
   "source": [
    "# for counter, (lat,lon) in enumerate(zip(slopes_b['latitude'],slopes_b['longitude'])):\n",
    "#     folium.CircleMarker(location=[lat, lon],\n",
    "#                                 radius = 3,\n",
    "#                                 fill=True, # Set fill to True\n",
    "#                                 color = 'magenta',\n",
    "#                                 opacity=0.1,\n",
    "#                                 fill_opacity=0.7).add_to(map)"
   ]
  },
  {
   "cell_type": "code",
   "execution_count": 446,
   "id": "23c11dc1",
   "metadata": {},
   "outputs": [],
   "source": [
    "# map"
   ]
  },
  {
   "cell_type": "code",
   "execution_count": 447,
   "id": "961d0e99",
   "metadata": {},
   "outputs": [
    {
     "data": {
      "text/plain": [
       "'transects'"
      ]
     },
     "execution_count": 447,
     "metadata": {},
     "output_type": "execute_result"
    }
   ],
   "source": [
    "choice"
   ]
  },
  {
   "cell_type": "code",
   "execution_count": 448,
   "id": "044b089c",
   "metadata": {},
   "outputs": [
    {
     "data": {
      "text/plain": [
       "'right'"
      ]
     },
     "execution_count": 448,
     "metadata": {},
     "output_type": "execute_result"
    }
   ],
   "source": [
    "merge"
   ]
  },
  {
   "cell_type": "code",
   "execution_count": 449,
   "id": "e7c106fa",
   "metadata": {},
   "outputs": [
    {
     "data": {
      "text/plain": [
       "34067"
      ]
     },
     "execution_count": 449,
     "metadata": {},
     "output_type": "execute_result"
    }
   ],
   "source": [
    "if choice=='transects':\n",
    "    gdf_slopes_b = gpd.GeoDataFrame(\n",
    "    slopes_b, geometry=gpd.points_from_xy(slopes_b.longitude, slopes_b.latitude))\n",
    "\n",
    "    gdf_slopes_t = gpd.GeoDataFrame(\n",
    "    slopes_t, geometry=gpd.points_from_xy(slopes_t.longitude, slopes_t.latitude))    \n",
    "    \n",
    "    gdf_slopes = gpd.sjoin_nearest(gdf_slopes_b, gdf_slopes_t, how=merge, distance_col='distance')\n",
    "    \n",
    "else:\n",
    "    gdf_slopes = gpd.GeoDataFrame(\n",
    "    slopes_b, geometry=gpd.points_from_xy(slopes_b.longitude, slopes_b.latitude))  \n",
    "    \n",
    "len(gdf_slopes)  "
   ]
  },
  {
   "cell_type": "code",
   "execution_count": 450,
   "id": "efc98d8c",
   "metadata": {},
   "outputs": [
    {
     "data": {
      "text/plain": [
       "Index(['index_left', 'id_left', 'beach_slope_weighted_average',\n",
       "       'longitude_left', 'latitude_left', 'width_ci_average',\n",
       "       'quality_flag_left', 'beach_slope_average', 'beach_slope_median',\n",
       "       'sl_points_average', 'mstr', 'prc_mstr_obs', 'min_tide_obs',\n",
       "       'max_tide_obs', 'easting', 'northing', 'points_left', 'id_right',\n",
       "       'site_id', 'longitude_right', 'latitude_right', 'beach_slope',\n",
       "       'lower_conf_bound', 'upper_conf_bound', 'width_ci',\n",
       "       'quality_flag_right', 'sl_points', 'trend', 'geometry', 'points_right',\n",
       "       'distance'],\n",
       "      dtype='object')"
      ]
     },
     "execution_count": 450,
     "metadata": {},
     "output_type": "execute_result"
    }
   ],
   "source": [
    "gdf_slopes.keys()"
   ]
  },
  {
   "cell_type": "code",
   "execution_count": 451,
   "id": "feeb7d7c",
   "metadata": {},
   "outputs": [
    {
     "data": {
      "text/plain": [
       "geopandas.geodataframe.GeoDataFrame"
      ]
     },
     "execution_count": 451,
     "metadata": {},
     "output_type": "execute_result"
    }
   ],
   "source": [
    "gdf_slopes = gdf_slopes[['beach_slope_weighted_average',\n",
    "       'longitude_left', 'latitude_left', 'width_ci_average',\n",
    "       'quality_flag_left', 'beach_slope_average', 'beach_slope_median',\n",
    "       'sl_points_average', 'mstr', 'prc_mstr_obs', 'min_tide_obs',\n",
    "       'max_tide_obs','site_id', 'longitude_right', 'latitude_right', 'beach_slope',\n",
    "       'lower_conf_bound', 'upper_conf_bound', 'width_ci','geometry',\n",
    "       'quality_flag_right', 'sl_points', 'trend',\n",
    "       'distance']].copy()\n",
    "\n",
    "# gdf_slopes = gdf_slopes[['beach_slope_weighted_average', 'longitude', 'latitude',\n",
    "#        'width_ci_average', 'quality_flag', 'beach_slope_average','distance'\n",
    "#        'beach_slope_median', 'sl_points_average', 'mstr', 'prc_mstr_obs',\n",
    "#        'min_tide_obs', 'max_tide_obs', 'easting', 'northing', 'geometry',\n",
    "#        'points']].copy()\n",
    "\n",
    "gdf_slopes = gpd.GeoDataFrame(gdf_slopes)\n",
    "\n",
    "type(gdf_slopes)"
   ]
  },
  {
   "cell_type": "code",
   "execution_count": 452,
   "id": "eb167aff",
   "metadata": {},
   "outputs": [
    {
     "data": {
      "text/plain": [
       "62389"
      ]
     },
     "execution_count": 452,
     "metadata": {},
     "output_type": "execute_result"
    }
   ],
   "source": [
    "# gs_w_slope_data=gpd.sjoin_nearest(gdf_sand, gdf_slopes, how=merge)#, distance_col='distance')\n",
    "gs_w_slope_data=gpd.sjoin_nearest(gdf_merged_sand, gdf_slopes, how=merge)\n",
    "\n",
    "len(gs_w_slope_data)"
   ]
  },
  {
   "cell_type": "code",
   "execution_count": 453,
   "id": "ad6c9d75",
   "metadata": {},
   "outputs": [
    {
     "data": {
      "text/plain": [
       "Index(['beach_slope_weighted_average', 'longitude_left', 'latitude_left',\n",
       "       'width_ci_average', 'quality_flag_left', 'beach_slope_average',\n",
       "       'beach_slope_median', 'sl_points_average', 'mstr', 'prc_mstr_obs',\n",
       "       'min_tide_obs', 'max_tide_obs', 'site_id', 'longitude_right',\n",
       "       'latitude_right', 'beach_slope', 'lower_conf_bound', 'upper_conf_bound',\n",
       "       'width_ci', 'geometry', 'quality_flag_right', 'sl_points', 'trend',\n",
       "       'distance'],\n",
       "      dtype='object')"
      ]
     },
     "execution_count": 453,
     "metadata": {},
     "output_type": "execute_result"
    }
   ],
   "source": [
    "gdf_slopes.keys()\n"
   ]
  },
  {
   "cell_type": "code",
   "execution_count": 454,
   "id": "5e9df0c9",
   "metadata": {},
   "outputs": [
    {
     "data": {
      "text/plain": [
       "3601"
      ]
     },
     "execution_count": 454,
     "metadata": {},
     "output_type": "execute_result"
    }
   ],
   "source": [
    "ind = np.where(gs_w_slope_data['distance']<join_dist)[0]\n",
    "tmp = gs_w_slope_data.iloc[ind]\n",
    "len(tmp)"
   ]
  },
  {
   "cell_type": "code",
   "execution_count": 455,
   "id": "f1bc2c08",
   "metadata": {},
   "outputs": [],
   "source": [
    "tmp = tmp[['latitude', 'longitude', 'd50', 'geometry', 'dataset',\n",
    "       'longitude_left', 'latitude_left', 'quality_flag_right','quality_flag_left',\n",
    "        'beach_slope_average','sl_points', 'trend', 'width_ci_average',\n",
    "       'beach_slope_median', 'sl_points_average', 'mstr', 'prc_mstr_obs',\n",
    "       'min_tide_obs', 'max_tide_obs', 'site_id', 'longitude_right',\n",
    "       'latitude_right', 'beach_slope', 'lower_conf_bound', 'upper_conf_bound',\n",
    "       'width_ci', 'distance']].copy() \n",
    "\n",
    "#''d25', 'd30','d65', 'd75',"
   ]
  },
  {
   "cell_type": "code",
   "execution_count": 456,
   "id": "1838659d",
   "metadata": {},
   "outputs": [
    {
     "data": {
      "text/plain": [
       "3592"
      ]
     },
     "execution_count": 456,
     "metadata": {},
     "output_type": "execute_result"
    }
   ],
   "source": [
    "len(tmp.dropna())"
   ]
  },
  {
   "cell_type": "code",
   "execution_count": 457,
   "id": "7455818c",
   "metadata": {},
   "outputs": [],
   "source": [
    "tmp = tmp.dropna()"
   ]
  },
  {
   "cell_type": "code",
   "execution_count": 458,
   "id": "d3682777",
   "metadata": {},
   "outputs": [
    {
     "data": {
      "text/plain": [
       "Index(['latitude', 'longitude', 'd50', 'geometry', 'dataset', 'longitude_left',\n",
       "       'latitude_left', 'quality_flag_right', 'quality_flag_left',\n",
       "       'beach_slope_average', 'sl_points', 'trend', 'width_ci_average',\n",
       "       'beach_slope_median', 'sl_points_average', 'mstr', 'prc_mstr_obs',\n",
       "       'min_tide_obs', 'max_tide_obs', 'site_id', 'longitude_right',\n",
       "       'latitude_right', 'beach_slope', 'lower_conf_bound', 'upper_conf_bound',\n",
       "       'width_ci', 'distance'],\n",
       "      dtype='object')"
      ]
     },
     "execution_count": 458,
     "metadata": {},
     "output_type": "execute_result"
    }
   ],
   "source": [
    "tmp.keys()"
   ]
  },
  {
   "cell_type": "code",
   "execution_count": 459,
   "id": "ad553281",
   "metadata": {},
   "outputs": [
    {
     "data": {
      "text/plain": [
       "array(['Briggs (2022)', 'C_Alexander', 'Fenster et al (2016)',\n",
       "       'McFall, 2022', 'USGS East Coast Sediment Texture Database',\n",
       "       'rossi'], dtype=object)"
      ]
     },
     "execution_count": 459,
     "metadata": {},
     "output_type": "execute_result"
    }
   ],
   "source": [
    "np.unique(tmp['dataset'])"
   ]
  },
  {
   "cell_type": "code",
   "execution_count": null,
   "id": "3fa7b31c",
   "metadata": {},
   "outputs": [],
   "source": [
    "## original\n",
    "# array(['BOEM', 'Briggs (2022)', 'C_Alexander', 'Fenster et al (2016)',\n",
    "#        'McFall, 2022', 'SusanBell_UniversitySouthernFlorida',\n",
    "#        'USGS East Coast Sediment Texture Database', 'bicms', 'rossi'],\n",
    "#       dtype=object)"
   ]
  },
  {
   "cell_type": "code",
   "execution_count": 460,
   "id": "653b4a6b",
   "metadata": {},
   "outputs": [
    {
     "data": {
      "text/plain": [
       "1.798733766"
      ]
     },
     "execution_count": 460,
     "metadata": {},
     "output_type": "execute_result"
    }
   ],
   "source": [
    "tmp['d50'].max()"
   ]
  },
  {
   "cell_type": "code",
   "execution_count": 461,
   "id": "aa1ea590",
   "metadata": {},
   "outputs": [
    {
     "data": {
      "text/plain": [
       "0.090577125"
      ]
     },
     "execution_count": 461,
     "metadata": {},
     "output_type": "execute_result"
    }
   ],
   "source": [
    "tmp['d50'].min()"
   ]
  },
  {
   "cell_type": "code",
   "execution_count": 44,
   "id": "f9656abe",
   "metadata": {},
   "outputs": [],
   "source": [
    "# try:\n",
    "#     map = folium.Map(\n",
    "#                     location=[np.mean(tmp['latitude_right']), np.mean(tmp['longitude_right'])], \n",
    "#                     zoom_start=4, \n",
    "#                     control_scale=True,\n",
    "#                     tiles='stamentoner',#tiles=\"Stamen Terrain\", \n",
    "#     )\n",
    "    \n",
    "#     for counter, (lat,lon) in enumerate(zip(tmp['latitude_right'],tmp['longitude_right'])):\n",
    "#         folium.CircleMarker(location=[lat, lon],\n",
    "#                                     radius = 3,\n",
    "#                                     fill=True, # Set fill to True\n",
    "#                                     color = 'magenta',\n",
    "#                                     opacity=0.1,\n",
    "#                                     fill_opacity=0.7).add_to(map)\n",
    "\n",
    "# except:\n",
    "#     map = folium.Map(\n",
    "#                     location=[np.mean(tmp['latitude_left']), np.mean(tmp['longitude_left'])], \n",
    "#                     zoom_start=4, \n",
    "#                     control_scale=True,\n",
    "#                     tiles='stamentoner',#tiles=\"Stamen Terrain\", \n",
    "#     )\n",
    "    \n",
    "#     for counter, (lat,lon) in enumerate(zip(tmp['latitude_left'],tmp['longitude_left'])):\n",
    "#         folium.CircleMarker(location=[lat, lon],\n",
    "#                                     radius = 3,\n",
    "#                                     fill=True, # Set fill to True\n",
    "#                                     color = 'magenta',\n",
    "#                                     opacity=0.1,\n",
    "#                                     fill_opacity=0.7).add_to(map)\n",
    "    \n",
    "# map"
   ]
  },
  {
   "cell_type": "code",
   "execution_count": 462,
   "id": "71b299ab",
   "metadata": {},
   "outputs": [
    {
     "data": {
      "text/plain": [
       "Text(0.25, 0.16, '$R^2$=0.00')"
      ]
     },
     "execution_count": 462,
     "metadata": {},
     "output_type": "execute_result"
    },
    {
     "data": {
      "image/png": "[encoded data removed]",
      "text/plain": [
       "<Figure size 864x864 with 3 Axes>"
      ]
     },
     "metadata": {
      "needs_background": "light"
     },
     "output_type": "display_data"
    }
   ],
   "source": [
    "plt.figure(figsize=(12,12))\n",
    "plt.subplots_adjust(wspace=0.4)\n",
    "plt.subplot(231)\n",
    "plt.plot(tmp['beach_slope'],tmp['d50'],'.')\n",
    "\n",
    "coef = np.polyfit(tmp['beach_slope'],tmp['d50'],1)\n",
    "poly1d_fn = np.poly1d(coef) \n",
    "plt.plot(tmp['beach_slope'], poly1d_fn(tmp['beach_slope']), '-k')\n",
    "\n",
    "r2 = np.min(np.corrcoef(tmp['d50'], tmp['beach_slope']))**2\n",
    "plt.text(.1,.16,r'$R^2$='+str(r2)[:4])\n",
    "\n",
    "plt.subplot(232)\n",
    "plt.plot(tmp['trend'],tmp['d50'],'.')\n",
    "\n",
    "coef = np.polyfit(tmp['trend'],tmp['d50'],1)\n",
    "poly1d_fn = np.poly1d(coef) \n",
    "plt.plot(tmp['trend'], poly1d_fn(tmp['trend']), '-k')\n",
    "\n",
    "r2 = np.min(np.corrcoef(tmp['d50'], tmp['trend']))**2\n",
    "plt.text(.25,.16,r'$R^2$='+str(r2)[:4])\n",
    "\n",
    "plt.subplot(233)\n",
    "plt.plot(tmp['mstr'],tmp['d50'],'.')\n",
    "\n",
    "coef = np.polyfit(tmp['mstr'],tmp['d50'],1)\n",
    "poly1d_fn = np.poly1d(coef) \n",
    "plt.plot(tmp['mstr'], poly1d_fn(tmp['mstr']), '-k')\n",
    "\n",
    "r2 = np.min(np.corrcoef(tmp['d50'], tmp['mstr']))**2\n",
    "plt.text(.25,.16,r'$R^2$='+str(r2)[:4])"
   ]
  },
  {
   "cell_type": "code",
   "execution_count": null,
   "id": "b80d27b8",
   "metadata": {},
   "outputs": [],
   "source": []
  },
  {
   "cell_type": "markdown",
   "id": "7aad4d06",
   "metadata": {},
   "source": [
    "#### merge waves"
   ]
  },
  {
   "cell_type": "code",
   "execution_count": 463,
   "id": "4369fcb8",
   "metadata": {},
   "outputs": [],
   "source": [
    "dir_df=pd.read_csv('../../../orig_data/US_SAtlantic/WaveData/Dir.csv')\n",
    "hsmax_df=pd.read_csv('../../../orig_data/US_SAtlantic/WaveData/HsMax.csv')\n",
    "hsmean_df=pd.read_csv('../../../orig_data/US_SAtlantic/WaveData/HsMean.csv')\n",
    "tp_df=pd.read_csv('../../../orig_data/US_SAtlantic/WaveData/Tp.csv')"
   ]
  },
  {
   "cell_type": "code",
   "execution_count": 464,
   "id": "5a0ba8a2",
   "metadata": {},
   "outputs": [],
   "source": [
    "dir_df = dir_df.rename(columns={\"lat\": \"latitude\", \"lon\": \"longitude\"})\n",
    "hsmax_df = hsmax_df.rename(columns={\"lat\": \"latitude\", \"lon\": \"longitude\"})\n",
    "hsmean_df = hsmean_df.rename(columns={\"lat\": \"latitude\", \"lon\": \"longitude\"})\n",
    "tp_df = tp_df.rename(columns={\"lat\": \"latitude\", \"lon\": \"longitude\"})\n"
   ]
  },
  {
   "cell_type": "code",
   "execution_count": 465,
   "id": "ec10e50a",
   "metadata": {},
   "outputs": [
    {
     "name": "stderr",
     "output_type": "stream",
     "text": [
      "100%|████████████████████████████████████████████████████████| 10713/10713 [03:16<00:00, 54.63it/s]\n"
     ]
    },
    {
     "name": "stdout",
     "output_type": "stream",
     "text": [
      "dir done\n"
     ]
    },
    {
     "name": "stderr",
     "output_type": "stream",
     "text": [
      "100%|████████████████████████████████████████████████████████| 10713/10713 [03:02<00:00, 58.82it/s]\n"
     ]
    },
    {
     "name": "stdout",
     "output_type": "stream",
     "text": [
      "hsmax done\n"
     ]
    },
    {
     "name": "stderr",
     "output_type": "stream",
     "text": [
      "100%|████████████████████████████████████████████████████████| 10713/10713 [03:03<00:00, 58.53it/s]\n"
     ]
    },
    {
     "name": "stdout",
     "output_type": "stream",
     "text": [
      "hsmean done\n"
     ]
    },
    {
     "name": "stderr",
     "output_type": "stream",
     "text": [
      "100%|████████████████████████████████████████████████████████| 10713/10713 [03:01<00:00, 58.92it/s]"
     ]
    },
    {
     "name": "stdout",
     "output_type": "stream",
     "text": [
      "tp done\n"
     ]
    },
    {
     "name": "stderr",
     "output_type": "stream",
     "text": [
      "\n"
     ]
    }
   ],
   "source": [
    "#rename wave variable dataframe columns to yyyy-mm-dd format\n",
    "i=0\n",
    "for i in tqdm(range(0,len(dir_df.columns)-2)):\n",
    "    focus_col=dir_df.columns[2+i]\n",
    "    timestamps = pd.to_datetime(int(focus_col)-719529, unit='D').strftime(\"%Y-%m-%d\")\n",
    "    stamp=str(timestamps)\n",
    "    dir_df=dir_df.rename(columns={focus_col:stamp})\n",
    "    i=i+1\n",
    "    \n",
    "print('dir done')\n",
    "#rename wave variable dataframe columns to yyyy-mm-dd format\n",
    "i=0\n",
    "for i in tqdm(range(0,len(hsmax_df.columns)-2)):\n",
    "    focus_col=hsmax_df.columns[2+i]\n",
    "    timestamps = pd.to_datetime(int(focus_col)-719529, unit='D').strftime(\"%Y-%m-%d\")\n",
    "    stamp=str(timestamps)\n",
    "    hsmax_df=hsmax_df.rename(columns={focus_col:stamp})\n",
    "    i=i+1\n",
    "    \n",
    "print('hsmax done')\n",
    "\n",
    "i=0\n",
    "for i in tqdm(range(0,len(hsmean_df.columns)-2)):\n",
    "    focus_col=hsmean_df.columns[2+i]\n",
    "    timestamps = pd.to_datetime(int(focus_col)-719529, unit='D').strftime(\"%Y-%m-%d\")\n",
    "    stamp=str(timestamps)\n",
    "    hsmean_df=hsmean_df.rename(columns={focus_col:stamp})\n",
    "    i=i+1\n",
    "    \n",
    "print('hsmean done')\n",
    "\n",
    "i=0\n",
    "for i in tqdm(range(0,len(tp_df.columns)-2)):\n",
    "    focus_col=tp_df.columns[2+i]\n",
    "    timestamps = pd.to_datetime(int(focus_col)-719529, unit='D').strftime(\"%Y-%m-%d\")\n",
    "    stamp=str(timestamps)\n",
    "    tp_df=tp_df.rename(columns={focus_col:stamp})\n",
    "    i=i+1\n",
    "    \n",
    "print('tp done')\n"
   ]
  },
  {
   "cell_type": "code",
   "execution_count": 466,
   "id": "40030504",
   "metadata": {},
   "outputs": [],
   "source": [
    "df=tmp.copy()\n",
    "df=pd.DataFrame(df)\n",
    "\n",
    "# df"
   ]
  },
  {
   "cell_type": "code",
   "execution_count": 467,
   "id": "eeef6bc7",
   "metadata": {},
   "outputs": [],
   "source": [
    "df= gpd.GeoDataFrame(\n",
    "    df, geometry=gpd.points_from_xy(df.longitude, df.latitude))"
   ]
  },
  {
   "cell_type": "code",
   "execution_count": 468,
   "id": "4187ec6c",
   "metadata": {},
   "outputs": [],
   "source": [
    "# df.keys()"
   ]
  },
  {
   "cell_type": "code",
   "execution_count": 469,
   "id": "b7379957",
   "metadata": {},
   "outputs": [
    {
     "name": "stderr",
     "output_type": "stream",
     "text": [
      "C:\\Users\\dbuscombe\\Anaconda3\\envs\\cgrasp\\lib\\site-packages\\geopandas\\geodataframe.py:1378: FutureWarning: Passing 'suffixes' which cause duplicate columns {'longitude_left', 'latitude_left'} in the result is deprecated and will raise a MergeError in a future version.\n",
      "  result = DataFrame.merge(self, *args, **kwargs)\n"
     ]
    },
    {
     "data": {
      "text/plain": [
       "13778"
      ]
     },
     "execution_count": 469,
     "metadata": {},
     "output_type": "execute_result"
    }
   ],
   "source": [
    "dir_gdf= gpd.GeoDataFrame(\n",
    "    dir_df, geometry=gpd.points_from_xy(dir_df.longitude, dir_df.latitude))\n",
    "\n",
    "# dirmerge=gpd.sjoin_nearest(df, dir_gdf, how='left', distance_col='distance')\n",
    "dirmerge=gpd.sjoin_nearest(df, dir_gdf, how=merge)#, distance_col='distance')\n",
    "\n",
    "filter_col = [col for col in dirmerge if col.startswith('20')]\n",
    "dirmerge.insert(0, \"dir\", dirmerge[filter_col].mean(axis=1).values, True)\n",
    "\n",
    "len(dirmerge)"
   ]
  },
  {
   "cell_type": "code",
   "execution_count": 470,
   "id": "35325a60",
   "metadata": {},
   "outputs": [
    {
     "name": "stderr",
     "output_type": "stream",
     "text": [
      "C:\\Users\\dbuscombe\\Anaconda3\\envs\\cgrasp\\lib\\site-packages\\geopandas\\geodataframe.py:1378: FutureWarning: Passing 'suffixes' which cause duplicate columns {'longitude_left', 'latitude_left'} in the result is deprecated and will raise a MergeError in a future version.\n",
      "  result = DataFrame.merge(self, *args, **kwargs)\n",
      "C:\\Users\\dbuscombe\\Anaconda3\\envs\\cgrasp\\lib\\site-packages\\geopandas\\geodataframe.py:1378: FutureWarning: Passing 'suffixes' which cause duplicate columns {'longitude_left', 'latitude_left'} in the result is deprecated and will raise a MergeError in a future version.\n",
      "  result = DataFrame.merge(self, *args, **kwargs)\n",
      "C:\\Users\\dbuscombe\\Anaconda3\\envs\\cgrasp\\lib\\site-packages\\geopandas\\geodataframe.py:1378: FutureWarning: Passing 'suffixes' which cause duplicate columns {'longitude_left', 'latitude_left'} in the result is deprecated and will raise a MergeError in a future version.\n",
      "  result = DataFrame.merge(self, *args, **kwargs)\n"
     ]
    }
   ],
   "source": [
    "\n",
    "hsmean_gdf= gpd.GeoDataFrame(\n",
    "    hsmean_df, geometry=gpd.points_from_xy(hsmean_df.longitude, hsmean_df.latitude))\n",
    "\n",
    "hsmeanmerge=gpd.sjoin_nearest(df, hsmean_gdf, how=merge)#, distance_col='distance')\n",
    "\n",
    "filter_col = [col for col in hsmeanmerge if col.startswith('20')]\n",
    "hsmeanmerge.insert(0, \"hs_mean\", hsmeanmerge[filter_col].mean(axis=1).values, True)\n",
    "\n",
    "\n",
    "hsmax_gdf= gpd.GeoDataFrame(\n",
    "    hsmax_df, geometry=gpd.points_from_xy(hsmax_df.longitude, hsmax_df.latitude))\n",
    "\n",
    "hsmaxmerge=gpd.sjoin_nearest(df, hsmax_gdf, how=merge)#, distance_col='distance')\n",
    "\n",
    "filter_col = [col for col in hsmaxmerge if col.startswith('20')]\n",
    "hsmaxmerge.insert(0, \"hs_max\", hsmaxmerge[filter_col].mean(axis=1).values, True)\n",
    "\n",
    "\n",
    "tp_gdf= gpd.GeoDataFrame(\n",
    "    tp_df, geometry=gpd.points_from_xy(tp_df.longitude, tp_df.latitude))\n",
    "\n",
    "tpmerge=gpd.sjoin_nearest(df, tp_gdf, how=merge)#, distance_col='distance')\n",
    "\n",
    "filter_col = [col for col in tpmerge if col.startswith('20')]\n",
    "tpmerge.insert(0, \"tp\", tpmerge[filter_col].mean(axis=1).values, True)\n"
   ]
  },
  {
   "cell_type": "code",
   "execution_count": 471,
   "id": "f2b52a73",
   "metadata": {},
   "outputs": [],
   "source": [
    "# tpmerge.keys()[:40]"
   ]
  },
  {
   "cell_type": "code",
   "execution_count": 472,
   "id": "e130566f",
   "metadata": {},
   "outputs": [],
   "source": [
    "out_df = tpmerge[['tp', 'latitude_left', 'longitude_left', 'quality_flag_left','quality_flag_right',\n",
    "       'd50', 'width_ci_average',  'beach_slope_average', 'dataset',\n",
    "       'beach_slope_median', 'sl_points_average', 'mstr', 'prc_mstr_obs',\n",
    "       'min_tide_obs', 'max_tide_obs', 'site_id', 'beach_slope', 'lower_conf_bound', 'upper_conf_bound',\n",
    "       'width_ci',  'sl_points', 'trend', 'distance',\n",
    "       'latitude_right', 'longitude_right']].copy()\n",
    "\n",
    "#'d25', 'd30','d65', 'd75', "
   ]
  },
  {
   "cell_type": "code",
   "execution_count": 473,
   "id": "0fefb85f",
   "metadata": {},
   "outputs": [],
   "source": [
    "out_df.insert(0, \"dir\", dirmerge.iloc[:, [0]].values.squeeze(), True)\n",
    "out_df.insert(0, \"hs_mean\", hsmeanmerge.iloc[:, [0]].values.squeeze(), True)\n",
    "out_df.insert(0, \"hs_max\", hsmaxmerge.iloc[:, [0]].values.squeeze(), True)\n",
    "out_df = out_df.dropna()\n",
    "\n",
    "out_df = out_df.drop_duplicates()"
   ]
  },
  {
   "cell_type": "code",
   "execution_count": 474,
   "id": "493d31ac",
   "metadata": {},
   "outputs": [
    {
     "data": {
      "text/plain": [
       "13345"
      ]
     },
     "execution_count": 474,
     "metadata": {},
     "output_type": "execute_result"
    }
   ],
   "source": [
    "len(out_df)"
   ]
  },
  {
   "cell_type": "code",
   "execution_count": 475,
   "id": "53d846ae",
   "metadata": {},
   "outputs": [
    {
     "data": {
      "text/plain": [
       "array(['Briggs (2022)', 'C_Alexander', 'Fenster et al (2016)',\n",
       "       'McFall, 2022', 'USGS East Coast Sediment Texture Database',\n",
       "       'rossi'], dtype=object)"
      ]
     },
     "execution_count": 475,
     "metadata": {},
     "output_type": "execute_result"
    }
   ],
   "source": [
    "np.unique(out_df['dataset'])"
   ]
  },
  {
   "cell_type": "code",
   "execution_count": null,
   "id": "b2b5107b",
   "metadata": {},
   "outputs": [],
   "source": [
    "# array(['Briggs (2022)', 'C_Alexander', 'Fenster et al (2016)',\n",
    "#        'McFall, 2022', 'USGS East Coast Sediment Texture Database',\n",
    "#        'rossi'], dtype=object)"
   ]
  },
  {
   "cell_type": "code",
   "execution_count": 476,
   "id": "794e9f10",
   "metadata": {},
   "outputs": [],
   "source": [
    "# join_dist = 0.004"
   ]
  },
  {
   "cell_type": "code",
   "execution_count": 477,
   "id": "db256a12",
   "metadata": {},
   "outputs": [
    {
     "data": {
      "text/plain": [
       "13345"
      ]
     },
     "execution_count": 477,
     "metadata": {},
     "output_type": "execute_result"
    }
   ],
   "source": [
    "ind = np.where(out_df['distance']<join_dist)[0]\n",
    "tmp = out_df.iloc[ind]\n",
    "len(tmp)"
   ]
  },
  {
   "cell_type": "code",
   "execution_count": 478,
   "id": "d499f8a6",
   "metadata": {},
   "outputs": [
    {
     "data": {
      "text/plain": [
       "13345"
      ]
     },
     "execution_count": 478,
     "metadata": {},
     "output_type": "execute_result"
    }
   ],
   "source": [
    "tmp = tmp.drop_duplicates()\n",
    "len(tmp)"
   ]
  },
  {
   "cell_type": "code",
   "execution_count": 479,
   "id": "dd59eac0",
   "metadata": {},
   "outputs": [
    {
     "data": {
      "text/plain": [
       "array(['Briggs (2022)', 'C_Alexander', 'Fenster et al (2016)',\n",
       "       'McFall, 2022', 'USGS East Coast Sediment Texture Database',\n",
       "       'rossi'], dtype=object)"
      ]
     },
     "execution_count": 479,
     "metadata": {},
     "output_type": "execute_result"
    }
   ],
   "source": [
    "np.unique(tmp['dataset'])"
   ]
  },
  {
   "cell_type": "code",
   "execution_count": 480,
   "id": "37f39c76",
   "metadata": {},
   "outputs": [
    {
     "data": {
      "text/plain": [
       "1.798733766"
      ]
     },
     "execution_count": 480,
     "metadata": {},
     "output_type": "execute_result"
    }
   ],
   "source": [
    "tmp['d50'].max()"
   ]
  },
  {
   "cell_type": "code",
   "execution_count": 481,
   "id": "d1323623",
   "metadata": {},
   "outputs": [
    {
     "data": {
      "text/plain": [
       "0.090577125"
      ]
     },
     "execution_count": 481,
     "metadata": {},
     "output_type": "execute_result"
    }
   ],
   "source": [
    "tmp['d50'].min()"
   ]
  },
  {
   "cell_type": "code",
   "execution_count": 482,
   "id": "4f40db9e",
   "metadata": {},
   "outputs": [
    {
     "data": {
      "text/plain": [
       "Text(0.25, 0.16, '$R^2$=0.05')"
      ]
     },
     "execution_count": 482,
     "metadata": {},
     "output_type": "execute_result"
    },
    {
     "data": {
      "image/png": "[encoded data removed]",
      "text/plain": [
       "<Figure size 864x864 with 6 Axes>"
      ]
     },
     "metadata": {
      "needs_background": "light"
     },
     "output_type": "display_data"
    }
   ],
   "source": [
    "plt.figure(figsize=(12,12))\n",
    "plt.subplots_adjust(wspace=0.4)\n",
    "plt.subplot(231)\n",
    "plt.plot(tmp['beach_slope'],tmp['d50'],'.')\n",
    "\n",
    "coef = np.polyfit(tmp['beach_slope'],tmp['d50'],1)\n",
    "poly1d_fn = np.poly1d(coef) \n",
    "plt.plot(tmp['beach_slope'], poly1d_fn(tmp['beach_slope']), '-k')\n",
    "\n",
    "r2 = np.min(np.corrcoef(tmp['d50'], tmp['beach_slope']))**2\n",
    "plt.text(.25,.16,r'$R^2$='+str(r2)[:4])\n",
    "\n",
    "plt.subplot(232)\n",
    "plt.plot(tmp['trend'],tmp['d50'],'.')\n",
    "\n",
    "coef = np.polyfit(tmp['trend'],tmp['d50'],1)\n",
    "poly1d_fn = np.poly1d(coef) \n",
    "plt.plot(tmp['trend'], poly1d_fn(tmp['trend']), '-k')\n",
    "\n",
    "r2 = np.min(np.corrcoef(tmp['d50'], tmp['trend']))**2\n",
    "plt.text(.25,.16,r'$R^2$='+str(r2)[:4])\n",
    "\n",
    "plt.subplot(233)\n",
    "plt.plot(tmp['mstr'],tmp['d50'],'.')\n",
    "\n",
    "coef = np.polyfit(tmp['mstr'],tmp['d50'],1)\n",
    "poly1d_fn = np.poly1d(coef) \n",
    "plt.plot(tmp['mstr'], poly1d_fn(tmp['mstr']), '-k')\n",
    "\n",
    "r2 = np.min(np.corrcoef(tmp['d50'], tmp['mstr']))**2\n",
    "plt.text(.25,.16,r'$R^2$='+str(r2)[:4])\n",
    "\n",
    "\n",
    "plt.subplot(234)\n",
    "plt.plot(tmp['hs_mean'],tmp['d50'],'.')\n",
    "\n",
    "coef = np.polyfit(tmp['hs_mean'],tmp['d50'],1)\n",
    "poly1d_fn = np.poly1d(coef) \n",
    "plt.plot(tmp['hs_mean'], poly1d_fn(tmp['hs_mean']), '-k')\n",
    "\n",
    "r2 = np.min(np.corrcoef(tmp['d50'], tmp['hs_mean']))**2\n",
    "plt.text(.25,.16,r'$R^2$='+str(r2)[:4])\n",
    "\n",
    "plt.subplot(235)\n",
    "plt.plot(tmp['tp'],tmp['d50'],'.')\n",
    "\n",
    "coef = np.polyfit(tmp['tp'],tmp['d50'],1)\n",
    "poly1d_fn = np.poly1d(coef) \n",
    "plt.plot(tmp['tp'], poly1d_fn(tmp['tp']), '-k')\n",
    "\n",
    "r2 = np.min(np.corrcoef(tmp['d50'], tmp['tp']))**2\n",
    "plt.text(.25,.16,r'$R^2$='+str(r2)[:4])\n",
    "\n",
    "plt.subplot(236)\n",
    "plt.plot(tmp['dir'],tmp['d50'],'.')\n",
    "\n",
    "coef = np.polyfit(tmp['dir'],tmp['d50'],1)\n",
    "poly1d_fn = np.poly1d(coef) \n",
    "plt.plot(tmp['dir'], poly1d_fn(tmp['dir']), '-k')\n",
    "\n",
    "r2 = np.min(np.corrcoef(tmp['d50'], tmp['dir']))**2\n",
    "plt.text(.25,.16,r'$R^2$='+str(r2)[:4])"
   ]
  },
  {
   "cell_type": "code",
   "execution_count": 359,
   "id": "9eaa679d",
   "metadata": {},
   "outputs": [],
   "source": [
    "# ind = np.where(tmp['distance']<join_dist)[0]\n",
    "# tmp = tmp.iloc[ind]\n",
    "# len(tmp)"
   ]
  },
  {
   "cell_type": "code",
   "execution_count": 483,
   "id": "428c164f",
   "metadata": {},
   "outputs": [],
   "source": [
    "tmp['latitude']=np.mean(tmp['latitude_right'],axis=1)\n",
    "tmp['longitude']=np.mean(tmp['longitude_right'],axis=1)\n",
    "tmp=tmp.drop(columns=['latitude_right','longitude_right'])"
   ]
  },
  {
   "cell_type": "code",
   "execution_count": 484,
   "id": "ef6a4e55",
   "metadata": {},
   "outputs": [
    {
     "data": {
      "text/plain": [
       "Index(['hs_max', 'hs_mean', 'dir', 'tp', 'latitude_left', 'latitude_left',\n",
       "       'longitude_left', 'longitude_left', 'quality_flag_left',\n",
       "       'quality_flag_right', 'd50', 'width_ci_average', 'beach_slope_average',\n",
       "       'dataset', 'beach_slope_median', 'sl_points_average', 'mstr',\n",
       "       'prc_mstr_obs', 'min_tide_obs', 'max_tide_obs', 'site_id',\n",
       "       'beach_slope', 'lower_conf_bound', 'upper_conf_bound', 'width_ci',\n",
       "       'sl_points', 'trend', 'distance', 'latitude', 'longitude'],\n",
       "      dtype='object')"
      ]
     },
     "execution_count": 484,
     "metadata": {},
     "output_type": "execute_result"
    }
   ],
   "source": [
    "tmp.keys()"
   ]
  },
  {
   "cell_type": "code",
   "execution_count": 485,
   "id": "e4704c7f",
   "metadata": {},
   "outputs": [
    {
     "data": {
      "text/plain": [
       "array(['Briggs (2022)', 'C_Alexander', 'Fenster et al (2016)',\n",
       "       'McFall, 2022', 'USGS East Coast Sediment Texture Database',\n",
       "       'rossi'], dtype=object)"
      ]
     },
     "execution_count": 485,
     "metadata": {},
     "output_type": "execute_result"
    }
   ],
   "source": [
    "np.unique(tmp['dataset'])"
   ]
  },
  {
   "cell_type": "code",
   "execution_count": 486,
   "id": "371136d5",
   "metadata": {},
   "outputs": [
    {
     "data": {
      "text/plain": [
       "13345"
      ]
     },
     "execution_count": 486,
     "metadata": {},
     "output_type": "execute_result"
    }
   ],
   "source": [
    "len(tmp)"
   ]
  },
  {
   "cell_type": "code",
   "execution_count": 487,
   "id": "36ed66bb",
   "metadata": {},
   "outputs": [],
   "source": [
    "briggs = tmp[tmp['dataset']=='Briggs (2022)']"
   ]
  },
  {
   "cell_type": "code",
   "execution_count": 488,
   "id": "e5665092",
   "metadata": {},
   "outputs": [],
   "source": [
    "Alexander = tmp[tmp['dataset']=='C_Alexander']"
   ]
  },
  {
   "cell_type": "code",
   "execution_count": 489,
   "id": "31cd9c29",
   "metadata": {},
   "outputs": [
    {
     "data": {
      "text/plain": [
       "64"
      ]
     },
     "execution_count": 489,
     "metadata": {},
     "output_type": "execute_result"
    }
   ],
   "source": [
    "len(briggs)"
   ]
  },
  {
   "cell_type": "code",
   "execution_count": 490,
   "id": "d4299d99",
   "metadata": {},
   "outputs": [
    {
     "data": {
      "text/plain": [
       "617"
      ]
     },
     "execution_count": 490,
     "metadata": {},
     "output_type": "execute_result"
    }
   ],
   "source": [
    "len(Alexander)"
   ]
  },
  {
   "cell_type": "markdown",
   "id": "416229b7",
   "metadata": {},
   "source": [
    "### write to file"
   ]
  },
  {
   "cell_type": "code",
   "execution_count": 491,
   "id": "928885f3",
   "metadata": {},
   "outputs": [],
   "source": [
    "# dataset = '../model_data/ML_slope_wave_atlantic_2022-05-18_'+dataset+'_'+str(join_dist)+'_'+merge+'_'+choice+'.csv'\n",
    "# dataset = '../model_data/ML_slope_wave_atlantic_2022-08-31_'+dataset+'_'+str(join_dist)+'_'+merge+'_'+choice+'.csv'\n",
    "# dataset = '../model_data/ML_slope_wave_atlantic_2022-09-04_'+dataset+'_'+str(join_dist)+'_'+merge+'_'+choice+'.csv'\n",
    "dataset_name = 'Data_VerifiedOnshore'\n",
    "\n",
    "dataset = '../model_data/ML_slope_wave_atlantic_2022-09-07_'+dataset_name+'_'+str(join_dist)+'_'+merge+'_'+choice+'.csv'\n"
   ]
  },
  {
   "cell_type": "code",
   "execution_count": 492,
   "id": "58ba4522",
   "metadata": {},
   "outputs": [
    {
     "data": {
      "text/plain": [
       "'../model_data/ML_slope_wave_atlantic_2022-09-07_Data_VerifiedOnshore_0.004_right_transects.csv'"
      ]
     },
     "execution_count": 492,
     "metadata": {},
     "output_type": "execute_result"
    }
   ],
   "source": [
    "dataset"
   ]
  },
  {
   "cell_type": "code",
   "execution_count": 493,
   "id": "db92e675",
   "metadata": {},
   "outputs": [],
   "source": [
    "tmp.to_csv(dataset)"
   ]
  },
  {
   "cell_type": "code",
   "execution_count": 494,
   "id": "890104b4",
   "metadata": {},
   "outputs": [],
   "source": [
    "# dataset"
   ]
  },
  {
   "cell_type": "code",
   "execution_count": 495,
   "id": "c4173915",
   "metadata": {},
   "outputs": [],
   "source": [
    "choice = 'transects'\n",
    "merge = 'right'\n"
   ]
  },
  {
   "cell_type": "code",
   "execution_count": 530,
   "id": "b4a616b3",
   "metadata": {},
   "outputs": [
    {
     "data": {
      "text/plain": [
       "11274"
      ]
     },
     "execution_count": 530,
     "metadata": {},
     "output_type": "execute_result"
    }
   ],
   "source": [
    "tmp = pd.read_csv(dataset)\n",
    "ind = np.where(tmp['quality_flag_right']!='Low')[0]\n",
    "len(ind)\n",
    "tmp = tmp.iloc[ind]\n",
    "len(tmp)\n",
    "\n",
    "ind = np.where(tmp['quality_flag_left']!='Low')[0]\n",
    "len(ind)\n",
    "tmp = tmp.iloc[ind]\n",
    "len(tmp)"
   ]
  },
  {
   "cell_type": "code",
   "execution_count": 533,
   "id": "24764ac8",
   "metadata": {},
   "outputs": [],
   "source": [
    "tmp = tmp[tmp['dataset']!='USGS East Coast Sediment Texture Database']"
   ]
  },
  {
   "cell_type": "code",
   "execution_count": 539,
   "id": "e37c5526",
   "metadata": {},
   "outputs": [
    {
     "data": {
      "text/plain": [
       "1020"
      ]
     },
     "execution_count": 539,
     "metadata": {},
     "output_type": "execute_result"
    }
   ],
   "source": [
    "df_strat_lat = tmp.copy()\n",
    "\n",
    "num_cats=34\n",
    "num_samples_per_category = 30\n",
    "\n",
    "df_strat_lat['category'] = pd.cut(tmp['latitude'], num_cats)\n",
    "df_strat_lat = df_strat_lat.groupby(['category']).apply(lambda x: x.sample(num_samples_per_category, replace = True)).reset_index(drop = True)\n",
    "\n",
    "len(df_strat_lat)"
   ]
  },
  {
   "cell_type": "code",
   "execution_count": 540,
   "id": "b34b99cd",
   "metadata": {},
   "outputs": [
    {
     "data": {
      "text/plain": [
       "array(['C_Alexander', 'Fenster et al (2016)', 'McFall, 2022', 'rossi'],\n",
       "      dtype=object)"
      ]
     },
     "execution_count": 540,
     "metadata": {},
     "output_type": "execute_result"
    }
   ],
   "source": [
    "np.unique(df_strat_lat['dataset'])"
   ]
  },
  {
   "cell_type": "code",
   "execution_count": 541,
   "id": "7167c80f",
   "metadata": {},
   "outputs": [],
   "source": [
    "# array(['Briggs (2022)', 'C_Alexander', 'Fenster et al (2016)',\n",
    "#        'McFall, 2022', 'USGS East Coast Sediment Texture Database',\n",
    "#        'rossi'], dtype=object)"
   ]
  },
  {
   "cell_type": "code",
   "execution_count": 542,
   "id": "1fa273c6",
   "metadata": {},
   "outputs": [
    {
     "data": {
      "text/plain": [
       "[<matplotlib.lines.Line2D at 0x28ff3453880>]"
      ]
     },
     "execution_count": 542,
     "metadata": {},
     "output_type": "execute_result"
    },
    {
     "data": {
      "image/png": "[encoded data removed]",
      "text/plain": [
       "<Figure size 432x288 with 1 Axes>"
      ]
     },
     "metadata": {
      "needs_background": "light"
     },
     "output_type": "display_data"
    }
   ],
   "source": [
    "plt.plot(tmp['longitude'], tmp['latitude'], '.',color=[.5,.5,.5])\n",
    "\n",
    "plt.plot(df_strat_lat['longitude'][df_strat_lat['dataset']=='Fenster et al (2016)'], df_strat_lat['latitude'][df_strat_lat['dataset']=='Fenster et al (2016)'], 'ko')\n",
    "plt.plot(df_strat_lat['longitude'][df_strat_lat['dataset']=='McFall, 2022'], df_strat_lat['latitude'][df_strat_lat['dataset']=='McFall, 2022'], 'ro')\n",
    "# plt.plot(df_strat_lat['longitude'][df_strat_lat['dataset']=='USGS East Coast Sediment Texture Database'], df_strat_lat['latitude'][df_strat_lat['dataset']=='USGS East Coast Sediment Texture Database'], 'ro')\n",
    "plt.plot(df_strat_lat['longitude'][df_strat_lat['dataset']=='rossi'], df_strat_lat['latitude'][df_strat_lat['dataset']=='rossi'], 'go')\n",
    "plt.plot(df_strat_lat['longitude'][df_strat_lat['dataset']=='C_Alexander'], df_strat_lat['latitude'][df_strat_lat['dataset']=='C_Alexander'], 'co')\n",
    "\n",
    "plt.plot(briggs['longitude'], briggs['latitude'], 'mo')\n"
   ]
  },
  {
   "cell_type": "code",
   "execution_count": 561,
   "id": "a9ed6298",
   "metadata": {},
   "outputs": [],
   "source": [
    "briggs = briggs[['hs_max', 'hs_mean', 'dir', 'tp', 'd50', 'beach_slope_average',\n",
    "       'dataset', 'mstr', 'latitude', 'longitude']].copy()"
   ]
  },
  {
   "cell_type": "code",
   "execution_count": 562,
   "id": "8f6401d7",
   "metadata": {},
   "outputs": [
    {
     "data": {
      "text/plain": [
       "Index(['hs_max', 'hs_mean', 'dir', 'tp', 'd50', 'beach_slope_average',\n",
       "       'dataset', 'mstr', 'latitude', 'longitude'],\n",
       "      dtype='object')"
      ]
     },
     "execution_count": 562,
     "metadata": {},
     "output_type": "execute_result"
    }
   ],
   "source": [
    "briggs.keys()"
   ]
  },
  {
   "cell_type": "code",
   "execution_count": 563,
   "id": "872d05b7",
   "metadata": {},
   "outputs": [],
   "source": [
    "df_strat_lat = df_strat_lat[['hs_max', 'hs_mean', 'dir', 'tp', 'd50', 'beach_slope_average',\n",
    "       'dataset', 'mstr', 'latitude', 'longitude']].copy()"
   ]
  },
  {
   "cell_type": "code",
   "execution_count": 564,
   "id": "0dfbccf6",
   "metadata": {},
   "outputs": [
    {
     "data": {
      "text/plain": [
       "Index(['hs_max', 'hs_mean', 'dir', 'tp', 'd50', 'beach_slope_average',\n",
       "       'dataset', 'mstr', 'latitude', 'longitude'],\n",
       "      dtype='object')"
      ]
     },
     "execution_count": 564,
     "metadata": {},
     "output_type": "execute_result"
    }
   ],
   "source": [
    "df_strat_lat.keys()"
   ]
  },
  {
   "cell_type": "code",
   "execution_count": 565,
   "id": "37a0046b",
   "metadata": {},
   "outputs": [
    {
     "data": {
      "text/plain": [
       "1084"
      ]
     },
     "execution_count": 565,
     "metadata": {},
     "output_type": "execute_result"
    }
   ],
   "source": [
    "df = pd.concat([df_strat_lat, briggs], ignore_index=True)\n",
    "df = df.dropna()\n",
    "len(df)"
   ]
  },
  {
   "cell_type": "code",
   "execution_count": null,
   "id": "9ad5de71",
   "metadata": {},
   "outputs": [],
   "source": []
  },
  {
   "cell_type": "code",
   "execution_count": 581,
   "id": "576ef916",
   "metadata": {},
   "outputs": [
    {
     "data": {
      "text/plain": [
       "(0.090577125, 1.798733766)"
      ]
     },
     "execution_count": 581,
     "metadata": {},
     "output_type": "execute_result"
    }
   ],
   "source": [
    "(df['d50'].min(), df['d50'].max())"
   ]
  },
  {
   "cell_type": "code",
   "execution_count": 582,
   "id": "ed6d45b0",
   "metadata": {},
   "outputs": [
    {
     "data": {
      "text/plain": [
       "(array([317., 291., 179., 129., 101.,  44.,   0.,  21.,   0.,   2.]),\n",
       " array([0.09057712, 0.26139279, 0.43220845, 0.60302412, 0.77383978,\n",
       "        0.94465545, 1.11547111, 1.28628677, 1.45710244, 1.6279181 ,\n",
       "        1.79873377]),\n",
       " <BarContainer object of 10 artists>)"
      ]
     },
     "execution_count": 582,
     "metadata": {},
     "output_type": "execute_result"
    },
    {
     "data": {
      "image/png": "[encoded data removed]",
      "text/plain": [
       "<Figure size 432x288 with 1 Axes>"
      ]
     },
     "metadata": {
      "needs_background": "light"
     },
     "output_type": "display_data"
    }
   ],
   "source": [
    "plt.hist(df['d50'])"
   ]
  },
  {
   "cell_type": "code",
   "execution_count": 583,
   "id": "e3c7c467",
   "metadata": {},
   "outputs": [],
   "source": [
    "df = df[df['d50']<1.5]"
   ]
  },
  {
   "cell_type": "code",
   "execution_count": 589,
   "id": "2128ddd5",
   "metadata": {},
   "outputs": [
    {
     "data": {
      "text/plain": [
       "350"
      ]
     },
     "execution_count": 589,
     "metadata": {},
     "output_type": "execute_result"
    }
   ],
   "source": [
    "df_strat_gs = df.copy()\n",
    "\n",
    "num_cats=7\n",
    "num_samples_per_category = 50\n",
    "\n",
    "df_strat_gs['category'] = pd.cut(df_strat_gs['d50'], num_cats)\n",
    "df_strat_gs = df_strat_gs.groupby(['category']).apply(lambda x: x.sample(num_samples_per_category, replace = True)).reset_index(drop = True)\n",
    "\n",
    "len(df_strat_gs)"
   ]
  },
  {
   "cell_type": "code",
   "execution_count": 590,
   "id": "41d58a4b",
   "metadata": {},
   "outputs": [
    {
     "data": {
      "text/plain": [
       "array(['Briggs (2022)', 'C_Alexander', 'Fenster et al (2016)',\n",
       "       'McFall, 2022', 'rossi'], dtype=object)"
      ]
     },
     "execution_count": 590,
     "metadata": {},
     "output_type": "execute_result"
    }
   ],
   "source": [
    "np.unique(df_strat_gs['dataset'])"
   ]
  },
  {
   "cell_type": "code",
   "execution_count": 591,
   "id": "16ed1437",
   "metadata": {},
   "outputs": [
    {
     "data": {
      "text/plain": [
       "[<matplotlib.lines.Line2D at 0x28ff40a2d40>]"
      ]
     },
     "execution_count": 591,
     "metadata": {},
     "output_type": "execute_result"
    },
    {
     "data": {
      "image/png": "[encoded data removed]",
      "text/plain": [
       "<Figure size 432x288 with 1 Axes>"
      ]
     },
     "metadata": {
      "needs_background": "light"
     },
     "output_type": "display_data"
    }
   ],
   "source": [
    "plt.plot(tmp['longitude'], tmp['latitude'], '.',color=[.5,.5,.5])\n",
    "\n",
    "plt.plot(df_strat_gs['longitude'][df_strat_gs['dataset']=='Fenster et al (2016)'], df_strat_gs['latitude'][df_strat_gs['dataset']=='Fenster et al (2016)'], 'ko')\n",
    "plt.plot(df_strat_gs['longitude'][df_strat_gs['dataset']=='McFall, 2022'], df_strat_gs['latitude'][df_strat_gs['dataset']=='McFall, 2022'], 'ro')\n",
    "plt.plot(df_strat_gs['longitude'][df_strat_gs['dataset']=='rossi'], df_strat_gs['latitude'][df_strat_gs['dataset']=='rossi'], 'go')\n",
    "plt.plot(df_strat_gs['longitude'][df_strat_gs['dataset']=='C_Alexander'], df_strat_gs['latitude'][df_strat_gs['dataset']=='C_Alexander'], 'co')\n",
    "\n",
    "plt.plot(df_strat_gs['longitude'][df_strat_gs['dataset']=='Briggs (2022)'], df_strat_gs['latitude'][df_strat_gs['dataset']=='Briggs (2022)'], 'mo')\n",
    "\n"
   ]
  },
  {
   "cell_type": "code",
   "execution_count": null,
   "id": "4493275b",
   "metadata": {},
   "outputs": [],
   "source": []
  },
  {
   "cell_type": "code",
   "execution_count": 592,
   "id": "76a4cab4",
   "metadata": {},
   "outputs": [],
   "source": [
    "# df_strat_lon = tmp.copy()\n",
    "\n",
    "# num_cats=6\n",
    "# num_samples_per_category = 22\n",
    "\n",
    "# df_strat_lon['category'] = pd.cut(df_strat_lon['d50'], num_cats)\n",
    "# df_strat_lon = df_strat_lon.groupby(['category']).apply(lambda x: x.sample(num_samples_per_category, replace = True)).reset_index(drop = True)\n",
    "\n",
    "# len(df_strat_lon)"
   ]
  },
  {
   "cell_type": "code",
   "execution_count": 593,
   "id": "c682bc0f",
   "metadata": {},
   "outputs": [],
   "source": [
    "# np.unique(df_strat_lon['dataset'])"
   ]
  },
  {
   "cell_type": "code",
   "execution_count": null,
   "id": "6c8ed1e9",
   "metadata": {},
   "outputs": [],
   "source": []
  },
  {
   "cell_type": "code",
   "execution_count": null,
   "id": "9ab89458",
   "metadata": {},
   "outputs": [],
   "source": []
  },
  {
   "cell_type": "code",
   "execution_count": 594,
   "id": "1ca0cf65",
   "metadata": {},
   "outputs": [],
   "source": [
    "# df = pd.concat([df_strat_gs, briggs], ignore_index=True)\n",
    "# df = df.dropna()\n",
    "# len(df)"
   ]
  },
  {
   "cell_type": "code",
   "execution_count": 595,
   "id": "501ef59e",
   "metadata": {},
   "outputs": [],
   "source": [
    "df = df_strat_gs.copy()"
   ]
  },
  {
   "cell_type": "code",
   "execution_count": 598,
   "id": "60d72135",
   "metadata": {},
   "outputs": [
    {
     "data": {
      "text/plain": [
       "Text(0.25, -78, '$R^2$=0.17')"
      ]
     },
     "execution_count": 598,
     "metadata": {},
     "output_type": "execute_result"
    },
    {
     "data": {
      "image/png": "[encoded data removed]",
      "text/plain": [
       "<Figure size 864x864 with 8 Axes>"
      ]
     },
     "metadata": {
      "needs_background": "light"
     },
     "output_type": "display_data"
    }
   ],
   "source": [
    "plt.figure(figsize=(12,12))\n",
    "plt.subplots_adjust(wspace=0.3, hspace=0.3)\n",
    "\n",
    "plt.subplot(331)\n",
    "plt.plot(df['d50'], df['beach_slope_average'],'k.')\n",
    "plt.xlabel(r'$D_{50}$ (mm)')\n",
    "plt.ylabel('Beach Slope (tan β)')\n",
    "plt.title(\"a)\", loc='left')\n",
    "\n",
    "coef = np.polyfit(df['d50'], df['beach_slope_average'],1)\n",
    "poly1d_fn = np.poly1d(coef) \n",
    "plt.plot(df['d50'], poly1d_fn(df['d50']), '-k')\n",
    "\n",
    "r2 = np.min(np.corrcoef(df['d50'], df['beach_slope_average']))**2\n",
    "plt.text(.1,.09,r'$R^2$='+str(r2)[:4])\n",
    "\n",
    "# plt.subplot(332)\n",
    "# plt.plot(df['d50'], df['trend'],'k.')\n",
    "# plt.xlabel(r'$D_{50}$ (mm)')\n",
    "# plt.ylabel('Shoreline trend (m/yr)')\n",
    "# plt.title(\"b)\", loc='left')\n",
    "\n",
    "# coef = np.polyfit(df['d50'], df['trend'],1)\n",
    "# poly1d_fn = np.poly1d(coef) \n",
    "# plt.plot(df['d50'], poly1d_fn(df['d50']), '-k')\n",
    "\n",
    "# r2 = np.min(np.corrcoef(df['d50'], df['trend']))**2\n",
    "# plt.text(.25,1.1,r'$R^2$='+str(r2)[:4])\n",
    "\n",
    "plt.subplot(333)\n",
    "plt.plot(df['d50'], df['dir'],'k.')\n",
    "plt.xlabel(r'$D_{50}$ (mm)')\n",
    "plt.ylabel('Wave Direction (degrees)')\n",
    "plt.title(\"c)\", loc='left')\n",
    "\n",
    "coef = np.polyfit(df['d50'], df['dir'],1)\n",
    "poly1d_fn = np.poly1d(coef) \n",
    "plt.plot(df['d50'], poly1d_fn(df['d50']), '-k')\n",
    "\n",
    "r2 = np.min(np.corrcoef(df['d50'], df['dir']))**2\n",
    "plt.text(.25,170,r'$R^2$='+str(r2)[:4])\n",
    "\n",
    "plt.subplot(334)\n",
    "plt.plot(df['d50'], df['hs_mean'],'k.')\n",
    "plt.xlabel(r'$D_{50}$ (mm)')\n",
    "plt.ylabel(r'$H_{s}$ (m)')\n",
    "plt.title(\"d)\", loc='left')\n",
    "\n",
    "coef = np.polyfit(df['d50'], df['hs_mean'],1)\n",
    "poly1d_fn = np.poly1d(coef) \n",
    "plt.plot(df['d50'], poly1d_fn(df['d50']), '-k')\n",
    "\n",
    "r2 = np.min(np.corrcoef(df['d50'], df['hs_mean']))**2\n",
    "plt.text(.25,.3,r'$R^2$='+str(r2)[:4])\n",
    "\n",
    "plt.subplot(335)\n",
    "plt.plot(df['d50'], df['hs_max'],'k.')\n",
    "plt.xlabel(r'$D_{50}$ (mm)')\n",
    "plt.ylabel(r'$H_{max}$ (m)')\n",
    "plt.title(\"e)\", loc='left')\n",
    "\n",
    "coef = np.polyfit(df['d50'], df['hs_max'],1)\n",
    "poly1d_fn = np.poly1d(coef) \n",
    "plt.plot(df['d50'], poly1d_fn(df['d50']), '-k')\n",
    "\n",
    "r2 = np.min(np.corrcoef(df['d50'], df['hs_max']))**2\n",
    "plt.text(.25,.3,r'$R^2$='+str(r2)[:4])\n",
    "\n",
    "plt.subplot(336)\n",
    "plt.plot(df['d50'], df['tp'],'k.')\n",
    "plt.xlabel(r'$D_{50}$ (mm)')\n",
    "plt.ylabel(r'$T_{p}$ (s)')\n",
    "plt.title(\"f)\", loc='left')\n",
    "\n",
    "coef = np.polyfit(df['d50'], df['tp'],1)\n",
    "poly1d_fn = np.poly1d(coef) \n",
    "plt.plot(df['d50'], poly1d_fn(df['d50']), '-k')\n",
    "\n",
    "r2 = np.min(np.corrcoef(df['d50'], df['tp']))**2\n",
    "plt.text(.25,6,r'$R^2$='+str(r2)[:4])\n",
    "\n",
    "plt.subplot(337)\n",
    "plt.plot(df['d50'],df['mstr'] ,'k.')\n",
    "plt.xlabel(r'$D_{50}$ (mm)')\n",
    "plt.ylabel(r'$T$ (m)')\n",
    "plt.title(\"g)\", loc='left')\n",
    "\n",
    "coef = np.polyfit(df['d50'], df['mstr'],1)\n",
    "poly1d_fn = np.poly1d(coef) \n",
    "plt.plot(df['d50'], poly1d_fn(df['d50']), '-k')\n",
    "\n",
    "r2 = np.min(np.corrcoef(df['d50'], df['mstr']))**2\n",
    "plt.text(.25,.5,r'$R^2$='+str(r2)[:4])\n",
    "\n",
    "plt.subplot(338)\n",
    "plt.plot(df['d50'],df['latitude'] ,'k.')\n",
    "plt.xlabel(r'$D_{50}$ (mm)')\n",
    "plt.ylabel(r'Latitude (deg. N)')\n",
    "plt.title(\"h)\", loc='left')\n",
    "\n",
    "coef = np.polyfit(df['d50'], df['latitude'],1)\n",
    "poly1d_fn = np.poly1d(coef) \n",
    "plt.plot(df['d50'], poly1d_fn(df['d50']), '-k')\n",
    "\n",
    "r2 = np.min(np.corrcoef(df['d50'], df['latitude']))**2\n",
    "plt.text(.25,30,r'$R^2$='+str(r2)[:4])\n",
    "\n",
    "plt.subplot(339)\n",
    "plt.plot(df['d50'],df['longitude'] ,'k.')\n",
    "plt.xlabel(r'$D_{50}$ (mm)')\n",
    "plt.ylabel(r'Longitude (deg. W)')\n",
    "plt.title(\"i)\", loc='left')\n",
    "\n",
    "coef = np.polyfit(df['d50'], df['longitude'],1)\n",
    "poly1d_fn = np.poly1d(coef) \n",
    "plt.plot(df['d50'], poly1d_fn(df['d50']), '-k')\n",
    "\n",
    "r2 = np.min(np.corrcoef(df['d50'], df['longitude']))**2\n",
    "plt.text(.25,-78,r'$R^2$='+str(r2)[:4])\n",
    "\n",
    "# plt.savefig('data_plots/CGRASP_d50-linreg-df_strat_lat.jpg', dpi=300, bbox_inches='tight')"
   ]
  },
  {
   "cell_type": "code",
   "execution_count": 599,
   "id": "e495f5e2",
   "metadata": {},
   "outputs": [
    {
     "data": {
      "text/plain": [
       "350"
      ]
     },
     "execution_count": 599,
     "metadata": {},
     "output_type": "execute_result"
    }
   ],
   "source": [
    "del df['category']\n",
    "len(df)"
   ]
  },
  {
   "cell_type": "code",
   "execution_count": 92,
   "id": "6219e409",
   "metadata": {},
   "outputs": [],
   "source": [
    "# df.to_csv('../model_data/ML_slope_wave_atlantic_2022-05-18_Data_Post2012_VerifiedOnshore_0.0015_right_transects_model_stratsample-by-lat.csv')"
   ]
  },
  {
   "cell_type": "code",
   "execution_count": 93,
   "id": "657bf656",
   "metadata": {},
   "outputs": [],
   "source": [
    "# df.to_csv('../model_data/ML_slope_wave_atlantic_2022-08-31_Data_Post2012_VerifiedOnshore_0.0015_right_transects_model_stratsample-by-lat.csv')"
   ]
  },
  {
   "cell_type": "code",
   "execution_count": 94,
   "id": "5263ec7e",
   "metadata": {},
   "outputs": [],
   "source": [
    "# df.to_csv('../model_data/ML_slope_wave_atlantic_2022-9-4_Data_Post2012_VerifiedOnshore_0.0015_right_transects_model_stratsample-by-lat.csv')"
   ]
  },
  {
   "cell_type": "code",
   "execution_count": 600,
   "id": "b48f53f9",
   "metadata": {},
   "outputs": [],
   "source": [
    "df.to_csv('../model_data/ML_slope_wave_atlantic_2022-9-7_Data_Post2012_VerifiedOnshore_0.0015_right_transects_model_stratsample-by-lat-by-gs.csv')"
   ]
  },
  {
   "cell_type": "code",
   "execution_count": null,
   "id": "986ffdc9",
   "metadata": {},
   "outputs": [],
   "source": []
  },
  {
   "cell_type": "code",
   "execution_count": null,
   "id": "9fd9d35d",
   "metadata": {},
   "outputs": [],
   "source": []
  }
 ],
 "metadata": {
  "kernelspec": {
   "display_name": "Python 3 (ipykernel)",
   "language": "python",
   "name": "python3"
  },
  "language_info": {
   "codemirror_mode": {
    "name": "ipython",
    "version": 3
   },
   "file_extension": ".py",
   "mimetype": "text/x-python",
   "name": "python",
   "nbconvert_exporter": "python",
   "pygments_lexer": "ipython3",
   "version": "3.10.4"
  }
 },
 "nbformat": 4,
 "nbformat_minor": 5
}
