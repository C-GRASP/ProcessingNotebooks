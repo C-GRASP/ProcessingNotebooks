{
 "cells": [
  {
   "cell_type": "code",
   "execution_count": null,
   "id": "17eb988f-f881-4768-9485-2fc04eb4440d",
   "metadata": {},
   "outputs": [],
   "source": []
  },
  {
   "cell_type": "code",
   "execution_count": 2,
   "id": "186241fe-1f1f-46b1-9bfe-b7b078088071",
   "metadata": {},
   "outputs": [],
   "source": [
    "import pandas as pd\n",
    "import matplotlib.pyplot as plt\n",
    "import numpy as np\n",
    "\n",
    "from sklearn import ensemble\n",
    "from sklearn.metrics import mean_squared_error\n",
    "\n",
    "import seaborn as sns\n",
    "from sklearn import preprocessing\n",
    "import geopandas as gpd\n",
    "from geopandas.tools import sjoin"
   ]
  },
  {
   "cell_type": "code",
   "execution_count": 3,
   "id": "8c6b106c-753f-4673-8fbc-68425fb9d707",
   "metadata": {},
   "outputs": [],
   "source": [
    "dataset = '../../../orig_data/australia/dataset_Australia_all.geojson'\n",
    "\n",
    "dfOz = gpd.read_file(dataset)"
   ]
  },
  {
   "cell_type": "code",
   "execution_count": 4,
   "id": "ef4b6a52-fb2c-496d-8b6f-49ba604bd72f",
   "metadata": {},
   "outputs": [
    {
     "data": {
      "text/plain": [
       "1280"
      ]
     },
     "execution_count": 4,
     "metadata": {},
     "output_type": "execute_result"
    }
   ],
   "source": [
    "len(dfOz)"
   ]
  },
  {
   "cell_type": "code",
   "execution_count": 5,
   "id": "2217d2f4-0a40-47f2-9d7e-2481a800a72c",
   "metadata": {},
   "outputs": [],
   "source": [
    "model1out = np.load('../model_out/dataset_SEUS_E_Aus_coast_model1.npy', allow_pickle=True).item(0)\n",
    "model2out = np.load('../model_out/dataset_SEUS_E_Aus_coast_model2.npy', allow_pickle=True).item(0)\n",
    "model3out = np.load('../model_out/dataset_SEUS_E_Aus_coast_model3.npy', allow_pickle=True).item(0)\n",
    "model4out = np.load('../model_out/dataset_SEUS_E_Aus_coast_model4.npy', allow_pickle=True).item(0)\n",
    "model5out = np.load('../model_out/dataset_SEUS_E_Aus_coast_model5.npy', allow_pickle=True).item(0)\n",
    "model6out = np.load('../model_out/dataset_SEUS_E_Aus_coast_model6.npy', allow_pickle=True).item(0)\n",
    "model7out = np.load('../model_out/dataset_SEUS_E_Aus_coast_model7.npy', allow_pickle=True).item(0)\n",
    "model8out = np.load('../model_out/dataset_SEUS_E_Aus_coast_model8.npy', allow_pickle=True).item(0)\n"
   ]
  },
  {
   "cell_type": "code",
   "execution_count": 6,
   "id": "07c2f324-e1e1-4a46-9950-81528159a445",
   "metadata": {},
   "outputs": [
    {
     "data": {
      "text/plain": [
       "1226"
      ]
     },
     "execution_count": 6,
     "metadata": {},
     "output_type": "execute_result"
    }
   ],
   "source": [
    "dfOz = dfOz[dfOz['d50']<=1]\n",
    "len(dfOz)"
   ]
  },
  {
   "cell_type": "code",
   "execution_count": 7,
   "id": "4db8ecae-cbfd-46e9-9e9f-8375cd87d46c",
   "metadata": {},
   "outputs": [
    {
     "data": {
      "text/plain": [
       "902"
      ]
     },
     "execution_count": 7,
     "metadata": {},
     "output_type": "execute_result"
    }
   ],
   "source": [
    "ind = np.where(dfOz['quality_flag']!='Low')[0]\n",
    "len(ind)\n",
    "dfOz = dfOz.iloc[ind]\n",
    "len(dfOz)"
   ]
  },
  {
   "cell_type": "code",
   "execution_count": 8,
   "id": "b8f9885b-612d-4d09-b76b-1e5d27fc5179",
   "metadata": {},
   "outputs": [
    {
     "data": {
      "text/plain": [
       "809"
      ]
     },
     "execution_count": 8,
     "metadata": {},
     "output_type": "execute_result"
    }
   ],
   "source": [
    "\n",
    "ind = np.where(dfOz['distance_to_sample']<1000)[0]\n",
    "len(ind)\n",
    "dfOz = dfOz.iloc[ind]\n",
    "len(dfOz)\n",
    "\n",
    "dfOz = dfOz.dropna()\n",
    "len(dfOz)"
   ]
  },
  {
   "cell_type": "code",
   "execution_count": null,
   "id": "e49ff2d2-7329-4f18-8488-137106fe0668",
   "metadata": {},
   "outputs": [],
   "source": []
  },
  {
   "cell_type": "code",
   "execution_count": 9,
   "id": "3e2974a8-2d0f-40f0-92ce-3330c3dead7f",
   "metadata": {},
   "outputs": [],
   "source": [
    "## load Australia compartments"
   ]
  },
  {
   "cell_type": "code",
   "execution_count": 10,
   "id": "91db2798-a894-4f54-9a55-6dcc5f523a9d",
   "metadata": {},
   "outputs": [],
   "source": [
    "regions = '../../../orig_data/australia/sediment_compartments/Regions.geojson'\n",
    "Oz_regions = gpd.read_file(regions)"
   ]
  },
  {
   "cell_type": "code",
   "execution_count": 11,
   "id": "9b6f9fca-63e0-4a9a-bb53-53ce10518c9c",
   "metadata": {},
   "outputs": [
    {
     "data": {
      "text/html": [
       "<div>\n",
       "<style scoped>\n",
       "    .dataframe tbody tr th:only-of-type {\n",
       "        vertical-align: middle;\n",
       "    }\n",
       "\n",
       "    .dataframe tbody tr th {\n",
       "        vertical-align: top;\n",
       "    }\n",
       "\n",
       "    .dataframe thead th {\n",
       "        text-align: right;\n",
       "    }\n",
       "</style>\n",
       "<table border=\"1\" class=\"dataframe\">\n",
       "  <thead>\n",
       "    <tr style=\"text-align: right;\">\n",
       "      <th></th>\n",
       "      <th>ID_Region</th>\n",
       "      <th>Descriptio</th>\n",
       "      <th>geometry</th>\n",
       "    </tr>\n",
       "  </thead>\n",
       "  <tbody>\n",
       "    <tr>\n",
       "      <th>0</th>\n",
       "      <td>5</td>\n",
       "      <td>North-western Coasts</td>\n",
       "      <td>MULTIPOLYGON (((136.44380 -12.44479, 136.06903...</td>\n",
       "    </tr>\n",
       "    <tr>\n",
       "      <th>1</th>\n",
       "      <td>6</td>\n",
       "      <td>Carpentaria Gulf Coasts</td>\n",
       "      <td>MULTIPOLYGON (((141.57857 -10.57157, 142.20423...</td>\n",
       "    </tr>\n",
       "    <tr>\n",
       "      <th>2</th>\n",
       "      <td>1</td>\n",
       "      <td>North-eastern Coasts</td>\n",
       "      <td>MULTIPOLYGON (((144.46248 -10.01002, 144.68821...</td>\n",
       "    </tr>\n",
       "    <tr>\n",
       "      <th>3</th>\n",
       "      <td>2</td>\n",
       "      <td>South-eastern Coasts</td>\n",
       "      <td>MULTIPOLYGON (((153.95712 -24.57054, 154.62808...</td>\n",
       "    </tr>\n",
       "    <tr>\n",
       "      <th>4</th>\n",
       "      <td>3</td>\n",
       "      <td>Southern Coasts</td>\n",
       "      <td>MULTIPOLYGON (((144.49868 -40.12688, 144.77777...</td>\n",
       "    </tr>\n",
       "    <tr>\n",
       "      <th>5</th>\n",
       "      <td>3</td>\n",
       "      <td>Southern Coasts</td>\n",
       "      <td>MULTIPOLYGON (((126.94008 -29.99103, 129.78115...</td>\n",
       "    </tr>\n",
       "    <tr>\n",
       "      <th>6</th>\n",
       "      <td>4</td>\n",
       "      <td>Western Coasts</td>\n",
       "      <td>MULTIPOLYGON (((115.13497 -34.38053, 114.42390...</td>\n",
       "    </tr>\n",
       "  </tbody>\n",
       "</table>\n",
       "</div>"
      ],
      "text/plain": [
       "   ID_Region               Descriptio  \\\n",
       "0          5     North-western Coasts   \n",
       "1          6  Carpentaria Gulf Coasts   \n",
       "2          1     North-eastern Coasts   \n",
       "3          2     South-eastern Coasts   \n",
       "4          3          Southern Coasts   \n",
       "5          3          Southern Coasts   \n",
       "6          4           Western Coasts   \n",
       "\n",
       "                                            geometry  \n",
       "0  MULTIPOLYGON (((136.44380 -12.44479, 136.06903...  \n",
       "1  MULTIPOLYGON (((141.57857 -10.57157, 142.20423...  \n",
       "2  MULTIPOLYGON (((144.46248 -10.01002, 144.68821...  \n",
       "3  MULTIPOLYGON (((153.95712 -24.57054, 154.62808...  \n",
       "4  MULTIPOLYGON (((144.49868 -40.12688, 144.77777...  \n",
       "5  MULTIPOLYGON (((126.94008 -29.99103, 129.78115...  \n",
       "6  MULTIPOLYGON (((115.13497 -34.38053, 114.42390...  "
      ]
     },
     "execution_count": 11,
     "metadata": {},
     "output_type": "execute_result"
    }
   ],
   "source": [
    "Oz_regions"
   ]
  },
  {
   "cell_type": "code",
   "execution_count": null,
   "id": "42782703-666e-4fcf-be23-7ba8608cd069",
   "metadata": {},
   "outputs": [],
   "source": []
  },
  {
   "cell_type": "code",
   "execution_count": 12,
   "id": "3ac1bdbe-10db-480a-b0eb-cfeb4261a699",
   "metadata": {},
   "outputs": [],
   "source": [
    "# gdfOz = gpd.GeoDataFrame( dfOz, geometry=gpd.points_from_xy(dfOz.longitude, dfOz.latitude)) "
   ]
  },
  {
   "cell_type": "code",
   "execution_count": 13,
   "id": "5d3df1aa-7a45-41c6-81e3-fb0ba162e317",
   "metadata": {},
   "outputs": [
    {
     "name": "stderr",
     "output_type": "stream",
     "text": [
      "C:\\Users\\dbuscombe\\AppData\\Local\\Temp\\8\\ipykernel_19920\\1567900138.py:1: UserWarning: CRS mismatch between the CRS of left geometries and the CRS of right geometries.\n",
      "Use `to_crs()` to reproject one of the input geometries to match the CRS of the other.\n",
      "\n",
      "Left CRS: EPSG:4326\n",
      "Right CRS: EPSG:4283\n",
      "\n",
      "  dfOzregions = sjoin(dfOz, Oz_regions, how='left')\n"
     ]
    }
   ],
   "source": [
    "dfOzregions = sjoin(dfOz, Oz_regions, how='left')"
   ]
  },
  {
   "cell_type": "code",
   "execution_count": 14,
   "id": "d95d08a3-4bb2-4c03-b728-e463b5d23c5e",
   "metadata": {},
   "outputs": [
    {
     "data": {
      "text/plain": [
       "Index(['beach_id', 'beach_slope_average', 'width_ci_average', 'quality_flag',\n",
       "       'mstr', 'hsig_median', 'prc_mstr_obs', 'min_tide_obs', 'max_tide_obs',\n",
       "       'sl_points_average', 'beach_length', 'coastal_region',\n",
       "       'primary_comp_id', 'secondary_comp_id', 'd50', 'distance_to_sample',\n",
       "       'latitude', 'longitude', 'Hs_mean', 'Hs_max', 'Tp_mean', 'Wdir_mean',\n",
       "       'Wdir_weighted_mean', 'geometry', 'index_right', 'ID_Region',\n",
       "       'Descriptio'],\n",
       "      dtype='object')"
      ]
     },
     "execution_count": 14,
     "metadata": {},
     "output_type": "execute_result"
    }
   ],
   "source": [
    "dfOzregions.keys()"
   ]
  },
  {
   "cell_type": "code",
   "execution_count": 15,
   "id": "fc355f39-fed0-4382-9713-92845a211de2",
   "metadata": {},
   "outputs": [
    {
     "data": {
      "text/plain": [
       "163"
      ]
     },
     "execution_count": 15,
     "metadata": {},
     "output_type": "execute_result"
    }
   ],
   "source": [
    "dfOzNE = dfOzregions[dfOzregions['ID_Region']==1]\n",
    "len(dfOzNE)"
   ]
  },
  {
   "cell_type": "code",
   "execution_count": 16,
   "id": "5fa89b3d-d9f6-4dfb-bb6f-6a14e18f0cb3",
   "metadata": {},
   "outputs": [
    {
     "data": {
      "text/plain": [
       "289"
      ]
     },
     "execution_count": 16,
     "metadata": {},
     "output_type": "execute_result"
    }
   ],
   "source": [
    "dfOzSE = dfOzregions[dfOzregions['ID_Region']==2]\n",
    "len(dfOzSE)"
   ]
  },
  {
   "cell_type": "code",
   "execution_count": 17,
   "id": "247be017-8b7b-49ab-87d5-e602df9385a8",
   "metadata": {},
   "outputs": [
    {
     "data": {
      "text/plain": [
       "179"
      ]
     },
     "execution_count": 17,
     "metadata": {},
     "output_type": "execute_result"
    }
   ],
   "source": [
    "dfOzS = dfOzregions[dfOzregions['ID_Region']==3]\n",
    "len(dfOzS)"
   ]
  },
  {
   "cell_type": "code",
   "execution_count": 18,
   "id": "e0df9054-5ea3-4ff1-b336-e55908a5344e",
   "metadata": {},
   "outputs": [
    {
     "data": {
      "text/plain": [
       "60"
      ]
     },
     "execution_count": 18,
     "metadata": {},
     "output_type": "execute_result"
    }
   ],
   "source": [
    "dfOzW = dfOzregions[dfOzregions['ID_Region']==4]\n",
    "len(dfOzW)"
   ]
  },
  {
   "cell_type": "code",
   "execution_count": 19,
   "id": "8dd02656-0f78-43f7-af3d-7d847012cc09",
   "metadata": {},
   "outputs": [
    {
     "data": {
      "text/plain": [
       "69"
      ]
     },
     "execution_count": 19,
     "metadata": {},
     "output_type": "execute_result"
    }
   ],
   "source": [
    "dfOzNW = dfOzregions[dfOzregions['ID_Region']==5]\n",
    "len(dfOzNW)"
   ]
  },
  {
   "cell_type": "code",
   "execution_count": 20,
   "id": "6a52b41f-8a65-4864-8f55-518710e3fb3e",
   "metadata": {},
   "outputs": [
    {
     "data": {
      "text/plain": [
       "49"
      ]
     },
     "execution_count": 20,
     "metadata": {},
     "output_type": "execute_result"
    }
   ],
   "source": [
    "dfOzCG = dfOzregions[dfOzregions['ID_Region']==6] #Carpentaria Gulf\n",
    "len(dfOzCG)"
   ]
  },
  {
   "cell_type": "code",
   "execution_count": 31,
   "id": "42ee853c",
   "metadata": {},
   "outputs": [
    {
     "data": {
      "text/plain": [
       "277"
      ]
     },
     "execution_count": 31,
     "metadata": {},
     "output_type": "execute_result"
    }
   ],
   "source": [
    "dataset = '../../../orig_data/australia/dataset_Australia_East_coast.geojson'\n",
    "\n",
    "dfOzE = gpd.read_file(dataset)\n",
    "\n",
    "dfOzE = dfOzE[dfOzE['d50']<=.9] #2\n",
    "len(dfOzE)"
   ]
  },
  {
   "cell_type": "code",
   "execution_count": 50,
   "id": "cd55c7a1",
   "metadata": {},
   "outputs": [
    {
     "data": {
      "image/png": "[encoded data removed]",
      "text/plain": [
       "<Figure size 864x720 with 1 Axes>"
      ]
     },
     "metadata": {
      "needs_background": "light"
     },
     "output_type": "display_data"
    }
   ],
   "source": [
    "plt.figure(figsize=(12,10))\n",
    "plt.plot(dfOzW['longitude'], dfOzW['latitude'],'bo', label='West (N = {})'.format(len(dfOzW)))\n",
    "plt.plot(dfOzNW['longitude'], dfOzNW['latitude'],'go', label='Northwest (N = {})'.format(len(dfOzNW)))\n",
    "plt.plot(dfOzCG['longitude'], dfOzCG['latitude'],'ro', label='Gulf of Carpentaria (N = {})'.format(len(dfOzCG)))\n",
    "plt.plot(dfOzNE['longitude'], dfOzNE['latitude'],'co', label='Northeast (N = {})'.format(len(dfOzNE)))\n",
    "plt.plot(dfOzSE['longitude'], dfOzSE['latitude'],'mo', label='Southeast (N = {})'.format(len(dfOzSE)))\n",
    "plt.plot(dfOzS['longitude'], dfOzS['latitude'],'ko', label='South (N = {})'.format(len(dfOzS)))\n",
    "plt.plot(dfOzE['longitude'], dfOzE['latitude'],'y-', lw=3, label='East (N = {})'.format(len(dfOzE)))\n",
    "\n",
    "plt.legend(loc=3)\n",
    "plt.xlabel('Longitude (degrees)')\n",
    "plt.ylabel('Latitude (degrees)')\n",
    "# fig.tight_layout()\n",
    "plt.savefig('../data_plots/OzRegions.jpg', dpi=300, bbox_inches='tight')\n"
   ]
  },
  {
   "cell_type": "code",
   "execution_count": null,
   "id": "7087b436",
   "metadata": {},
   "outputs": [],
   "source": []
  },
  {
   "cell_type": "code",
   "execution_count": null,
   "id": "5bda78d7",
   "metadata": {},
   "outputs": [],
   "source": []
  },
  {
   "cell_type": "code",
   "execution_count": null,
   "id": "18dc4ad7",
   "metadata": {},
   "outputs": [],
   "source": []
  },
  {
   "cell_type": "code",
   "execution_count": null,
   "id": "2e295b7d",
   "metadata": {},
   "outputs": [],
   "source": []
  },
  {
   "cell_type": "code",
   "execution_count": 39,
   "id": "e1cf55e8-aad2-47f2-9c14-0136b5070675",
   "metadata": {},
   "outputs": [
    {
     "name": "stderr",
     "output_type": "stream",
     "text": [
      "C:\\Users\\dbuscombe\\AppData\\Local\\Temp\\8\\ipykernel_19920\\3056690788.py:1: SettingWithCopyWarning: \n",
      "A value is trying to be set on a copy of a slice from a DataFrame\n",
      "\n",
      "See the caveats in the documentation: https://pandas.pydata.org/pandas-docs/stable/user_guide/indexing.html#returning-a-view-versus-a-copy\n",
      "  dfOzNE.rename(columns = {'Hs_max':'hs_max', 'Hs_mean':'hs_mean', 'Tp_mean': 'tp', 'Wdir_mean':'dir'}, inplace = True)\n"
     ]
    }
   ],
   "source": [
    "dfOzNE.rename(columns = {'Hs_max':'hs_max', 'Hs_mean':'hs_mean', 'Tp_mean': 'tp', 'Wdir_mean':'dir'}, inplace = True)\n",
    "dfOzNE = dfOzNE[['latitude', 'longitude', 'd50',\n",
    "        'beach_slope_average', 'mstr', \n",
    "        'hs_max', 'hs_mean', 'dir', 'tp']].copy()"
   ]
  },
  {
   "cell_type": "code",
   "execution_count": 40,
   "id": "de2742c8-cd57-43df-b7be-6fc0a0f54a93",
   "metadata": {},
   "outputs": [
    {
     "name": "stderr",
     "output_type": "stream",
     "text": [
      "C:\\Users\\dbuscombe\\AppData\\Local\\Temp\\8\\ipykernel_19920\\1182091888.py:1: SettingWithCopyWarning: \n",
      "A value is trying to be set on a copy of a slice from a DataFrame\n",
      "\n",
      "See the caveats in the documentation: https://pandas.pydata.org/pandas-docs/stable/user_guide/indexing.html#returning-a-view-versus-a-copy\n",
      "  dfOzSE.rename(columns = {'Hs_max':'hs_max', 'Hs_mean':'hs_mean', 'Tp_mean': 'tp', 'Wdir_mean':'dir'}, inplace = True)\n"
     ]
    }
   ],
   "source": [
    "dfOzSE.rename(columns = {'Hs_max':'hs_max', 'Hs_mean':'hs_mean', 'Tp_mean': 'tp', 'Wdir_mean':'dir'}, inplace = True)\n",
    "dfOzSE = dfOzSE[['latitude', 'longitude', 'd50',\n",
    "        'beach_slope_average', 'mstr', \n",
    "        'hs_max', 'hs_mean', 'dir', 'tp']].copy()"
   ]
  },
  {
   "cell_type": "code",
   "execution_count": 41,
   "id": "b3b3319c-8c4f-4f37-8f98-3f948c1d81b5",
   "metadata": {},
   "outputs": [
    {
     "name": "stderr",
     "output_type": "stream",
     "text": [
      "C:\\Users\\dbuscombe\\AppData\\Local\\Temp\\8\\ipykernel_19920\\3832811015.py:1: SettingWithCopyWarning: \n",
      "A value is trying to be set on a copy of a slice from a DataFrame\n",
      "\n",
      "See the caveats in the documentation: https://pandas.pydata.org/pandas-docs/stable/user_guide/indexing.html#returning-a-view-versus-a-copy\n",
      "  dfOzNW.rename(columns = {'Hs_max':'hs_max', 'Hs_mean':'hs_mean', 'Tp_mean': 'tp', 'Wdir_mean':'dir'}, inplace = True)\n"
     ]
    }
   ],
   "source": [
    "dfOzNW.rename(columns = {'Hs_max':'hs_max', 'Hs_mean':'hs_mean', 'Tp_mean': 'tp', 'Wdir_mean':'dir'}, inplace = True)\n",
    "dfOzNW = dfOzNW[['latitude', 'longitude', 'd50',\n",
    "        'beach_slope_average', 'mstr', \n",
    "        'hs_max', 'hs_mean', 'dir', 'tp']].copy()"
   ]
  },
  {
   "cell_type": "code",
   "execution_count": 42,
   "id": "83261f19-ef2c-42de-97b8-332ca1f650c3",
   "metadata": {},
   "outputs": [
    {
     "name": "stderr",
     "output_type": "stream",
     "text": [
      "C:\\Users\\dbuscombe\\AppData\\Local\\Temp\\8\\ipykernel_19920\\3242162716.py:1: SettingWithCopyWarning: \n",
      "A value is trying to be set on a copy of a slice from a DataFrame\n",
      "\n",
      "See the caveats in the documentation: https://pandas.pydata.org/pandas-docs/stable/user_guide/indexing.html#returning-a-view-versus-a-copy\n",
      "  dfOzS.rename(columns = {'Hs_max':'hs_max', 'Hs_mean':'hs_mean', 'Tp_mean': 'tp', 'Wdir_mean':'dir'}, inplace = True)\n"
     ]
    }
   ],
   "source": [
    "dfOzS.rename(columns = {'Hs_max':'hs_max', 'Hs_mean':'hs_mean', 'Tp_mean': 'tp', 'Wdir_mean':'dir'}, inplace = True)\n",
    "dfOzS = dfOzS[['latitude', 'longitude', 'd50',\n",
    "        'beach_slope_average', 'mstr', \n",
    "        'hs_max', 'hs_mean', 'dir', 'tp']].copy()"
   ]
  },
  {
   "cell_type": "code",
   "execution_count": 43,
   "id": "8c160a16-3185-432c-9e3f-f04dc3a27baa",
   "metadata": {},
   "outputs": [
    {
     "name": "stderr",
     "output_type": "stream",
     "text": [
      "C:\\Users\\dbuscombe\\AppData\\Local\\Temp\\8\\ipykernel_19920\\1104180197.py:1: SettingWithCopyWarning: \n",
      "A value is trying to be set on a copy of a slice from a DataFrame\n",
      "\n",
      "See the caveats in the documentation: https://pandas.pydata.org/pandas-docs/stable/user_guide/indexing.html#returning-a-view-versus-a-copy\n",
      "  dfOzW.rename(columns = {'Hs_max':'hs_max', 'Hs_mean':'hs_mean', 'Tp_mean': 'tp', 'Wdir_mean':'dir'}, inplace = True)\n"
     ]
    }
   ],
   "source": [
    "dfOzW.rename(columns = {'Hs_max':'hs_max', 'Hs_mean':'hs_mean', 'Tp_mean': 'tp', 'Wdir_mean':'dir'}, inplace = True)\n",
    "dfOzW = dfOzW[['latitude', 'longitude', 'd50',\n",
    "        'beach_slope_average', 'mstr', \n",
    "        'hs_max', 'hs_mean', 'dir', 'tp']].copy()"
   ]
  },
  {
   "cell_type": "code",
   "execution_count": 44,
   "id": "ffb599cf-ec18-4f83-b3c1-9e35be324369",
   "metadata": {},
   "outputs": [
    {
     "name": "stderr",
     "output_type": "stream",
     "text": [
      "C:\\Users\\dbuscombe\\AppData\\Local\\Temp\\8\\ipykernel_19920\\3638992341.py:1: SettingWithCopyWarning: \n",
      "A value is trying to be set on a copy of a slice from a DataFrame\n",
      "\n",
      "See the caveats in the documentation: https://pandas.pydata.org/pandas-docs/stable/user_guide/indexing.html#returning-a-view-versus-a-copy\n",
      "  dfOzCG.rename(columns = {'Hs_max':'hs_max', 'Hs_mean':'hs_mean', 'Tp_mean': 'tp', 'Wdir_mean':'dir'}, inplace = True)\n"
     ]
    }
   ],
   "source": [
    "dfOzCG.rename(columns = {'Hs_max':'hs_max', 'Hs_mean':'hs_mean', 'Tp_mean': 'tp', 'Wdir_mean':'dir'}, inplace = True)\n",
    "dfOzCG = dfOzCG[['latitude', 'longitude', 'd50',\n",
    "        'beach_slope_average', 'mstr', \n",
    "        'hs_max', 'hs_mean', 'dir', 'tp']].copy()"
   ]
  },
  {
   "cell_type": "code",
   "execution_count": 54,
   "id": "f4ee37b6-3fb1-4d62-ab7f-0c8b081d768e",
   "metadata": {},
   "outputs": [
    {
     "data": {
      "text/plain": [
       "Index(['beach_id', 'beach_slope_average', 'width_ci_average', 'quality_flag',\n",
       "       'mstr', 'hsig_median', 'prc_mstr_obs', 'min_tide_obs', 'max_tide_obs',\n",
       "       'sl_points_average', 'beach_length', 'coastal_region',\n",
       "       'primary_comp_id', 'secondary_comp_id', 'd50', 'distance_to_sample',\n",
       "       'latitude', 'longitude', 'Hs_mean', 'Hs_max', 'Tp_mean', 'Wdir_mean',\n",
       "       'Wdir_weighted_mean', 'geometry'],\n",
       "      dtype='object')"
      ]
     },
     "execution_count": 54,
     "metadata": {},
     "output_type": "execute_result"
    }
   ],
   "source": [
    "dfOz.keys()"
   ]
  },
  {
   "cell_type": "code",
   "execution_count": 55,
   "id": "53e54c4b-b676-416e-89dd-3712d3e9518d",
   "metadata": {},
   "outputs": [
    {
     "name": "stdout",
     "output_type": "stream",
     "text": [
      "(5, 809)\n",
      "(4, 809)\n"
     ]
    },
    {
     "data": {
      "text/plain": [
       "[<matplotlib.lines.Line2D at 0x18148b6e680>]"
      ]
     },
     "execution_count": 55,
     "metadata": {},
     "output_type": "execute_result"
    },
    {
     "data": {
      "image/png": "[encoded data removed]",
      "text/plain": [
       "<Figure size 432x288 with 1 Axes>"
      ]
     },
     "metadata": {
      "needs_background": "light"
     },
     "output_type": "display_data"
    }
   ],
   "source": [
    "rand = np.random.randn(len(dfOz))\n",
    "\n",
    "X = np.stack((dfOz['beach_slope_average'], dfOz['mstr'], dfOz['Tp_mean'], dfOz['Hs_mean'],  rand))\n",
    "X = X[:,~np.isnan(X).any(axis=0)]\n",
    "print(X[:,:].shape)\n",
    "\n",
    "ds_est8 = model8out['model'].predict(X.T)\n",
    "\n",
    "\n",
    "X = np.stack((dfOz['beach_slope_average'], dfOz['mstr'], dfOz['Tp_mean'], rand))\n",
    "X = X[:,~np.isnan(X).any(axis=0)]\n",
    "print(X[:,:].shape)\n",
    "\n",
    "ds_est4 = model4out['model'].predict(X.T)\n",
    "\n",
    "\n",
    "plt.plot(dfOz['d50'], ds_est8,'ko')\n",
    "plt.plot(dfOz['d50'], ds_est4,'gp')\n",
    "plt.xlim(0,1.1); plt.ylim(0,1.1)\n",
    "xl=plt.xlim()\n",
    "plt.plot(xl,xl,'r--')"
   ]
  },
  {
   "cell_type": "code",
   "execution_count": 45,
   "id": "d78211d5-1b30-45bd-bf4d-0f11195dadff",
   "metadata": {},
   "outputs": [
    {
     "name": "stdout",
     "output_type": "stream",
     "text": [
      "(5, 60)\n",
      "(4, 60)\n"
     ]
    },
    {
     "data": {
      "text/plain": [
       "[<matplotlib.lines.Line2D at 0x1814634ed70>]"
      ]
     },
     "execution_count": 45,
     "metadata": {},
     "output_type": "execute_result"
    },
    {
     "data": {
      "image/png": "[encoded data removed]",
      "text/plain": [
       "<Figure size 432x288 with 1 Axes>"
      ]
     },
     "metadata": {
      "needs_background": "light"
     },
     "output_type": "display_data"
    }
   ],
   "source": [
    "rand = np.random.randn(len(dfOzW))\n",
    "\n",
    "X = np.stack((dfOzW['beach_slope_average'], dfOzW['mstr'], dfOzW['tp'], dfOzW['hs_mean'],  rand))\n",
    "X = X[:,~np.isnan(X).any(axis=0)]\n",
    "print(X[:,:].shape)\n",
    "\n",
    "ds_est8 = model8out['model'].predict(X.T)\n",
    "\n",
    "\n",
    "X = np.stack((dfOzW['beach_slope_average'], dfOzW['mstr'], dfOzW['tp'], rand))\n",
    "X = X[:,~np.isnan(X).any(axis=0)]\n",
    "print(X[:,:].shape)\n",
    "\n",
    "ds_est4 = model4out['model'].predict(X.T)\n",
    "\n",
    "\n",
    "plt.plot(dfOzW['d50'], ds_est8,'ko')\n",
    "plt.plot(dfOzW['d50'], ds_est4,'gp')\n",
    "plt.xlim(0,1.1); plt.ylim(0,1.1)\n",
    "xl=plt.xlim()\n",
    "plt.plot(xl,xl,'r--')"
   ]
  },
  {
   "cell_type": "code",
   "execution_count": 46,
   "id": "5caa035f-bee2-4ab1-96d8-2f0309d36014",
   "metadata": {},
   "outputs": [
    {
     "name": "stdout",
     "output_type": "stream",
     "text": [
      "(5, 179)\n",
      "(4, 179)\n"
     ]
    },
    {
     "data": {
      "text/plain": [
       "[<matplotlib.lines.Line2D at 0x181463b9a20>]"
      ]
     },
     "execution_count": 46,
     "metadata": {},
     "output_type": "execute_result"
    },
    {
     "data": {
      "image/png": "[encoded data removed]",
      "text/plain": [
       "<Figure size 432x288 with 1 Axes>"
      ]
     },
     "metadata": {
      "needs_background": "light"
     },
     "output_type": "display_data"
    }
   ],
   "source": [
    "rand = np.random.randn(len(dfOzS))\n",
    "\n",
    "X = np.stack((dfOzS['beach_slope_average'], dfOzS['mstr'], dfOzS['tp'], dfOzS['hs_mean'],  rand))\n",
    "X = X[:,~np.isnan(X).any(axis=0)]\n",
    "print(X[:,:].shape)\n",
    "\n",
    "ds_est8 = model8out['model'].predict(X.T)\n",
    "\n",
    "\n",
    "X = np.stack((dfOzS['beach_slope_average'], dfOzS['mstr'], dfOzS['tp'], rand))\n",
    "X = X[:,~np.isnan(X).any(axis=0)]\n",
    "print(X[:,:].shape)\n",
    "\n",
    "ds_est4 = model4out['model'].predict(X.T)\n",
    "\n",
    "\n",
    "plt.plot(dfOzS['d50'], ds_est8,'ko')\n",
    "plt.plot(dfOzS['d50'], ds_est4,'gp')\n",
    "plt.xlim(0,1.1); plt.ylim(0,1.1)\n",
    "xl=plt.xlim()\n",
    "plt.plot(xl,xl,'r--')"
   ]
  },
  {
   "cell_type": "code",
   "execution_count": 47,
   "id": "6f9efaa1-e874-4dee-ab80-aea0c2350f0c",
   "metadata": {},
   "outputs": [
    {
     "name": "stdout",
     "output_type": "stream",
     "text": [
      "(5, 289)\n",
      "(4, 289)\n"
     ]
    },
    {
     "data": {
      "text/plain": [
       "[<matplotlib.lines.Line2D at 0x181464289d0>]"
      ]
     },
     "execution_count": 47,
     "metadata": {},
     "output_type": "execute_result"
    },
    {
     "data": {
      "image/png": "[encoded data removed]",
      "text/plain": [
       "<Figure size 432x288 with 1 Axes>"
      ]
     },
     "metadata": {
      "needs_background": "light"
     },
     "output_type": "display_data"
    }
   ],
   "source": [
    "rand = np.random.randn(len(dfOzSE))\n",
    "\n",
    "X = np.stack((dfOzSE['beach_slope_average'], dfOzSE['mstr'], dfOzSE['tp'], dfOzSE['hs_mean'],  rand))\n",
    "X = X[:,~np.isnan(X).any(axis=0)]\n",
    "print(X[:,:].shape)\n",
    "\n",
    "ds_est8 = model8out['model'].predict(X.T)\n",
    "\n",
    "\n",
    "X = np.stack((dfOzSE['beach_slope_average'], dfOzSE['mstr'], dfOzSE['tp'], rand))\n",
    "X = X[:,~np.isnan(X).any(axis=0)]\n",
    "print(X[:,:].shape)\n",
    "\n",
    "ds_est4 = model4out['model'].predict(X.T)\n",
    "\n",
    "\n",
    "plt.plot(dfOzSE['d50'], ds_est8,'ko')\n",
    "plt.plot(dfOzSE['d50'], ds_est4,'gp')\n",
    "plt.xlim(0,1.1); plt.ylim(0,1.1)\n",
    "xl=plt.xlim()\n",
    "plt.plot(xl,xl,'r--')"
   ]
  },
  {
   "cell_type": "code",
   "execution_count": 48,
   "id": "01947a18-5aaa-4ab1-af13-b721797735dc",
   "metadata": {},
   "outputs": [
    {
     "name": "stdout",
     "output_type": "stream",
     "text": [
      "(5, 163)\n",
      "(4, 163)\n"
     ]
    },
    {
     "data": {
      "text/plain": [
       "[<matplotlib.lines.Line2D at 0x18146467910>]"
      ]
     },
     "execution_count": 48,
     "metadata": {},
     "output_type": "execute_result"
    },
    {
     "data": {
      "image/png": "[encoded data removed]",
      "text/plain": [
       "<Figure size 432x288 with 1 Axes>"
      ]
     },
     "metadata": {
      "needs_background": "light"
     },
     "output_type": "display_data"
    }
   ],
   "source": [
    "rand = np.random.randn(len(dfOzNE))\n",
    "\n",
    "X = np.stack((dfOzNE['beach_slope_average'], dfOzNE['mstr'], dfOzNE['tp'], dfOzNE['hs_mean'],  rand))\n",
    "X = X[:,~np.isnan(X).any(axis=0)]\n",
    "print(X[:,:].shape)\n",
    "\n",
    "ds_est8 = model8out['model'].predict(X.T)\n",
    "\n",
    "\n",
    "X = np.stack((dfOzNE['beach_slope_average'], dfOzNE['mstr'], dfOzNE['tp'], rand))\n",
    "X = X[:,~np.isnan(X).any(axis=0)]\n",
    "print(X[:,:].shape)\n",
    "\n",
    "ds_est4 = model4out['model'].predict(X.T)\n",
    "\n",
    "\n",
    "plt.plot(dfOzNE['d50'], ds_est8,'ko')\n",
    "plt.plot(dfOzNE['d50'], ds_est4,'gp')\n",
    "plt.xlim(0,1.1); plt.ylim(0,1.1)\n",
    "xl=plt.xlim()\n",
    "plt.plot(xl,xl,'r--')"
   ]
  },
  {
   "cell_type": "code",
   "execution_count": 49,
   "id": "cffb36ae-dccb-4dc8-b23b-2dcb94991bf2",
   "metadata": {},
   "outputs": [
    {
     "name": "stdout",
     "output_type": "stream",
     "text": [
      "(5, 69)\n",
      "(4, 69)\n"
     ]
    },
    {
     "data": {
      "text/plain": [
       "[<matplotlib.lines.Line2D at 0x181464de8c0>]"
      ]
     },
     "execution_count": 49,
     "metadata": {},
     "output_type": "execute_result"
    },
    {
     "data": {
      "image/png": "[encoded data removed]",
      "text/plain": [
       "<Figure size 432x288 with 1 Axes>"
      ]
     },
     "metadata": {
      "needs_background": "light"
     },
     "output_type": "display_data"
    }
   ],
   "source": [
    "rand = np.random.randn(len(dfOzNW))\n",
    "\n",
    "X = np.stack((dfOzNW['beach_slope_average'], dfOzNW['mstr'], dfOzNW['tp'], dfOzNW['hs_mean'],  rand))\n",
    "X = X[:,~np.isnan(X).any(axis=0)]\n",
    "print(X[:,:].shape)\n",
    "\n",
    "ds_est8 = model8out['model'].predict(X.T)\n",
    "\n",
    "\n",
    "X = np.stack((dfOzNW['beach_slope_average'], dfOzNW['mstr'], dfOzNW['tp'], rand))\n",
    "X = X[:,~np.isnan(X).any(axis=0)]\n",
    "print(X[:,:].shape)\n",
    "\n",
    "ds_est4 = model4out['model'].predict(X.T)\n",
    "\n",
    "\n",
    "plt.plot(dfOzNW['d50'], ds_est8,'ko')\n",
    "plt.plot(dfOzNW['d50'], ds_est4,'gp')\n",
    "plt.xlim(0,1.1); plt.ylim(0,1.1)\n",
    "xl=plt.xlim()\n",
    "plt.plot(xl,xl,'r--')"
   ]
  },
  {
   "cell_type": "code",
   "execution_count": 154,
   "id": "4334ca63-3d13-42e9-b255-d942d3d1dfd5",
   "metadata": {},
   "outputs": [
    {
     "name": "stdout",
     "output_type": "stream",
     "text": [
      "(5, 49)\n",
      "(4, 49)\n"
     ]
    },
    {
     "data": {
      "text/plain": [
       "[<matplotlib.lines.Line2D at 0x1d657bdc8b0>]"
      ]
     },
     "execution_count": 154,
     "metadata": {},
     "output_type": "execute_result"
    },
    {
     "data": {
      "image/png": "[encoded data removed]",
      "text/plain": [
       "<Figure size 432x288 with 1 Axes>"
      ]
     },
     "metadata": {
      "needs_background": "light"
     },
     "output_type": "display_data"
    }
   ],
   "source": [
    "rand = np.random.randn(len(dfOzCG))\n",
    "\n",
    "X = np.stack((dfOzCG['beach_slope_average'], dfOzCG['mstr'], dfOzCG['tp'], dfOzCG['hs_mean'],  rand))\n",
    "X = X[:,~np.isnan(X).any(axis=0)]\n",
    "print(X[:,:].shape)\n",
    "\n",
    "ds_est8 = model8out['model'].predict(X.T)\n",
    "\n",
    "\n",
    "X = np.stack((dfOzCG['beach_slope_average'], dfOzCG['mstr'], dfOzCG['tp'], rand))\n",
    "X = X[:,~np.isnan(X).any(axis=0)]\n",
    "print(X[:,:].shape)\n",
    "\n",
    "ds_est4 = model4out['model'].predict(X.T)\n",
    "\n",
    "\n",
    "plt.plot(dfOzCG['d50'], ds_est8,'ko')\n",
    "plt.plot(dfOzCG['d50'], ds_est4,'gp')\n",
    "plt.xlim(0,1.1); plt.ylim(0,1.1)\n",
    "xl=plt.xlim()\n",
    "plt.plot(xl,xl,'r--')"
   ]
  },
  {
   "cell_type": "code",
   "execution_count": null,
   "id": "cc217438-ba81-4e55-8f84-c6d22a325e4c",
   "metadata": {},
   "outputs": [],
   "source": []
  },
  {
   "cell_type": "code",
   "execution_count": null,
   "id": "9caa93ae-44f7-43f6-8780-5b965337f720",
   "metadata": {},
   "outputs": [],
   "source": []
  },
  {
   "cell_type": "code",
   "execution_count": null,
   "id": "d1bf0c5a-a9bb-405e-8bb0-23d335d31efa",
   "metadata": {},
   "outputs": [],
   "source": []
  }
 ],
 "metadata": {
  "kernelspec": {
   "display_name": "Python 3 (ipykernel)",
   "language": "python",
   "name": "python3"
  },
  "language_info": {
   "codemirror_mode": {
    "name": "ipython",
    "version": 3
   },
   "file_extension": ".py",
   "mimetype": "text/x-python",
   "name": "python",
   "nbconvert_exporter": "python",
   "pygments_lexer": "ipython3",
   "version": "3.10.4"
  }
 },
 "nbformat": 4,
 "nbformat_minor": 5
}
