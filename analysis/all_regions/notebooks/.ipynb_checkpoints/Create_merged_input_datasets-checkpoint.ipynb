{
 "cells": [
  {
   "cell_type": "code",
   "execution_count": 46,
   "id": "e0cd3778",
   "metadata": {},
   "outputs": [],
   "source": [
    "import pandas as pd\n",
    "import matplotlib.pyplot as plt\n",
    "import numpy as np\n",
    "import geopandas as gpd\n",
    "from geopandas.tools import sjoin"
   ]
  },
  {
   "cell_type": "code",
   "execution_count": 47,
   "id": "55adf291",
   "metadata": {},
   "outputs": [],
   "source": [
    "\n",
    "# vectorized haversine function\n",
    "def haversine(lat1, lon1, lat2, lon2, to_radians=True, earth_radius=6371):\n",
    "    \"\"\"\n",
    "    slightly modified version: of http://stackoverflow.com/a/29546836/2901002\n",
    "\n",
    "    Calculate the great circle distance between two points\n",
    "    on the earth (specified in decimal degrees or in radians)\n",
    "\n",
    "    All (lat, lon) coordinates must have numeric dtypes and be of equal length.\n",
    "\n",
    "    \"\"\"\n",
    "    if to_radians:\n",
    "        lat1, lon1, lat2, lon2 = np.radians([lat1, lon1, lat2, lon2])\n",
    "\n",
    "    a = np.sin((lat2-lat1)/2.0)**2 + \\\n",
    "        np.cos(lat1) * np.cos(lat2) * np.sin((lon2-lon1)/2.0)**2\n",
    "\n",
    "    return earth_radius * 2 * np.arcsin(np.sqrt(a))"
   ]
  },
  {
   "cell_type": "markdown",
   "id": "a17067dd",
   "metadata": {},
   "source": [
    "### SE USA"
   ]
  },
  {
   "cell_type": "code",
   "execution_count": 3,
   "id": "983f938e",
   "metadata": {},
   "outputs": [],
   "source": [
    "# dfSEUS = pd.read_csv('../../../analysis/SEusa/model_data_out/ML_slope_wave_atlantic_2022-05-18_Data_Post2012_VerifiedOnshore_0.0015_right_transects_model_stratsample-by-lat.csv')\n",
    "# dfSEUS = pd.read_csv('../model_data/ML_slope_wave_atlantic_2022-05-18_Data_Post2012_VerifiedOnshore_0.0015_right_transects_model_stratsample-by-lat.csv')\n",
    "# dfSEUS = pd.read_csv('../model_data/ML_slope_wave_atlantic_2022-08-31_Data_Post2012_VerifiedOnshore_0.0015_right_transects_model_stratsample-by-lat.csv')\n",
    "# dfSEUS = pd.read_csv('../model_data/ML_slope_wave_atlantic_2022-9-4_Data_Post2012_VerifiedOnshore_0.0015_right_transects_model_stratsample-by-lat.csv')"
   ]
  },
  {
   "cell_type": "code",
   "execution_count": 4,
   "id": "1707c735",
   "metadata": {},
   "outputs": [],
   "source": [
    "\n",
    "# dfSEUS = pd.read_csv('../model_data/ML_slope_wave_atlantic_2022-9-7_Data_Post2012_VerifiedOnshore_0.0015_right_transects_model_stratsample-by-lat-by-gs.csv')"
   ]
  },
  {
   "cell_type": "code",
   "execution_count": 48,
   "id": "67ba7380",
   "metadata": {},
   "outputs": [],
   "source": [
    "dfSEUS = pd.read_csv('../model_data/ML_slope_wave_atlantic_2022-9-20_Data_Post2012_VerifiedOnshore_0.0015_right_transects_model_stratsample-by-lat-by-gs.csv')"
   ]
  },
  {
   "cell_type": "code",
   "execution_count": 49,
   "id": "b4767d01",
   "metadata": {},
   "outputs": [
    {
     "data": {
      "text/plain": [
       "400"
      ]
     },
     "execution_count": 49,
     "metadata": {},
     "output_type": "execute_result"
    }
   ],
   "source": [
    "len(dfSEUS)"
   ]
  },
  {
   "cell_type": "code",
   "execution_count": 50,
   "id": "c0154700",
   "metadata": {},
   "outputs": [
    {
     "data": {
      "text/plain": [
       "1.398605927"
      ]
     },
     "execution_count": 50,
     "metadata": {},
     "output_type": "execute_result"
    }
   ],
   "source": [
    "dfSEUS['d50'].max()"
   ]
  },
  {
   "cell_type": "code",
   "execution_count": 51,
   "id": "4be60e99",
   "metadata": {},
   "outputs": [
    {
     "data": {
      "text/plain": [
       "0.090577125"
      ]
     },
     "execution_count": 51,
     "metadata": {},
     "output_type": "execute_result"
    }
   ],
   "source": [
    "dfSEUS['d50'].min()"
   ]
  },
  {
   "cell_type": "code",
   "execution_count": 52,
   "id": "f99f669c",
   "metadata": {},
   "outputs": [],
   "source": [
    "# df_strat_gs = dfSEUS.copy()\n",
    "\n",
    "# num_cats=11\n",
    "# num_samples_per_category = 30\n",
    "\n",
    "# df_strat_gs['category'] = pd.cut(df_strat_gs['d50'], num_cats)\n",
    "# df_strat_gs = df_strat_gs.groupby(['category']).apply(lambda x: x.sample(num_samples_per_category, replace = True)).reset_index(drop = True)\n",
    "\n",
    "# len(df_strat_gs)"
   ]
  },
  {
   "cell_type": "code",
   "execution_count": 53,
   "id": "7b7fe48e",
   "metadata": {},
   "outputs": [],
   "source": [
    "# df_strat_gs['category']"
   ]
  },
  {
   "cell_type": "code",
   "execution_count": 54,
   "id": "824664ef",
   "metadata": {},
   "outputs": [
    {
     "data": {
      "text/plain": [
       "[<matplotlib.lines.Line2D at 0x2996a8a5180>]"
      ]
     },
     "execution_count": 54,
     "metadata": {},
     "output_type": "execute_result"
    },
    {
     "data": {
      "image/png": "[encoded data removed]",
      "text/plain": [
       "<Figure size 432x288 with 1 Axes>"
      ]
     },
     "metadata": {
      "needs_background": "light"
     },
     "output_type": "display_data"
    }
   ],
   "source": [
    "plt.plot(dfSEUS['longitude'], dfSEUS['latitude'], '.')\n",
    "# plt.plot(df_strat_gs['longitude'], df_strat_gs['latitude'], 'ro')"
   ]
  },
  {
   "cell_type": "code",
   "execution_count": 55,
   "id": "93316014",
   "metadata": {},
   "outputs": [],
   "source": [
    "# dfSEUS = df_strat_gs.copy()\n",
    "# len(dfSEUS)"
   ]
  },
  {
   "cell_type": "code",
   "execution_count": 56,
   "id": "5600a6cd",
   "metadata": {},
   "outputs": [],
   "source": [
    "dfSEUS['code'] = np.ones(len(dfSEUS))"
   ]
  },
  {
   "cell_type": "code",
   "execution_count": 57,
   "id": "1765c4c2",
   "metadata": {},
   "outputs": [],
   "source": [
    "dfSEUS = dfSEUS[['latitude', 'longitude', 'd50',\n",
    "        'beach_slope_average', 'mstr', 'code', 'dataset',\n",
    "         'hs_mean', 'dir', 'tp']].copy() #'hs_max',"
   ]
  },
  {
   "cell_type": "code",
   "execution_count": 58,
   "id": "3257fde0",
   "metadata": {},
   "outputs": [],
   "source": [
    "dfSEUS.to_csv('../model_data/dataset_SE_US_coast_strat_gs.csv')"
   ]
  },
  {
   "cell_type": "code",
   "execution_count": 59,
   "id": "ec3a32b0",
   "metadata": {},
   "outputs": [],
   "source": [
    "rand = np.random.randn(len(dfSEUS))\n",
    "np.save('../model_out/SEUS_rand.npy', rand, allow_pickle=True)\n",
    "\n",
    "# rand = np.load('../model_out/SEUS_rand.npy', allow_pickle=True)\n"
   ]
  },
  {
   "cell_type": "code",
   "execution_count": 60,
   "id": "8d5941b9",
   "metadata": {},
   "outputs": [
    {
     "data": {
      "text/plain": [
       "(0.090577125, 1.398605927)"
      ]
     },
     "execution_count": 60,
     "metadata": {},
     "output_type": "execute_result"
    }
   ],
   "source": [
    "(dfSEUS['d50'].min(), dfSEUS['d50'].max())"
   ]
  },
  {
   "cell_type": "code",
   "execution_count": 61,
   "id": "4bb1dfb9",
   "metadata": {},
   "outputs": [
    {
     "data": {
      "text/plain": [
       "(25.71356689568584, 38.661087088849946)"
      ]
     },
     "execution_count": 61,
     "metadata": {},
     "output_type": "execute_result"
    }
   ],
   "source": [
    "(dfSEUS['latitude'].min(), dfSEUS['latitude'].max())"
   ]
  },
  {
   "cell_type": "code",
   "execution_count": 62,
   "id": "9ba6dc15",
   "metadata": {},
   "outputs": [
    {
     "data": {
      "text/plain": [
       "(-81.4288597633003, -75.03189662141307)"
      ]
     },
     "execution_count": 62,
     "metadata": {},
     "output_type": "execute_result"
    }
   ],
   "source": [
    "(dfSEUS['longitude'].min(), dfSEUS['longitude'].max())"
   ]
  },
  {
   "cell_type": "code",
   "execution_count": 63,
   "id": "94f0b0eb",
   "metadata": {},
   "outputs": [],
   "source": [
    "# dist = haversine(\n",
    "#     dfSEUS['latitude'].min(), dfSEUS['longitude'].min(), dfSEUS['latitude'].max(), dfSEUS['longitude'].max(), \n",
    "#     to_radians=True, earth_radius=6371)\n",
    "\n",
    "# ##km\n",
    "# print(dist)"
   ]
  },
  {
   "cell_type": "code",
   "execution_count": 64,
   "id": "39e07176",
   "metadata": {},
   "outputs": [
    {
     "data": {
      "text/plain": [
       "1871.3475028752084"
      ]
     },
     "execution_count": 64,
     "metadata": {},
     "output_type": "execute_result"
    }
   ],
   "source": [
    "tmp = dfSEUS[['latitude','longitude']]\n",
    "\n",
    "tmp = tmp.sort_values(by='latitude')\n",
    "# print(tmp)\n",
    "\n",
    "D=[]\n",
    "for i in range(len(tmp)-1):\n",
    "    a = tmp.iloc[i]\n",
    "    b = tmp.iloc[i+1]\n",
    "    dist = haversine(\n",
    "            a['latitude'], a['longitude'], b['latitude'], b['longitude'], \n",
    "            to_radians=True, earth_radius=6371)\n",
    "    D.append(dist)\n",
    "    \n",
    "np.sum(D)"
   ]
  },
  {
   "cell_type": "code",
   "execution_count": 65,
   "id": "7e33ef79",
   "metadata": {},
   "outputs": [
    {
     "data": {
      "text/plain": [
       "240.0"
      ]
     },
     "execution_count": 65,
     "metadata": {},
     "output_type": "execute_result"
    }
   ],
   "source": [
    "len(dfSEUS)*.6"
   ]
  },
  {
   "cell_type": "code",
   "execution_count": 66,
   "id": "fbdac8e2",
   "metadata": {},
   "outputs": [
    {
     "data": {
      "text/plain": [
       "160.0"
      ]
     },
     "execution_count": 66,
     "metadata": {},
     "output_type": "execute_result"
    }
   ],
   "source": [
    "len(dfSEUS)*.4"
   ]
  },
  {
   "cell_type": "markdown",
   "id": "ec366189",
   "metadata": {},
   "source": [
    "### E Australia"
   ]
  },
  {
   "cell_type": "code",
   "execution_count": 67,
   "id": "9cfb4f0d",
   "metadata": {},
   "outputs": [],
   "source": [
    "dataset = '../../../orig_data/australia/dataset_Australia_East_coast.geojson'\n",
    "\n",
    "dfOz = gpd.read_file(dataset)\n",
    "\n",
    "# dfOz = dfOz[dfOz['d50']<=.9] #2\n",
    "len(dfOz)\n",
    "\n",
    "sources = ['Short (2022)' for k in dfOz['d50']]\n"
   ]
  },
  {
   "cell_type": "code",
   "execution_count": 68,
   "id": "06d00689",
   "metadata": {},
   "outputs": [
    {
     "data": {
      "text/plain": [
       "279"
      ]
     },
     "execution_count": 68,
     "metadata": {},
     "output_type": "execute_result"
    }
   ],
   "source": [
    "len(dfOz)"
   ]
  },
  {
   "cell_type": "code",
   "execution_count": 69,
   "id": "ab3fbde1",
   "metadata": {},
   "outputs": [],
   "source": [
    "dfOz['dataset'] = sources"
   ]
  },
  {
   "cell_type": "code",
   "execution_count": 70,
   "id": "38d19417",
   "metadata": {},
   "outputs": [
    {
     "data": {
      "text/html": [
       "<div>\n",
       "<style scoped>\n",
       "    .dataframe tbody tr th:only-of-type {\n",
       "        vertical-align: middle;\n",
       "    }\n",
       "\n",
       "    .dataframe tbody tr th {\n",
       "        vertical-align: top;\n",
       "    }\n",
       "\n",
       "    .dataframe thead th {\n",
       "        text-align: right;\n",
       "    }\n",
       "</style>\n",
       "<table border=\"1\" class=\"dataframe\">\n",
       "  <thead>\n",
       "    <tr style=\"text-align: right;\">\n",
       "      <th></th>\n",
       "      <th>beach_id</th>\n",
       "      <th>beach_slope_average</th>\n",
       "      <th>width_ci_average</th>\n",
       "      <th>quality_flag</th>\n",
       "      <th>mstr</th>\n",
       "      <th>hsig_median</th>\n",
       "      <th>prc_mstr_obs</th>\n",
       "      <th>min_tide_obs</th>\n",
       "      <th>max_tide_obs</th>\n",
       "      <th>sl_points_average</th>\n",
       "      <th>...</th>\n",
       "      <th>distance_to_sample</th>\n",
       "      <th>latitude</th>\n",
       "      <th>longitude</th>\n",
       "      <th>Hs_mean</th>\n",
       "      <th>Hs_max</th>\n",
       "      <th>Tp_mean</th>\n",
       "      <th>Wdir_mean</th>\n",
       "      <th>Wdir_weighted_mean</th>\n",
       "      <th>geometry</th>\n",
       "      <th>dataset</th>\n",
       "    </tr>\n",
       "  </thead>\n",
       "  <tbody>\n",
       "    <tr>\n",
       "      <th>0</th>\n",
       "      <td>aus0011</td>\n",
       "      <td>0.060145</td>\n",
       "      <td>0.0161</td>\n",
       "      <td>High</td>\n",
       "      <td>2.068996</td>\n",
       "      <td>0.708</td>\n",
       "      <td>90.97</td>\n",
       "      <td>-0.697446</td>\n",
       "      <td>1.184659</td>\n",
       "      <td>673.0</td>\n",
       "      <td>...</td>\n",
       "      <td>0.000000</td>\n",
       "      <td>-25.854332</td>\n",
       "      <td>153.078347</td>\n",
       "      <td>1.565813</td>\n",
       "      <td>4.754424</td>\n",
       "      <td>8.719285</td>\n",
       "      <td>112.555036</td>\n",
       "      <td>117.47011</td>\n",
       "      <td>LINESTRING (153.07112 -25.81160, 153.07118 -25...</td>\n",
       "      <td>Short (2022)</td>\n",
       "    </tr>\n",
       "    <tr>\n",
       "      <th>1</th>\n",
       "      <td>aus0012</td>\n",
       "      <td>0.082709</td>\n",
       "      <td>0.0335</td>\n",
       "      <td>Medium</td>\n",
       "      <td>2.068996</td>\n",
       "      <td>0.616</td>\n",
       "      <td>92.14</td>\n",
       "      <td>-0.721615</td>\n",
       "      <td>1.184659</td>\n",
       "      <td>402.0</td>\n",
       "      <td>...</td>\n",
       "      <td>8.371863</td>\n",
       "      <td>-25.932753</td>\n",
       "      <td>153.134103</td>\n",
       "      <td>1.565813</td>\n",
       "      <td>4.754424</td>\n",
       "      <td>8.719285</td>\n",
       "      <td>112.555036</td>\n",
       "      <td>117.47011</td>\n",
       "      <td>LINESTRING (153.08974 -25.89640, 153.08979 -25...</td>\n",
       "      <td>Short (2022)</td>\n",
       "    </tr>\n",
       "    <tr>\n",
       "      <th>2</th>\n",
       "      <td>aus0013</td>\n",
       "      <td>0.060027</td>\n",
       "      <td>0.0164</td>\n",
       "      <td>High</td>\n",
       "      <td>2.058574</td>\n",
       "      <td>1.294</td>\n",
       "      <td>88.94</td>\n",
       "      <td>-0.652368</td>\n",
       "      <td>1.178532</td>\n",
       "      <td>369.0</td>\n",
       "      <td>...</td>\n",
       "      <td>57.922081</td>\n",
       "      <td>-26.008686</td>\n",
       "      <td>153.153149</td>\n",
       "      <td>1.565813</td>\n",
       "      <td>4.754424</td>\n",
       "      <td>8.719285</td>\n",
       "      <td>112.555036</td>\n",
       "      <td>117.47011</td>\n",
       "      <td>LINESTRING (153.18804 -25.93697, 153.18795 -25...</td>\n",
       "      <td>Short (2022)</td>\n",
       "    </tr>\n",
       "    <tr>\n",
       "      <th>3</th>\n",
       "      <td>aus0014</td>\n",
       "      <td>0.054012</td>\n",
       "      <td>0.0139</td>\n",
       "      <td>High</td>\n",
       "      <td>2.050147</td>\n",
       "      <td>1.172</td>\n",
       "      <td>88.16</td>\n",
       "      <td>-0.650809</td>\n",
       "      <td>1.156622</td>\n",
       "      <td>394.0</td>\n",
       "      <td>...</td>\n",
       "      <td>61.914900</td>\n",
       "      <td>-26.157750</td>\n",
       "      <td>153.097286</td>\n",
       "      <td>1.565813</td>\n",
       "      <td>4.754424</td>\n",
       "      <td>8.719285</td>\n",
       "      <td>112.555036</td>\n",
       "      <td>117.47011</td>\n",
       "      <td>LINESTRING (153.12230 -26.08255, 153.12227 -26...</td>\n",
       "      <td>Short (2022)</td>\n",
       "    </tr>\n",
       "    <tr>\n",
       "      <th>4</th>\n",
       "      <td>aus0015</td>\n",
       "      <td>0.049932</td>\n",
       "      <td>0.0087</td>\n",
       "      <td>High</td>\n",
       "      <td>2.045488</td>\n",
       "      <td>1.152</td>\n",
       "      <td>89.20</td>\n",
       "      <td>-0.650148</td>\n",
       "      <td>1.174339</td>\n",
       "      <td>425.0</td>\n",
       "      <td>...</td>\n",
       "      <td>27.051000</td>\n",
       "      <td>-26.311676</td>\n",
       "      <td>153.068419</td>\n",
       "      <td>1.565813</td>\n",
       "      <td>4.754424</td>\n",
       "      <td>8.719285</td>\n",
       "      <td>112.555036</td>\n",
       "      <td>117.47011</td>\n",
       "      <td>LINESTRING (153.07537 -26.23401, 153.07535 -26...</td>\n",
       "      <td>Short (2022)</td>\n",
       "    </tr>\n",
       "  </tbody>\n",
       "</table>\n",
       "<p>5 rows × 25 columns</p>\n",
       "</div>"
      ],
      "text/plain": [
       "  beach_id  beach_slope_average  width_ci_average quality_flag      mstr  \\\n",
       "0  aus0011             0.060145            0.0161         High  2.068996   \n",
       "1  aus0012             0.082709            0.0335       Medium  2.068996   \n",
       "2  aus0013             0.060027            0.0164         High  2.058574   \n",
       "3  aus0014             0.054012            0.0139         High  2.050147   \n",
       "4  aus0015             0.049932            0.0087         High  2.045488   \n",
       "\n",
       "   hsig_median  prc_mstr_obs  min_tide_obs  max_tide_obs  sl_points_average  \\\n",
       "0        0.708         90.97     -0.697446      1.184659              673.0   \n",
       "1        0.616         92.14     -0.721615      1.184659              402.0   \n",
       "2        1.294         88.94     -0.652368      1.178532              369.0   \n",
       "3        1.172         88.16     -0.650809      1.156622              394.0   \n",
       "4        1.152         89.20     -0.650148      1.174339              425.0   \n",
       "\n",
       "   ...  distance_to_sample   latitude   longitude   Hs_mean    Hs_max  \\\n",
       "0  ...            0.000000 -25.854332  153.078347  1.565813  4.754424   \n",
       "1  ...            8.371863 -25.932753  153.134103  1.565813  4.754424   \n",
       "2  ...           57.922081 -26.008686  153.153149  1.565813  4.754424   \n",
       "3  ...           61.914900 -26.157750  153.097286  1.565813  4.754424   \n",
       "4  ...           27.051000 -26.311676  153.068419  1.565813  4.754424   \n",
       "\n",
       "    Tp_mean   Wdir_mean  Wdir_weighted_mean  \\\n",
       "0  8.719285  112.555036           117.47011   \n",
       "1  8.719285  112.555036           117.47011   \n",
       "2  8.719285  112.555036           117.47011   \n",
       "3  8.719285  112.555036           117.47011   \n",
       "4  8.719285  112.555036           117.47011   \n",
       "\n",
       "                                            geometry       dataset  \n",
       "0  LINESTRING (153.07112 -25.81160, 153.07118 -25...  Short (2022)  \n",
       "1  LINESTRING (153.08974 -25.89640, 153.08979 -25...  Short (2022)  \n",
       "2  LINESTRING (153.18804 -25.93697, 153.18795 -25...  Short (2022)  \n",
       "3  LINESTRING (153.12230 -26.08255, 153.12227 -26...  Short (2022)  \n",
       "4  LINESTRING (153.07537 -26.23401, 153.07535 -26...  Short (2022)  \n",
       "\n",
       "[5 rows x 25 columns]"
      ]
     },
     "execution_count": 70,
     "metadata": {},
     "output_type": "execute_result"
    }
   ],
   "source": [
    "dfOz.head()"
   ]
  },
  {
   "cell_type": "code",
   "execution_count": 71,
   "id": "f685021b",
   "metadata": {},
   "outputs": [],
   "source": [
    "\n",
    "ind = np.where(dfOz['quality_flag']!='Low')[0]\n",
    "len(ind)\n",
    "dfOz = dfOz.iloc[ind]\n",
    "len(dfOz)\n",
    "\n",
    "ind = np.where(dfOz['distance_to_sample']<1000)[0]\n",
    "len(ind)\n",
    "dfOz = dfOz.iloc[ind]\n",
    "len(dfOz)\n",
    "\n",
    "dfOz = dfOz.dropna()\n",
    "# df.head()\n",
    "len(dfOz)\n",
    "\n",
    "dfOz.rename(columns = {'Hs_max':'hs_max', 'Hs_mean':'hs_mean', 'Tp_mean': 'tp', 'Wdir_mean':'dir'}, inplace = True)\n",
    "dfOz.to_csv('../model_data/dataset_Australia_East_coast_nostrat.csv')"
   ]
  },
  {
   "cell_type": "code",
   "execution_count": 72,
   "id": "56d39573",
   "metadata": {},
   "outputs": [
    {
     "data": {
      "text/plain": [
       "240"
      ]
     },
     "execution_count": 72,
     "metadata": {},
     "output_type": "execute_result"
    }
   ],
   "source": [
    "df_strat_gs = dfOz.copy()\n",
    "\n",
    "num_cats=6\n",
    "num_samples_per_category = 40\n",
    "\n",
    "df_strat_gs['category'] = pd.cut(df_strat_gs['d50'], num_cats)\n",
    "df_strat_gs = df_strat_gs.groupby(['category']).apply(lambda x: x.sample(num_samples_per_category, replace = True)).reset_index(drop = True)\n",
    "\n",
    "len(df_strat_gs)"
   ]
  },
  {
   "cell_type": "code",
   "execution_count": 73,
   "id": "0c709189",
   "metadata": {},
   "outputs": [
    {
     "data": {
      "text/plain": [
       "0      (0.118, 0.258]\n",
       "1      (0.118, 0.258]\n",
       "2      (0.118, 0.258]\n",
       "3      (0.118, 0.258]\n",
       "4      (0.118, 0.258]\n",
       "            ...      \n",
       "235    (0.814, 0.953]\n",
       "236    (0.814, 0.953]\n",
       "237    (0.814, 0.953]\n",
       "238    (0.814, 0.953]\n",
       "239    (0.814, 0.953]\n",
       "Name: category, Length: 240, dtype: category\n",
       "Categories (6, interval[float64, right]): [(0.118, 0.258] < (0.258, 0.397] < (0.397, 0.536] < (0.536, 0.675] < (0.675, 0.814] < (0.814, 0.953]]"
      ]
     },
     "execution_count": 73,
     "metadata": {},
     "output_type": "execute_result"
    }
   ],
   "source": [
    "df_strat_gs['category']"
   ]
  },
  {
   "cell_type": "code",
   "execution_count": 74,
   "id": "18118380",
   "metadata": {},
   "outputs": [
    {
     "data": {
      "text/plain": [
       "[<matplotlib.lines.Line2D at 0x2996b9588b0>]"
      ]
     },
     "execution_count": 74,
     "metadata": {},
     "output_type": "execute_result"
    },
    {
     "data": {
      "image/png": "[encoded data removed]",
      "text/plain": [
       "<Figure size 432x288 with 1 Axes>"
      ]
     },
     "metadata": {
      "needs_background": "light"
     },
     "output_type": "display_data"
    }
   ],
   "source": [
    "plt.plot(dfOz['longitude'], dfOz['latitude'], '.')\n",
    "plt.plot(df_strat_gs['longitude'], df_strat_gs['latitude'], 'ro')"
   ]
  },
  {
   "cell_type": "code",
   "execution_count": 75,
   "id": "98fe951c",
   "metadata": {},
   "outputs": [
    {
     "data": {
      "text/plain": [
       "240"
      ]
     },
     "execution_count": 75,
     "metadata": {},
     "output_type": "execute_result"
    }
   ],
   "source": [
    "dfEAus = df_strat_gs.copy()\n",
    "len(dfEAus)"
   ]
  },
  {
   "cell_type": "code",
   "execution_count": 76,
   "id": "cd42a64b",
   "metadata": {},
   "outputs": [],
   "source": [
    "dfEAus['code'] = np.zeros(len(dfEAus))"
   ]
  },
  {
   "cell_type": "code",
   "execution_count": 77,
   "id": "97d1293a",
   "metadata": {},
   "outputs": [],
   "source": [
    "dfEAus = dfEAus[['latitude', 'longitude', 'd50',\n",
    "        'beach_slope_average', 'mstr', 'code', 'dataset',\n",
    "         'hs_mean', 'dir', 'tp']].copy() #'hs_max',"
   ]
  },
  {
   "cell_type": "code",
   "execution_count": 78,
   "id": "2e03a7c3",
   "metadata": {},
   "outputs": [],
   "source": [
    "dfEAus.to_csv('../model_data/dataset_E_Aus_coast_strat_gs.csv')"
   ]
  },
  {
   "cell_type": "code",
   "execution_count": 79,
   "id": "04fa4472",
   "metadata": {},
   "outputs": [],
   "source": [
    "rand = np.random.randn(len(dfEAus))\n",
    "np.save('../model_out/EAus_rand.npy', rand, allow_pickle=True)\n",
    "\n",
    "# rand = np.load('../model_out/EAus_rand.npy', allow_pickle=True)\n"
   ]
  },
  {
   "cell_type": "code",
   "execution_count": 80,
   "id": "cc65b4e7",
   "metadata": {},
   "outputs": [
    {
     "data": {
      "text/plain": [
       "(0.1575, 0.95264)"
      ]
     },
     "execution_count": 80,
     "metadata": {},
     "output_type": "execute_result"
    }
   ],
   "source": [
    "(dfEAus['d50'].min(), dfEAus['d50'].max())"
   ]
  },
  {
   "cell_type": "code",
   "execution_count": 81,
   "id": "3ee92310",
   "metadata": {},
   "outputs": [
    {
     "data": {
      "text/plain": [
       "(-37.69923501259355, -25.854331607418633)"
      ]
     },
     "execution_count": 81,
     "metadata": {},
     "output_type": "execute_result"
    }
   ],
   "source": [
    "(dfEAus['latitude'].min(), dfEAus['latitude'].max())"
   ]
  },
  {
   "cell_type": "code",
   "execution_count": 82,
   "id": "e00a68cd",
   "metadata": {},
   "outputs": [
    {
     "data": {
      "text/plain": [
       "(149.62115079211821, 153.63715067058754)"
      ]
     },
     "execution_count": 82,
     "metadata": {},
     "output_type": "execute_result"
    }
   ],
   "source": [
    "(dfEAus['longitude'].min(), dfEAus['longitude'].max())"
   ]
  },
  {
   "cell_type": "code",
   "execution_count": 83,
   "id": "e7ecf781",
   "metadata": {},
   "outputs": [],
   "source": [
    "# dist = haversine(\n",
    "#     dfEAus['latitude'].min(), dfEAus['longitude'].min(), dfEAus['latitude'].max(), dfEAus['longitude'].max(), \n",
    "#     to_radians=True, earth_radius=6371)\n",
    "\n",
    "# ##km\n",
    "# print(dist)"
   ]
  },
  {
   "cell_type": "code",
   "execution_count": 84,
   "id": "f02db740",
   "metadata": {},
   "outputs": [
    {
     "data": {
      "text/plain": [
       "1440.6832136954004"
      ]
     },
     "execution_count": 84,
     "metadata": {},
     "output_type": "execute_result"
    }
   ],
   "source": [
    "tmp = dfEAus[['latitude','longitude']]\n",
    "\n",
    "tmp = tmp.sort_values(by='latitude')\n",
    "# print(tmp)\n",
    "\n",
    "D=[]\n",
    "for i in range(len(tmp)-1):\n",
    "    a = tmp.iloc[i]\n",
    "    b = tmp.iloc[i+1]\n",
    "    dist = haversine(\n",
    "            a['latitude'], a['longitude'], b['latitude'], b['longitude'], \n",
    "            to_radians=True, earth_radius=6371)\n",
    "    D.append(dist)\n",
    "    \n",
    "np.sum(D)"
   ]
  },
  {
   "cell_type": "code",
   "execution_count": 85,
   "id": "0714e6c4",
   "metadata": {},
   "outputs": [
    {
     "data": {
      "text/plain": [
       "144.0"
      ]
     },
     "execution_count": 85,
     "metadata": {},
     "output_type": "execute_result"
    }
   ],
   "source": [
    "len(dfEAus)*.6"
   ]
  },
  {
   "cell_type": "code",
   "execution_count": 86,
   "id": "25bae588",
   "metadata": {},
   "outputs": [
    {
     "data": {
      "text/plain": [
       "96.0"
      ]
     },
     "execution_count": 86,
     "metadata": {},
     "output_type": "execute_result"
    }
   ],
   "source": [
    "len(dfEAus)*.4"
   ]
  },
  {
   "cell_type": "markdown",
   "id": "99d93610",
   "metadata": {},
   "source": [
    "### merge 2 regions"
   ]
  },
  {
   "cell_type": "code",
   "execution_count": 87,
   "id": "028d9bd9",
   "metadata": {},
   "outputs": [
    {
     "data": {
      "text/plain": [
       "640"
      ]
     },
     "execution_count": 87,
     "metadata": {},
     "output_type": "execute_result"
    }
   ],
   "source": [
    "df = pd.concat([dfSEUS, dfEAus], ignore_index=True)\n",
    "df = df.dropna()\n",
    "len(df)"
   ]
  },
  {
   "cell_type": "code",
   "execution_count": 88,
   "id": "a0b7aa3f",
   "metadata": {},
   "outputs": [],
   "source": [
    "df.to_csv('../model_data/dataset_SEUS_EAus_strat-by-gs.csv')"
   ]
  },
  {
   "cell_type": "code",
   "execution_count": 89,
   "id": "cdb2be8c",
   "metadata": {},
   "outputs": [],
   "source": [
    "rand = np.random.randn(len(df))\n",
    "np.save('../model_out/SEUS_EOz_rand.npy', rand, allow_pickle=True)\n"
   ]
  },
  {
   "cell_type": "code",
   "execution_count": null,
   "id": "0a133f98",
   "metadata": {},
   "outputs": [],
   "source": []
  },
  {
   "cell_type": "markdown",
   "id": "2d1a92c4",
   "metadata": {},
   "source": [
    "### S Cali"
   ]
  },
  {
   "cell_type": "code",
   "execution_count": 90,
   "id": "cfdbdfbb",
   "metadata": {},
   "outputs": [],
   "source": [
    "dfSCali = pd.read_csv('../../../orig_data/US_S_CA/SoCal_GrainSize_waves_slopes_tide_merged.csv')\n",
    "dfSCali = dfSCali[dfSCali['Grain_Size']<2] \n",
    "dfSCali = dfSCali[dfSCali['Grain_Size']>.064] "
   ]
  },
  {
   "cell_type": "code",
   "execution_count": 91,
   "id": "f710eba5",
   "metadata": {},
   "outputs": [
    {
     "data": {
      "text/plain": [
       "array(['BB', 'BF', 'MB', 'O'], dtype=object)"
      ]
     },
     "execution_count": 91,
     "metadata": {},
     "output_type": "execute_result"
    }
   ],
   "source": [
    "np.unique(dfSCali['Ele'])"
   ]
  },
  {
   "cell_type": "code",
   "execution_count": 92,
   "id": "139f2668",
   "metadata": {},
   "outputs": [],
   "source": [
    "dfSCali = dfSCali[(dfSCali['Ele']=='BF') | (dfSCali['Ele']=='MB')]\n",
    "dfSCali = dfSCali.dropna()"
   ]
  },
  {
   "cell_type": "code",
   "execution_count": 93,
   "id": "70cc2191",
   "metadata": {},
   "outputs": [
    {
     "data": {
      "text/plain": [
       "971"
      ]
     },
     "execution_count": 93,
     "metadata": {},
     "output_type": "execute_result"
    }
   ],
   "source": [
    "len(dfSCali)"
   ]
  },
  {
   "cell_type": "code",
   "execution_count": 94,
   "id": "08382e30",
   "metadata": {},
   "outputs": [
    {
     "data": {
      "text/plain": [
       "275"
      ]
     },
     "execution_count": 94,
     "metadata": {},
     "output_type": "execute_result"
    }
   ],
   "source": [
    "df_strat_gs = dfSCali.copy()\n",
    "\n",
    "num_cats=11\n",
    "num_samples_per_category = 25\n",
    "\n",
    "df_strat_gs['category'] = pd.cut(df_strat_gs['Grain_Size'], num_cats)\n",
    "df_strat_gs = df_strat_gs.groupby(['category']).apply(lambda x: x.sample(num_samples_per_category, replace = True)).reset_index(drop = True)\n",
    "\n",
    "len(df_strat_gs)"
   ]
  },
  {
   "cell_type": "code",
   "execution_count": 95,
   "id": "944c44ca",
   "metadata": {},
   "outputs": [
    {
     "data": {
      "text/plain": [
       "Index(['Unnamed: 0', 'Ele', 'dataset', 'Grain_Size', 'Hs', 'Tp', 'Ta', 'Dp',\n",
       "       'Da', 'Ea', 'Es', 'geometry', 'Lon', 'Lat', 'Beach face slope',\n",
       "       'index_right', 'MEAN_SIG_WAVEHEIGHT', 'TIDAL_RANGE', 'ERODIBILITY',\n",
       "       'CHLOROPHYLL', 'TURBIDITY', 'REGIONAL_SINUOSITY',\n",
       "       'OUTFLOW_DENSITY_RESCALED', 'category'],\n",
       "      dtype='object')"
      ]
     },
     "execution_count": 95,
     "metadata": {},
     "output_type": "execute_result"
    }
   ],
   "source": [
    "df_strat_gs.keys()"
   ]
  },
  {
   "cell_type": "code",
   "execution_count": 96,
   "id": "eb305708",
   "metadata": {},
   "outputs": [
    {
     "data": {
      "text/plain": [
       "[<matplotlib.lines.Line2D at 0x2996a8be170>]"
      ]
     },
     "execution_count": 96,
     "metadata": {},
     "output_type": "execute_result"
    },
    {
     "data": {
      "image/png": "[encoded data removed]",
      "text/plain": [
       "<Figure size 432x288 with 1 Axes>"
      ]
     },
     "metadata": {
      "needs_background": "light"
     },
     "output_type": "display_data"
    }
   ],
   "source": [
    "plt.plot(df_strat_gs['Grain_Size'], df_strat_gs['Hs'],'.')\n",
    "# plt.plot(df_strat_gs['Grain_Size'], df_strat_gs['MEAN_SIG_WAVEHEIGHT'],'r.')"
   ]
  },
  {
   "cell_type": "code",
   "execution_count": 97,
   "id": "f900dfe4",
   "metadata": {},
   "outputs": [
    {
     "data": {
      "text/plain": [
       "[<matplotlib.lines.Line2D at 0x2996b965db0>]"
      ]
     },
     "execution_count": 97,
     "metadata": {},
     "output_type": "execute_result"
    },
    {
     "data": {
      "image/png": "[encoded data removed]",
      "text/plain": [
       "<Figure size 432x288 with 1 Axes>"
      ]
     },
     "metadata": {
      "needs_background": "light"
     },
     "output_type": "display_data"
    }
   ],
   "source": [
    "plt.plot(dfSCali['Lon'], dfSCali['Lat'], '.')\n",
    "plt.plot(df_strat_gs['Lon'], df_strat_gs['Lat'], 'ro')"
   ]
  },
  {
   "cell_type": "code",
   "execution_count": 98,
   "id": "8d67dcca",
   "metadata": {},
   "outputs": [
    {
     "data": {
      "text/plain": [
       "275"
      ]
     },
     "execution_count": 98,
     "metadata": {},
     "output_type": "execute_result"
    }
   ],
   "source": [
    "dfSCali = df_strat_gs.copy()\n",
    "len(dfSCali)"
   ]
  },
  {
   "cell_type": "code",
   "execution_count": null,
   "id": "08102b69",
   "metadata": {},
   "outputs": [],
   "source": []
  },
  {
   "cell_type": "code",
   "execution_count": 99,
   "id": "33c4e2ee",
   "metadata": {},
   "outputs": [],
   "source": [
    "dfSCali.rename(\n",
    "    columns = {'Beach face slope':'beach_slope_average', \n",
    "               'Grain_Size':'d50', \n",
    "               'Hs':'hs_mean', \n",
    "               'Tp': 'tp', \n",
    "               'Dp':'dir', \n",
    "               'Lat':'latitude', \n",
    "               'Lon':'longitude', \n",
    "               'TIDAL_RANGE':'mstr'}, \n",
    "    inplace = True)\n"
   ]
  },
  {
   "cell_type": "code",
   "execution_count": 100,
   "id": "57837f2a",
   "metadata": {},
   "outputs": [],
   "source": [
    "dfSCali['code'] = np.ones(len(dfSCali))*2"
   ]
  },
  {
   "cell_type": "code",
   "execution_count": 101,
   "id": "8d515f42",
   "metadata": {},
   "outputs": [
    {
     "data": {
      "text/plain": [
       "Index(['latitude', 'longitude', 'd50', 'beach_slope_average', 'mstr', 'code',\n",
       "       'dataset', 'hs_mean', 'dir', 'tp'],\n",
       "      dtype='object')"
      ]
     },
     "execution_count": 101,
     "metadata": {},
     "output_type": "execute_result"
    }
   ],
   "source": [
    "dfSCali = dfSCali[['latitude', 'longitude', 'd50', 'beach_slope_average', 'mstr', 'code','dataset',\n",
    "       'hs_mean', 'dir', 'tp']]\n",
    "dfSCali.keys()"
   ]
  },
  {
   "cell_type": "code",
   "execution_count": 102,
   "id": "bf6d385f",
   "metadata": {},
   "outputs": [
    {
     "data": {
      "text/html": [
       "<div>\n",
       "<style scoped>\n",
       "    .dataframe tbody tr th:only-of-type {\n",
       "        vertical-align: middle;\n",
       "    }\n",
       "\n",
       "    .dataframe tbody tr th {\n",
       "        vertical-align: top;\n",
       "    }\n",
       "\n",
       "    .dataframe thead th {\n",
       "        text-align: right;\n",
       "    }\n",
       "</style>\n",
       "<table border=\"1\" class=\"dataframe\">\n",
       "  <thead>\n",
       "    <tr style=\"text-align: right;\">\n",
       "      <th></th>\n",
       "      <th>latitude</th>\n",
       "      <th>longitude</th>\n",
       "      <th>d50</th>\n",
       "      <th>beach_slope_average</th>\n",
       "      <th>mstr</th>\n",
       "      <th>code</th>\n",
       "      <th>dataset</th>\n",
       "      <th>hs_mean</th>\n",
       "      <th>dir</th>\n",
       "      <th>tp</th>\n",
       "    </tr>\n",
       "  </thead>\n",
       "  <tbody>\n",
       "    <tr>\n",
       "      <th>0</th>\n",
       "      <td>33.576053</td>\n",
       "      <td>-117.840340</td>\n",
       "      <td>0.252518</td>\n",
       "      <td>0.070</td>\n",
       "      <td>2.485209</td>\n",
       "      <td>2.0</td>\n",
       "      <td>SC_Beach</td>\n",
       "      <td>0.653808</td>\n",
       "      <td>221.567094</td>\n",
       "      <td>12.969022</td>\n",
       "    </tr>\n",
       "    <tr>\n",
       "      <th>1</th>\n",
       "      <td>33.576053</td>\n",
       "      <td>-117.840340</td>\n",
       "      <td>0.236409</td>\n",
       "      <td>0.070</td>\n",
       "      <td>2.485209</td>\n",
       "      <td>2.0</td>\n",
       "      <td>SC_Beach</td>\n",
       "      <td>0.653808</td>\n",
       "      <td>221.567094</td>\n",
       "      <td>12.969022</td>\n",
       "    </tr>\n",
       "    <tr>\n",
       "      <th>2</th>\n",
       "      <td>34.437216</td>\n",
       "      <td>-119.942570</td>\n",
       "      <td>0.222100</td>\n",
       "      <td>0.190</td>\n",
       "      <td>2.453082</td>\n",
       "      <td>2.0</td>\n",
       "      <td>Barnard_Santa_Barbara</td>\n",
       "      <td>0.547990</td>\n",
       "      <td>217.688663</td>\n",
       "      <td>13.174852</td>\n",
       "    </tr>\n",
       "    <tr>\n",
       "      <th>3</th>\n",
       "      <td>33.576053</td>\n",
       "      <td>-117.840340</td>\n",
       "      <td>0.236409</td>\n",
       "      <td>0.070</td>\n",
       "      <td>2.485209</td>\n",
       "      <td>2.0</td>\n",
       "      <td>SC_Beach</td>\n",
       "      <td>0.653808</td>\n",
       "      <td>221.567094</td>\n",
       "      <td>12.969022</td>\n",
       "    </tr>\n",
       "    <tr>\n",
       "      <th>4</th>\n",
       "      <td>34.470247</td>\n",
       "      <td>-120.239018</td>\n",
       "      <td>0.230123</td>\n",
       "      <td>0.125</td>\n",
       "      <td>2.443020</td>\n",
       "      <td>2.0</td>\n",
       "      <td>SC_Beach</td>\n",
       "      <td>0.471879</td>\n",
       "      <td>190.163111</td>\n",
       "      <td>13.503772</td>\n",
       "    </tr>\n",
       "  </tbody>\n",
       "</table>\n",
       "</div>"
      ],
      "text/plain": [
       "    latitude   longitude       d50  beach_slope_average      mstr  code  \\\n",
       "0  33.576053 -117.840340  0.252518                0.070  2.485209   2.0   \n",
       "1  33.576053 -117.840340  0.236409                0.070  2.485209   2.0   \n",
       "2  34.437216 -119.942570  0.222100                0.190  2.453082   2.0   \n",
       "3  33.576053 -117.840340  0.236409                0.070  2.485209   2.0   \n",
       "4  34.470247 -120.239018  0.230123                0.125  2.443020   2.0   \n",
       "\n",
       "                 dataset   hs_mean         dir         tp  \n",
       "0               SC_Beach  0.653808  221.567094  12.969022  \n",
       "1               SC_Beach  0.653808  221.567094  12.969022  \n",
       "2  Barnard_Santa_Barbara  0.547990  217.688663  13.174852  \n",
       "3               SC_Beach  0.653808  221.567094  12.969022  \n",
       "4               SC_Beach  0.471879  190.163111  13.503772  "
      ]
     },
     "execution_count": 102,
     "metadata": {},
     "output_type": "execute_result"
    }
   ],
   "source": [
    "dfSCali.head()"
   ]
  },
  {
   "cell_type": "code",
   "execution_count": 103,
   "id": "4bf5bac0",
   "metadata": {},
   "outputs": [],
   "source": [
    "dfSCali.to_csv('../model_data/dataset_S_CA_coast_strat_gs.csv')"
   ]
  },
  {
   "cell_type": "code",
   "execution_count": 104,
   "id": "c7f17269",
   "metadata": {},
   "outputs": [],
   "source": [
    "rand = np.random.randn(len(dfSCali))\n",
    "np.save('../model_out/SCA_rand.npy', rand, allow_pickle=True)\n",
    "\n",
    "# rand = np.load('../model_out/SCA_rand.npy', allow_pickle=True)\n"
   ]
  },
  {
   "cell_type": "code",
   "execution_count": 105,
   "id": "0268c081",
   "metadata": {},
   "outputs": [
    {
     "data": {
      "text/plain": [
       "(0.1738, 1.942912168)"
      ]
     },
     "execution_count": 105,
     "metadata": {},
     "output_type": "execute_result"
    }
   ],
   "source": [
    "(dfSCali['d50'].min(), dfSCali['d50'].max())"
   ]
  },
  {
   "cell_type": "code",
   "execution_count": 106,
   "id": "a54152fd",
   "metadata": {},
   "outputs": [
    {
     "data": {
      "text/plain": [
       "(32.89431182298577, 34.47024690057668)"
      ]
     },
     "execution_count": 106,
     "metadata": {},
     "output_type": "execute_result"
    }
   ],
   "source": [
    "(dfSCali['latitude'].min(), dfSCali['latitude'].max())"
   ]
  },
  {
   "cell_type": "code",
   "execution_count": 107,
   "id": "1df4c998",
   "metadata": {},
   "outputs": [
    {
     "data": {
      "text/plain": [
       "(-120.23901844387711, -117.25184349464496)"
      ]
     },
     "execution_count": 107,
     "metadata": {},
     "output_type": "execute_result"
    }
   ],
   "source": [
    "(dfSCali['longitude'].min(), dfSCali['longitude'].max())"
   ]
  },
  {
   "cell_type": "code",
   "execution_count": 108,
   "id": "b652293a",
   "metadata": {},
   "outputs": [],
   "source": [
    "# dist = haversine(\n",
    "#     dfSCali['latitude'].min(), dfSCali['longitude'].min(), dfSCali['latitude'].max(), dfSCali['longitude'].max(), \n",
    "#     to_radians=True, earth_radius=6371)\n",
    "\n",
    "# ##km\n",
    "# print(dist)"
   ]
  },
  {
   "cell_type": "code",
   "execution_count": 109,
   "id": "9920d22d",
   "metadata": {},
   "outputs": [
    {
     "data": {
      "text/plain": [
       "463.2559465517879"
      ]
     },
     "execution_count": 109,
     "metadata": {},
     "output_type": "execute_result"
    }
   ],
   "source": [
    "tmp = dfSCali[['latitude','longitude']]\n",
    "\n",
    "tmp = tmp.sort_values(by='latitude')\n",
    "# print(tmp)\n",
    "\n",
    "D=[]\n",
    "for i in range(len(tmp)-1):\n",
    "    a = tmp.iloc[i]\n",
    "    b = tmp.iloc[i+1]\n",
    "    dist = haversine(\n",
    "            a['latitude'], a['longitude'], b['latitude'], b['longitude'], \n",
    "            to_radians=True, earth_radius=6371)\n",
    "    D.append(dist)\n",
    "    \n",
    "np.sum(D)"
   ]
  },
  {
   "cell_type": "code",
   "execution_count": 110,
   "id": "5bce1e50",
   "metadata": {},
   "outputs": [
    {
     "data": {
      "text/plain": [
       "165.0"
      ]
     },
     "execution_count": 110,
     "metadata": {},
     "output_type": "execute_result"
    }
   ],
   "source": [
    "len(dfSCali)*.6"
   ]
  },
  {
   "cell_type": "code",
   "execution_count": 111,
   "id": "a19cb2f3",
   "metadata": {},
   "outputs": [
    {
     "data": {
      "text/plain": [
       "110.0"
      ]
     },
     "execution_count": 111,
     "metadata": {},
     "output_type": "execute_result"
    }
   ],
   "source": [
    "len(dfSCali)*.4"
   ]
  },
  {
   "cell_type": "markdown",
   "id": "9ace5d7d",
   "metadata": {},
   "source": [
    "### merge 3 regions"
   ]
  },
  {
   "cell_type": "code",
   "execution_count": 112,
   "id": "a78f5c81",
   "metadata": {},
   "outputs": [
    {
     "data": {
      "text/plain": [
       "915"
      ]
     },
     "execution_count": 112,
     "metadata": {},
     "output_type": "execute_result"
    }
   ],
   "source": [
    "df = pd.concat([dfSEUS, dfEAus, dfSCali], ignore_index=True)\n",
    "df = df.dropna()\n",
    "len(df)"
   ]
  },
  {
   "cell_type": "code",
   "execution_count": 113,
   "id": "ccfab70f",
   "metadata": {},
   "outputs": [
    {
     "name": "stdout",
     "output_type": "stream",
     "text": [
      "240\n",
      "400\n",
      "275\n"
     ]
    }
   ],
   "source": [
    "print(np.sum(df.code==0))\n",
    "print(np.sum(df.code==1))\n",
    "print(np.sum(df.code==2))"
   ]
  },
  {
   "cell_type": "code",
   "execution_count": 114,
   "id": "e3cddec8",
   "metadata": {},
   "outputs": [],
   "source": [
    "df.to_csv('../model_data/dataset_SEUS_EAus_SCA_strat-by-gs.csv')"
   ]
  },
  {
   "cell_type": "code",
   "execution_count": 115,
   "id": "db6903e1",
   "metadata": {},
   "outputs": [],
   "source": [
    "rand = np.random.randn(len(df))\n",
    "np.save('../model_out/SEUS_EOz_SCA_rand.npy', rand, allow_pickle=True)\n",
    "\n",
    "# rand = np.load('../model_out/SEUS_EOz_SCA_rand.npy', allow_pickle=True)\n"
   ]
  },
  {
   "cell_type": "code",
   "execution_count": null,
   "id": "2a79b06b",
   "metadata": {},
   "outputs": [],
   "source": []
  },
  {
   "cell_type": "markdown",
   "id": "6af5a587",
   "metadata": {},
   "source": [
    "### whole Aus"
   ]
  },
  {
   "cell_type": "code",
   "execution_count": 54,
   "id": "7fd490c9",
   "metadata": {},
   "outputs": [],
   "source": [
    "dataset = '../../../orig_data/australia/dataset_Australia_all.geojson'\n",
    "\n",
    "dfOz = gpd.read_file(dataset)\n",
    "\n",
    "dfOz = dfOz[dfOz['d50']<=1] #2\n",
    "len(dfOz)\n",
    "\n",
    "ind = np.where(dfOz['quality_flag']!='Low')[0]\n",
    "len(ind)\n",
    "dfOz = dfOz.iloc[ind]\n",
    "len(dfOz)\n",
    "\n",
    "\n",
    "ind = np.where(dfOz['distance_to_sample']<1000)[0]\n",
    "len(ind)\n",
    "dfOz = dfOz.iloc[ind]\n",
    "len(dfOz)\n",
    "\n",
    "dfOz = dfOz.dropna()\n",
    "len(dfOz)\n",
    "\n",
    "dfOz.rename(columns = {'Hs_max':'hs_max', 'Hs_mean':'hs_mean', 'Tp_mean': 'tp', 'Wdir_mean':'dir'}, inplace = True)"
   ]
  },
  {
   "cell_type": "code",
   "execution_count": 55,
   "id": "94964c2d",
   "metadata": {},
   "outputs": [],
   "source": [
    "dfOz.to_csv('../model_data/dataset_whole_Aus_coast_no_strat.csv')"
   ]
  },
  {
   "cell_type": "code",
   "execution_count": 56,
   "id": "95b705c8",
   "metadata": {},
   "outputs": [
    {
     "data": {
      "text/plain": [
       "300"
      ]
     },
     "execution_count": 56,
     "metadata": {},
     "output_type": "execute_result"
    }
   ],
   "source": [
    "\n",
    "df_strat_gs = dfOz.copy()\n",
    "\n",
    "num_cats=10\n",
    "num_samples_per_category = 30\n",
    "\n",
    "df_strat_gs['category'] = pd.cut(df_strat_gs['d50'], num_cats)\n",
    "df_strat_gs = df_strat_gs.groupby(['category']).apply(lambda x: x.sample(num_samples_per_category, replace = True)).reset_index(drop = True)\n",
    "\n",
    "len(df_strat_gs)"
   ]
  },
  {
   "cell_type": "code",
   "execution_count": 57,
   "id": "515f71b8",
   "metadata": {},
   "outputs": [
    {
     "data": {
      "text/plain": [
       "0      (0.0907, 0.182]\n",
       "1      (0.0907, 0.182]\n",
       "2      (0.0907, 0.182]\n",
       "3      (0.0907, 0.182]\n",
       "4      (0.0907, 0.182]\n",
       "            ...       \n",
       "295     (0.903, 0.993]\n",
       "296     (0.903, 0.993]\n",
       "297     (0.903, 0.993]\n",
       "298     (0.903, 0.993]\n",
       "299     (0.903, 0.993]\n",
       "Name: category, Length: 300, dtype: category\n",
       "Categories (10, interval[float64, right]): [(0.0907, 0.182] < (0.182, 0.272] < (0.272, 0.362] < (0.362, 0.452] ... (0.633, 0.723] < (0.723, 0.813] < (0.813, 0.903] < (0.903, 0.993]]"
      ]
     },
     "execution_count": 57,
     "metadata": {},
     "output_type": "execute_result"
    }
   ],
   "source": [
    "df_strat_gs['category']"
   ]
  },
  {
   "cell_type": "code",
   "execution_count": 58,
   "id": "a66256e5",
   "metadata": {},
   "outputs": [
    {
     "data": {
      "text/plain": [
       "[<matplotlib.lines.Line2D at 0x233fa5c6a70>]"
      ]
     },
     "execution_count": 58,
     "metadata": {},
     "output_type": "execute_result"
    },
    {
     "data": {
      "image/png": "[encoded data removed]",
      "text/plain": [
       "<Figure size 432x288 with 1 Axes>"
      ]
     },
     "metadata": {
      "needs_background": "light"
     },
     "output_type": "display_data"
    }
   ],
   "source": [
    "plt.plot(dfOz['longitude'], dfOz['latitude'], '.')\n",
    "plt.plot(df_strat_gs['longitude'], df_strat_gs['latitude'], 'ro')"
   ]
  },
  {
   "cell_type": "code",
   "execution_count": 59,
   "id": "fa8ca2e8",
   "metadata": {},
   "outputs": [
    {
     "data": {
      "text/plain": [
       "300"
      ]
     },
     "execution_count": 59,
     "metadata": {},
     "output_type": "execute_result"
    }
   ],
   "source": [
    "dfOz = df_strat_gs.copy()\n",
    "len(dfOz)"
   ]
  },
  {
   "cell_type": "code",
   "execution_count": 60,
   "id": "89130893",
   "metadata": {},
   "outputs": [],
   "source": [
    "dfOz['code'] = np.ones(len(dfOz))*3"
   ]
  },
  {
   "cell_type": "code",
   "execution_count": 61,
   "id": "28bb346e",
   "metadata": {},
   "outputs": [],
   "source": [
    "dfOz = dfOz[['latitude', 'longitude', 'd50',\n",
    "        'beach_slope_average', 'mstr', 'code',\n",
    "         'hs_mean', 'dir', 'tp']].copy() #'hs_max',"
   ]
  },
  {
   "cell_type": "code",
   "execution_count": 62,
   "id": "2e69062f",
   "metadata": {},
   "outputs": [],
   "source": [
    "dfOz.to_csv('../model_data/dataset_whole_Aus_coast_strat_gs.csv')\n"
   ]
  },
  {
   "cell_type": "code",
   "execution_count": 63,
   "id": "5eedd448",
   "metadata": {},
   "outputs": [],
   "source": [
    "rand = np.random.randn(len(dfOz))\n",
    "np.save('../model_out/WholeAus_rand.npy', rand, allow_pickle=True)\n",
    "\n",
    "# rand = np.load('../model_out/WholeAus_rand.npy', allow_pickle=True)\n"
   ]
  },
  {
   "cell_type": "code",
   "execution_count": 64,
   "id": "31b461a2",
   "metadata": {},
   "outputs": [
    {
     "data": {
      "text/plain": [
       "(-41.86306503417177, -11.177154253487608)"
      ]
     },
     "execution_count": 64,
     "metadata": {},
     "output_type": "execute_result"
    }
   ],
   "source": [
    "(dfOz['latitude'].min(), dfOz['latitude'].max())"
   ]
  },
  {
   "cell_type": "code",
   "execution_count": 65,
   "id": "42662a46",
   "metadata": {},
   "outputs": [
    {
     "data": {
      "text/plain": [
       "(113.40341054926732, 153.55231666293452)"
      ]
     },
     "execution_count": 65,
     "metadata": {},
     "output_type": "execute_result"
    }
   ],
   "source": [
    "(dfOz['longitude'].min(), dfOz['longitude'].max())"
   ]
  },
  {
   "cell_type": "code",
   "execution_count": 66,
   "id": "5ed835f5",
   "metadata": {},
   "outputs": [
    {
     "data": {
      "text/plain": [
       "(0.09841, 0.99309)"
      ]
     },
     "execution_count": 66,
     "metadata": {},
     "output_type": "execute_result"
    }
   ],
   "source": [
    "(dfOz['d50'].min(), dfOz['d50'].max())"
   ]
  },
  {
   "cell_type": "code",
   "execution_count": 115,
   "id": "b4bea87d",
   "metadata": {},
   "outputs": [
    {
     "data": {
      "text/plain": [
       "176702.44451208203"
      ]
     },
     "execution_count": 115,
     "metadata": {},
     "output_type": "execute_result"
    }
   ],
   "source": [
    "tmp = dfOz[['latitude','longitude']]\n",
    "\n",
    "tmp = tmp.sort_values(by='latitude')\n",
    "# print(tmp)\n",
    "\n",
    "D=[]\n",
    "for i in range(len(tmp)-1):\n",
    "    a = tmp.iloc[i]\n",
    "    b = tmp.iloc[i+1]\n",
    "    dist = haversine(\n",
    "            a['latitude'], a['longitude'], b['latitude'], b['longitude'], \n",
    "            to_radians=True, earth_radius=6371)\n",
    "    D.append(dist)\n",
    "    \n",
    "np.sum(D)"
   ]
  },
  {
   "cell_type": "code",
   "execution_count": 164,
   "id": "211e3ed3",
   "metadata": {},
   "outputs": [
    {
     "data": {
      "text/plain": [
       "180.0"
      ]
     },
     "execution_count": 164,
     "metadata": {},
     "output_type": "execute_result"
    }
   ],
   "source": [
    "len(dfOz)*.6"
   ]
  },
  {
   "cell_type": "code",
   "execution_count": 165,
   "id": "7d1e3b08",
   "metadata": {},
   "outputs": [
    {
     "data": {
      "text/plain": [
       "120.0"
      ]
     },
     "execution_count": 165,
     "metadata": {},
     "output_type": "execute_result"
    }
   ],
   "source": [
    "len(dfOz)*.4"
   ]
  },
  {
   "cell_type": "markdown",
   "id": "d84b6760",
   "metadata": {},
   "source": [
    "### Aus regions"
   ]
  },
  {
   "cell_type": "code",
   "execution_count": 83,
   "id": "5088e00f",
   "metadata": {},
   "outputs": [
    {
     "data": {
      "text/plain": [
       "Index(['ID_Region', 'Descriptio', 'geometry'], dtype='object')"
      ]
     },
     "execution_count": 83,
     "metadata": {},
     "output_type": "execute_result"
    }
   ],
   "source": [
    "dfOz = pd.read_csv('../model_data/dataset_whole_Aus_coast_no_strat.csv')\n",
    "\n",
    "sources = ['Short (2022)' for k in dfOz['d50']]\n",
    "dfOz['dataset'] = sources\n",
    "\n",
    "dfOz = gpd.GeoDataFrame(\n",
    "    dfOz, geometry=gpd.points_from_xy(dfOz.longitude, dfOz.latitude))\n",
    "\n",
    "regions = '../../../orig_data/australia/sediment_compartments/Regions.geojson'\n",
    "Oz_regions = gpd.read_file(regions)\n",
    "Oz_regions.keys()"
   ]
  },
  {
   "cell_type": "code",
   "execution_count": 84,
   "id": "a77cba91",
   "metadata": {},
   "outputs": [
    {
     "name": "stderr",
     "output_type": "stream",
     "text": [
      "/tmp/ipykernel_89930/3128003552.py:5: UserWarning: CRS mismatch between the CRS of left geometries and the CRS of right geometries.\n",
      "Use `to_crs()` to reproject one of the input geometries to match the CRS of the other.\n",
      "\n",
      "Left CRS: None\n",
      "Right CRS: EPSG:4283\n",
      "\n",
      "  dfOzregions = sjoin(dfOz, Oz_regions, how='left')\n"
     ]
    }
   ],
   "source": [
    "\n",
    "sources = ['Short (2022)' for k in Oz_regions['geometry']]\n",
    "Oz_regions['dataset'] = sources\n",
    "\n",
    "\n",
    "dfOzregions = sjoin(dfOz, Oz_regions, how='left')"
   ]
  },
  {
   "cell_type": "code",
   "execution_count": 85,
   "id": "99e58ba6",
   "metadata": {},
   "outputs": [
    {
     "data": {
      "text/plain": [
       "Index(['Unnamed: 0', 'beach_id', 'beach_slope_average', 'width_ci_average',\n",
       "       'quality_flag', 'mstr', 'hsig_median', 'prc_mstr_obs', 'min_tide_obs',\n",
       "       'max_tide_obs', 'sl_points_average', 'beach_length', 'coastal_region',\n",
       "       'primary_comp_id', 'secondary_comp_id', 'd50', 'distance_to_sample',\n",
       "       'latitude', 'longitude', 'hs_mean', 'hs_max', 'tp', 'dir',\n",
       "       'Wdir_weighted_mean', 'geometry', 'dataset_left', 'index_right',\n",
       "       'ID_Region', 'Descriptio', 'dataset_right'],\n",
       "      dtype='object')"
      ]
     },
     "execution_count": 85,
     "metadata": {},
     "output_type": "execute_result"
    }
   ],
   "source": [
    "dfOzregions.keys()"
   ]
  },
  {
   "cell_type": "code",
   "execution_count": 86,
   "id": "880724c2",
   "metadata": {},
   "outputs": [
    {
     "name": "stdout",
     "output_type": "stream",
     "text": [
      "163\n",
      "289\n",
      "179\n",
      "60\n",
      "69\n",
      "49\n"
     ]
    }
   ],
   "source": [
    "dfOzNE = dfOzregions[dfOzregions['ID_Region']==1]\n",
    "print(len(dfOzNE))\n",
    "\n",
    "dfOzSE = dfOzregions[dfOzregions['ID_Region']==2]\n",
    "print(len(dfOzSE))\n",
    "\n",
    "dfOzS = dfOzregions[dfOzregions['ID_Region']==3]\n",
    "print(len(dfOzS))\n",
    "\n",
    "dfOzW = dfOzregions[dfOzregions['ID_Region']==4]\n",
    "print(len(dfOzW))\n",
    "\n",
    "dfOzNW = dfOzregions[dfOzregions['ID_Region']==5]\n",
    "print(len(dfOzNW))\n",
    "\n",
    "dfOzCG = dfOzregions[dfOzregions['ID_Region']==6] #Carpentaria Gulf\n",
    "print(len(dfOzCG))"
   ]
  },
  {
   "cell_type": "code",
   "execution_count": 87,
   "id": "1d10ffb3",
   "metadata": {},
   "outputs": [],
   "source": [
    "dfOzCG.to_csv('../model_data/dataset_Australia_GulfCarpentaria_coast_nostrat.csv')\n",
    "dfOzW.to_csv('../model_data/dataset_Australia_W_coast_nostrat.csv')\n",
    "dfOzNW.to_csv('../model_data/dataset_Australia_NW_coast_nostrat.csv')\n",
    "dfOzNE.to_csv('../model_data/dataset_Australia_NE_coast_nostrat.csv')\n",
    "dfOzSE.to_csv('../model_data/dataset_Australia_SE_coast_nostrat.csv')\n",
    "dfOzS.to_csv('../model_data/dataset_Australia_S_coast_nostrat.csv')"
   ]
  },
  {
   "cell_type": "code",
   "execution_count": null,
   "id": "4bcd50d4",
   "metadata": {},
   "outputs": [],
   "source": []
  },
  {
   "cell_type": "code",
   "execution_count": 88,
   "id": "ca2300a7",
   "metadata": {},
   "outputs": [
    {
     "name": "stderr",
     "output_type": "stream",
     "text": [
      "/tmp/ipykernel_89930/1029102663.py:6: UserWarning: CRS mismatch between the CRS of left geometries and the CRS of right geometries.\n",
      "Use `to_crs()` to reproject one of the input geometries to match the CRS of the other.\n",
      "\n",
      "Left CRS: None\n",
      "Right CRS: EPSG:4283\n",
      "\n",
      "  dfOzregions = sjoin(dfOz, Oz_regions, how='left')\n"
     ]
    }
   ],
   "source": [
    "dfOz = pd.read_csv('../model_data/dataset_whole_Aus_coast_strat_gs.csv')\n",
    "\n",
    "dfOz = gpd.GeoDataFrame(\n",
    "    dfOz, geometry=gpd.points_from_xy(dfOz.longitude, dfOz.latitude))\n",
    "\n",
    "dfOzregions = sjoin(dfOz, Oz_regions, how='left')"
   ]
  },
  {
   "cell_type": "code",
   "execution_count": 90,
   "id": "c8588a6e",
   "metadata": {},
   "outputs": [
    {
     "data": {
      "text/html": [
       "<div>\n",
       "<style scoped>\n",
       "    .dataframe tbody tr th:only-of-type {\n",
       "        vertical-align: middle;\n",
       "    }\n",
       "\n",
       "    .dataframe tbody tr th {\n",
       "        vertical-align: top;\n",
       "    }\n",
       "\n",
       "    .dataframe thead th {\n",
       "        text-align: right;\n",
       "    }\n",
       "</style>\n",
       "<table border=\"1\" class=\"dataframe\">\n",
       "  <thead>\n",
       "    <tr style=\"text-align: right;\">\n",
       "      <th></th>\n",
       "      <th>Unnamed: 0</th>\n",
       "      <th>latitude</th>\n",
       "      <th>longitude</th>\n",
       "      <th>d50</th>\n",
       "      <th>beach_slope_average</th>\n",
       "      <th>mstr</th>\n",
       "      <th>code</th>\n",
       "      <th>hs_mean</th>\n",
       "      <th>dir</th>\n",
       "      <th>tp</th>\n",
       "      <th>geometry</th>\n",
       "      <th>index_right</th>\n",
       "      <th>ID_Region</th>\n",
       "      <th>Descriptio</th>\n",
       "      <th>dataset</th>\n",
       "    </tr>\n",
       "  </thead>\n",
       "  <tbody>\n",
       "    <tr>\n",
       "      <th>0</th>\n",
       "      <td>0</td>\n",
       "      <td>-23.423046</td>\n",
       "      <td>150.825346</td>\n",
       "      <td>0.13793</td>\n",
       "      <td>0.036926</td>\n",
       "      <td>5.216923</td>\n",
       "      <td>3.0</td>\n",
       "      <td>0.562949</td>\n",
       "      <td>100.042931</td>\n",
       "      <td>4.162319</td>\n",
       "      <td>POINT (150.82535 -23.42305)</td>\n",
       "      <td>2</td>\n",
       "      <td>1</td>\n",
       "      <td>North-eastern Coasts</td>\n",
       "      <td>Short (2022)</td>\n",
       "    </tr>\n",
       "    <tr>\n",
       "      <th>1</th>\n",
       "      <td>1</td>\n",
       "      <td>-27.424553</td>\n",
       "      <td>153.524568</td>\n",
       "      <td>0.18175</td>\n",
       "      <td>0.051646</td>\n",
       "      <td>1.988240</td>\n",
       "      <td>3.0</td>\n",
       "      <td>1.139328</td>\n",
       "      <td>105.533842</td>\n",
       "      <td>8.728910</td>\n",
       "      <td>POINT (153.52457 -27.42455)</td>\n",
       "      <td>3</td>\n",
       "      <td>2</td>\n",
       "      <td>South-eastern Coasts</td>\n",
       "      <td>Short (2022)</td>\n",
       "    </tr>\n",
       "    <tr>\n",
       "      <th>2</th>\n",
       "      <td>2</td>\n",
       "      <td>-33.936848</td>\n",
       "      <td>122.542901</td>\n",
       "      <td>0.15713</td>\n",
       "      <td>0.048435</td>\n",
       "      <td>1.122778</td>\n",
       "      <td>3.0</td>\n",
       "      <td>1.740452</td>\n",
       "      <td>196.282278</td>\n",
       "      <td>10.857908</td>\n",
       "      <td>POINT (122.54290 -33.93685)</td>\n",
       "      <td>5</td>\n",
       "      <td>3</td>\n",
       "      <td>Southern Coasts</td>\n",
       "      <td>Short (2022)</td>\n",
       "    </tr>\n",
       "    <tr>\n",
       "      <th>3</th>\n",
       "      <td>3</td>\n",
       "      <td>-29.309966</td>\n",
       "      <td>153.351347</td>\n",
       "      <td>0.17230</td>\n",
       "      <td>0.051432</td>\n",
       "      <td>1.941419</td>\n",
       "      <td>3.0</td>\n",
       "      <td>1.585693</td>\n",
       "      <td>117.720732</td>\n",
       "      <td>9.064267</td>\n",
       "      <td>POINT (153.35135 -29.30997)</td>\n",
       "      <td>3</td>\n",
       "      <td>2</td>\n",
       "      <td>South-eastern Coasts</td>\n",
       "      <td>Short (2022)</td>\n",
       "    </tr>\n",
       "    <tr>\n",
       "      <th>4</th>\n",
       "      <td>4</td>\n",
       "      <td>-34.119730</td>\n",
       "      <td>136.354088</td>\n",
       "      <td>0.14968</td>\n",
       "      <td>0.044569</td>\n",
       "      <td>1.901869</td>\n",
       "      <td>3.0</td>\n",
       "      <td>0.801195</td>\n",
       "      <td>185.196228</td>\n",
       "      <td>9.867062</td>\n",
       "      <td>POINT (136.35409 -34.11973)</td>\n",
       "      <td>5</td>\n",
       "      <td>3</td>\n",
       "      <td>Southern Coasts</td>\n",
       "      <td>Short (2022)</td>\n",
       "    </tr>\n",
       "    <tr>\n",
       "      <th>...</th>\n",
       "      <td>...</td>\n",
       "      <td>...</td>\n",
       "      <td>...</td>\n",
       "      <td>...</td>\n",
       "      <td>...</td>\n",
       "      <td>...</td>\n",
       "      <td>...</td>\n",
       "      <td>...</td>\n",
       "      <td>...</td>\n",
       "      <td>...</td>\n",
       "      <td>...</td>\n",
       "      <td>...</td>\n",
       "      <td>...</td>\n",
       "      <td>...</td>\n",
       "      <td>...</td>\n",
       "    </tr>\n",
       "    <tr>\n",
       "      <th>295</th>\n",
       "      <td>295</td>\n",
       "      <td>-20.170140</td>\n",
       "      <td>148.587043</td>\n",
       "      <td>0.95926</td>\n",
       "      <td>0.124872</td>\n",
       "      <td>3.248942</td>\n",
       "      <td>3.0</td>\n",
       "      <td>0.682425</td>\n",
       "      <td>105.905946</td>\n",
       "      <td>3.926487</td>\n",
       "      <td>POINT (148.58704 -20.17014)</td>\n",
       "      <td>2</td>\n",
       "      <td>1</td>\n",
       "      <td>North-eastern Coasts</td>\n",
       "      <td>Short (2022)</td>\n",
       "    </tr>\n",
       "    <tr>\n",
       "      <th>296</th>\n",
       "      <td>296</td>\n",
       "      <td>-26.597765</td>\n",
       "      <td>153.100290</td>\n",
       "      <td>0.95264</td>\n",
       "      <td>0.060769</td>\n",
       "      <td>2.036081</td>\n",
       "      <td>3.0</td>\n",
       "      <td>1.498618</td>\n",
       "      <td>108.674345</td>\n",
       "      <td>8.532283</td>\n",
       "      <td>POINT (153.10029 -26.59777)</td>\n",
       "      <td>3</td>\n",
       "      <td>2</td>\n",
       "      <td>South-eastern Coasts</td>\n",
       "      <td>Short (2022)</td>\n",
       "    </tr>\n",
       "    <tr>\n",
       "      <th>297</th>\n",
       "      <td>297</td>\n",
       "      <td>-32.150506</td>\n",
       "      <td>133.685987</td>\n",
       "      <td>0.93303</td>\n",
       "      <td>0.049206</td>\n",
       "      <td>1.922418</td>\n",
       "      <td>3.0</td>\n",
       "      <td>2.043705</td>\n",
       "      <td>213.374532</td>\n",
       "      <td>12.697816</td>\n",
       "      <td>POINT (133.68599 -32.15051)</td>\n",
       "      <td>5</td>\n",
       "      <td>3</td>\n",
       "      <td>Southern Coasts</td>\n",
       "      <td>Short (2022)</td>\n",
       "    </tr>\n",
       "    <tr>\n",
       "      <th>298</th>\n",
       "      <td>298</td>\n",
       "      <td>-26.597765</td>\n",
       "      <td>153.100290</td>\n",
       "      <td>0.95264</td>\n",
       "      <td>0.060769</td>\n",
       "      <td>2.036081</td>\n",
       "      <td>3.0</td>\n",
       "      <td>1.498618</td>\n",
       "      <td>108.674345</td>\n",
       "      <td>8.532283</td>\n",
       "      <td>POINT (153.10029 -26.59777)</td>\n",
       "      <td>3</td>\n",
       "      <td>2</td>\n",
       "      <td>South-eastern Coasts</td>\n",
       "      <td>Short (2022)</td>\n",
       "    </tr>\n",
       "    <tr>\n",
       "      <th>299</th>\n",
       "      <td>299</td>\n",
       "      <td>-19.247026</td>\n",
       "      <td>146.813444</td>\n",
       "      <td>0.92019</td>\n",
       "      <td>0.139739</td>\n",
       "      <td>3.160530</td>\n",
       "      <td>3.0</td>\n",
       "      <td>0.833375</td>\n",
       "      <td>85.467246</td>\n",
       "      <td>5.839207</td>\n",
       "      <td>POINT (146.81344 -19.24703)</td>\n",
       "      <td>2</td>\n",
       "      <td>1</td>\n",
       "      <td>North-eastern Coasts</td>\n",
       "      <td>Short (2022)</td>\n",
       "    </tr>\n",
       "  </tbody>\n",
       "</table>\n",
       "<p>300 rows × 15 columns</p>\n",
       "</div>"
      ],
      "text/plain": [
       "     Unnamed: 0   latitude   longitude      d50  beach_slope_average  \\\n",
       "0             0 -23.423046  150.825346  0.13793             0.036926   \n",
       "1             1 -27.424553  153.524568  0.18175             0.051646   \n",
       "2             2 -33.936848  122.542901  0.15713             0.048435   \n",
       "3             3 -29.309966  153.351347  0.17230             0.051432   \n",
       "4             4 -34.119730  136.354088  0.14968             0.044569   \n",
       "..          ...        ...         ...      ...                  ...   \n",
       "295         295 -20.170140  148.587043  0.95926             0.124872   \n",
       "296         296 -26.597765  153.100290  0.95264             0.060769   \n",
       "297         297 -32.150506  133.685987  0.93303             0.049206   \n",
       "298         298 -26.597765  153.100290  0.95264             0.060769   \n",
       "299         299 -19.247026  146.813444  0.92019             0.139739   \n",
       "\n",
       "         mstr  code   hs_mean         dir         tp  \\\n",
       "0    5.216923   3.0  0.562949  100.042931   4.162319   \n",
       "1    1.988240   3.0  1.139328  105.533842   8.728910   \n",
       "2    1.122778   3.0  1.740452  196.282278  10.857908   \n",
       "3    1.941419   3.0  1.585693  117.720732   9.064267   \n",
       "4    1.901869   3.0  0.801195  185.196228   9.867062   \n",
       "..        ...   ...       ...         ...        ...   \n",
       "295  3.248942   3.0  0.682425  105.905946   3.926487   \n",
       "296  2.036081   3.0  1.498618  108.674345   8.532283   \n",
       "297  1.922418   3.0  2.043705  213.374532  12.697816   \n",
       "298  2.036081   3.0  1.498618  108.674345   8.532283   \n",
       "299  3.160530   3.0  0.833375   85.467246   5.839207   \n",
       "\n",
       "                        geometry  index_right  ID_Region  \\\n",
       "0    POINT (150.82535 -23.42305)            2          1   \n",
       "1    POINT (153.52457 -27.42455)            3          2   \n",
       "2    POINT (122.54290 -33.93685)            5          3   \n",
       "3    POINT (153.35135 -29.30997)            3          2   \n",
       "4    POINT (136.35409 -34.11973)            5          3   \n",
       "..                           ...          ...        ...   \n",
       "295  POINT (148.58704 -20.17014)            2          1   \n",
       "296  POINT (153.10029 -26.59777)            3          2   \n",
       "297  POINT (133.68599 -32.15051)            5          3   \n",
       "298  POINT (153.10029 -26.59777)            3          2   \n",
       "299  POINT (146.81344 -19.24703)            2          1   \n",
       "\n",
       "               Descriptio       dataset  \n",
       "0    North-eastern Coasts  Short (2022)  \n",
       "1    South-eastern Coasts  Short (2022)  \n",
       "2         Southern Coasts  Short (2022)  \n",
       "3    South-eastern Coasts  Short (2022)  \n",
       "4         Southern Coasts  Short (2022)  \n",
       "..                    ...           ...  \n",
       "295  North-eastern Coasts  Short (2022)  \n",
       "296  South-eastern Coasts  Short (2022)  \n",
       "297       Southern Coasts  Short (2022)  \n",
       "298  South-eastern Coasts  Short (2022)  \n",
       "299  North-eastern Coasts  Short (2022)  \n",
       "\n",
       "[300 rows x 15 columns]"
      ]
     },
     "execution_count": 90,
     "metadata": {},
     "output_type": "execute_result"
    }
   ],
   "source": [
    "dfOzregions"
   ]
  },
  {
   "cell_type": "code",
   "execution_count": 102,
   "id": "83c173f6",
   "metadata": {},
   "outputs": [
    {
     "name": "stdout",
     "output_type": "stream",
     "text": [
      "90\n",
      "64\n",
      "66\n",
      "29\n",
      "37\n",
      "14\n"
     ]
    }
   ],
   "source": [
    "dfOzNE = dfOzregions[dfOzregions['ID_Region']==1]\n",
    "print(len(dfOzNE))\n",
    "\n",
    "dfOzSE = dfOzregions[dfOzregions['ID_Region']==2]\n",
    "print(len(dfOzSE))\n",
    "\n",
    "dfOzS = dfOzregions[dfOzregions['ID_Region']==3]\n",
    "print(len(dfOzS))\n",
    "\n",
    "dfOzW = dfOzregions[dfOzregions['ID_Region']==4]\n",
    "print(len(dfOzW))\n",
    "\n",
    "dfOzNW = dfOzregions[dfOzregions['ID_Region']==5]\n",
    "print(len(dfOzNW))\n",
    "\n",
    "dfOzCG = dfOzregions[dfOzregions['ID_Region']==6] #Carpentaria Gulf\n",
    "print(len(dfOzCG))"
   ]
  },
  {
   "cell_type": "code",
   "execution_count": 103,
   "id": "5dbe6796",
   "metadata": {},
   "outputs": [],
   "source": [
    "dfOzCG.to_csv('../model_data/dataset_Australia_GulfCarpentaria_coast_strat_gs.csv')\n",
    "dfOzW.to_csv('../model_data/dataset_Australia_W_coast_strat_gs.csv')\n",
    "dfOzNW.to_csv('../model_data/dataset_Australia_NW_coast_strat_gs.csv')\n",
    "dfOzNE.to_csv('../model_data/dataset_Australia_NE_coast_strat_gs.csv')\n",
    "dfOzSE.to_csv('../model_data/dataset_Australia_SE_coast_strat_gs.csv')\n",
    "dfOzS.to_csv('../model_data/dataset_Australia_S_coast_strat_gs.csv')"
   ]
  },
  {
   "cell_type": "markdown",
   "id": "48e9e96e",
   "metadata": {},
   "source": [
    "### 4 regions"
   ]
  },
  {
   "cell_type": "code",
   "execution_count": 104,
   "id": "7cd230ea",
   "metadata": {},
   "outputs": [
    {
     "name": "stderr",
     "output_type": "stream",
     "text": [
      "/home/marda/anaconda3/envs/cgrasp/lib/python3.10/site-packages/geopandas/geodataframe.py:1472: SettingWithCopyWarning: \n",
      "A value is trying to be set on a copy of a slice from a DataFrame.\n",
      "Try using .loc[row_indexer,col_indexer] = value instead\n",
      "\n",
      "See the caveats in the documentation: https://pandas.pydata.org/pandas-docs/stable/user_guide/indexing.html#returning-a-view-versus-a-copy\n",
      "  super().__setitem__(key, value)\n"
     ]
    },
    {
     "data": {
      "text/plain": [
       "Index(['latitude', 'longitude', 'd50', 'beach_slope_average', 'mstr', 'code',\n",
       "       'dataset', 'hs_mean', 'dir', 'tp'],\n",
       "      dtype='object')"
      ]
     },
     "execution_count": 104,
     "metadata": {},
     "output_type": "execute_result"
    }
   ],
   "source": [
    "dfOzCG['code'] = np.ones(len(dfOzCG))*3\n",
    "dfOzCG = dfOzCG[['latitude', 'longitude', 'd50', 'beach_slope_average', 'mstr', 'code', 'dataset',\n",
    "       'hs_mean', 'dir', 'tp']]\n",
    "dfOzCG.keys()"
   ]
  },
  {
   "cell_type": "code",
   "execution_count": 105,
   "id": "e40b8316",
   "metadata": {},
   "outputs": [
    {
     "name": "stderr",
     "output_type": "stream",
     "text": [
      "/home/marda/anaconda3/envs/cgrasp/lib/python3.10/site-packages/geopandas/geodataframe.py:1472: SettingWithCopyWarning: \n",
      "A value is trying to be set on a copy of a slice from a DataFrame.\n",
      "Try using .loc[row_indexer,col_indexer] = value instead\n",
      "\n",
      "See the caveats in the documentation: https://pandas.pydata.org/pandas-docs/stable/user_guide/indexing.html#returning-a-view-versus-a-copy\n",
      "  super().__setitem__(key, value)\n"
     ]
    },
    {
     "data": {
      "text/plain": [
       "Index(['latitude', 'longitude', 'd50', 'beach_slope_average', 'mstr', 'code',\n",
       "       'dataset', 'hs_mean', 'dir', 'tp'],\n",
       "      dtype='object')"
      ]
     },
     "execution_count": 105,
     "metadata": {},
     "output_type": "execute_result"
    }
   ],
   "source": [
    "dfOzW['code'] = np.ones(len(dfOzW))*4\n",
    "dfOzW = dfOzW[['latitude', 'longitude', 'd50', 'beach_slope_average', 'mstr', 'code', 'dataset',\n",
    "       'hs_mean', 'dir', 'tp']]\n",
    "dfOzW.keys()"
   ]
  },
  {
   "cell_type": "code",
   "execution_count": 106,
   "id": "0ed3c006",
   "metadata": {},
   "outputs": [
    {
     "name": "stderr",
     "output_type": "stream",
     "text": [
      "/home/marda/anaconda3/envs/cgrasp/lib/python3.10/site-packages/geopandas/geodataframe.py:1472: SettingWithCopyWarning: \n",
      "A value is trying to be set on a copy of a slice from a DataFrame.\n",
      "Try using .loc[row_indexer,col_indexer] = value instead\n",
      "\n",
      "See the caveats in the documentation: https://pandas.pydata.org/pandas-docs/stable/user_guide/indexing.html#returning-a-view-versus-a-copy\n",
      "  super().__setitem__(key, value)\n"
     ]
    },
    {
     "data": {
      "text/plain": [
       "Index(['latitude', 'longitude', 'd50', 'beach_slope_average', 'mstr', 'code',\n",
       "       'dataset', 'hs_mean', 'dir', 'tp'],\n",
       "      dtype='object')"
      ]
     },
     "execution_count": 106,
     "metadata": {},
     "output_type": "execute_result"
    }
   ],
   "source": [
    "dfOzNW['code'] = np.ones(len(dfOzNW))*5\n",
    "dfOzNW = dfOzNW[['latitude', 'longitude', 'd50', 'beach_slope_average', 'mstr', 'code', 'dataset',\n",
    "       'hs_mean', 'dir', 'tp']]\n",
    "dfOzNW.keys()"
   ]
  },
  {
   "cell_type": "code",
   "execution_count": 107,
   "id": "d3d23268",
   "metadata": {},
   "outputs": [
    {
     "name": "stderr",
     "output_type": "stream",
     "text": [
      "/home/marda/anaconda3/envs/cgrasp/lib/python3.10/site-packages/geopandas/geodataframe.py:1472: SettingWithCopyWarning: \n",
      "A value is trying to be set on a copy of a slice from a DataFrame.\n",
      "Try using .loc[row_indexer,col_indexer] = value instead\n",
      "\n",
      "See the caveats in the documentation: https://pandas.pydata.org/pandas-docs/stable/user_guide/indexing.html#returning-a-view-versus-a-copy\n",
      "  super().__setitem__(key, value)\n"
     ]
    },
    {
     "data": {
      "text/plain": [
       "Index(['latitude', 'longitude', 'd50', 'beach_slope_average', 'mstr', 'code',\n",
       "       'dataset', 'hs_mean', 'dir', 'tp'],\n",
       "      dtype='object')"
      ]
     },
     "execution_count": 107,
     "metadata": {},
     "output_type": "execute_result"
    }
   ],
   "source": [
    "dfOzNE['code'] = np.ones(len(dfOzNE))*6\n",
    "dfOzNE = dfOzNE[['latitude', 'longitude', 'd50', 'beach_slope_average', 'mstr', 'code', 'dataset',\n",
    "       'hs_mean', 'dir', 'tp']]\n",
    "dfOzNE.keys()"
   ]
  },
  {
   "cell_type": "code",
   "execution_count": 108,
   "id": "83a0408a",
   "metadata": {},
   "outputs": [
    {
     "name": "stderr",
     "output_type": "stream",
     "text": [
      "/home/marda/anaconda3/envs/cgrasp/lib/python3.10/site-packages/geopandas/geodataframe.py:1472: SettingWithCopyWarning: \n",
      "A value is trying to be set on a copy of a slice from a DataFrame.\n",
      "Try using .loc[row_indexer,col_indexer] = value instead\n",
      "\n",
      "See the caveats in the documentation: https://pandas.pydata.org/pandas-docs/stable/user_guide/indexing.html#returning-a-view-versus-a-copy\n",
      "  super().__setitem__(key, value)\n"
     ]
    },
    {
     "data": {
      "text/plain": [
       "Index(['latitude', 'longitude', 'd50', 'beach_slope_average', 'mstr', 'code',\n",
       "       'dataset', 'hs_mean', 'dir', 'tp'],\n",
       "      dtype='object')"
      ]
     },
     "execution_count": 108,
     "metadata": {},
     "output_type": "execute_result"
    }
   ],
   "source": [
    "dfOzS['code'] = np.ones(len(dfOzS))*7\n",
    "dfOzS = dfOzS[['latitude', 'longitude', 'd50', 'beach_slope_average', 'mstr', 'code', 'dataset',\n",
    "       'hs_mean', 'dir', 'tp']]\n",
    "dfOzS.keys()"
   ]
  },
  {
   "cell_type": "code",
   "execution_count": 109,
   "id": "d8911609",
   "metadata": {},
   "outputs": [
    {
     "data": {
      "text/plain": [
       "1101"
      ]
     },
     "execution_count": 109,
     "metadata": {},
     "output_type": "execute_result"
    }
   ],
   "source": [
    "df = pd.concat([dfSEUS, dfEAus, dfSCali, dfOzCG, dfOzW, dfOzNW, dfOzNE, dfOzS], ignore_index=True)\n",
    "df = df.dropna()\n",
    "len(df)"
   ]
  },
  {
   "cell_type": "code",
   "execution_count": 110,
   "id": "d536f408",
   "metadata": {},
   "outputs": [
    {
     "name": "stdout",
     "output_type": "stream",
     "text": [
      "240\n",
      "350\n",
      "275\n",
      "14\n",
      "29\n",
      "37\n",
      "90\n",
      "66\n"
     ]
    }
   ],
   "source": [
    "print(np.sum(df.code==0))\n",
    "print(np.sum(df.code==1))\n",
    "print(np.sum(df.code==2))\n",
    "print(np.sum(df.code==3))\n",
    "print(np.sum(df.code==4))\n",
    "print(np.sum(df.code==5))\n",
    "print(np.sum(df.code==6))\n",
    "print(np.sum(df.code==7))"
   ]
  },
  {
   "cell_type": "code",
   "execution_count": 111,
   "id": "cee345e0",
   "metadata": {},
   "outputs": [
    {
     "data": {
      "text/html": [
       "<div>\n",
       "<style scoped>\n",
       "    .dataframe tbody tr th:only-of-type {\n",
       "        vertical-align: middle;\n",
       "    }\n",
       "\n",
       "    .dataframe tbody tr th {\n",
       "        vertical-align: top;\n",
       "    }\n",
       "\n",
       "    .dataframe thead th {\n",
       "        text-align: right;\n",
       "    }\n",
       "</style>\n",
       "<table border=\"1\" class=\"dataframe\">\n",
       "  <thead>\n",
       "    <tr style=\"text-align: right;\">\n",
       "      <th></th>\n",
       "      <th>latitude</th>\n",
       "      <th>longitude</th>\n",
       "      <th>d50</th>\n",
       "      <th>beach_slope_average</th>\n",
       "      <th>mstr</th>\n",
       "      <th>code</th>\n",
       "      <th>dataset</th>\n",
       "      <th>hs_mean</th>\n",
       "      <th>dir</th>\n",
       "      <th>tp</th>\n",
       "    </tr>\n",
       "  </thead>\n",
       "  <tbody>\n",
       "    <tr>\n",
       "      <th>0</th>\n",
       "      <td>37.233376</td>\n",
       "      <td>-75.796295</td>\n",
       "      <td>0.130000</td>\n",
       "      <td>0.041429</td>\n",
       "      <td>1.734562</td>\n",
       "      <td>1.0</td>\n",
       "      <td>Fenster et al (2016)</td>\n",
       "      <td>0.370493</td>\n",
       "      <td>133.301156</td>\n",
       "      <td>7.040951</td>\n",
       "    </tr>\n",
       "    <tr>\n",
       "      <th>1</th>\n",
       "      <td>29.647451</td>\n",
       "      <td>-81.196295</td>\n",
       "      <td>0.184418</td>\n",
       "      <td>0.074932</td>\n",
       "      <td>1.824102</td>\n",
       "      <td>1.0</td>\n",
       "      <td>rossi</td>\n",
       "      <td>0.508694</td>\n",
       "      <td>80.823780</td>\n",
       "      <td>8.123483</td>\n",
       "    </tr>\n",
       "    <tr>\n",
       "      <th>2</th>\n",
       "      <td>31.407165</td>\n",
       "      <td>-81.259130</td>\n",
       "      <td>0.145598</td>\n",
       "      <td>0.030761</td>\n",
       "      <td>2.536886</td>\n",
       "      <td>1.0</td>\n",
       "      <td>C_Alexander</td>\n",
       "      <td>0.210917</td>\n",
       "      <td>130.436050</td>\n",
       "      <td>6.057700</td>\n",
       "    </tr>\n",
       "    <tr>\n",
       "      <th>3</th>\n",
       "      <td>35.083643</td>\n",
       "      <td>-75.947038</td>\n",
       "      <td>0.166356</td>\n",
       "      <td>0.065867</td>\n",
       "      <td>1.362719</td>\n",
       "      <td>1.0</td>\n",
       "      <td>Fenster et al (2016)</td>\n",
       "      <td>0.909258</td>\n",
       "      <td>142.984767</td>\n",
       "      <td>7.898359</td>\n",
       "    </tr>\n",
       "    <tr>\n",
       "      <th>4</th>\n",
       "      <td>37.235443</td>\n",
       "      <td>-75.796423</td>\n",
       "      <td>0.130000</td>\n",
       "      <td>0.041429</td>\n",
       "      <td>1.734562</td>\n",
       "      <td>1.0</td>\n",
       "      <td>Fenster et al (2016)</td>\n",
       "      <td>0.370493</td>\n",
       "      <td>133.301156</td>\n",
       "      <td>7.040951</td>\n",
       "    </tr>\n",
       "    <tr>\n",
       "      <th>...</th>\n",
       "      <td>...</td>\n",
       "      <td>...</td>\n",
       "      <td>...</td>\n",
       "      <td>...</td>\n",
       "      <td>...</td>\n",
       "      <td>...</td>\n",
       "      <td>...</td>\n",
       "      <td>...</td>\n",
       "      <td>...</td>\n",
       "      <td>...</td>\n",
       "    </tr>\n",
       "    <tr>\n",
       "      <th>1096</th>\n",
       "      <td>-32.717920</td>\n",
       "      <td>134.107453</td>\n",
       "      <td>0.920190</td>\n",
       "      <td>0.055202</td>\n",
       "      <td>1.864342</td>\n",
       "      <td>7.0</td>\n",
       "      <td>Short (2022)</td>\n",
       "      <td>1.404420</td>\n",
       "      <td>216.898720</td>\n",
       "      <td>12.325972</td>\n",
       "    </tr>\n",
       "    <tr>\n",
       "      <th>1097</th>\n",
       "      <td>-32.150506</td>\n",
       "      <td>133.685987</td>\n",
       "      <td>0.933030</td>\n",
       "      <td>0.049206</td>\n",
       "      <td>1.922418</td>\n",
       "      <td>7.0</td>\n",
       "      <td>Short (2022)</td>\n",
       "      <td>2.043705</td>\n",
       "      <td>213.374532</td>\n",
       "      <td>12.697816</td>\n",
       "    </tr>\n",
       "    <tr>\n",
       "      <th>1098</th>\n",
       "      <td>-34.072370</td>\n",
       "      <td>137.552352</td>\n",
       "      <td>0.907520</td>\n",
       "      <td>0.029839</td>\n",
       "      <td>1.517689</td>\n",
       "      <td>7.0</td>\n",
       "      <td>Short (2022)</td>\n",
       "      <td>0.848547</td>\n",
       "      <td>208.806409</td>\n",
       "      <td>8.462415</td>\n",
       "    </tr>\n",
       "    <tr>\n",
       "      <th>1099</th>\n",
       "      <td>-34.072370</td>\n",
       "      <td>137.552352</td>\n",
       "      <td>0.907520</td>\n",
       "      <td>0.029839</td>\n",
       "      <td>1.517689</td>\n",
       "      <td>7.0</td>\n",
       "      <td>Short (2022)</td>\n",
       "      <td>0.848547</td>\n",
       "      <td>208.806409</td>\n",
       "      <td>8.462415</td>\n",
       "    </tr>\n",
       "    <tr>\n",
       "      <th>1100</th>\n",
       "      <td>-32.150506</td>\n",
       "      <td>133.685987</td>\n",
       "      <td>0.933030</td>\n",
       "      <td>0.049206</td>\n",
       "      <td>1.922418</td>\n",
       "      <td>7.0</td>\n",
       "      <td>Short (2022)</td>\n",
       "      <td>2.043705</td>\n",
       "      <td>213.374532</td>\n",
       "      <td>12.697816</td>\n",
       "    </tr>\n",
       "  </tbody>\n",
       "</table>\n",
       "<p>1101 rows × 10 columns</p>\n",
       "</div>"
      ],
      "text/plain": [
       "       latitude   longitude       d50  beach_slope_average      mstr  code  \\\n",
       "0     37.233376  -75.796295  0.130000             0.041429  1.734562   1.0   \n",
       "1     29.647451  -81.196295  0.184418             0.074932  1.824102   1.0   \n",
       "2     31.407165  -81.259130  0.145598             0.030761  2.536886   1.0   \n",
       "3     35.083643  -75.947038  0.166356             0.065867  1.362719   1.0   \n",
       "4     37.235443  -75.796423  0.130000             0.041429  1.734562   1.0   \n",
       "...         ...         ...       ...                  ...       ...   ...   \n",
       "1096 -32.717920  134.107453  0.920190             0.055202  1.864342   7.0   \n",
       "1097 -32.150506  133.685987  0.933030             0.049206  1.922418   7.0   \n",
       "1098 -34.072370  137.552352  0.907520             0.029839  1.517689   7.0   \n",
       "1099 -34.072370  137.552352  0.907520             0.029839  1.517689   7.0   \n",
       "1100 -32.150506  133.685987  0.933030             0.049206  1.922418   7.0   \n",
       "\n",
       "                   dataset   hs_mean         dir         tp  \n",
       "0     Fenster et al (2016)  0.370493  133.301156   7.040951  \n",
       "1                    rossi  0.508694   80.823780   8.123483  \n",
       "2              C_Alexander  0.210917  130.436050   6.057700  \n",
       "3     Fenster et al (2016)  0.909258  142.984767   7.898359  \n",
       "4     Fenster et al (2016)  0.370493  133.301156   7.040951  \n",
       "...                    ...       ...         ...        ...  \n",
       "1096          Short (2022)  1.404420  216.898720  12.325972  \n",
       "1097          Short (2022)  2.043705  213.374532  12.697816  \n",
       "1098          Short (2022)  0.848547  208.806409   8.462415  \n",
       "1099          Short (2022)  0.848547  208.806409   8.462415  \n",
       "1100          Short (2022)  2.043705  213.374532  12.697816  \n",
       "\n",
       "[1101 rows x 10 columns]"
      ]
     },
     "execution_count": 111,
     "metadata": {},
     "output_type": "execute_result"
    }
   ],
   "source": [
    "df"
   ]
  },
  {
   "cell_type": "code",
   "execution_count": 112,
   "id": "6051023d",
   "metadata": {},
   "outputs": [],
   "source": [
    "df.to_csv('../model_data/dataset_SEUS_EAus_SCA_wholeAus_strat.csv')"
   ]
  },
  {
   "cell_type": "code",
   "execution_count": 113,
   "id": "51cb88cc",
   "metadata": {},
   "outputs": [],
   "source": [
    "rand = np.random.randn(len(df))\n",
    "np.save('../model_out/SEUS_EOz_SCA_wholeAus_rand.npy', rand, allow_pickle=True)\n",
    "\n",
    "# rand = np.load('../model_out/SEUS_EOz_SCA_wholeAus_rand.npy', allow_pickle=True)\n"
   ]
  },
  {
   "cell_type": "code",
   "execution_count": null,
   "id": "b8ca1a20",
   "metadata": {},
   "outputs": [],
   "source": []
  },
  {
   "cell_type": "markdown",
   "id": "9e04b5f1",
   "metadata": {},
   "source": [
    "### Northern Ireland"
   ]
  },
  {
   "cell_type": "code",
   "execution_count": 166,
   "id": "9bf1c31f",
   "metadata": {},
   "outputs": [],
   "source": [
    "dfNI = pd.read_csv('../../../orig_data/NorthernIreland/Jackson_NIre.csv')"
   ]
  },
  {
   "cell_type": "code",
   "execution_count": 167,
   "id": "78434a44",
   "metadata": {},
   "outputs": [
    {
     "data": {
      "text/plain": [
       "Index(['latitude', 'longitude', 'd50', 'beach_slope_average', 'mstr', 'code',\n",
       "       'dataset', 'hs_mean', 'tp'],\n",
       "      dtype='object')"
      ]
     },
     "execution_count": 167,
     "metadata": {},
     "output_type": "execute_result"
    }
   ],
   "source": [
    "dfNI.rename(\n",
    "    columns = {'Intertidal slope':'beach_slope_average', 'D50 (mm)':'d50', 'H0 (mean Hs)':'hs_mean', 'T (mean, s)': 'tp', 'MSTR (m)':'mstr'}, \n",
    "    inplace = True)\n",
    "\n",
    "dfNI['code'] = np.ones(len(dfNI))*8\n",
    "\n",
    "tmp = ['Jackson et al. (2005)' for k in dfNI['d50']]\n",
    "\n",
    "dfNI['dataset'] = tmp\n",
    "\n",
    "dfNI = dfNI[['latitude', 'longitude', 'd50', 'beach_slope_average', 'mstr', 'code','dataset',\n",
    "       'hs_mean', 'tp']]\n",
    "dfNI.keys()"
   ]
  },
  {
   "cell_type": "code",
   "execution_count": 168,
   "id": "b42d92af",
   "metadata": {},
   "outputs": [
    {
     "data": {
      "text/plain": [
       "(54.0626664, 55.2869665)"
      ]
     },
     "execution_count": 168,
     "metadata": {},
     "output_type": "execute_result"
    }
   ],
   "source": [
    "(dfNI['latitude'].min(), dfNI['latitude'].max())"
   ]
  },
  {
   "cell_type": "code",
   "execution_count": 169,
   "id": "26039211",
   "metadata": {},
   "outputs": [
    {
     "data": {
      "text/plain": [
       "(-8.443956, -5.468761)"
      ]
     },
     "execution_count": 169,
     "metadata": {},
     "output_type": "execute_result"
    }
   ],
   "source": [
    "(dfNI['longitude'].min(), dfNI['longitude'].max())"
   ]
  },
  {
   "cell_type": "code",
   "execution_count": 170,
   "id": "aad21407",
   "metadata": {},
   "outputs": [
    {
     "data": {
      "text/plain": [
       "(0.137, 0.634)"
      ]
     },
     "execution_count": 170,
     "metadata": {},
     "output_type": "execute_result"
    }
   ],
   "source": [
    "(dfNI['d50'].min(), dfNI['d50'].max())"
   ]
  },
  {
   "cell_type": "code",
   "execution_count": 171,
   "id": "13594db5",
   "metadata": {},
   "outputs": [],
   "source": [
    "dfNI.to_csv('../model_data/dataset_NI.csv')"
   ]
  },
  {
   "cell_type": "code",
   "execution_count": 172,
   "id": "e7dd0fcb",
   "metadata": {},
   "outputs": [],
   "source": [
    "rand = np.random.randn(len(dfNI))\n",
    "np.save('../model_out/NI_rand.npy', rand, allow_pickle=True)\n"
   ]
  },
  {
   "cell_type": "code",
   "execution_count": 173,
   "id": "ce976b60",
   "metadata": {},
   "outputs": [
    {
     "data": {
      "text/html": [
       "<div>\n",
       "<style scoped>\n",
       "    .dataframe tbody tr th:only-of-type {\n",
       "        vertical-align: middle;\n",
       "    }\n",
       "\n",
       "    .dataframe tbody tr th {\n",
       "        vertical-align: top;\n",
       "    }\n",
       "\n",
       "    .dataframe thead th {\n",
       "        text-align: right;\n",
       "    }\n",
       "</style>\n",
       "<table border=\"1\" class=\"dataframe\">\n",
       "  <thead>\n",
       "    <tr style=\"text-align: right;\">\n",
       "      <th></th>\n",
       "      <th>latitude</th>\n",
       "      <th>longitude</th>\n",
       "      <th>d50</th>\n",
       "      <th>beach_slope_average</th>\n",
       "      <th>mstr</th>\n",
       "      <th>code</th>\n",
       "      <th>dataset</th>\n",
       "      <th>hs_mean</th>\n",
       "      <th>tp</th>\n",
       "    </tr>\n",
       "  </thead>\n",
       "  <tbody>\n",
       "    <tr>\n",
       "      <th>0</th>\n",
       "      <td>54.554352</td>\n",
       "      <td>-8.209775</td>\n",
       "      <td>0.140</td>\n",
       "      <td>0.0139</td>\n",
       "      <td>3.3</td>\n",
       "      <td>8.0</td>\n",
       "      <td>Jackson et al. (2005)</td>\n",
       "      <td>2.18</td>\n",
       "      <td>6.88</td>\n",
       "    </tr>\n",
       "    <tr>\n",
       "      <th>1</th>\n",
       "      <td>54.841990</td>\n",
       "      <td>-8.443956</td>\n",
       "      <td>0.180</td>\n",
       "      <td>0.0218</td>\n",
       "      <td>3.4</td>\n",
       "      <td>8.0</td>\n",
       "      <td>Jackson et al. (2005)</td>\n",
       "      <td>2.18</td>\n",
       "      <td>6.88</td>\n",
       "    </tr>\n",
       "    <tr>\n",
       "      <th>2</th>\n",
       "      <td>55.152830</td>\n",
       "      <td>-8.155428</td>\n",
       "      <td>0.210</td>\n",
       "      <td>0.0202</td>\n",
       "      <td>3.4</td>\n",
       "      <td>8.0</td>\n",
       "      <td>Jackson et al. (2005)</td>\n",
       "      <td>2.18</td>\n",
       "      <td>6.88</td>\n",
       "    </tr>\n",
       "    <tr>\n",
       "      <th>3</th>\n",
       "      <td>55.192982</td>\n",
       "      <td>-7.836669</td>\n",
       "      <td>0.140</td>\n",
       "      <td>0.0134</td>\n",
       "      <td>3.4</td>\n",
       "      <td>8.0</td>\n",
       "      <td>Jackson et al. (2005)</td>\n",
       "      <td>2.18</td>\n",
       "      <td>6.88</td>\n",
       "    </tr>\n",
       "    <tr>\n",
       "      <th>4</th>\n",
       "      <td>55.286966</td>\n",
       "      <td>-7.166544</td>\n",
       "      <td>0.230</td>\n",
       "      <td>0.0446</td>\n",
       "      <td>2.9</td>\n",
       "      <td>8.0</td>\n",
       "      <td>Jackson et al. (2005)</td>\n",
       "      <td>2.18</td>\n",
       "      <td>6.88</td>\n",
       "    </tr>\n",
       "    <tr>\n",
       "      <th>5</th>\n",
       "      <td>55.149232</td>\n",
       "      <td>-6.911044</td>\n",
       "      <td>0.190</td>\n",
       "      <td>0.0375</td>\n",
       "      <td>1.6</td>\n",
       "      <td>8.0</td>\n",
       "      <td>Jackson et al. (2005)</td>\n",
       "      <td>2.18</td>\n",
       "      <td>6.88</td>\n",
       "    </tr>\n",
       "    <tr>\n",
       "      <th>6</th>\n",
       "      <td>55.163580</td>\n",
       "      <td>-6.877427</td>\n",
       "      <td>0.157</td>\n",
       "      <td>0.0194</td>\n",
       "      <td>1.6</td>\n",
       "      <td>8.0</td>\n",
       "      <td>Jackson et al. (2005)</td>\n",
       "      <td>2.05</td>\n",
       "      <td>6.89</td>\n",
       "    </tr>\n",
       "    <tr>\n",
       "      <th>7</th>\n",
       "      <td>55.164820</td>\n",
       "      <td>-6.788414</td>\n",
       "      <td>0.166</td>\n",
       "      <td>0.0214</td>\n",
       "      <td>1.5</td>\n",
       "      <td>8.0</td>\n",
       "      <td>Jackson et al. (2005)</td>\n",
       "      <td>2.26</td>\n",
       "      <td>7.11</td>\n",
       "    </tr>\n",
       "    <tr>\n",
       "      <th>8</th>\n",
       "      <td>55.182910</td>\n",
       "      <td>-6.718701</td>\n",
       "      <td>0.157</td>\n",
       "      <td>0.0246</td>\n",
       "      <td>1.5</td>\n",
       "      <td>8.0</td>\n",
       "      <td>Jackson et al. (2005)</td>\n",
       "      <td>2.26</td>\n",
       "      <td>7.11</td>\n",
       "    </tr>\n",
       "    <tr>\n",
       "      <th>9</th>\n",
       "      <td>55.202304</td>\n",
       "      <td>-6.655600</td>\n",
       "      <td>0.186</td>\n",
       "      <td>0.0320</td>\n",
       "      <td>1.5</td>\n",
       "      <td>8.0</td>\n",
       "      <td>Jackson et al. (2005)</td>\n",
       "      <td>2.34</td>\n",
       "      <td>7.17</td>\n",
       "    </tr>\n",
       "    <tr>\n",
       "      <th>10</th>\n",
       "      <td>55.206520</td>\n",
       "      <td>-6.613315</td>\n",
       "      <td>0.197</td>\n",
       "      <td>0.0352</td>\n",
       "      <td>1.5</td>\n",
       "      <td>8.0</td>\n",
       "      <td>Jackson et al. (2005)</td>\n",
       "      <td>2.34</td>\n",
       "      <td>7.17</td>\n",
       "    </tr>\n",
       "    <tr>\n",
       "      <th>11</th>\n",
       "      <td>55.230840</td>\n",
       "      <td>-6.519184</td>\n",
       "      <td>0.280</td>\n",
       "      <td>0.0329</td>\n",
       "      <td>1.5</td>\n",
       "      <td>8.0</td>\n",
       "      <td>Jackson et al. (2005)</td>\n",
       "      <td>2.18</td>\n",
       "      <td>6.88</td>\n",
       "    </tr>\n",
       "    <tr>\n",
       "      <th>12</th>\n",
       "      <td>55.235180</td>\n",
       "      <td>-6.403564</td>\n",
       "      <td>0.229</td>\n",
       "      <td>0.0350</td>\n",
       "      <td>1.2</td>\n",
       "      <td>8.0</td>\n",
       "      <td>Jackson et al. (2005)</td>\n",
       "      <td>2.41</td>\n",
       "      <td>7.22</td>\n",
       "    </tr>\n",
       "    <tr>\n",
       "      <th>13</th>\n",
       "      <td>55.200688</td>\n",
       "      <td>-6.250282</td>\n",
       "      <td>0.634</td>\n",
       "      <td>0.0823</td>\n",
       "      <td>0.9</td>\n",
       "      <td>8.0</td>\n",
       "      <td>Jackson et al. (2005)</td>\n",
       "      <td>2.52</td>\n",
       "      <td>7.36</td>\n",
       "    </tr>\n",
       "    <tr>\n",
       "      <th>14</th>\n",
       "      <td>55.125247</td>\n",
       "      <td>-6.042348</td>\n",
       "      <td>0.397</td>\n",
       "      <td>0.1037</td>\n",
       "      <td>1.6</td>\n",
       "      <td>8.0</td>\n",
       "      <td>Jackson et al. (2005)</td>\n",
       "      <td>1.28</td>\n",
       "      <td>4.61</td>\n",
       "    </tr>\n",
       "    <tr>\n",
       "      <th>15</th>\n",
       "      <td>55.065955</td>\n",
       "      <td>-6.060966</td>\n",
       "      <td>0.169</td>\n",
       "      <td>0.0340</td>\n",
       "      <td>1.4</td>\n",
       "      <td>8.0</td>\n",
       "      <td>Jackson et al. (2005)</td>\n",
       "      <td>1.36</td>\n",
       "      <td>4.71</td>\n",
       "    </tr>\n",
       "    <tr>\n",
       "      <th>16</th>\n",
       "      <td>54.898066</td>\n",
       "      <td>-5.857875</td>\n",
       "      <td>0.218</td>\n",
       "      <td>0.0639</td>\n",
       "      <td>1.9</td>\n",
       "      <td>8.0</td>\n",
       "      <td>Jackson et al. (2005)</td>\n",
       "      <td>1.52</td>\n",
       "      <td>4.89</td>\n",
       "    </tr>\n",
       "    <tr>\n",
       "      <th>17</th>\n",
       "      <td>54.675499</td>\n",
       "      <td>-5.736003</td>\n",
       "      <td>0.248</td>\n",
       "      <td>0.0522</td>\n",
       "      <td>3.3</td>\n",
       "      <td>8.0</td>\n",
       "      <td>Jackson et al. (2005)</td>\n",
       "      <td>1.37</td>\n",
       "      <td>4.70</td>\n",
       "    </tr>\n",
       "    <tr>\n",
       "      <th>18</th>\n",
       "      <td>54.607820</td>\n",
       "      <td>-5.528463</td>\n",
       "      <td>0.141</td>\n",
       "      <td>0.0183</td>\n",
       "      <td>3.5</td>\n",
       "      <td>8.0</td>\n",
       "      <td>Jackson et al. (2005)</td>\n",
       "      <td>1.38</td>\n",
       "      <td>4.72</td>\n",
       "    </tr>\n",
       "    <tr>\n",
       "      <th>19</th>\n",
       "      <td>54.436630</td>\n",
       "      <td>-5.468761</td>\n",
       "      <td>0.170</td>\n",
       "      <td>0.0280</td>\n",
       "      <td>3.6</td>\n",
       "      <td>8.0</td>\n",
       "      <td>Jackson et al. (2005)</td>\n",
       "      <td>1.55</td>\n",
       "      <td>4.90</td>\n",
       "    </tr>\n",
       "    <tr>\n",
       "      <th>20</th>\n",
       "      <td>54.300135</td>\n",
       "      <td>-5.558462</td>\n",
       "      <td>0.286</td>\n",
       "      <td>0.0337</td>\n",
       "      <td>3.8</td>\n",
       "      <td>8.0</td>\n",
       "      <td>Jackson et al. (2005)</td>\n",
       "      <td>1.38</td>\n",
       "      <td>4.72</td>\n",
       "    </tr>\n",
       "    <tr>\n",
       "      <th>21</th>\n",
       "      <td>54.250000</td>\n",
       "      <td>-5.766667</td>\n",
       "      <td>0.137</td>\n",
       "      <td>0.0088</td>\n",
       "      <td>5.0</td>\n",
       "      <td>8.0</td>\n",
       "      <td>Jackson et al. (2005)</td>\n",
       "      <td>1.38</td>\n",
       "      <td>4.72</td>\n",
       "    </tr>\n",
       "    <tr>\n",
       "      <th>22</th>\n",
       "      <td>54.221498</td>\n",
       "      <td>-5.888508</td>\n",
       "      <td>0.150</td>\n",
       "      <td>0.0095</td>\n",
       "      <td>5.0</td>\n",
       "      <td>8.0</td>\n",
       "      <td>Jackson et al. (2005)</td>\n",
       "      <td>1.38</td>\n",
       "      <td>4.72</td>\n",
       "    </tr>\n",
       "    <tr>\n",
       "      <th>23</th>\n",
       "      <td>54.062666</td>\n",
       "      <td>-6.005995</td>\n",
       "      <td>0.233</td>\n",
       "      <td>0.0511</td>\n",
       "      <td>4.0</td>\n",
       "      <td>8.0</td>\n",
       "      <td>Jackson et al. (2005)</td>\n",
       "      <td>1.38</td>\n",
       "      <td>4.72</td>\n",
       "    </tr>\n",
       "    <tr>\n",
       "      <th>24</th>\n",
       "      <td>54.703803</td>\n",
       "      <td>-6.363024</td>\n",
       "      <td>0.214</td>\n",
       "      <td>0.0161</td>\n",
       "      <td>4.0</td>\n",
       "      <td>8.0</td>\n",
       "      <td>Jackson et al. (2005)</td>\n",
       "      <td>1.53</td>\n",
       "      <td>4.88</td>\n",
       "    </tr>\n",
       "  </tbody>\n",
       "</table>\n",
       "</div>"
      ],
      "text/plain": [
       "     latitude  longitude    d50  beach_slope_average  mstr  code  \\\n",
       "0   54.554352  -8.209775  0.140               0.0139   3.3   8.0   \n",
       "1   54.841990  -8.443956  0.180               0.0218   3.4   8.0   \n",
       "2   55.152830  -8.155428  0.210               0.0202   3.4   8.0   \n",
       "3   55.192982  -7.836669  0.140               0.0134   3.4   8.0   \n",
       "4   55.286966  -7.166544  0.230               0.0446   2.9   8.0   \n",
       "5   55.149232  -6.911044  0.190               0.0375   1.6   8.0   \n",
       "6   55.163580  -6.877427  0.157               0.0194   1.6   8.0   \n",
       "7   55.164820  -6.788414  0.166               0.0214   1.5   8.0   \n",
       "8   55.182910  -6.718701  0.157               0.0246   1.5   8.0   \n",
       "9   55.202304  -6.655600  0.186               0.0320   1.5   8.0   \n",
       "10  55.206520  -6.613315  0.197               0.0352   1.5   8.0   \n",
       "11  55.230840  -6.519184  0.280               0.0329   1.5   8.0   \n",
       "12  55.235180  -6.403564  0.229               0.0350   1.2   8.0   \n",
       "13  55.200688  -6.250282  0.634               0.0823   0.9   8.0   \n",
       "14  55.125247  -6.042348  0.397               0.1037   1.6   8.0   \n",
       "15  55.065955  -6.060966  0.169               0.0340   1.4   8.0   \n",
       "16  54.898066  -5.857875  0.218               0.0639   1.9   8.0   \n",
       "17  54.675499  -5.736003  0.248               0.0522   3.3   8.0   \n",
       "18  54.607820  -5.528463  0.141               0.0183   3.5   8.0   \n",
       "19  54.436630  -5.468761  0.170               0.0280   3.6   8.0   \n",
       "20  54.300135  -5.558462  0.286               0.0337   3.8   8.0   \n",
       "21  54.250000  -5.766667  0.137               0.0088   5.0   8.0   \n",
       "22  54.221498  -5.888508  0.150               0.0095   5.0   8.0   \n",
       "23  54.062666  -6.005995  0.233               0.0511   4.0   8.0   \n",
       "24  54.703803  -6.363024  0.214               0.0161   4.0   8.0   \n",
       "\n",
       "                  dataset  hs_mean    tp  \n",
       "0   Jackson et al. (2005)     2.18  6.88  \n",
       "1   Jackson et al. (2005)     2.18  6.88  \n",
       "2   Jackson et al. (2005)     2.18  6.88  \n",
       "3   Jackson et al. (2005)     2.18  6.88  \n",
       "4   Jackson et al. (2005)     2.18  6.88  \n",
       "5   Jackson et al. (2005)     2.18  6.88  \n",
       "6   Jackson et al. (2005)     2.05  6.89  \n",
       "7   Jackson et al. (2005)     2.26  7.11  \n",
       "8   Jackson et al. (2005)     2.26  7.11  \n",
       "9   Jackson et al. (2005)     2.34  7.17  \n",
       "10  Jackson et al. (2005)     2.34  7.17  \n",
       "11  Jackson et al. (2005)     2.18  6.88  \n",
       "12  Jackson et al. (2005)     2.41  7.22  \n",
       "13  Jackson et al. (2005)     2.52  7.36  \n",
       "14  Jackson et al. (2005)     1.28  4.61  \n",
       "15  Jackson et al. (2005)     1.36  4.71  \n",
       "16  Jackson et al. (2005)     1.52  4.89  \n",
       "17  Jackson et al. (2005)     1.37  4.70  \n",
       "18  Jackson et al. (2005)     1.38  4.72  \n",
       "19  Jackson et al. (2005)     1.55  4.90  \n",
       "20  Jackson et al. (2005)     1.38  4.72  \n",
       "21  Jackson et al. (2005)     1.38  4.72  \n",
       "22  Jackson et al. (2005)     1.38  4.72  \n",
       "23  Jackson et al. (2005)     1.38  4.72  \n",
       "24  Jackson et al. (2005)     1.53  4.88  "
      ]
     },
     "execution_count": 173,
     "metadata": {},
     "output_type": "execute_result"
    }
   ],
   "source": [
    "dfNI"
   ]
  },
  {
   "cell_type": "code",
   "execution_count": 174,
   "id": "a5bf840b",
   "metadata": {},
   "outputs": [],
   "source": [
    "# stratification deosnt really make sense for this dataset, \n",
    "# but boosts up to N=100 (from N=24) while almost retaining original unique value distributions"
   ]
  },
  {
   "cell_type": "code",
   "execution_count": 175,
   "id": "13abf5b2",
   "metadata": {},
   "outputs": [
    {
     "data": {
      "text/plain": [
       "23"
      ]
     },
     "execution_count": 175,
     "metadata": {},
     "output_type": "execute_result"
    }
   ],
   "source": [
    "len(np.unique(dfNI['d50'].values))"
   ]
  },
  {
   "cell_type": "code",
   "execution_count": 176,
   "id": "8d12401a",
   "metadata": {},
   "outputs": [
    {
     "data": {
      "text/plain": [
       "100"
      ]
     },
     "execution_count": 176,
     "metadata": {},
     "output_type": "execute_result"
    }
   ],
   "source": [
    "df_strat_gs = dfNI.copy()\n",
    "\n",
    "num_cats=2\n",
    "num_samples_per_category = len(dfNI)*2\n",
    "\n",
    "df_strat_gs['category'] = pd.cut(df_strat_gs['d50'], num_cats)\n",
    "df_strat_gs = df_strat_gs.groupby(['category']).apply(lambda x: x.sample(num_samples_per_category, replace = True)).reset_index(drop = True)\n",
    "\n",
    "len(df_strat_gs)"
   ]
  },
  {
   "cell_type": "code",
   "execution_count": 177,
   "id": "18de394a",
   "metadata": {},
   "outputs": [
    {
     "data": {
      "text/plain": [
       "20"
      ]
     },
     "execution_count": 177,
     "metadata": {},
     "output_type": "execute_result"
    }
   ],
   "source": [
    "len(np.unique(df_strat_gs['d50'].values))"
   ]
  },
  {
   "cell_type": "code",
   "execution_count": 178,
   "id": "336e833e",
   "metadata": {},
   "outputs": [],
   "source": [
    "unique , unique_counts   = np.unique(df_strat_gs['d50'].values, return_counts=True)"
   ]
  },
  {
   "cell_type": "code",
   "execution_count": 179,
   "id": "a9ce0901",
   "metadata": {},
   "outputs": [
    {
     "data": {
      "text/plain": [
       "array([0.137, 0.14 , 0.15 , 0.157, 0.166, 0.169, 0.18 , 0.186, 0.19 ,\n",
       "       0.197, 0.21 , 0.214, 0.218, 0.229, 0.23 , 0.248, 0.28 , 0.286,\n",
       "       0.397, 0.634])"
      ]
     },
     "execution_count": 179,
     "metadata": {},
     "output_type": "execute_result"
    }
   ],
   "source": [
    "unique"
   ]
  },
  {
   "cell_type": "code",
   "execution_count": 180,
   "id": "65eca4a2",
   "metadata": {},
   "outputs": [
    {
     "data": {
      "text/plain": [
       "array([ 1,  6,  2,  3,  2,  4,  3,  5,  1,  1,  1,  5,  1,  2,  2,  4,  4,\n",
       "        3, 29, 21], dtype=int64)"
      ]
     },
     "execution_count": 180,
     "metadata": {},
     "output_type": "execute_result"
    }
   ],
   "source": [
    "unique_counts"
   ]
  },
  {
   "cell_type": "code",
   "execution_count": 181,
   "id": "5d93b99f",
   "metadata": {},
   "outputs": [
    {
     "data": {
      "text/plain": [
       "Index(['latitude', 'longitude', 'd50', 'beach_slope_average', 'mstr', 'code',\n",
       "       'dataset', 'hs_mean', 'tp', 'category'],\n",
       "      dtype='object')"
      ]
     },
     "execution_count": 181,
     "metadata": {},
     "output_type": "execute_result"
    }
   ],
   "source": [
    "df_strat_gs.keys()"
   ]
  },
  {
   "cell_type": "code",
   "execution_count": 182,
   "id": "3fbb5f16",
   "metadata": {},
   "outputs": [],
   "source": [
    "df_strat_gs = df_strat_gs[['latitude', 'longitude', 'd50', 'beach_slope_average', 'mstr', 'code',\n",
    "       'hs_mean', 'tp']]"
   ]
  },
  {
   "cell_type": "code",
   "execution_count": 183,
   "id": "cbc56909",
   "metadata": {},
   "outputs": [],
   "source": [
    "df_strat_gs.to_csv('../model_data/dataset_NI_strat_gs.csv')"
   ]
  },
  {
   "cell_type": "code",
   "execution_count": 184,
   "id": "df33e966",
   "metadata": {},
   "outputs": [],
   "source": [
    "rand = np.random.randn(len(df_strat_gs))\n",
    "np.save('../model_out/NI_rand_strat_gs.npy', rand, allow_pickle=True)\n"
   ]
  },
  {
   "cell_type": "code",
   "execution_count": 185,
   "id": "f16e10a7",
   "metadata": {},
   "outputs": [
    {
     "data": {
      "text/plain": [
       "1215.323278645891"
      ]
     },
     "execution_count": 185,
     "metadata": {},
     "output_type": "execute_result"
    }
   ],
   "source": [
    "tmp = df_strat_gs[['latitude','longitude']]\n",
    "\n",
    "tmp = tmp.sort_values(by='latitude')\n",
    "# print(tmp)\n",
    "\n",
    "D=[]\n",
    "for i in range(len(tmp)-1):\n",
    "    a = tmp.iloc[i]\n",
    "    b = tmp.iloc[i+1]\n",
    "    dist = haversine(\n",
    "            a['latitude'], a['longitude'], b['latitude'], b['longitude'], \n",
    "            to_radians=True, earth_radius=6371)\n",
    "    D.append(dist)\n",
    "    \n",
    "np.sum(D)"
   ]
  },
  {
   "cell_type": "code",
   "execution_count": 186,
   "id": "1816b58c",
   "metadata": {},
   "outputs": [
    {
     "data": {
      "text/plain": [
       "60.0"
      ]
     },
     "execution_count": 186,
     "metadata": {},
     "output_type": "execute_result"
    }
   ],
   "source": [
    "len(df_strat_gs)*.6"
   ]
  },
  {
   "cell_type": "code",
   "execution_count": 187,
   "id": "b0979dc1",
   "metadata": {},
   "outputs": [
    {
     "data": {
      "text/plain": [
       "40.0"
      ]
     },
     "execution_count": 187,
     "metadata": {},
     "output_type": "execute_result"
    }
   ],
   "source": [
    "len(df_strat_gs)*.4"
   ]
  },
  {
   "cell_type": "markdown",
   "id": "d16c14a5",
   "metadata": {},
   "source": [
    "### Massachusetts"
   ]
  },
  {
   "cell_type": "code",
   "execution_count": 188,
   "id": "1a66657d",
   "metadata": {},
   "outputs": [],
   "source": [
    "dfM = pd.read_csv('../../../orig_data/Massachusetts_Beach_Data/Mass_merged_lowtide.csv')\n",
    "\n",
    "tmp = ['Woodruff et al. (2021)' for k in dfM['d50']]\n",
    "\n",
    "dfM['dataset'] = tmp"
   ]
  },
  {
   "cell_type": "code",
   "execution_count": 189,
   "id": "34b08f98",
   "metadata": {},
   "outputs": [
    {
     "data": {
      "text/plain": [
       "Index(['Unnamed: 0', 'latitude', 'longitude', 'hs_mean', 'mstr', 'd50',\n",
       "       'beach_slope_average', 'dataset'],\n",
       "      dtype='object')"
      ]
     },
     "execution_count": 189,
     "metadata": {},
     "output_type": "execute_result"
    }
   ],
   "source": [
    "dfM.keys()"
   ]
  },
  {
   "cell_type": "code",
   "execution_count": 190,
   "id": "74d36391",
   "metadata": {},
   "outputs": [
    {
     "data": {
      "text/plain": [
       "0.350985915"
      ]
     },
     "execution_count": 190,
     "metadata": {},
     "output_type": "execute_result"
    }
   ],
   "source": [
    "dfM['d50'].min()"
   ]
  },
  {
   "cell_type": "code",
   "execution_count": 191,
   "id": "b979808a",
   "metadata": {},
   "outputs": [
    {
     "data": {
      "text/plain": [
       "33.89444444"
      ]
     },
     "execution_count": 191,
     "metadata": {},
     "output_type": "execute_result"
    }
   ],
   "source": [
    "dfM['d50'].max()"
   ]
  },
  {
   "cell_type": "code",
   "execution_count": 192,
   "id": "5add6a1f",
   "metadata": {},
   "outputs": [
    {
     "data": {
      "text/plain": [
       "47"
      ]
     },
     "execution_count": 192,
     "metadata": {},
     "output_type": "execute_result"
    }
   ],
   "source": [
    "len(np.unique(dfM['d50'].values))"
   ]
  },
  {
   "cell_type": "code",
   "execution_count": 193,
   "id": "6d671e1a",
   "metadata": {},
   "outputs": [
    {
     "data": {
      "text/plain": [
       "154"
      ]
     },
     "execution_count": 193,
     "metadata": {},
     "output_type": "execute_result"
    }
   ],
   "source": [
    "df_strat_gs = dfM.copy()\n",
    "\n",
    "num_cats=2\n",
    "num_samples_per_category = len(dfM)\n",
    "\n",
    "df_strat_gs['category'] = pd.cut(df_strat_gs['d50'], num_cats)\n",
    "df_strat_gs = df_strat_gs.groupby(['category']).apply(lambda x: x.sample(num_samples_per_category, replace = True)).reset_index(drop = True)\n",
    "\n",
    "len(df_strat_gs)"
   ]
  },
  {
   "cell_type": "code",
   "execution_count": 194,
   "id": "1da87c23",
   "metadata": {},
   "outputs": [
    {
     "data": {
      "text/plain": [
       "42"
      ]
     },
     "execution_count": 194,
     "metadata": {},
     "output_type": "execute_result"
    }
   ],
   "source": [
    "len(np.unique(df_strat_gs['d50'].values))"
   ]
  },
  {
   "cell_type": "code",
   "execution_count": 195,
   "id": "e2a98400",
   "metadata": {},
   "outputs": [
    {
     "data": {
      "text/plain": [
       "33.89444444"
      ]
     },
     "execution_count": 195,
     "metadata": {},
     "output_type": "execute_result"
    }
   ],
   "source": [
    "df_strat_gs['d50'].max()"
   ]
  },
  {
   "cell_type": "code",
   "execution_count": 196,
   "id": "33036fe9",
   "metadata": {},
   "outputs": [
    {
     "data": {
      "text/plain": [
       "0.350985915"
      ]
     },
     "execution_count": 196,
     "metadata": {},
     "output_type": "execute_result"
    }
   ],
   "source": [
    "df_strat_gs['d50'].min()"
   ]
  },
  {
   "cell_type": "code",
   "execution_count": 197,
   "id": "b8dcc24f",
   "metadata": {},
   "outputs": [],
   "source": [
    "df_strat_gs['code'] = np.ones(len(df_strat_gs))*9"
   ]
  },
  {
   "cell_type": "code",
   "execution_count": 198,
   "id": "749fe02a",
   "metadata": {},
   "outputs": [
    {
     "data": {
      "text/plain": [
       "Index(['Unnamed: 0', 'latitude', 'longitude', 'hs_mean', 'mstr', 'd50',\n",
       "       'beach_slope_average', 'dataset', 'category', 'code'],\n",
       "      dtype='object')"
      ]
     },
     "execution_count": 198,
     "metadata": {},
     "output_type": "execute_result"
    }
   ],
   "source": [
    "df_strat_gs.keys()"
   ]
  },
  {
   "cell_type": "code",
   "execution_count": 199,
   "id": "23a4734f",
   "metadata": {},
   "outputs": [
    {
     "data": {
      "text/plain": [
       "Index(['latitude', 'longitude', 'd50', 'beach_slope_average', 'mstr', 'code',\n",
       "       'dataset', 'hs_mean'],\n",
       "      dtype='object')"
      ]
     },
     "execution_count": 199,
     "metadata": {},
     "output_type": "execute_result"
    }
   ],
   "source": [
    "df_strat_gs = df_strat_gs[['latitude', 'longitude', 'd50', 'beach_slope_average', 'mstr', 'code', 'dataset',\n",
    "       'hs_mean']]\n",
    "df_strat_gs.keys()"
   ]
  },
  {
   "cell_type": "code",
   "execution_count": 200,
   "id": "c62161a8",
   "metadata": {},
   "outputs": [],
   "source": [
    "df_strat_gs.to_csv('../model_data/dataset_Mass_strat_gs.csv')"
   ]
  },
  {
   "cell_type": "code",
   "execution_count": 201,
   "id": "82e1b58e",
   "metadata": {},
   "outputs": [],
   "source": [
    "rand = np.random.randn(len(df_strat_gs))\n",
    "np.save('../model_out/Mass_rand_strat_gs.npy', rand, allow_pickle=True)\n"
   ]
  },
  {
   "cell_type": "code",
   "execution_count": null,
   "id": "0dcac18b",
   "metadata": {},
   "outputs": [],
   "source": []
  },
  {
   "cell_type": "code",
   "execution_count": 202,
   "id": "14f664db",
   "metadata": {},
   "outputs": [],
   "source": [
    "df_strat_gs = df_strat_gs[df_strat_gs['d50']<2]"
   ]
  },
  {
   "cell_type": "code",
   "execution_count": 203,
   "id": "d9b2efc6",
   "metadata": {},
   "outputs": [
    {
     "data": {
      "text/plain": [
       "(0.350985915, 1.370240964)"
      ]
     },
     "execution_count": 203,
     "metadata": {},
     "output_type": "execute_result"
    }
   ],
   "source": [
    "(df_strat_gs['d50'].min(), df_strat_gs['d50'].max())"
   ]
  },
  {
   "cell_type": "code",
   "execution_count": 204,
   "id": "ef19c4fe",
   "metadata": {},
   "outputs": [
    {
     "data": {
      "text/plain": [
       "(41.24014, 41.54233)"
      ]
     },
     "execution_count": 204,
     "metadata": {},
     "output_type": "execute_result"
    }
   ],
   "source": [
    "(df_strat_gs['latitude'].min(), df_strat_gs['latitude'].max())"
   ]
  },
  {
   "cell_type": "code",
   "execution_count": 205,
   "id": "8fb76742",
   "metadata": {},
   "outputs": [
    {
     "data": {
      "text/plain": [
       "(-70.62396, -70.10078)"
      ]
     },
     "execution_count": 205,
     "metadata": {},
     "output_type": "execute_result"
    }
   ],
   "source": [
    "(df_strat_gs['longitude'].min(), df_strat_gs['longitude'].max())"
   ]
  },
  {
   "cell_type": "code",
   "execution_count": 206,
   "id": "46ee79e3",
   "metadata": {},
   "outputs": [
    {
     "data": {
      "text/plain": [
       "58.7083801943504"
      ]
     },
     "execution_count": 206,
     "metadata": {},
     "output_type": "execute_result"
    }
   ],
   "source": [
    "tmp = df_strat_gs[['latitude','longitude']]\n",
    "\n",
    "tmp = tmp.sort_values(by='latitude')\n",
    "# print(tmp)\n",
    "\n",
    "D=[]\n",
    "for i in range(len(tmp)-1):\n",
    "    a = tmp.iloc[i]\n",
    "    b = tmp.iloc[i+1]\n",
    "    dist = haversine(\n",
    "            a['latitude'], a['longitude'], b['latitude'], b['longitude'], \n",
    "            to_radians=True, earth_radius=6371)\n",
    "    D.append(dist)\n",
    "    \n",
    "np.sum(D)"
   ]
  },
  {
   "cell_type": "code",
   "execution_count": 207,
   "id": "f19d24ec",
   "metadata": {},
   "outputs": [
    {
     "data": {
      "text/plain": [
       "45.0"
      ]
     },
     "execution_count": 207,
     "metadata": {},
     "output_type": "execute_result"
    }
   ],
   "source": [
    "len(df_strat_gs)*.6"
   ]
  },
  {
   "cell_type": "code",
   "execution_count": 208,
   "id": "a8b18661",
   "metadata": {},
   "outputs": [
    {
     "data": {
      "text/plain": [
       "30.0"
      ]
     },
     "execution_count": 208,
     "metadata": {},
     "output_type": "execute_result"
    }
   ],
   "source": [
    "len(df_strat_gs)*.4"
   ]
  },
  {
   "cell_type": "code",
   "execution_count": null,
   "id": "cbf25980",
   "metadata": {},
   "outputs": [],
   "source": []
  }
 ],
 "metadata": {
  "kernelspec": {
   "display_name": "Python 3 (ipykernel)",
   "language": "python",
   "name": "python3"
  },
  "language_info": {
   "codemirror_mode": {
    "name": "ipython",
    "version": 3
   },
   "file_extension": ".py",
   "mimetype": "text/x-python",
   "name": "python",
   "nbconvert_exporter": "python",
   "pygments_lexer": "ipython3",
   "version": "3.10.4"
  }
 },
 "nbformat": 4,
 "nbformat_minor": 5
}
