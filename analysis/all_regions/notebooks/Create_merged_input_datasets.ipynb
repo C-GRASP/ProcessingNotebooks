{
 "cells": [
  {
   "cell_type": "code",
   "execution_count": 1,
   "id": "e0cd3778",
   "metadata": {},
   "outputs": [],
   "source": [
    "import pandas as pd\n",
    "import matplotlib.pyplot as plt\n",
    "import numpy as np\n",
    "import geopandas as gpd\n",
    "from geopandas.tools import sjoin"
   ]
  },
  {
   "cell_type": "markdown",
   "id": "a17067dd",
   "metadata": {},
   "source": [
    "### SE USA"
   ]
  },
  {
   "cell_type": "code",
   "execution_count": 2,
   "id": "983f938e",
   "metadata": {},
   "outputs": [],
   "source": [
    "# dfSEUS = pd.read_csv('../../../analysis/SEusa/model_data_out/ML_slope_wave_atlantic_2022-05-18_Data_Post2012_VerifiedOnshore_0.0015_right_transects_model_stratsample-by-lat.csv')\n",
    "# dfSEUS = pd.read_csv('../model_data/ML_slope_wave_atlantic_2022-05-18_Data_Post2012_VerifiedOnshore_0.0015_right_transects_model_stratsample-by-lat.csv')"
   ]
  },
  {
   "cell_type": "code",
   "execution_count": 3,
   "id": "1707c735",
   "metadata": {},
   "outputs": [],
   "source": [
    "# dfSEUS = pd.read_csv('../model_data/ML_slope_wave_atlantic_2022-08-31_Data_Post2012_VerifiedOnshore_0.0015_right_transects_model_stratsample-by-lat.csv')\n",
    "\n",
    "dfSEUS = pd.read_csv('../model_data/ML_slope_wave_atlantic_2022-9-4_Data_Post2012_VerifiedOnshore_0.0015_right_transects_model_stratsample-by-lat.csv')"
   ]
  },
  {
   "cell_type": "code",
   "execution_count": 4,
   "id": "b4767d01",
   "metadata": {},
   "outputs": [
    {
     "data": {
      "text/plain": [
       "460"
      ]
     },
     "execution_count": 4,
     "metadata": {},
     "output_type": "execute_result"
    }
   ],
   "source": [
    "len(dfSEUS)"
   ]
  },
  {
   "cell_type": "code",
   "execution_count": 5,
   "id": "c0154700",
   "metadata": {},
   "outputs": [
    {
     "data": {
      "text/plain": [
       "1.06082628750927"
      ]
     },
     "execution_count": 5,
     "metadata": {},
     "output_type": "execute_result"
    }
   ],
   "source": [
    "dfSEUS['d50'].max()"
   ]
  },
  {
   "cell_type": "code",
   "execution_count": 6,
   "id": "4be60e99",
   "metadata": {},
   "outputs": [
    {
     "data": {
      "text/plain": [
       "0.0905771248816574"
      ]
     },
     "execution_count": 6,
     "metadata": {},
     "output_type": "execute_result"
    }
   ],
   "source": [
    "dfSEUS['d50'].min()"
   ]
  },
  {
   "cell_type": "code",
   "execution_count": 7,
   "id": "f99f669c",
   "metadata": {},
   "outputs": [
    {
     "data": {
      "text/plain": [
       "330"
      ]
     },
     "execution_count": 7,
     "metadata": {},
     "output_type": "execute_result"
    }
   ],
   "source": [
    "df_strat_gs = dfSEUS.copy()\n",
    "\n",
    "num_cats=11\n",
    "num_samples_per_category = 30\n",
    "\n",
    "df_strat_gs['category'] = pd.cut(df_strat_gs['d50'], num_cats)\n",
    "df_strat_gs = df_strat_gs.groupby(['category']).apply(lambda x: x.sample(num_samples_per_category, replace = True)).reset_index(drop = True)\n",
    "\n",
    "len(df_strat_gs)"
   ]
  },
  {
   "cell_type": "code",
   "execution_count": 8,
   "id": "7b7fe48e",
   "metadata": {},
   "outputs": [
    {
     "data": {
      "text/plain": [
       "0      (0.0896, 0.179]\n",
       "1      (0.0896, 0.179]\n",
       "2      (0.0896, 0.179]\n",
       "3      (0.0896, 0.179]\n",
       "4      (0.0896, 0.179]\n",
       "            ...       \n",
       "325     (0.973, 1.061]\n",
       "326     (0.973, 1.061]\n",
       "327     (0.973, 1.061]\n",
       "328     (0.973, 1.061]\n",
       "329     (0.973, 1.061]\n",
       "Name: category, Length: 330, dtype: category\n",
       "Categories (11, interval[float64, right]): [(0.0896, 0.179] < (0.179, 0.267] < (0.267, 0.355] < (0.355, 0.443] ... (0.708, 0.796] < (0.796, 0.884] < (0.884, 0.973] < (0.973, 1.061]]"
      ]
     },
     "execution_count": 8,
     "metadata": {},
     "output_type": "execute_result"
    }
   ],
   "source": [
    "df_strat_gs['category']"
   ]
  },
  {
   "cell_type": "code",
   "execution_count": 9,
   "id": "824664ef",
   "metadata": {},
   "outputs": [
    {
     "data": {
      "text/plain": [
       "[<matplotlib.lines.Line2D at 0x26650de3970>]"
      ]
     },
     "execution_count": 9,
     "metadata": {},
     "output_type": "execute_result"
    },
    {
     "data": {
      "image/png": "[encoded data removed]",
      "text/plain": [
       "<Figure size 432x288 with 1 Axes>"
      ]
     },
     "metadata": {
      "needs_background": "light"
     },
     "output_type": "display_data"
    }
   ],
   "source": [
    "plt.plot(dfSEUS['longitude'], dfSEUS['latitude'], '.')\n",
    "plt.plot(df_strat_gs['longitude'], df_strat_gs['latitude'], 'ro')"
   ]
  },
  {
   "cell_type": "code",
   "execution_count": 10,
   "id": "93316014",
   "metadata": {},
   "outputs": [
    {
     "data": {
      "text/plain": [
       "330"
      ]
     },
     "execution_count": 10,
     "metadata": {},
     "output_type": "execute_result"
    }
   ],
   "source": [
    "dfSEUS = df_strat_gs.copy()\n",
    "len(dfSEUS)"
   ]
  },
  {
   "cell_type": "code",
   "execution_count": 11,
   "id": "5600a6cd",
   "metadata": {},
   "outputs": [],
   "source": [
    "dfSEUS['code'] = np.ones(len(dfSEUS))"
   ]
  },
  {
   "cell_type": "code",
   "execution_count": 12,
   "id": "1765c4c2",
   "metadata": {},
   "outputs": [],
   "source": [
    "dfSEUS = dfSEUS[['latitude', 'longitude', 'd50',\n",
    "        'beach_slope_average', 'mstr', 'code',\n",
    "         'hs_mean', 'dir', 'tp']].copy() #'hs_max',"
   ]
  },
  {
   "cell_type": "code",
   "execution_count": 13,
   "id": "3257fde0",
   "metadata": {},
   "outputs": [],
   "source": [
    "dfSEUS.to_csv('../model_data/dataset_SE_US_coast_strat_gs.csv')"
   ]
  },
  {
   "cell_type": "code",
   "execution_count": 14,
   "id": "ec3a32b0",
   "metadata": {},
   "outputs": [],
   "source": [
    "rand = np.random.randn(len(dfSEUS))\n",
    "np.save('../model_out/SEUS_rand.npy', rand, allow_pickle=True)\n",
    "\n",
    "# rand = np.load('../model_out/SEUS_rand.npy', allow_pickle=True)\n"
   ]
  },
  {
   "cell_type": "code",
   "execution_count": null,
   "id": "8d5941b9",
   "metadata": {},
   "outputs": [],
   "source": []
  },
  {
   "cell_type": "markdown",
   "id": "ec366189",
   "metadata": {},
   "source": [
    "### E Australia"
   ]
  },
  {
   "cell_type": "code",
   "execution_count": 15,
   "id": "9cfb4f0d",
   "metadata": {},
   "outputs": [],
   "source": [
    "dataset = '../../../orig_data/australia/dataset_Australia_East_coast.geojson'\n",
    "\n",
    "dfOz = gpd.read_file(dataset)\n",
    "\n",
    "dfOz = dfOz[dfOz['d50']<=.9] #2\n",
    "len(dfOz)\n",
    "\n",
    "ind = np.where(dfOz['quality_flag']!='Low')[0]\n",
    "len(ind)\n",
    "dfOz = dfOz.iloc[ind]\n",
    "len(dfOz)\n",
    "\n",
    "ind = np.where(dfOz['distance_to_sample']<1000)[0]\n",
    "len(ind)\n",
    "dfOz = dfOz.iloc[ind]\n",
    "len(dfOz)\n",
    "\n",
    "dfOz = dfOz.dropna()\n",
    "# df.head()\n",
    "len(dfOz)\n",
    "\n",
    "dfOz.rename(columns = {'Hs_max':'hs_max', 'Hs_mean':'hs_mean', 'Tp_mean': 'tp', 'Wdir_mean':'dir'}, inplace = True)\n",
    "dfOz.to_csv('../model_data/dataset_Australia_East_coast_nostrat.csv')"
   ]
  },
  {
   "cell_type": "code",
   "execution_count": 16,
   "id": "56d39573",
   "metadata": {},
   "outputs": [
    {
     "data": {
      "text/plain": [
       "300"
      ]
     },
     "execution_count": 16,
     "metadata": {},
     "output_type": "execute_result"
    }
   ],
   "source": [
    "df_strat_gs = dfOz.copy()\n",
    "\n",
    "num_cats=10\n",
    "num_samples_per_category = 30\n",
    "\n",
    "df_strat_gs['category'] = pd.cut(df_strat_gs['d50'], num_cats)\n",
    "df_strat_gs = df_strat_gs.groupby(['category']).apply(lambda x: x.sample(num_samples_per_category, replace = True)).reset_index(drop = True)\n",
    "\n",
    "len(df_strat_gs)"
   ]
  },
  {
   "cell_type": "code",
   "execution_count": 17,
   "id": "0c709189",
   "metadata": {},
   "outputs": [
    {
     "data": {
      "text/plain": [
       "0      (0.118, 0.175]\n",
       "1      (0.118, 0.175]\n",
       "2      (0.118, 0.175]\n",
       "3      (0.118, 0.175]\n",
       "4      (0.118, 0.175]\n",
       "            ...      \n",
       "295     (0.624, 0.68]\n",
       "296     (0.624, 0.68]\n",
       "297     (0.624, 0.68]\n",
       "298     (0.624, 0.68]\n",
       "299     (0.624, 0.68]\n",
       "Name: category, Length: 300, dtype: category\n",
       "Categories (10, interval[float64, right]): [(0.118, 0.175] < (0.175, 0.231] < (0.231, 0.287] < (0.287, 0.343] ... (0.455, 0.511] < (0.511, 0.568] < (0.568, 0.624] < (0.624, 0.68]]"
      ]
     },
     "execution_count": 17,
     "metadata": {},
     "output_type": "execute_result"
    }
   ],
   "source": [
    "df_strat_gs['category']"
   ]
  },
  {
   "cell_type": "code",
   "execution_count": 18,
   "id": "18118380",
   "metadata": {},
   "outputs": [
    {
     "data": {
      "text/plain": [
       "[<matplotlib.lines.Line2D at 0x26651669de0>]"
      ]
     },
     "execution_count": 18,
     "metadata": {},
     "output_type": "execute_result"
    },
    {
     "data": {
      "image/png": "[encoded data removed]",
      "text/plain": [
       "<Figure size 432x288 with 1 Axes>"
      ]
     },
     "metadata": {
      "needs_background": "light"
     },
     "output_type": "display_data"
    }
   ],
   "source": [
    "plt.plot(dfOz['longitude'], dfOz['latitude'], '.')\n",
    "plt.plot(df_strat_gs['longitude'], df_strat_gs['latitude'], 'ro')"
   ]
  },
  {
   "cell_type": "code",
   "execution_count": 19,
   "id": "98fe951c",
   "metadata": {},
   "outputs": [
    {
     "data": {
      "text/plain": [
       "300"
      ]
     },
     "execution_count": 19,
     "metadata": {},
     "output_type": "execute_result"
    }
   ],
   "source": [
    "dfEAus = df_strat_gs.copy()\n",
    "len(dfEAus)"
   ]
  },
  {
   "cell_type": "code",
   "execution_count": 20,
   "id": "cd42a64b",
   "metadata": {},
   "outputs": [],
   "source": [
    "dfEAus['code'] = np.zeros(len(dfEAus))"
   ]
  },
  {
   "cell_type": "code",
   "execution_count": 21,
   "id": "97d1293a",
   "metadata": {},
   "outputs": [],
   "source": [
    "dfEAus = dfEAus[['latitude', 'longitude', 'd50',\n",
    "        'beach_slope_average', 'mstr', 'code',\n",
    "         'hs_mean', 'dir', 'tp']].copy() #'hs_max',"
   ]
  },
  {
   "cell_type": "code",
   "execution_count": 22,
   "id": "2e03a7c3",
   "metadata": {},
   "outputs": [],
   "source": [
    "dfEAus.to_csv('../model_data/dataset_E_Aus_coast_strat_gs.csv')"
   ]
  },
  {
   "cell_type": "code",
   "execution_count": 23,
   "id": "04fa4472",
   "metadata": {},
   "outputs": [],
   "source": [
    "rand = np.random.randn(len(dfEAus))\n",
    "np.save('../model_out/EAus_rand.npy', rand, allow_pickle=True)\n",
    "\n",
    "# rand = np.load('../model_out/EAus_rand.npy', allow_pickle=True)\n"
   ]
  },
  {
   "cell_type": "markdown",
   "id": "2d1a92c4",
   "metadata": {},
   "source": [
    "### S Cali"
   ]
  },
  {
   "cell_type": "code",
   "execution_count": 24,
   "id": "cfdbdfbb",
   "metadata": {},
   "outputs": [],
   "source": [
    "dfSCali = pd.read_csv('../../../orig_data/US_S_CA/SoCal_GrainSize_waves_slopes_tide_merged.csv')\n",
    "dfSCali = dfSCali[dfSCali['Grain_Size']<2] "
   ]
  },
  {
   "cell_type": "code",
   "execution_count": 25,
   "id": "139f2668",
   "metadata": {},
   "outputs": [],
   "source": [
    "dfSCali = dfSCali[dfSCali['Ele']=='BF']\n",
    "dfSCali = dfSCali.dropna()"
   ]
  },
  {
   "cell_type": "code",
   "execution_count": 26,
   "id": "70cc2191",
   "metadata": {},
   "outputs": [
    {
     "data": {
      "text/plain": [
       "627"
      ]
     },
     "execution_count": 26,
     "metadata": {},
     "output_type": "execute_result"
    }
   ],
   "source": [
    "len(dfSCali)"
   ]
  },
  {
   "cell_type": "code",
   "execution_count": 27,
   "id": "08382e30",
   "metadata": {},
   "outputs": [
    {
     "data": {
      "text/plain": [
       "330"
      ]
     },
     "execution_count": 27,
     "metadata": {},
     "output_type": "execute_result"
    }
   ],
   "source": [
    "df_strat_gs = dfSCali.copy()\n",
    "\n",
    "num_cats=11\n",
    "num_samples_per_category = 30\n",
    "\n",
    "df_strat_gs['category'] = pd.cut(df_strat_gs['Grain_Size'], num_cats)\n",
    "df_strat_gs = df_strat_gs.groupby(['category']).apply(lambda x: x.sample(num_samples_per_category, replace = True)).reset_index(drop = True)\n",
    "\n",
    "len(df_strat_gs)"
   ]
  },
  {
   "cell_type": "code",
   "execution_count": 28,
   "id": "f900dfe4",
   "metadata": {},
   "outputs": [
    {
     "data": {
      "text/plain": [
       "[<matplotlib.lines.Line2D at 0x2665169b760>]"
      ]
     },
     "execution_count": 28,
     "metadata": {},
     "output_type": "execute_result"
    },
    {
     "data": {
      "image/png": "[encoded data removed]",
      "text/plain": [
       "<Figure size 432x288 with 1 Axes>"
      ]
     },
     "metadata": {
      "needs_background": "light"
     },
     "output_type": "display_data"
    }
   ],
   "source": [
    "plt.plot(dfSCali['Lon'], dfSCali['Lat'], '.')\n",
    "plt.plot(df_strat_gs['Lon'], df_strat_gs['Lat'], 'ro')"
   ]
  },
  {
   "cell_type": "code",
   "execution_count": 29,
   "id": "8d67dcca",
   "metadata": {},
   "outputs": [
    {
     "data": {
      "text/plain": [
       "330"
      ]
     },
     "execution_count": 29,
     "metadata": {},
     "output_type": "execute_result"
    }
   ],
   "source": [
    "dfSCali = df_strat_gs.copy()\n",
    "len(dfSCali)"
   ]
  },
  {
   "cell_type": "code",
   "execution_count": null,
   "id": "08102b69",
   "metadata": {},
   "outputs": [],
   "source": []
  },
  {
   "cell_type": "code",
   "execution_count": 30,
   "id": "33c4e2ee",
   "metadata": {},
   "outputs": [],
   "source": [
    "dfSCali.rename(\n",
    "    columns = {'Beach face slope':'beach_slope_average', 'Grain_Size':'d50', 'Hs':'hs_mean', 'Tp': 'tp', 'Dp':'dir', 'Lat':'latitude', 'Lon':'longitude', 'TIDAL_RANGE':'mstr'}, \n",
    "    inplace = True)\n"
   ]
  },
  {
   "cell_type": "code",
   "execution_count": 31,
   "id": "57837f2a",
   "metadata": {},
   "outputs": [],
   "source": [
    "dfSCali['code'] = np.ones(len(dfSCali))*2"
   ]
  },
  {
   "cell_type": "code",
   "execution_count": 32,
   "id": "8d515f42",
   "metadata": {},
   "outputs": [
    {
     "data": {
      "text/plain": [
       "Index(['latitude', 'longitude', 'd50', 'beach_slope_average', 'mstr', 'code',\n",
       "       'hs_mean', 'dir', 'tp'],\n",
       "      dtype='object')"
      ]
     },
     "execution_count": 32,
     "metadata": {},
     "output_type": "execute_result"
    }
   ],
   "source": [
    "dfSCali = dfSCali[['latitude', 'longitude', 'd50', 'beach_slope_average', 'mstr', 'code',\n",
    "       'hs_mean', 'dir', 'tp']]\n",
    "dfSCali.keys()"
   ]
  },
  {
   "cell_type": "code",
   "execution_count": 33,
   "id": "bf6d385f",
   "metadata": {},
   "outputs": [
    {
     "data": {
      "text/html": [
       "<div>\n",
       "<style scoped>\n",
       "    .dataframe tbody tr th:only-of-type {\n",
       "        vertical-align: middle;\n",
       "    }\n",
       "\n",
       "    .dataframe tbody tr th {\n",
       "        vertical-align: top;\n",
       "    }\n",
       "\n",
       "    .dataframe thead th {\n",
       "        text-align: right;\n",
       "    }\n",
       "</style>\n",
       "<table border=\"1\" class=\"dataframe\">\n",
       "  <thead>\n",
       "    <tr style=\"text-align: right;\">\n",
       "      <th></th>\n",
       "      <th>latitude</th>\n",
       "      <th>longitude</th>\n",
       "      <th>d50</th>\n",
       "      <th>beach_slope_average</th>\n",
       "      <th>mstr</th>\n",
       "      <th>code</th>\n",
       "      <th>hs_mean</th>\n",
       "      <th>dir</th>\n",
       "      <th>tp</th>\n",
       "    </tr>\n",
       "  </thead>\n",
       "  <tbody>\n",
       "    <tr>\n",
       "      <th>0</th>\n",
       "      <td>34.470247</td>\n",
       "      <td>-120.239018</td>\n",
       "      <td>0.119207</td>\n",
       "      <td>0.125</td>\n",
       "      <td>2.443020</td>\n",
       "      <td>2.0</td>\n",
       "      <td>0.471879</td>\n",
       "      <td>190.163111</td>\n",
       "      <td>13.503772</td>\n",
       "    </tr>\n",
       "    <tr>\n",
       "      <th>1</th>\n",
       "      <td>33.576053</td>\n",
       "      <td>-117.840340</td>\n",
       "      <td>0.203627</td>\n",
       "      <td>0.070</td>\n",
       "      <td>2.485209</td>\n",
       "      <td>2.0</td>\n",
       "      <td>0.653808</td>\n",
       "      <td>221.567094</td>\n",
       "      <td>12.969022</td>\n",
       "    </tr>\n",
       "    <tr>\n",
       "      <th>2</th>\n",
       "      <td>34.409532</td>\n",
       "      <td>-119.851605</td>\n",
       "      <td>0.206305</td>\n",
       "      <td>0.070</td>\n",
       "      <td>2.452912</td>\n",
       "      <td>2.0</td>\n",
       "      <td>0.425513</td>\n",
       "      <td>206.054231</td>\n",
       "      <td>12.522130</td>\n",
       "    </tr>\n",
       "    <tr>\n",
       "      <th>3</th>\n",
       "      <td>33.314897</td>\n",
       "      <td>-117.485154</td>\n",
       "      <td>0.210239</td>\n",
       "      <td>0.060</td>\n",
       "      <td>2.478929</td>\n",
       "      <td>2.0</td>\n",
       "      <td>0.792235</td>\n",
       "      <td>225.673402</td>\n",
       "      <td>14.088491</td>\n",
       "    </tr>\n",
       "    <tr>\n",
       "      <th>4</th>\n",
       "      <td>34.393041</td>\n",
       "      <td>-119.520898</td>\n",
       "      <td>0.204300</td>\n",
       "      <td>0.070</td>\n",
       "      <td>2.517412</td>\n",
       "      <td>2.0</td>\n",
       "      <td>0.596218</td>\n",
       "      <td>229.679926</td>\n",
       "      <td>12.267725</td>\n",
       "    </tr>\n",
       "  </tbody>\n",
       "</table>\n",
       "</div>"
      ],
      "text/plain": [
       "    latitude   longitude       d50  beach_slope_average      mstr  code  \\\n",
       "0  34.470247 -120.239018  0.119207                0.125  2.443020   2.0   \n",
       "1  33.576053 -117.840340  0.203627                0.070  2.485209   2.0   \n",
       "2  34.409532 -119.851605  0.206305                0.070  2.452912   2.0   \n",
       "3  33.314897 -117.485154  0.210239                0.060  2.478929   2.0   \n",
       "4  34.393041 -119.520898  0.204300                0.070  2.517412   2.0   \n",
       "\n",
       "    hs_mean         dir         tp  \n",
       "0  0.471879  190.163111  13.503772  \n",
       "1  0.653808  221.567094  12.969022  \n",
       "2  0.425513  206.054231  12.522130  \n",
       "3  0.792235  225.673402  14.088491  \n",
       "4  0.596218  229.679926  12.267725  "
      ]
     },
     "execution_count": 33,
     "metadata": {},
     "output_type": "execute_result"
    }
   ],
   "source": [
    "dfSCali.head()"
   ]
  },
  {
   "cell_type": "code",
   "execution_count": 34,
   "id": "4bf5bac0",
   "metadata": {},
   "outputs": [],
   "source": [
    "dfSCali.to_csv('../model_data/dataset_S_CA_coast_strat_gs.csv')"
   ]
  },
  {
   "cell_type": "code",
   "execution_count": 35,
   "id": "c7f17269",
   "metadata": {},
   "outputs": [],
   "source": [
    "rand = np.random.randn(len(dfSCali))\n",
    "np.save('../model_out/SCA_rand.npy', rand, allow_pickle=True)\n",
    "\n",
    "# rand = np.load('../model_out/SCA_rand.npy', allow_pickle=True)\n"
   ]
  },
  {
   "cell_type": "markdown",
   "id": "9ace5d7d",
   "metadata": {},
   "source": [
    "### merge 3 regions"
   ]
  },
  {
   "cell_type": "code",
   "execution_count": 36,
   "id": "a78f5c81",
   "metadata": {},
   "outputs": [
    {
     "data": {
      "text/plain": [
       "960"
      ]
     },
     "execution_count": 36,
     "metadata": {},
     "output_type": "execute_result"
    }
   ],
   "source": [
    "df = pd.concat([dfSEUS, dfEAus, dfSCali], ignore_index=True)\n",
    "df = df.dropna()\n",
    "len(df)"
   ]
  },
  {
   "cell_type": "code",
   "execution_count": 37,
   "id": "ccfab70f",
   "metadata": {},
   "outputs": [
    {
     "name": "stdout",
     "output_type": "stream",
     "text": [
      "300\n",
      "330\n",
      "330\n"
     ]
    }
   ],
   "source": [
    "print(np.sum(df.code==0))\n",
    "print(np.sum(df.code==1))\n",
    "print(np.sum(df.code==2))"
   ]
  },
  {
   "cell_type": "code",
   "execution_count": 38,
   "id": "e3cddec8",
   "metadata": {},
   "outputs": [],
   "source": [
    "df.to_csv('../model_data/dataset_SEUS_EAus_SCA_strat-by-gs.csv')"
   ]
  },
  {
   "cell_type": "code",
   "execution_count": 39,
   "id": "db6903e1",
   "metadata": {},
   "outputs": [],
   "source": [
    "rand = np.random.randn(len(df))\n",
    "np.save('../model_out/SEUS_EOz_SCA_rand.npy', rand, allow_pickle=True)\n",
    "\n",
    "# rand = np.load('../model_out/SEUS_EOz_SCA_rand.npy', allow_pickle=True)\n"
   ]
  },
  {
   "cell_type": "code",
   "execution_count": null,
   "id": "2a79b06b",
   "metadata": {},
   "outputs": [],
   "source": []
  },
  {
   "cell_type": "markdown",
   "id": "6af5a587",
   "metadata": {},
   "source": [
    "### whole Aus"
   ]
  },
  {
   "cell_type": "code",
   "execution_count": 40,
   "id": "7fd490c9",
   "metadata": {},
   "outputs": [],
   "source": [
    "dataset = '../../../orig_data/australia/dataset_Australia_all.geojson'\n",
    "\n",
    "dfOz = gpd.read_file(dataset)\n",
    "\n",
    "dfOz = dfOz[dfOz['d50']<=1] #2\n",
    "len(dfOz)\n",
    "\n",
    "ind = np.where(dfOz['quality_flag']!='Low')[0]\n",
    "len(ind)\n",
    "dfOz = dfOz.iloc[ind]\n",
    "len(dfOz)\n",
    "\n",
    "\n",
    "ind = np.where(dfOz['distance_to_sample']<1000)[0]\n",
    "len(ind)\n",
    "dfOz = dfOz.iloc[ind]\n",
    "len(dfOz)\n",
    "\n",
    "dfOz = dfOz.dropna()\n",
    "len(dfOz)\n",
    "\n",
    "dfOz.rename(columns = {'Hs_max':'hs_max', 'Hs_mean':'hs_mean', 'Tp_mean': 'tp', 'Wdir_mean':'dir'}, inplace = True)"
   ]
  },
  {
   "cell_type": "code",
   "execution_count": 41,
   "id": "94964c2d",
   "metadata": {},
   "outputs": [],
   "source": [
    "dfOz.to_csv('../model_data/dataset_whole_Aus_coast_no_strat.csv')"
   ]
  },
  {
   "cell_type": "code",
   "execution_count": 42,
   "id": "95b705c8",
   "metadata": {},
   "outputs": [
    {
     "data": {
      "text/plain": [
       "300"
      ]
     },
     "execution_count": 42,
     "metadata": {},
     "output_type": "execute_result"
    }
   ],
   "source": [
    "\n",
    "df_strat_gs = dfOz.copy()\n",
    "\n",
    "num_cats=10\n",
    "num_samples_per_category = 30\n",
    "\n",
    "df_strat_gs['category'] = pd.cut(df_strat_gs['d50'], num_cats)\n",
    "df_strat_gs = df_strat_gs.groupby(['category']).apply(lambda x: x.sample(num_samples_per_category, replace = True)).reset_index(drop = True)\n",
    "\n",
    "len(df_strat_gs)"
   ]
  },
  {
   "cell_type": "code",
   "execution_count": 43,
   "id": "515f71b8",
   "metadata": {},
   "outputs": [
    {
     "data": {
      "text/plain": [
       "0      (0.0907, 0.182]\n",
       "1      (0.0907, 0.182]\n",
       "2      (0.0907, 0.182]\n",
       "3      (0.0907, 0.182]\n",
       "4      (0.0907, 0.182]\n",
       "            ...       \n",
       "295     (0.903, 0.993]\n",
       "296     (0.903, 0.993]\n",
       "297     (0.903, 0.993]\n",
       "298     (0.903, 0.993]\n",
       "299     (0.903, 0.993]\n",
       "Name: category, Length: 300, dtype: category\n",
       "Categories (10, interval[float64, right]): [(0.0907, 0.182] < (0.182, 0.272] < (0.272, 0.362] < (0.362, 0.452] ... (0.633, 0.723] < (0.723, 0.813] < (0.813, 0.903] < (0.903, 0.993]]"
      ]
     },
     "execution_count": 43,
     "metadata": {},
     "output_type": "execute_result"
    }
   ],
   "source": [
    "df_strat_gs['category']"
   ]
  },
  {
   "cell_type": "code",
   "execution_count": 44,
   "id": "a66256e5",
   "metadata": {},
   "outputs": [
    {
     "data": {
      "text/plain": [
       "[<matplotlib.lines.Line2D at 0x266529be350>]"
      ]
     },
     "execution_count": 44,
     "metadata": {},
     "output_type": "execute_result"
    },
    {
     "data": {
      "image/png": "[encoded data removed]",
      "text/plain": [
       "<Figure size 432x288 with 1 Axes>"
      ]
     },
     "metadata": {
      "needs_background": "light"
     },
     "output_type": "display_data"
    }
   ],
   "source": [
    "plt.plot(dfOz['longitude'], dfOz['latitude'], '.')\n",
    "plt.plot(df_strat_gs['longitude'], df_strat_gs['latitude'], 'ro')"
   ]
  },
  {
   "cell_type": "code",
   "execution_count": 45,
   "id": "fa8ca2e8",
   "metadata": {},
   "outputs": [
    {
     "data": {
      "text/plain": [
       "300"
      ]
     },
     "execution_count": 45,
     "metadata": {},
     "output_type": "execute_result"
    }
   ],
   "source": [
    "dfOz = df_strat_gs.copy()\n",
    "len(dfOz)"
   ]
  },
  {
   "cell_type": "code",
   "execution_count": 46,
   "id": "89130893",
   "metadata": {},
   "outputs": [],
   "source": [
    "dfOz['code'] = np.ones(len(dfOz))*3"
   ]
  },
  {
   "cell_type": "code",
   "execution_count": 47,
   "id": "28bb346e",
   "metadata": {},
   "outputs": [],
   "source": [
    "dfOz = dfOz[['latitude', 'longitude', 'd50',\n",
    "        'beach_slope_average', 'mstr', 'code',\n",
    "         'hs_mean', 'dir', 'tp']].copy() #'hs_max',"
   ]
  },
  {
   "cell_type": "code",
   "execution_count": 48,
   "id": "2e69062f",
   "metadata": {},
   "outputs": [],
   "source": [
    "dfOz.to_csv('../model_data/dataset_whole_Aus_coast_strat_gs.csv')\n"
   ]
  },
  {
   "cell_type": "code",
   "execution_count": 49,
   "id": "5eedd448",
   "metadata": {},
   "outputs": [],
   "source": [
    "rand = np.random.randn(len(dfOz))\n",
    "np.save('../model_out/WholeAus_rand.npy', rand, allow_pickle=True)\n",
    "\n",
    "# rand = np.load('../model_out/WholeAus_rand.npy', allow_pickle=True)\n"
   ]
  },
  {
   "cell_type": "markdown",
   "id": "d84b6760",
   "metadata": {},
   "source": [
    "### Aus regions"
   ]
  },
  {
   "cell_type": "code",
   "execution_count": 50,
   "id": "5088e00f",
   "metadata": {},
   "outputs": [
    {
     "name": "stderr",
     "output_type": "stream",
     "text": [
      "C:\\Users\\dbuscombe\\AppData\\Local\\Temp\\6\\ipykernel_16240\\1430212546.py:9: UserWarning: CRS mismatch between the CRS of left geometries and the CRS of right geometries.\n",
      "Use `to_crs()` to reproject one of the input geometries to match the CRS of the other.\n",
      "\n",
      "Left CRS: None\n",
      "Right CRS: EPSG:4283\n",
      "\n",
      "  dfOzregions = sjoin(dfOz, Oz_regions, how='left')\n"
     ]
    }
   ],
   "source": [
    "dfOz = pd.read_csv('../model_data/dataset_whole_Aus_coast_no_strat.csv')\n",
    "\n",
    "dfOz = gpd.GeoDataFrame(\n",
    "    dfOz, geometry=gpd.points_from_xy(dfOz.longitude, dfOz.latitude))\n",
    "\n",
    "regions = '../../../orig_data/australia/sediment_compartments/Regions.geojson'\n",
    "Oz_regions = gpd.read_file(regions)\n",
    "\n",
    "dfOzregions = sjoin(dfOz, Oz_regions, how='left')"
   ]
  },
  {
   "cell_type": "code",
   "execution_count": 51,
   "id": "880724c2",
   "metadata": {},
   "outputs": [
    {
     "name": "stdout",
     "output_type": "stream",
     "text": [
      "163\n",
      "289\n",
      "179\n",
      "60\n",
      "69\n",
      "49\n"
     ]
    }
   ],
   "source": [
    "dfOzNE = dfOzregions[dfOzregions['ID_Region']==1]\n",
    "print(len(dfOzNE))\n",
    "\n",
    "dfOzSE = dfOzregions[dfOzregions['ID_Region']==2]\n",
    "print(len(dfOzSE))\n",
    "\n",
    "dfOzS = dfOzregions[dfOzregions['ID_Region']==3]\n",
    "print(len(dfOzS))\n",
    "\n",
    "dfOzW = dfOzregions[dfOzregions['ID_Region']==4]\n",
    "print(len(dfOzW))\n",
    "\n",
    "dfOzNW = dfOzregions[dfOzregions['ID_Region']==5]\n",
    "print(len(dfOzNW))\n",
    "\n",
    "dfOzCG = dfOzregions[dfOzregions['ID_Region']==6] #Carpentaria Gulf\n",
    "print(len(dfOzCG))"
   ]
  },
  {
   "cell_type": "code",
   "execution_count": 52,
   "id": "1d10ffb3",
   "metadata": {},
   "outputs": [],
   "source": [
    "dfOzCG.to_csv('../model_data/dataset_Australia_GulfCarpentaria_coast_nostrat.csv')\n",
    "dfOzW.to_csv('../model_data/dataset_Australia_W_coast_nostrat.csv')\n",
    "dfOzNW.to_csv('../model_data/dataset_Australia_NW_coast_nostrat.csv')\n",
    "dfOzNE.to_csv('../model_data/dataset_Australia_NE_coast_nostrat.csv')\n",
    "dfOzSE.to_csv('../model_data/dataset_Australia_SE_coast_nostrat.csv')\n",
    "dfOzS.to_csv('../model_data/dataset_Australia_S_coast_nostrat.csv')"
   ]
  },
  {
   "cell_type": "code",
   "execution_count": null,
   "id": "4bcd50d4",
   "metadata": {},
   "outputs": [],
   "source": []
  },
  {
   "cell_type": "code",
   "execution_count": 53,
   "id": "ca2300a7",
   "metadata": {},
   "outputs": [
    {
     "name": "stderr",
     "output_type": "stream",
     "text": [
      "C:\\Users\\dbuscombe\\AppData\\Local\\Temp\\6\\ipykernel_16240\\1029102663.py:6: UserWarning: CRS mismatch between the CRS of left geometries and the CRS of right geometries.\n",
      "Use `to_crs()` to reproject one of the input geometries to match the CRS of the other.\n",
      "\n",
      "Left CRS: None\n",
      "Right CRS: EPSG:4283\n",
      "\n",
      "  dfOzregions = sjoin(dfOz, Oz_regions, how='left')\n"
     ]
    }
   ],
   "source": [
    "dfOz = pd.read_csv('../model_data/dataset_whole_Aus_coast_strat_gs.csv')\n",
    "\n",
    "dfOz = gpd.GeoDataFrame(\n",
    "    dfOz, geometry=gpd.points_from_xy(dfOz.longitude, dfOz.latitude))\n",
    "\n",
    "dfOzregions = sjoin(dfOz, Oz_regions, how='left')"
   ]
  },
  {
   "cell_type": "code",
   "execution_count": 54,
   "id": "83c173f6",
   "metadata": {},
   "outputs": [
    {
     "name": "stdout",
     "output_type": "stream",
     "text": [
      "82\n",
      "59\n",
      "68\n",
      "32\n",
      "48\n",
      "11\n"
     ]
    }
   ],
   "source": [
    "dfOzNE = dfOzregions[dfOzregions['ID_Region']==1]\n",
    "print(len(dfOzNE))\n",
    "\n",
    "dfOzSE = dfOzregions[dfOzregions['ID_Region']==2]\n",
    "print(len(dfOzSE))\n",
    "\n",
    "dfOzS = dfOzregions[dfOzregions['ID_Region']==3]\n",
    "print(len(dfOzS))\n",
    "\n",
    "dfOzW = dfOzregions[dfOzregions['ID_Region']==4]\n",
    "print(len(dfOzW))\n",
    "\n",
    "dfOzNW = dfOzregions[dfOzregions['ID_Region']==5]\n",
    "print(len(dfOzNW))\n",
    "\n",
    "dfOzCG = dfOzregions[dfOzregions['ID_Region']==6] #Carpentaria Gulf\n",
    "print(len(dfOzCG))"
   ]
  },
  {
   "cell_type": "code",
   "execution_count": 55,
   "id": "5dbe6796",
   "metadata": {},
   "outputs": [],
   "source": [
    "dfOzCG.to_csv('../model_data/dataset_Australia_GulfCarpentaria_coast_strat_gs.csv')\n",
    "dfOzW.to_csv('../model_data/dataset_Australia_W_coast_strat_gs.csv')\n",
    "dfOzNW.to_csv('../model_data/dataset_Australia_NW_coast_strat_gs.csv')\n",
    "dfOzNE.to_csv('../model_data/dataset_Australia_NE_coast_strat_gs.csv')\n",
    "dfOzSE.to_csv('../model_data/dataset_Australia_SE_coast_strat_gs.csv')\n",
    "dfOzS.to_csv('../model_data/dataset_Australia_S_coast_strat_gs.csv')"
   ]
  },
  {
   "cell_type": "markdown",
   "id": "48e9e96e",
   "metadata": {},
   "source": [
    "### 4 regions"
   ]
  },
  {
   "cell_type": "code",
   "execution_count": 59,
   "id": "7cd230ea",
   "metadata": {},
   "outputs": [
    {
     "name": "stderr",
     "output_type": "stream",
     "text": [
      "C:\\Users\\dbuscombe\\Anaconda3\\envs\\cgrasp\\lib\\site-packages\\geopandas\\geodataframe.py:1351: SettingWithCopyWarning: \n",
      "A value is trying to be set on a copy of a slice from a DataFrame.\n",
      "Try using .loc[row_indexer,col_indexer] = value instead\n",
      "\n",
      "See the caveats in the documentation: https://pandas.pydata.org/pandas-docs/stable/user_guide/indexing.html#returning-a-view-versus-a-copy\n",
      "  super().__setitem__(key, value)\n"
     ]
    },
    {
     "data": {
      "text/plain": [
       "Index(['latitude', 'longitude', 'd50', 'beach_slope_average', 'mstr', 'code',\n",
       "       'hs_mean', 'dir', 'tp'],\n",
       "      dtype='object')"
      ]
     },
     "execution_count": 59,
     "metadata": {},
     "output_type": "execute_result"
    }
   ],
   "source": [
    "dfOzCG['code'] = np.ones(len(dfOzCG))*3\n",
    "dfOzCG = dfOzCG[['latitude', 'longitude', 'd50', 'beach_slope_average', 'mstr', 'code',\n",
    "       'hs_mean', 'dir', 'tp']]\n",
    "dfOzCG.keys()"
   ]
  },
  {
   "cell_type": "code",
   "execution_count": 60,
   "id": "e40b8316",
   "metadata": {},
   "outputs": [
    {
     "name": "stderr",
     "output_type": "stream",
     "text": [
      "C:\\Users\\dbuscombe\\Anaconda3\\envs\\cgrasp\\lib\\site-packages\\geopandas\\geodataframe.py:1351: SettingWithCopyWarning: \n",
      "A value is trying to be set on a copy of a slice from a DataFrame.\n",
      "Try using .loc[row_indexer,col_indexer] = value instead\n",
      "\n",
      "See the caveats in the documentation: https://pandas.pydata.org/pandas-docs/stable/user_guide/indexing.html#returning-a-view-versus-a-copy\n",
      "  super().__setitem__(key, value)\n"
     ]
    },
    {
     "data": {
      "text/plain": [
       "Index(['latitude', 'longitude', 'd50', 'beach_slope_average', 'mstr', 'code',\n",
       "       'hs_mean', 'dir', 'tp'],\n",
       "      dtype='object')"
      ]
     },
     "execution_count": 60,
     "metadata": {},
     "output_type": "execute_result"
    }
   ],
   "source": [
    "dfOzW['code'] = np.ones(len(dfOzW))*4\n",
    "dfOzW = dfOzW[['latitude', 'longitude', 'd50', 'beach_slope_average', 'mstr', 'code',\n",
    "       'hs_mean', 'dir', 'tp']]\n",
    "dfOzW.keys()"
   ]
  },
  {
   "cell_type": "code",
   "execution_count": 61,
   "id": "0ed3c006",
   "metadata": {},
   "outputs": [
    {
     "name": "stderr",
     "output_type": "stream",
     "text": [
      "C:\\Users\\dbuscombe\\Anaconda3\\envs\\cgrasp\\lib\\site-packages\\geopandas\\geodataframe.py:1351: SettingWithCopyWarning: \n",
      "A value is trying to be set on a copy of a slice from a DataFrame.\n",
      "Try using .loc[row_indexer,col_indexer] = value instead\n",
      "\n",
      "See the caveats in the documentation: https://pandas.pydata.org/pandas-docs/stable/user_guide/indexing.html#returning-a-view-versus-a-copy\n",
      "  super().__setitem__(key, value)\n"
     ]
    },
    {
     "data": {
      "text/plain": [
       "Index(['latitude', 'longitude', 'd50', 'beach_slope_average', 'mstr', 'code',\n",
       "       'hs_mean', 'dir', 'tp'],\n",
       "      dtype='object')"
      ]
     },
     "execution_count": 61,
     "metadata": {},
     "output_type": "execute_result"
    }
   ],
   "source": [
    "dfOzNW['code'] = np.ones(len(dfOzNW))*5\n",
    "dfOzNW = dfOzNW[['latitude', 'longitude', 'd50', 'beach_slope_average', 'mstr', 'code',\n",
    "       'hs_mean', 'dir', 'tp']]\n",
    "dfOzNW.keys()"
   ]
  },
  {
   "cell_type": "code",
   "execution_count": 62,
   "id": "d3d23268",
   "metadata": {},
   "outputs": [
    {
     "name": "stderr",
     "output_type": "stream",
     "text": [
      "C:\\Users\\dbuscombe\\Anaconda3\\envs\\cgrasp\\lib\\site-packages\\geopandas\\geodataframe.py:1351: SettingWithCopyWarning: \n",
      "A value is trying to be set on a copy of a slice from a DataFrame.\n",
      "Try using .loc[row_indexer,col_indexer] = value instead\n",
      "\n",
      "See the caveats in the documentation: https://pandas.pydata.org/pandas-docs/stable/user_guide/indexing.html#returning-a-view-versus-a-copy\n",
      "  super().__setitem__(key, value)\n"
     ]
    },
    {
     "data": {
      "text/plain": [
       "Index(['latitude', 'longitude', 'd50', 'beach_slope_average', 'mstr', 'code',\n",
       "       'hs_mean', 'dir', 'tp'],\n",
       "      dtype='object')"
      ]
     },
     "execution_count": 62,
     "metadata": {},
     "output_type": "execute_result"
    }
   ],
   "source": [
    "dfOzNE['code'] = np.ones(len(dfOzNE))*6\n",
    "dfOzNE = dfOzNE[['latitude', 'longitude', 'd50', 'beach_slope_average', 'mstr', 'code',\n",
    "       'hs_mean', 'dir', 'tp']]\n",
    "dfOzNE.keys()"
   ]
  },
  {
   "cell_type": "code",
   "execution_count": 63,
   "id": "83a0408a",
   "metadata": {},
   "outputs": [
    {
     "name": "stderr",
     "output_type": "stream",
     "text": [
      "C:\\Users\\dbuscombe\\Anaconda3\\envs\\cgrasp\\lib\\site-packages\\geopandas\\geodataframe.py:1351: SettingWithCopyWarning: \n",
      "A value is trying to be set on a copy of a slice from a DataFrame.\n",
      "Try using .loc[row_indexer,col_indexer] = value instead\n",
      "\n",
      "See the caveats in the documentation: https://pandas.pydata.org/pandas-docs/stable/user_guide/indexing.html#returning-a-view-versus-a-copy\n",
      "  super().__setitem__(key, value)\n"
     ]
    },
    {
     "data": {
      "text/plain": [
       "Index(['latitude', 'longitude', 'd50', 'beach_slope_average', 'mstr', 'code',\n",
       "       'hs_mean', 'dir', 'tp'],\n",
       "      dtype='object')"
      ]
     },
     "execution_count": 63,
     "metadata": {},
     "output_type": "execute_result"
    }
   ],
   "source": [
    "dfOzS['code'] = np.ones(len(dfOzS))*7\n",
    "dfOzS = dfOzS[['latitude', 'longitude', 'd50', 'beach_slope_average', 'mstr', 'code',\n",
    "       'hs_mean', 'dir', 'tp']]\n",
    "dfOzS.keys()"
   ]
  },
  {
   "cell_type": "code",
   "execution_count": 64,
   "id": "d8911609",
   "metadata": {},
   "outputs": [
    {
     "data": {
      "text/plain": [
       "1201"
      ]
     },
     "execution_count": 64,
     "metadata": {},
     "output_type": "execute_result"
    }
   ],
   "source": [
    "df = pd.concat([dfSEUS, dfEAus, dfSCali, dfOzCG, dfOzW, dfOzNW, dfOzNE, dfOzS], ignore_index=True)\n",
    "df = df.dropna()\n",
    "len(df)"
   ]
  },
  {
   "cell_type": "code",
   "execution_count": 65,
   "id": "d536f408",
   "metadata": {},
   "outputs": [
    {
     "name": "stdout",
     "output_type": "stream",
     "text": [
      "300\n",
      "330\n",
      "330\n",
      "11\n",
      "32\n",
      "48\n",
      "82\n",
      "68\n"
     ]
    }
   ],
   "source": [
    "print(np.sum(df.code==0))\n",
    "print(np.sum(df.code==1))\n",
    "print(np.sum(df.code==2))\n",
    "print(np.sum(df.code==3))\n",
    "print(np.sum(df.code==4))\n",
    "print(np.sum(df.code==5))\n",
    "print(np.sum(df.code==6))\n",
    "print(np.sum(df.code==7))"
   ]
  },
  {
   "cell_type": "code",
   "execution_count": 66,
   "id": "cee345e0",
   "metadata": {},
   "outputs": [
    {
     "data": {
      "text/html": [
       "<div>\n",
       "<style scoped>\n",
       "    .dataframe tbody tr th:only-of-type {\n",
       "        vertical-align: middle;\n",
       "    }\n",
       "\n",
       "    .dataframe tbody tr th {\n",
       "        vertical-align: top;\n",
       "    }\n",
       "\n",
       "    .dataframe thead th {\n",
       "        text-align: right;\n",
       "    }\n",
       "</style>\n",
       "<table border=\"1\" class=\"dataframe\">\n",
       "  <thead>\n",
       "    <tr style=\"text-align: right;\">\n",
       "      <th></th>\n",
       "      <th>latitude</th>\n",
       "      <th>longitude</th>\n",
       "      <th>d50</th>\n",
       "      <th>beach_slope_average</th>\n",
       "      <th>mstr</th>\n",
       "      <th>code</th>\n",
       "      <th>hs_mean</th>\n",
       "      <th>dir</th>\n",
       "      <th>tp</th>\n",
       "    </tr>\n",
       "  </thead>\n",
       "  <tbody>\n",
       "    <tr>\n",
       "      <th>0</th>\n",
       "      <td>26.420860</td>\n",
       "      <td>-80.029502</td>\n",
       "      <td>0.119091</td>\n",
       "      <td>0.101041</td>\n",
       "      <td>1.102508</td>\n",
       "      <td>1.0</td>\n",
       "      <td>0.831507</td>\n",
       "      <td>66.096052</td>\n",
       "      <td>7.237247</td>\n",
       "    </tr>\n",
       "    <tr>\n",
       "      <th>1</th>\n",
       "      <td>35.084650</td>\n",
       "      <td>-75.978548</td>\n",
       "      <td>0.166356</td>\n",
       "      <td>0.065867</td>\n",
       "      <td>1.362719</td>\n",
       "      <td>1.0</td>\n",
       "      <td>0.704308</td>\n",
       "      <td>143.216508</td>\n",
       "      <td>7.986052</td>\n",
       "    </tr>\n",
       "    <tr>\n",
       "      <th>2</th>\n",
       "      <td>32.725687</td>\n",
       "      <td>-79.825312</td>\n",
       "      <td>0.090577</td>\n",
       "      <td>0.031338</td>\n",
       "      <td>2.026691</td>\n",
       "      <td>1.0</td>\n",
       "      <td>0.488610</td>\n",
       "      <td>135.187447</td>\n",
       "      <td>7.429373</td>\n",
       "    </tr>\n",
       "    <tr>\n",
       "      <th>3</th>\n",
       "      <td>35.084650</td>\n",
       "      <td>-75.978548</td>\n",
       "      <td>0.166356</td>\n",
       "      <td>0.065867</td>\n",
       "      <td>1.362719</td>\n",
       "      <td>1.0</td>\n",
       "      <td>0.704308</td>\n",
       "      <td>143.216508</td>\n",
       "      <td>7.986052</td>\n",
       "    </tr>\n",
       "    <tr>\n",
       "      <th>4</th>\n",
       "      <td>26.553744</td>\n",
       "      <td>-80.029555</td>\n",
       "      <td>0.119091</td>\n",
       "      <td>0.101041</td>\n",
       "      <td>1.102508</td>\n",
       "      <td>1.0</td>\n",
       "      <td>0.842581</td>\n",
       "      <td>68.655992</td>\n",
       "      <td>7.379679</td>\n",
       "    </tr>\n",
       "    <tr>\n",
       "      <th>...</th>\n",
       "      <td>...</td>\n",
       "      <td>...</td>\n",
       "      <td>...</td>\n",
       "      <td>...</td>\n",
       "      <td>...</td>\n",
       "      <td>...</td>\n",
       "      <td>...</td>\n",
       "      <td>...</td>\n",
       "      <td>...</td>\n",
       "    </tr>\n",
       "    <tr>\n",
       "      <th>1196</th>\n",
       "      <td>-32.150506</td>\n",
       "      <td>133.685987</td>\n",
       "      <td>0.933030</td>\n",
       "      <td>0.049206</td>\n",
       "      <td>1.922418</td>\n",
       "      <td>7.0</td>\n",
       "      <td>2.043705</td>\n",
       "      <td>213.374532</td>\n",
       "      <td>12.697816</td>\n",
       "    </tr>\n",
       "    <tr>\n",
       "      <th>1197</th>\n",
       "      <td>-32.717920</td>\n",
       "      <td>134.107453</td>\n",
       "      <td>0.920190</td>\n",
       "      <td>0.055202</td>\n",
       "      <td>1.864342</td>\n",
       "      <td>7.0</td>\n",
       "      <td>1.404420</td>\n",
       "      <td>216.898720</td>\n",
       "      <td>12.325972</td>\n",
       "    </tr>\n",
       "    <tr>\n",
       "      <th>1198</th>\n",
       "      <td>-32.150506</td>\n",
       "      <td>133.685987</td>\n",
       "      <td>0.933030</td>\n",
       "      <td>0.049206</td>\n",
       "      <td>1.922418</td>\n",
       "      <td>7.0</td>\n",
       "      <td>2.043705</td>\n",
       "      <td>213.374532</td>\n",
       "      <td>12.697816</td>\n",
       "    </tr>\n",
       "    <tr>\n",
       "      <th>1199</th>\n",
       "      <td>-32.150506</td>\n",
       "      <td>133.685987</td>\n",
       "      <td>0.933030</td>\n",
       "      <td>0.049206</td>\n",
       "      <td>1.922418</td>\n",
       "      <td>7.0</td>\n",
       "      <td>2.043705</td>\n",
       "      <td>213.374532</td>\n",
       "      <td>12.697816</td>\n",
       "    </tr>\n",
       "    <tr>\n",
       "      <th>1200</th>\n",
       "      <td>-32.150506</td>\n",
       "      <td>133.685987</td>\n",
       "      <td>0.933030</td>\n",
       "      <td>0.049206</td>\n",
       "      <td>1.922418</td>\n",
       "      <td>7.0</td>\n",
       "      <td>2.043705</td>\n",
       "      <td>213.374532</td>\n",
       "      <td>12.697816</td>\n",
       "    </tr>\n",
       "  </tbody>\n",
       "</table>\n",
       "<p>1201 rows × 9 columns</p>\n",
       "</div>"
      ],
      "text/plain": [
       "       latitude   longitude       d50  beach_slope_average      mstr  code  \\\n",
       "0     26.420860  -80.029502  0.119091             0.101041  1.102508   1.0   \n",
       "1     35.084650  -75.978548  0.166356             0.065867  1.362719   1.0   \n",
       "2     32.725687  -79.825312  0.090577             0.031338  2.026691   1.0   \n",
       "3     35.084650  -75.978548  0.166356             0.065867  1.362719   1.0   \n",
       "4     26.553744  -80.029555  0.119091             0.101041  1.102508   1.0   \n",
       "...         ...         ...       ...                  ...       ...   ...   \n",
       "1196 -32.150506  133.685987  0.933030             0.049206  1.922418   7.0   \n",
       "1197 -32.717920  134.107453  0.920190             0.055202  1.864342   7.0   \n",
       "1198 -32.150506  133.685987  0.933030             0.049206  1.922418   7.0   \n",
       "1199 -32.150506  133.685987  0.933030             0.049206  1.922418   7.0   \n",
       "1200 -32.150506  133.685987  0.933030             0.049206  1.922418   7.0   \n",
       "\n",
       "       hs_mean         dir         tp  \n",
       "0     0.831507   66.096052   7.237247  \n",
       "1     0.704308  143.216508   7.986052  \n",
       "2     0.488610  135.187447   7.429373  \n",
       "3     0.704308  143.216508   7.986052  \n",
       "4     0.842581   68.655992   7.379679  \n",
       "...        ...         ...        ...  \n",
       "1196  2.043705  213.374532  12.697816  \n",
       "1197  1.404420  216.898720  12.325972  \n",
       "1198  2.043705  213.374532  12.697816  \n",
       "1199  2.043705  213.374532  12.697816  \n",
       "1200  2.043705  213.374532  12.697816  \n",
       "\n",
       "[1201 rows x 9 columns]"
      ]
     },
     "execution_count": 66,
     "metadata": {},
     "output_type": "execute_result"
    }
   ],
   "source": [
    "df"
   ]
  },
  {
   "cell_type": "code",
   "execution_count": 67,
   "id": "6051023d",
   "metadata": {},
   "outputs": [],
   "source": [
    "df.to_csv('../model_data/dataset_SEUS_EAus_SCA_wholeAus_strat.csv')"
   ]
  },
  {
   "cell_type": "code",
   "execution_count": 68,
   "id": "51cb88cc",
   "metadata": {},
   "outputs": [],
   "source": [
    "rand = np.random.randn(len(df))\n",
    "np.save('../model_out/SEUS_EOz_SCA_wholeAus_rand.npy', rand, allow_pickle=True)\n",
    "\n",
    "# rand = np.load('../model_out/SEUS_EOz_SCA_wholeAus_rand.npy', allow_pickle=True)\n"
   ]
  },
  {
   "cell_type": "code",
   "execution_count": null,
   "id": "b8ca1a20",
   "metadata": {},
   "outputs": [],
   "source": []
  },
  {
   "cell_type": "markdown",
   "id": "9e04b5f1",
   "metadata": {},
   "source": [
    "### Northern Ireland"
   ]
  },
  {
   "cell_type": "code",
   "execution_count": 97,
   "id": "9bf1c31f",
   "metadata": {},
   "outputs": [],
   "source": [
    "dfNI = pd.read_csv('../../../orig_data/NorthernIreland/Jackson_NIre.csv')"
   ]
  },
  {
   "cell_type": "code",
   "execution_count": 98,
   "id": "78434a44",
   "metadata": {},
   "outputs": [
    {
     "data": {
      "text/plain": [
       "Index(['latitude', 'longitude', 'd50', 'beach_slope_average', 'mstr', 'code',\n",
       "       'hs_mean', 'tp'],\n",
       "      dtype='object')"
      ]
     },
     "execution_count": 98,
     "metadata": {},
     "output_type": "execute_result"
    }
   ],
   "source": [
    "dfNI.rename(\n",
    "    columns = {'Intertidal slope':'beach_slope_average', 'D50 (mm)':'d50', 'H0 (mean Hs)':'hs_mean', 'T (mean, s)': 'tp', 'MSTR (m)':'mstr'}, \n",
    "    inplace = True)\n",
    "\n",
    "dfNI['code'] = np.ones(len(dfNI))*8\n",
    "\n",
    "dfNI = dfNI[['latitude', 'longitude', 'd50', 'beach_slope_average', 'mstr', 'code',\n",
    "       'hs_mean', 'tp']]\n",
    "dfNI.keys()"
   ]
  },
  {
   "cell_type": "code",
   "execution_count": 99,
   "id": "b42d92af",
   "metadata": {},
   "outputs": [
    {
     "data": {
      "text/plain": [
       "(54.0626664, 55.2869665)"
      ]
     },
     "execution_count": 99,
     "metadata": {},
     "output_type": "execute_result"
    }
   ],
   "source": [
    "(dfNI['latitude'].min(), dfNI['latitude'].max())"
   ]
  },
  {
   "cell_type": "code",
   "execution_count": 100,
   "id": "26039211",
   "metadata": {},
   "outputs": [
    {
     "data": {
      "text/plain": [
       "(-8.443956, -5.468761)"
      ]
     },
     "execution_count": 100,
     "metadata": {},
     "output_type": "execute_result"
    }
   ],
   "source": [
    "(dfNI['longitude'].min(), dfNI['longitude'].max())"
   ]
  },
  {
   "cell_type": "code",
   "execution_count": 101,
   "id": "13594db5",
   "metadata": {},
   "outputs": [],
   "source": [
    "dfNI.to_csv('../model_data/dataset_NI.csv')"
   ]
  },
  {
   "cell_type": "code",
   "execution_count": 105,
   "id": "e7dd0fcb",
   "metadata": {},
   "outputs": [],
   "source": [
    "rand = np.random.randn(len(dfNI))\n",
    "np.save('../model_out/NI_rand.npy', rand, allow_pickle=True)\n"
   ]
  },
  {
   "cell_type": "code",
   "execution_count": 118,
   "id": "ce976b60",
   "metadata": {},
   "outputs": [
    {
     "data": {
      "text/html": [
       "<div>\n",
       "<style scoped>\n",
       "    .dataframe tbody tr th:only-of-type {\n",
       "        vertical-align: middle;\n",
       "    }\n",
       "\n",
       "    .dataframe tbody tr th {\n",
       "        vertical-align: top;\n",
       "    }\n",
       "\n",
       "    .dataframe thead th {\n",
       "        text-align: right;\n",
       "    }\n",
       "</style>\n",
       "<table border=\"1\" class=\"dataframe\">\n",
       "  <thead>\n",
       "    <tr style=\"text-align: right;\">\n",
       "      <th></th>\n",
       "      <th>latitude</th>\n",
       "      <th>longitude</th>\n",
       "      <th>d50</th>\n",
       "      <th>beach_slope_average</th>\n",
       "      <th>mstr</th>\n",
       "      <th>code</th>\n",
       "      <th>hs_mean</th>\n",
       "      <th>tp</th>\n",
       "    </tr>\n",
       "  </thead>\n",
       "  <tbody>\n",
       "    <tr>\n",
       "      <th>0</th>\n",
       "      <td>54.554352</td>\n",
       "      <td>-8.209775</td>\n",
       "      <td>0.140</td>\n",
       "      <td>0.0139</td>\n",
       "      <td>3.3</td>\n",
       "      <td>8.0</td>\n",
       "      <td>2.18</td>\n",
       "      <td>6.88</td>\n",
       "    </tr>\n",
       "    <tr>\n",
       "      <th>1</th>\n",
       "      <td>54.841990</td>\n",
       "      <td>-8.443956</td>\n",
       "      <td>0.180</td>\n",
       "      <td>0.0218</td>\n",
       "      <td>3.4</td>\n",
       "      <td>8.0</td>\n",
       "      <td>2.18</td>\n",
       "      <td>6.88</td>\n",
       "    </tr>\n",
       "    <tr>\n",
       "      <th>2</th>\n",
       "      <td>55.152830</td>\n",
       "      <td>-8.155428</td>\n",
       "      <td>0.210</td>\n",
       "      <td>0.0202</td>\n",
       "      <td>3.4</td>\n",
       "      <td>8.0</td>\n",
       "      <td>2.18</td>\n",
       "      <td>6.88</td>\n",
       "    </tr>\n",
       "    <tr>\n",
       "      <th>3</th>\n",
       "      <td>55.192982</td>\n",
       "      <td>-7.836669</td>\n",
       "      <td>0.140</td>\n",
       "      <td>0.0134</td>\n",
       "      <td>3.4</td>\n",
       "      <td>8.0</td>\n",
       "      <td>2.18</td>\n",
       "      <td>6.88</td>\n",
       "    </tr>\n",
       "    <tr>\n",
       "      <th>4</th>\n",
       "      <td>55.286966</td>\n",
       "      <td>-7.166544</td>\n",
       "      <td>0.230</td>\n",
       "      <td>0.0446</td>\n",
       "      <td>2.9</td>\n",
       "      <td>8.0</td>\n",
       "      <td>2.18</td>\n",
       "      <td>6.88</td>\n",
       "    </tr>\n",
       "    <tr>\n",
       "      <th>5</th>\n",
       "      <td>55.149232</td>\n",
       "      <td>-6.911044</td>\n",
       "      <td>0.190</td>\n",
       "      <td>0.0375</td>\n",
       "      <td>1.6</td>\n",
       "      <td>8.0</td>\n",
       "      <td>2.18</td>\n",
       "      <td>6.88</td>\n",
       "    </tr>\n",
       "    <tr>\n",
       "      <th>6</th>\n",
       "      <td>55.163580</td>\n",
       "      <td>-6.877427</td>\n",
       "      <td>0.157</td>\n",
       "      <td>0.0194</td>\n",
       "      <td>1.6</td>\n",
       "      <td>8.0</td>\n",
       "      <td>2.05</td>\n",
       "      <td>6.89</td>\n",
       "    </tr>\n",
       "    <tr>\n",
       "      <th>7</th>\n",
       "      <td>55.164820</td>\n",
       "      <td>-6.788414</td>\n",
       "      <td>0.166</td>\n",
       "      <td>0.0214</td>\n",
       "      <td>1.5</td>\n",
       "      <td>8.0</td>\n",
       "      <td>2.26</td>\n",
       "      <td>7.11</td>\n",
       "    </tr>\n",
       "    <tr>\n",
       "      <th>8</th>\n",
       "      <td>55.182910</td>\n",
       "      <td>-6.718701</td>\n",
       "      <td>0.157</td>\n",
       "      <td>0.0246</td>\n",
       "      <td>1.5</td>\n",
       "      <td>8.0</td>\n",
       "      <td>2.26</td>\n",
       "      <td>7.11</td>\n",
       "    </tr>\n",
       "    <tr>\n",
       "      <th>9</th>\n",
       "      <td>55.202304</td>\n",
       "      <td>-6.655600</td>\n",
       "      <td>0.186</td>\n",
       "      <td>0.0320</td>\n",
       "      <td>1.5</td>\n",
       "      <td>8.0</td>\n",
       "      <td>2.34</td>\n",
       "      <td>7.17</td>\n",
       "    </tr>\n",
       "    <tr>\n",
       "      <th>10</th>\n",
       "      <td>55.206520</td>\n",
       "      <td>-6.613315</td>\n",
       "      <td>0.197</td>\n",
       "      <td>0.0352</td>\n",
       "      <td>1.5</td>\n",
       "      <td>8.0</td>\n",
       "      <td>2.34</td>\n",
       "      <td>7.17</td>\n",
       "    </tr>\n",
       "    <tr>\n",
       "      <th>11</th>\n",
       "      <td>55.230840</td>\n",
       "      <td>-6.519184</td>\n",
       "      <td>0.280</td>\n",
       "      <td>0.0329</td>\n",
       "      <td>1.5</td>\n",
       "      <td>8.0</td>\n",
       "      <td>2.18</td>\n",
       "      <td>6.88</td>\n",
       "    </tr>\n",
       "    <tr>\n",
       "      <th>12</th>\n",
       "      <td>55.235180</td>\n",
       "      <td>-6.403564</td>\n",
       "      <td>0.229</td>\n",
       "      <td>0.0350</td>\n",
       "      <td>1.2</td>\n",
       "      <td>8.0</td>\n",
       "      <td>2.41</td>\n",
       "      <td>7.22</td>\n",
       "    </tr>\n",
       "    <tr>\n",
       "      <th>13</th>\n",
       "      <td>55.200688</td>\n",
       "      <td>-6.250282</td>\n",
       "      <td>0.634</td>\n",
       "      <td>0.0823</td>\n",
       "      <td>0.9</td>\n",
       "      <td>8.0</td>\n",
       "      <td>2.52</td>\n",
       "      <td>7.36</td>\n",
       "    </tr>\n",
       "    <tr>\n",
       "      <th>14</th>\n",
       "      <td>55.125247</td>\n",
       "      <td>-6.042348</td>\n",
       "      <td>0.397</td>\n",
       "      <td>0.1037</td>\n",
       "      <td>1.6</td>\n",
       "      <td>8.0</td>\n",
       "      <td>1.28</td>\n",
       "      <td>4.61</td>\n",
       "    </tr>\n",
       "    <tr>\n",
       "      <th>15</th>\n",
       "      <td>55.065955</td>\n",
       "      <td>-6.060966</td>\n",
       "      <td>0.169</td>\n",
       "      <td>0.0340</td>\n",
       "      <td>1.4</td>\n",
       "      <td>8.0</td>\n",
       "      <td>1.36</td>\n",
       "      <td>4.71</td>\n",
       "    </tr>\n",
       "    <tr>\n",
       "      <th>16</th>\n",
       "      <td>54.898066</td>\n",
       "      <td>-5.857875</td>\n",
       "      <td>0.218</td>\n",
       "      <td>0.0639</td>\n",
       "      <td>1.9</td>\n",
       "      <td>8.0</td>\n",
       "      <td>1.52</td>\n",
       "      <td>4.89</td>\n",
       "    </tr>\n",
       "    <tr>\n",
       "      <th>17</th>\n",
       "      <td>54.675499</td>\n",
       "      <td>-5.736003</td>\n",
       "      <td>0.248</td>\n",
       "      <td>0.0522</td>\n",
       "      <td>3.3</td>\n",
       "      <td>8.0</td>\n",
       "      <td>1.37</td>\n",
       "      <td>4.70</td>\n",
       "    </tr>\n",
       "    <tr>\n",
       "      <th>18</th>\n",
       "      <td>54.607820</td>\n",
       "      <td>-5.528463</td>\n",
       "      <td>0.141</td>\n",
       "      <td>0.0183</td>\n",
       "      <td>3.5</td>\n",
       "      <td>8.0</td>\n",
       "      <td>1.38</td>\n",
       "      <td>4.72</td>\n",
       "    </tr>\n",
       "    <tr>\n",
       "      <th>19</th>\n",
       "      <td>54.436630</td>\n",
       "      <td>-5.468761</td>\n",
       "      <td>0.170</td>\n",
       "      <td>0.0280</td>\n",
       "      <td>3.6</td>\n",
       "      <td>8.0</td>\n",
       "      <td>1.55</td>\n",
       "      <td>4.90</td>\n",
       "    </tr>\n",
       "    <tr>\n",
       "      <th>20</th>\n",
       "      <td>54.300135</td>\n",
       "      <td>-5.558462</td>\n",
       "      <td>0.286</td>\n",
       "      <td>0.0337</td>\n",
       "      <td>3.8</td>\n",
       "      <td>8.0</td>\n",
       "      <td>1.38</td>\n",
       "      <td>4.72</td>\n",
       "    </tr>\n",
       "    <tr>\n",
       "      <th>21</th>\n",
       "      <td>54.250000</td>\n",
       "      <td>-5.766667</td>\n",
       "      <td>0.137</td>\n",
       "      <td>0.0088</td>\n",
       "      <td>5.0</td>\n",
       "      <td>8.0</td>\n",
       "      <td>1.38</td>\n",
       "      <td>4.72</td>\n",
       "    </tr>\n",
       "    <tr>\n",
       "      <th>22</th>\n",
       "      <td>54.221498</td>\n",
       "      <td>-5.888508</td>\n",
       "      <td>0.150</td>\n",
       "      <td>0.0095</td>\n",
       "      <td>5.0</td>\n",
       "      <td>8.0</td>\n",
       "      <td>1.38</td>\n",
       "      <td>4.72</td>\n",
       "    </tr>\n",
       "    <tr>\n",
       "      <th>23</th>\n",
       "      <td>54.062666</td>\n",
       "      <td>-6.005995</td>\n",
       "      <td>0.233</td>\n",
       "      <td>0.0511</td>\n",
       "      <td>4.0</td>\n",
       "      <td>8.0</td>\n",
       "      <td>1.38</td>\n",
       "      <td>4.72</td>\n",
       "    </tr>\n",
       "    <tr>\n",
       "      <th>24</th>\n",
       "      <td>54.703803</td>\n",
       "      <td>-6.363024</td>\n",
       "      <td>0.214</td>\n",
       "      <td>0.0161</td>\n",
       "      <td>4.0</td>\n",
       "      <td>8.0</td>\n",
       "      <td>1.53</td>\n",
       "      <td>4.88</td>\n",
       "    </tr>\n",
       "  </tbody>\n",
       "</table>\n",
       "</div>"
      ],
      "text/plain": [
       "     latitude  longitude    d50  beach_slope_average  mstr  code  hs_mean  \\\n",
       "0   54.554352  -8.209775  0.140               0.0139   3.3   8.0     2.18   \n",
       "1   54.841990  -8.443956  0.180               0.0218   3.4   8.0     2.18   \n",
       "2   55.152830  -8.155428  0.210               0.0202   3.4   8.0     2.18   \n",
       "3   55.192982  -7.836669  0.140               0.0134   3.4   8.0     2.18   \n",
       "4   55.286966  -7.166544  0.230               0.0446   2.9   8.0     2.18   \n",
       "5   55.149232  -6.911044  0.190               0.0375   1.6   8.0     2.18   \n",
       "6   55.163580  -6.877427  0.157               0.0194   1.6   8.0     2.05   \n",
       "7   55.164820  -6.788414  0.166               0.0214   1.5   8.0     2.26   \n",
       "8   55.182910  -6.718701  0.157               0.0246   1.5   8.0     2.26   \n",
       "9   55.202304  -6.655600  0.186               0.0320   1.5   8.0     2.34   \n",
       "10  55.206520  -6.613315  0.197               0.0352   1.5   8.0     2.34   \n",
       "11  55.230840  -6.519184  0.280               0.0329   1.5   8.0     2.18   \n",
       "12  55.235180  -6.403564  0.229               0.0350   1.2   8.0     2.41   \n",
       "13  55.200688  -6.250282  0.634               0.0823   0.9   8.0     2.52   \n",
       "14  55.125247  -6.042348  0.397               0.1037   1.6   8.0     1.28   \n",
       "15  55.065955  -6.060966  0.169               0.0340   1.4   8.0     1.36   \n",
       "16  54.898066  -5.857875  0.218               0.0639   1.9   8.0     1.52   \n",
       "17  54.675499  -5.736003  0.248               0.0522   3.3   8.0     1.37   \n",
       "18  54.607820  -5.528463  0.141               0.0183   3.5   8.0     1.38   \n",
       "19  54.436630  -5.468761  0.170               0.0280   3.6   8.0     1.55   \n",
       "20  54.300135  -5.558462  0.286               0.0337   3.8   8.0     1.38   \n",
       "21  54.250000  -5.766667  0.137               0.0088   5.0   8.0     1.38   \n",
       "22  54.221498  -5.888508  0.150               0.0095   5.0   8.0     1.38   \n",
       "23  54.062666  -6.005995  0.233               0.0511   4.0   8.0     1.38   \n",
       "24  54.703803  -6.363024  0.214               0.0161   4.0   8.0     1.53   \n",
       "\n",
       "      tp  \n",
       "0   6.88  \n",
       "1   6.88  \n",
       "2   6.88  \n",
       "3   6.88  \n",
       "4   6.88  \n",
       "5   6.88  \n",
       "6   6.89  \n",
       "7   7.11  \n",
       "8   7.11  \n",
       "9   7.17  \n",
       "10  7.17  \n",
       "11  6.88  \n",
       "12  7.22  \n",
       "13  7.36  \n",
       "14  4.61  \n",
       "15  4.71  \n",
       "16  4.89  \n",
       "17  4.70  \n",
       "18  4.72  \n",
       "19  4.90  \n",
       "20  4.72  \n",
       "21  4.72  \n",
       "22  4.72  \n",
       "23  4.72  \n",
       "24  4.88  "
      ]
     },
     "execution_count": 118,
     "metadata": {},
     "output_type": "execute_result"
    }
   ],
   "source": [
    "dfNI"
   ]
  },
  {
   "cell_type": "code",
   "execution_count": null,
   "id": "a5bf840b",
   "metadata": {},
   "outputs": [],
   "source": [
    "# stratification deosnt really make sense for this dataset, \n",
    "# but boosts up to N=100 (from N=24) while almost retaining original unique value distributions"
   ]
  },
  {
   "cell_type": "code",
   "execution_count": 143,
   "id": "13abf5b2",
   "metadata": {},
   "outputs": [
    {
     "data": {
      "text/plain": [
       "23"
      ]
     },
     "execution_count": 143,
     "metadata": {},
     "output_type": "execute_result"
    }
   ],
   "source": [
    "len(np.unique(dfNI['d50'].values))"
   ]
  },
  {
   "cell_type": "code",
   "execution_count": 151,
   "id": "8d12401a",
   "metadata": {},
   "outputs": [
    {
     "data": {
      "text/plain": [
       "100"
      ]
     },
     "execution_count": 151,
     "metadata": {},
     "output_type": "execute_result"
    }
   ],
   "source": [
    "df_strat_gs = dfNI.copy()\n",
    "\n",
    "num_cats=2\n",
    "num_samples_per_category = len(dfNI)*2\n",
    "\n",
    "df_strat_gs['category'] = pd.cut(df_strat_gs['d50'], num_cats)\n",
    "df_strat_gs = df_strat_gs.groupby(['category']).apply(lambda x: x.sample(num_samples_per_category, replace = True)).reset_index(drop = True)\n",
    "\n",
    "len(df_strat_gs)"
   ]
  },
  {
   "cell_type": "code",
   "execution_count": 152,
   "id": "18de394a",
   "metadata": {},
   "outputs": [
    {
     "data": {
      "text/plain": [
       "22"
      ]
     },
     "execution_count": 152,
     "metadata": {},
     "output_type": "execute_result"
    }
   ],
   "source": [
    "len(np.unique(df_strat_gs['d50'].values))"
   ]
  },
  {
   "cell_type": "code",
   "execution_count": 159,
   "id": "336e833e",
   "metadata": {},
   "outputs": [],
   "source": [
    "unique , unique_counts   = np.unique(df_strat_gs['d50'].values, return_counts=True)"
   ]
  },
  {
   "cell_type": "code",
   "execution_count": 161,
   "id": "a9ce0901",
   "metadata": {},
   "outputs": [
    {
     "data": {
      "text/plain": [
       "array([0.137, 0.14 , 0.141, 0.157, 0.166, 0.169, 0.17 , 0.18 , 0.186,\n",
       "       0.19 , 0.197, 0.21 , 0.214, 0.218, 0.229, 0.23 , 0.233, 0.248,\n",
       "       0.28 , 0.286, 0.397, 0.634])"
      ]
     },
     "execution_count": 161,
     "metadata": {},
     "output_type": "execute_result"
    }
   ],
   "source": [
    "unique"
   ]
  },
  {
   "cell_type": "code",
   "execution_count": 160,
   "id": "65eca4a2",
   "metadata": {},
   "outputs": [
    {
     "data": {
      "text/plain": [
       "array([ 1,  7,  1,  6,  3,  2,  4,  2,  2,  1,  3,  1,  3,  2,  1,  3,  3,\n",
       "        1,  2,  2, 21, 29], dtype=int64)"
      ]
     },
     "execution_count": 160,
     "metadata": {},
     "output_type": "execute_result"
    }
   ],
   "source": [
    "unique_counts"
   ]
  },
  {
   "cell_type": "code",
   "execution_count": 163,
   "id": "5d93b99f",
   "metadata": {},
   "outputs": [
    {
     "data": {
      "text/plain": [
       "Index(['latitude', 'longitude', 'd50', 'beach_slope_average', 'mstr', 'code',\n",
       "       'hs_mean', 'tp', 'category'],\n",
       "      dtype='object')"
      ]
     },
     "execution_count": 163,
     "metadata": {},
     "output_type": "execute_result"
    }
   ],
   "source": [
    "df_strat_gs.keys()"
   ]
  },
  {
   "cell_type": "code",
   "execution_count": 164,
   "id": "3fbb5f16",
   "metadata": {},
   "outputs": [],
   "source": [
    "df_strat_gs = df_strat_gs[['latitude', 'longitude', 'd50', 'beach_slope_average', 'mstr', 'code',\n",
    "       'hs_mean', 'tp']]"
   ]
  },
  {
   "cell_type": "code",
   "execution_count": 165,
   "id": "cbc56909",
   "metadata": {},
   "outputs": [],
   "source": [
    "df_strat_gs.to_csv('../model_data/dataset_NI_strat_gs.csv')"
   ]
  },
  {
   "cell_type": "code",
   "execution_count": 166,
   "id": "df33e966",
   "metadata": {},
   "outputs": [],
   "source": [
    "rand = np.random.randn(len(df_strat_gs))\n",
    "np.save('../model_out/NI_rand_strat_gs.npy', rand, allow_pickle=True)\n"
   ]
  },
  {
   "cell_type": "code",
   "execution_count": null,
   "id": "f16e10a7",
   "metadata": {},
   "outputs": [],
   "source": []
  },
  {
   "cell_type": "markdown",
   "id": "d16c14a5",
   "metadata": {},
   "source": [
    "### Massachusetts"
   ]
  },
  {
   "cell_type": "code",
   "execution_count": 2,
   "id": "1a66657d",
   "metadata": {},
   "outputs": [],
   "source": [
    "dfM = pd.read_csv('../../../orig_data/Massachusetts_Beach_Data/Mass_merged_lowtide.csv')"
   ]
  },
  {
   "cell_type": "code",
   "execution_count": 3,
   "id": "34b08f98",
   "metadata": {},
   "outputs": [
    {
     "data": {
      "text/plain": [
       "Index(['Unnamed: 0', 'latitude', 'longitude', 'hs_mean', 'mstr', 'd50',\n",
       "       'beach_slope_average'],\n",
       "      dtype='object')"
      ]
     },
     "execution_count": 3,
     "metadata": {},
     "output_type": "execute_result"
    }
   ],
   "source": [
    "dfM.keys()"
   ]
  },
  {
   "cell_type": "code",
   "execution_count": 6,
   "id": "74d36391",
   "metadata": {},
   "outputs": [
    {
     "data": {
      "text/plain": [
       "0.350985915"
      ]
     },
     "execution_count": 6,
     "metadata": {},
     "output_type": "execute_result"
    }
   ],
   "source": [
    "dfM['d50'].min()"
   ]
  },
  {
   "cell_type": "code",
   "execution_count": 7,
   "id": "b979808a",
   "metadata": {},
   "outputs": [
    {
     "data": {
      "text/plain": [
       "33.89444444"
      ]
     },
     "execution_count": 7,
     "metadata": {},
     "output_type": "execute_result"
    }
   ],
   "source": [
    "dfM['d50'].max()"
   ]
  },
  {
   "cell_type": "code",
   "execution_count": 8,
   "id": "5add6a1f",
   "metadata": {},
   "outputs": [
    {
     "data": {
      "text/plain": [
       "47"
      ]
     },
     "execution_count": 8,
     "metadata": {},
     "output_type": "execute_result"
    }
   ],
   "source": [
    "len(np.unique(dfM['d50'].values))"
   ]
  },
  {
   "cell_type": "code",
   "execution_count": 11,
   "id": "6d671e1a",
   "metadata": {},
   "outputs": [
    {
     "data": {
      "text/plain": [
       "154"
      ]
     },
     "execution_count": 11,
     "metadata": {},
     "output_type": "execute_result"
    }
   ],
   "source": [
    "df_strat_gs = dfM.copy()\n",
    "\n",
    "num_cats=2\n",
    "num_samples_per_category = len(dfM)\n",
    "\n",
    "df_strat_gs['category'] = pd.cut(df_strat_gs['d50'], num_cats)\n",
    "df_strat_gs = df_strat_gs.groupby(['category']).apply(lambda x: x.sample(num_samples_per_category, replace = True)).reset_index(drop = True)\n",
    "\n",
    "len(df_strat_gs)"
   ]
  },
  {
   "cell_type": "code",
   "execution_count": 12,
   "id": "1da87c23",
   "metadata": {},
   "outputs": [
    {
     "data": {
      "text/plain": [
       "39"
      ]
     },
     "execution_count": 12,
     "metadata": {},
     "output_type": "execute_result"
    }
   ],
   "source": [
    "len(np.unique(df_strat_gs['d50'].values))"
   ]
  },
  {
   "cell_type": "code",
   "execution_count": 13,
   "id": "e2a98400",
   "metadata": {},
   "outputs": [
    {
     "data": {
      "text/plain": [
       "33.89444444"
      ]
     },
     "execution_count": 13,
     "metadata": {},
     "output_type": "execute_result"
    }
   ],
   "source": [
    "df_strat_gs['d50'].max()"
   ]
  },
  {
   "cell_type": "code",
   "execution_count": 14,
   "id": "33036fe9",
   "metadata": {},
   "outputs": [
    {
     "data": {
      "text/plain": [
       "0.350985915"
      ]
     },
     "execution_count": 14,
     "metadata": {},
     "output_type": "execute_result"
    }
   ],
   "source": [
    "df_strat_gs['d50'].min()"
   ]
  },
  {
   "cell_type": "code",
   "execution_count": 15,
   "id": "b8dcc24f",
   "metadata": {},
   "outputs": [],
   "source": [
    "df_strat_gs['code'] = np.ones(len(df_strat_gs))*9"
   ]
  },
  {
   "cell_type": "code",
   "execution_count": 16,
   "id": "749fe02a",
   "metadata": {},
   "outputs": [
    {
     "data": {
      "text/plain": [
       "Index(['Unnamed: 0', 'latitude', 'longitude', 'hs_mean', 'mstr', 'd50',\n",
       "       'beach_slope_average', 'category', 'code'],\n",
       "      dtype='object')"
      ]
     },
     "execution_count": 16,
     "metadata": {},
     "output_type": "execute_result"
    }
   ],
   "source": [
    "df_strat_gs.keys()"
   ]
  },
  {
   "cell_type": "code",
   "execution_count": 17,
   "id": "23a4734f",
   "metadata": {},
   "outputs": [
    {
     "data": {
      "text/plain": [
       "Index(['latitude', 'longitude', 'd50', 'beach_slope_average', 'mstr', 'code',\n",
       "       'hs_mean'],\n",
       "      dtype='object')"
      ]
     },
     "execution_count": 17,
     "metadata": {},
     "output_type": "execute_result"
    }
   ],
   "source": [
    "df_strat_gs = df_strat_gs[['latitude', 'longitude', 'd50', 'beach_slope_average', 'mstr', 'code',\n",
    "       'hs_mean']]\n",
    "df_strat_gs.keys()"
   ]
  },
  {
   "cell_type": "code",
   "execution_count": 19,
   "id": "c62161a8",
   "metadata": {},
   "outputs": [],
   "source": [
    "df_strat_gs.to_csv('../model_data/dataset_Mass_strat_gs.csv')"
   ]
  },
  {
   "cell_type": "code",
   "execution_count": 20,
   "id": "82e1b58e",
   "metadata": {},
   "outputs": [],
   "source": [
    "rand = np.random.randn(len(df_strat_gs))\n",
    "np.save('../model_out/Mass_rand_strat_gs.npy', rand, allow_pickle=True)\n"
   ]
  },
  {
   "cell_type": "code",
   "execution_count": null,
   "id": "d9b2efc6",
   "metadata": {},
   "outputs": [],
   "source": []
  }
 ],
 "metadata": {
  "kernelspec": {
   "display_name": "Python 3 (ipykernel)",
   "language": "python",
   "name": "python3"
  },
  "language_info": {
   "codemirror_mode": {
    "name": "ipython",
    "version": 3
   },
   "file_extension": ".py",
   "mimetype": "text/x-python",
   "name": "python",
   "nbconvert_exporter": "python",
   "pygments_lexer": "ipython3",
   "version": "3.10.4"
  }
 },
 "nbformat": 4,
 "nbformat_minor": 5
}
